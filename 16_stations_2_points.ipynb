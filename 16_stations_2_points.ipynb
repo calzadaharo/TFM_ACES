{
 "cells": [
  {
   "cell_type": "code",
   "execution_count": null,
   "metadata": {
    "collapsed": true
   },
   "outputs": [],
   "source": [
    "from gymnasium import Env\n",
    "from gymnasium.spaces import Box, Dict, Discrete, MultiDiscrete\n",
    "import random\n",
    "import numpy as np\n",
    "import matplotlib.pyplot as plt\n",
    "from tqdm import tqdm\n",
    "import networkx as nx\n",
    "from copy import copy\n",
    "import ray"
   ]
  },
  {
   "cell_type": "code",
   "execution_count": 742,
   "outputs": [],
   "source": [
    "class Architecture:\n",
    "    def __init__(self):\n",
    "        self.c_capacity, self.s_capacity = 50, 2\n",
    "        self.weights = [0.0125, 0.0010, 0.0200, 0.5000] # REVIEW\n",
    "        self.lifetime = {0: 1, 1: 2, 2: 3, 3: 10}   # REVIEW\n",
    "        self.max_actions = 10\n",
    "        self.num_c = 2\n",
    "        self.num_s = 16\n",
    "        self.max_actions = 10\n",
    "        self.min_free_space = 0.2\n",
    "        self.space_flag = -1\n",
    "\n",
    "        self.data_types = []\n",
    "        self.data_allocation = []\n",
    "        self.data_times = []\n",
    "\n",
    "        self.false_data_types = []\n",
    "        self.false_data_allocation = []\n",
    "        self.false_data = {}\n",
    "        self.false_devices = {}\n",
    "\n",
    "        self.data = {}\n",
    "        self.devices = {}\n",
    "        self.latencies = {}\n",
    "        self.max_latencies = {}\n",
    "\n",
    "        self.action_device = []\n",
    "        self.action_type = []\n",
    "\n",
    "        for j in (range(len(self.weights))):\n",
    "            self.data[j] = {}\n",
    "            self.false_data[j] = {}\n",
    "            for i in range(self.num_s+self.num_c):\n",
    "                self.data[j][i] = 0\n",
    "                self.false_data[j][i] = 0\n",
    "                self.devices[i] = {0: 0, 1: 0, 2: 0, 3: 0}\n",
    "                self.false_devices[i] = {0: 0, 1: 0, 2: 0, 3: 0}\n",
    "                self.latencies[i] = {}\n",
    "                self.max_latencies[i] = {}\n",
    "\n",
    "        for i in self.latencies.keys():\n",
    "            for j in self.latencies.keys():\n",
    "                self.latencies[i][j] = 0\n",
    "                self.max_latencies[i][j] = 0\n",
    "\n",
    "        devices = list(self.devices.keys())\n",
    "        bound = round(len(self.devices)/4)\n",
    "        self.clusters = {\n",
    "            0: devices[3:5],\n",
    "            1: devices[-4:-2],\n",
    "            2: devices[-2:],\n",
    "            # 3: devices[:bound]\n",
    "            3: [0]\n",
    "        }\n",
    "        self.visualization()\n",
    "\n",
    "    def construct_dictionaries(self):\n",
    "        for i in self.data:\n",
    "            for j in self.data[i]:\n",
    "                self.data[i][j] = 0\n",
    "        for i in self.devices:\n",
    "            for j in self.devices[i]:\n",
    "                self.devices[i][j] = 0\n",
    "        for device, d_type in zip(self.data_allocation, self.data_types):\n",
    "            self.data[d_type][device] += 1\n",
    "            self.devices[device][d_type] += 1\n",
    "\n",
    "    def false_construct_dictionaries(self):\n",
    "        for i in self.false_data:\n",
    "            for j in self.false_data[i]:\n",
    "                self.false_data[i][j] = 0\n",
    "        for i in self.false_devices:\n",
    "            for j in self.false_devices[i]:\n",
    "                self.false_devices[i][j] = 0\n",
    "        for device, d_type in zip(self.false_data_allocation, self.false_data_types):\n",
    "            self.false_data[d_type][device] += 1\n",
    "            self.false_devices[device][d_type] += 1\n",
    "\n",
    "    def update(self, data_type, device):\n",
    "        self.data_types.append(data_type)\n",
    "        self.data_allocation.append(device)\n",
    "        self.data_times.append(0)\n",
    "        self.devices[device][data_type] += 1\n",
    "        self.data[data_type][device] += 1\n",
    "\n",
    "    def heart_beat(self):\n",
    "        deads = []\n",
    "        for i in range(len(self.data_times)):\n",
    "            self.data_times[i] += 1\n",
    "            if self.data_times[i] == self.lifetime[self.data_types[i]]:\n",
    "                deads.append(i)\n",
    "\n",
    "        removed = 0\n",
    "        for i in deads:\n",
    "            self.devices[self.data_allocation[i-removed]][self.data_types[i-removed]] -= 1\n",
    "            self.data[self.data_types[i-removed]][self.data_allocation[i-removed]] -= 1\n",
    "            self.data_types.pop(i - removed)\n",
    "            self.data_allocation.pop(i - removed)\n",
    "            self.data_times.pop(i - removed)\n",
    "            removed += 1\n",
    "\n",
    "    def free_space(self):\n",
    "        load = {}\n",
    "        for i in range(self.num_c + self.num_s):\n",
    "            if i < self.num_c:\n",
    "                load[i] = (self.c_capacity - sum([a*b for a,b in zip(list(self.devices[i].values()), self.weights)]))/self.c_capacity\n",
    "            else:\n",
    "                load[i] = (self.s_capacity - sum([a*b for a,b in zip(list(self.devices[i].values()), self.weights)]))/self.s_capacity\n",
    "            if load[i] <= self.min_free_space:\n",
    "                self.space_flag = i\n",
    "        return load\n",
    "\n",
    "    def false_free_space(self):\n",
    "        load = {}\n",
    "        for i in range(self.num_c + self.num_s):\n",
    "            if i < self.num_c:\n",
    "                load[i] = (self.c_capacity - sum([a*b for a,b in zip(list(self.false_devices[i].values()), self.weights)]))/self.c_capacity\n",
    "            else:\n",
    "                load[i] = (self.s_capacity - sum([a*b for a,b in zip(list(self.false_devices[i].values()), self.weights)]))/self.s_capacity\n",
    "            # if load[i] <= self.min_free_space:\n",
    "            #     self.space_flag = i\n",
    "        return load\n",
    "\n",
    "    def reduce_type(self, data_type):\n",
    "        max_time = 0\n",
    "        positions = []\n",
    "        for i in range(len(self.data_allocation)):\n",
    "            if self.data_types[i] == data_type:\n",
    "                if self.data_times[i] > max_time:\n",
    "                    max_time = self.data_times[i]\n",
    "                    positions = []\n",
    "                    positions.append(i)\n",
    "                elif self.data_times[i] == max_time:\n",
    "                    positions.append(i)\n",
    "\n",
    "        removed = 0\n",
    "        for i in positions:\n",
    "            self.devices[self.data_allocation[i-removed]][self.data_types[i-removed]] -= 1\n",
    "            self.data[self.data_types[i-removed]][self.data_allocation[i-removed]] -= 1\n",
    "            self.data_times.pop(i - removed)\n",
    "            self.data_types.pop(i - removed)\n",
    "            self.data_allocation.pop(i -removed)\n",
    "            removed += 1\n",
    "\n",
    "    def check_quantity(self, data_type):\n",
    "        if data_type != 3:\n",
    "            if sum(list(self.data[data_type].values())) > 2*(self.num_s + self.num_c):\n",
    "                self.reduce_type(data_type)\n",
    "        else:\n",
    "            if sum(list(self.data[data_type].values())) > 2*self.num_s:\n",
    "                self.reduce_type(data_type)\n",
    "\n",
    "    def visualization(self):\n",
    "        keys = list(self.devices.keys())\n",
    "        cs = keys[:self.num_c]\n",
    "        ss = keys[self.num_c:]\n",
    "\n",
    "        colors = []\n",
    "        sizes = []\n",
    "\n",
    "        graph = nx.Graph()\n",
    "\n",
    "        colors.append('lightblue')\n",
    "        sizes.append(1000)\n",
    "        index = 0\n",
    "        for i in range(len(cs)):\n",
    "            if i != len(cs)-1:\n",
    "                colors.append('lightblue')\n",
    "                sizes.append(1000)\n",
    "                graph.add_edge(cs[i],cs[i+1])\n",
    "                graph.add_weighted_edges_from([(cs[i],cs[i+1],10)])\n",
    "                for j in range(int(len(ss)/self.num_c)):\n",
    "                    colors.append('orange')\n",
    "                    sizes.append(100)\n",
    "                    graph.add_edge(cs[i],ss[index])\n",
    "                    graph.add_weighted_edges_from([(cs[i],ss[index],random.randint(4,6))])\n",
    "                    index += 1\n",
    "            else:\n",
    "                graph.add_edge(cs[i],cs[0])\n",
    "                graph.add_weighted_edges_from([(cs[i],cs[0],10)])\n",
    "                for j in range(int(len(ss)/self.num_c)+len(ss)%self.num_c):\n",
    "                    graph.add_edge(cs[i],ss[index])\n",
    "                    graph.add_weighted_edges_from([(cs[i],ss[index],random.randint(4,6))])\n",
    "                    colors.append('orange')\n",
    "                    sizes.append(100)\n",
    "                    index += 1\n",
    "\n",
    "        pos = nx.spring_layout(graph)  # Position nodes using a spring layout algorithm\n",
    "        # nx.draw(graph, pos, with_labels=True, node_size=sizes, node_color=colors, font_weight=12, font_color='black', edge_color='gray')\n",
    "        edge_labels = nx.get_edge_attributes(graph, 'weight')\n",
    "        # nx.draw_networkx_edge_labels(graph, pos, edge_labels=edge_labels)\n",
    "\n",
    "        # plt.title(\"Architecture:\")\n",
    "        # plt.axis('off')\n",
    "        # plt.show()\n",
    "\n",
    "        for u in graph.nodes:\n",
    "            shortest_paths = nx.shortest_path_length(graph, source=u, weight='weight')\n",
    "            for v, weight in shortest_paths.items():\n",
    "                self.latencies[u][v] = weight\n",
    "\n",
    "        max_latency = self.latencies[self.num_c][self.num_c+self.num_s-1]\n",
    "        for i in self.max_latencies.keys():\n",
    "            for j in self.max_latencies[i].keys():\n",
    "                self.max_latencies[i][j] = max_latency\n",
    "\n",
    "    def compute_total_latency(self):\n",
    "        total_latency = 0\n",
    "        for i in range(len(self.action_type)):\n",
    "            total_latency += sum([a*b for a,b in zip(self.data[self.action_type[i]].values(), self.latencies[self.action_device[i]].values())])\n",
    "        return total_latency\n",
    "\n",
    "    def false_compute_total_latency(self):\n",
    "        total_latency = 0\n",
    "        for i in range(len(self.action_type)):\n",
    "            total_latency += sum([a*b for a,b in zip(self.false_data[self.action_type[i]].values(), self.latencies[self.action_device[i]].values())])\n",
    "        return total_latency\n",
    "\n",
    "    def compute_normalized_latency(self):\n",
    "        total_latency = 0\n",
    "        max_latency = 0\n",
    "        for i in range(len(self.action_type)):\n",
    "            total_latency += sum([a*b for a,b in zip(self.data[self.action_type[i]].values(), self.latencies[self.action_device[i]].values())])\n",
    "            max_latency += sum([a*b for a,b in zip(self.data[self.action_type[i]].values(), self.max_latencies[self.action_device[i]].values())])\n",
    "        return total_latency/(max_latency+1)\n",
    "\n",
    "    def compute_normalized_latency_dict(self):    # CHANGEEEEEEEEEEEEEE\n",
    "        total_latency = {\n",
    "            0: 0,\n",
    "            1: 0,\n",
    "            2: 0,\n",
    "            3: 0\n",
    "        }\n",
    "        max_latency = {\n",
    "            0: 0,\n",
    "            1: 0,\n",
    "            2: 0,\n",
    "            3: 0\n",
    "        }\n",
    "\n",
    "        for key in total_latency.keys():\n",
    "            for dev in range(len(self.clusters[key])):\n",
    "                if self.clusters[key][dev] in self.action_device:\n",
    "                    for j in self.data[key]:\n",
    "                        total_latency[key] += self.latencies[self.clusters[key][dev]][j] * self.data[key][j]\n",
    "                        max_latency[key] += self.data[key][j]\n",
    "        for i in total_latency.keys():\n",
    "            total_latency[i] = 1-total_latency[i]/(max_latency[i]*22+1)\n",
    "\n",
    "        return total_latency\n",
    "\n",
    "    # def rl_update(self, new_allocation):\n",
    "    #     self.data_allocation = new_allocation\n",
    "    #     self.construct_dictionaries()\n",
    "    #     return self.free_space()\n",
    "\n",
    "    def generate(self, operation):\n",
    "        if operation == 0 or operation == 1 or operation == 2:\n",
    "            for i in range(self.num_s + self.num_c):\n",
    "                self.update(operation,i)\n",
    "            self.check_quantity(operation)\n",
    "        elif operation == 3:\n",
    "            for i in range(self.num_c,(self.num_c + self.num_s)):\n",
    "                self.update(operation,i)\n",
    "            self.check_quantity(operation)\n",
    "        else:\n",
    "            device=random.sample(self.clusters[operation-10],1)[0] if operation != 13 else self.clusters[operation-10][0] # CHANGEEEEEEEEEEEEEEE\n",
    "            # device=self.clusters[operation - 10][0]\n",
    "            self.action_device.append(device)\n",
    "            self.action_type.append(operation-10)\n",
    "            difference = len(self.action_device) - self.max_actions\n",
    "            if difference >= 0:\n",
    "                for i in range(difference):\n",
    "                    self.action_device.pop(0)\n",
    "                    self.action_type.pop(0)\n",
    "\n",
    "    def round_robin(self):\n",
    "        allocation_round = []\n",
    "        capacities = [50,50,2,2,2,2,2,2,2,2,2,2,2,2,2,2,2,2]  # CHANGEEEEEEEEEEEEEEEEEEEEE\n",
    "        index = 0\n",
    "        server_index = 0\n",
    "        for i in range(len(self.data_allocation)):\n",
    "            if index == self.num_c + self.num_s:\n",
    "                index = 0\n",
    "            if (index != 0 or index != 1) and capacities[index] - self.weights[self.data_types[i]] <= 0.2 * 2:      # CHANGEEEEEEEEEEEEEEEEEEEEE\n",
    "                allocation_round.append(server_index)\n",
    "                capacities[server_index] -= self.weights[self.data_types[i]]\n",
    "                server_index = 1 if server_index == 0 else 0\n",
    "            else:\n",
    "                allocation_round.append(index)\n",
    "                capacities[index] -= self.weights[self.data_types[i]]\n",
    "                index += 1\n",
    "        self.data_allocation = allocation_round.copy()\n",
    "        self.construct_dictionaries()\n",
    "        for i in range(80 - len(allocation_round)):      # REMEMBER TO CHANGE !!!!!!!!!!!!!!\n",
    "            allocation_round.append(random.randint(0,self.num_c+self.num_s-1))\n",
    "        return allocation_round\n",
    "\n",
    "    def greedy_server(self):\n",
    "        allocation_greedy= []\n",
    "        index = 0\n",
    "        for i in range(len(self.data_allocation)):\n",
    "            allocation_greedy.append(index)\n",
    "            index = 1 if index == 0 else 0          # CHANGEEEEEEEEEEEEEEEEEEEEE\n",
    "        self.data_allocation = allocation_greedy.copy()\n",
    "        self.construct_dictionaries()\n",
    "        for i in range(122 - len(allocation_greedy)):      # REMEMBER TO CHANGE !!!!!!!!!!!!!!\n",
    "            allocation_greedy.append(random.randint(0,self.num_c+self.num_s-1))\n",
    "        return allocation_greedy\n",
    "\n",
    "    def greedy_algorithm(self):\n",
    "        if self.space_flag == -1:\n",
    "            # print(\"It's ok\")\n",
    "            allocation = []\n",
    "            for i in self.data_types:\n",
    "                allocation.append(random.sample(list(self.clusters[i]),1)[0])\n",
    "            self.data_allocation = allocation.copy()\n",
    "            self.construct_dictionaries()\n",
    "            for i in range(122 - len(allocation)):      # REMEMBER TO CHANGE !!!!!!!!!!!!!!\n",
    "                allocation.append(random.randint(0,self.num_c+self.num_s-1))\n",
    "            return allocation\n",
    "        else:\n",
    "            # print(\"Problem\")\n",
    "            problematic_key = None\n",
    "            for key, value in self.clusters.items():\n",
    "                if self.space_flag in value:\n",
    "                    problematic_key = key\n",
    "                    break\n",
    "            for i in range(self.num_c):\n",
    "                self.clusters[problematic_key].append(i)\n",
    "            self.space_flag = -1\n",
    "            return self.greedy_algorithm()"
   ],
   "metadata": {
    "collapsed": false
   }
  },
  {
   "cell_type": "code",
   "execution_count": 709,
   "outputs": [
    {
     "name": "stdout",
     "output_type": "stream",
     "text": [
      "{0: [3, 4], 1: [14, 15], 2: [16, 17], 3: [0]}\n",
      "[2, 3, 4, 5, 6, 7, 8, 9, 10, 11, 12, 13, 14, 15, 16, 17, 0, 1, 2, 3, 4, 5, 6, 7, 8, 9, 10, 11, 12, 13, 14, 15, 16, 17, 0, 1, 2, 3, 4, 5, 6, 7, 8, 9, 10, 11, 12, 13, 14, 15, 16, 17, 2, 3, 4, 5, 6, 7, 8, 9, 10, 11, 12, 13, 14, 15, 16, 17, 0, 1, 2, 3, 4, 5, 6, 7, 8, 9, 10, 11, 12, 13, 14, 15, 16, 17, 0, 1, 2, 3, 4, 5, 6, 7, 8, 9, 10, 11, 12, 13, 14, 15, 16, 17, 0, 1, 2, 3, 4, 5, 6, 7, 8, 9, 10, 11, 12, 13, 14, 15, 16, 17]\n",
      "122\n"
     ]
    }
   ],
   "source": [
    "executions = [[0,1,2,10],\n",
    "              [0,1,2,11],\n",
    "              [0,1,2,12],\n",
    "              [0,1,2,3],\n",
    "              [0,1,2,10],\n",
    "              [0,1,2,11],\n",
    "              [0,1,2,12],\n",
    "              [0,1,2,3],\n",
    "              [0,1,2,13]]\n",
    "\n",
    "architecture = Architecture()\n",
    "print(architecture.clusters)\n",
    "\n",
    "for j in executions:\n",
    "    architecture.heart_beat()\n",
    "    for h in j:\n",
    "        architecture.generate(h)\n",
    "print(architecture.data_allocation)\n",
    "print(len(architecture.data_allocation))\n",
    "# print(architecture.data)\n",
    "# print(architecture.action_device)\n",
    "# print(architecture.action_type)\n",
    "# architecture.round_robin()\n",
    "# print(architecture.compute_normalized_latency_dict())\n",
    "# architecture.greedy_server()\n",
    "# print(architecture.compute_normalized_latency_dict())"
   ],
   "metadata": {
    "collapsed": false
   }
  },
  {
   "cell_type": "code",
   "execution_count": 744,
   "outputs": [],
   "source": [
    "class AcesStepArchitectureEnv(Env):\n",
    "    def __init__(self, maximum_data):\n",
    "        self.architecture = Architecture()\n",
    "        self.executions = [[0,1,2,10],\n",
    "                           [0,1,2,11],\n",
    "                           [0,1,2,12],\n",
    "                           [0,1,2,3],\n",
    "                           [0,1,2,10],\n",
    "                           [0,1,2,11],\n",
    "                           [0,1,2,12],\n",
    "                           [0,1,2,3],\n",
    "                           [0,1,2,13]]\n",
    "        self.execution_index = 0\n",
    "        self.num_devices = len(self.architecture.devices.keys())\n",
    "        self.maximum_data = maximum_data\n",
    "\n",
    "        self.free_space = [self.architecture.c_capacity,self.architecture.c_capacity,\n",
    "                           self.architecture.s_capacity,self.architecture.s_capacity,\n",
    "                           self.architecture.s_capacity,self.architecture.s_capacity,\n",
    "                           self.architecture.s_capacity,self.architecture.s_capacity,\n",
    "                           self.architecture.s_capacity,self.architecture.s_capacity,\n",
    "                           self.architecture.s_capacity,self.architecture.s_capacity,\n",
    "                           self.architecture.s_capacity,self.architecture.s_capacity,\n",
    "                           self.architecture.s_capacity,self.architecture.s_capacity,\n",
    "                           self.architecture.s_capacity,self.architecture.s_capacity]\n",
    "        self.max_free_space = [self.architecture.c_capacity,self.architecture.c_capacity,\n",
    "                               self.architecture.s_capacity,self.architecture.s_capacity,\n",
    "                               self.architecture.s_capacity,self.architecture.s_capacity,\n",
    "                               self.architecture.s_capacity,self.architecture.s_capacity,\n",
    "                               self.architecture.s_capacity,self.architecture.s_capacity,\n",
    "                               self.architecture.s_capacity,self.architecture.s_capacity,\n",
    "                               self.architecture.s_capacity,self.architecture.s_capacity,\n",
    "                               self.architecture.s_capacity,self.architecture.s_capacity,\n",
    "                               self.architecture.s_capacity,self.architecture.s_capacity]\n",
    "        self.quantity = 0\n",
    "        self.last_call = [-1]\n",
    "        self.weight = 0\n",
    "        self.type = 0\n",
    "        self.flag = False\n",
    "\n",
    "        self.observation_space = Dict({\n",
    "            \"quantity\": Discrete(maximum_data+1, start=0),\n",
    "            \"weight\": Box(low=0, high=1, shape=(1,), dtype=np.float32),\n",
    "            \"free_space\": Box(low=-10, high=50, shape=(self.num_devices,), dtype=np.float32),\n",
    "            \"last_calls\": Box(low=-1, high=self.num_devices-1, shape=(2,), dtype=np.int32)               # CHAAAAAAAAAAAAAAAAAAAAAAAAAANGE\n",
    "        })\n",
    "\n",
    "        self.action_space = Box(low=0, high=self.num_devices-1, shape=(maximum_data,), dtype=np.int32)\n",
    "\n",
    "        self.parts = {\n",
    "            0: 1,\n",
    "            1: 2,\n",
    "            2: 2,\n",
    "            3: 2\n",
    "        }\n",
    "        self.iter = 0\n",
    "\n",
    "        self.reward = 0\n",
    "\n",
    "    def get_obs(self, type):\n",
    "        amount = sum(self.architecture.data[type].values())\n",
    "        if amount > 18:\n",
    "            self.flag = False if self.flag else True\n",
    "        self.quantity = 4 if type == 3 else 3\n",
    "    # if amount == 32 or amount == 36:\n",
    "        #     self.quantity = int(sum(self.architecture.data[type].values()) / self.parts[type])\n",
    "        #     self.iter += 1\n",
    "        #     if self.iter == self.parts[type]:\n",
    "        #         self.flag = False\n",
    "        #         self.iter = 0\n",
    "        #     else:\n",
    "        #         self.flag=True\n",
    "        # elif amount == 0:\n",
    "        #     self.quantity = 0\n",
    "        #     self.flag = False\n",
    "        # else:\n",
    "        #     self.quantity = int(sum(self.architecture.data[type].values()) / 2)\n",
    "        #     self.iter += 1\n",
    "        #     if self.iter == 2:\n",
    "        #         self.flag = False\n",
    "        #         self.iter = 0\n",
    "        #     else:\n",
    "        #         self.flag=True\n",
    "\n",
    "        self.weight = self.architecture.weights[type]\n",
    "        indices = set()\n",
    "        for i in range(len(self.architecture.action_type)):\n",
    "            if self.architecture.action_type[i]==type:\n",
    "                indices.add(self.architecture.action_device[i])\n",
    "        if len(indices) == 2:\n",
    "            self.last_call = list(indices)              # CHAAAAAAAAAAAAAAAAAAAAAAAAAANGE\n",
    "        elif len(indices) == 1:\n",
    "            self.last_call = list(indices)\n",
    "            self.last_call.append(-1)\n",
    "        else:\n",
    "            self.last_call = [-1,-1]\n",
    "        return {\n",
    "            \"quantity\": self.quantity,\n",
    "            \"weight\": np.array([self.weight]),\n",
    "            \"free_space\": np.array(self.free_space),\n",
    "            \"last_calls\": np.array(self.last_call)\n",
    "        }\n",
    "\n",
    "    def step(self,action):\n",
    "        cut_action = action[:self.quantity]\n",
    "        latency = 0\n",
    "        alert = False\n",
    "        computed_latencies = 0              #CHANGEEEEEEEEEEEEEEE\n",
    "        for location in cut_action:\n",
    "            for call in self.last_call:\n",
    "                if call != -1:\n",
    "                    latency += self.architecture.latencies[call][location]\n",
    "                    computed_latencies+=1\n",
    "            if self.type == 3:\n",
    "                self.free_space[location] -= self.weight * 4\n",
    "            else:\n",
    "                self.free_space[location] -= self.weight * 6\n",
    "        for i in range(len(self.free_space)):\n",
    "            if self.free_space[i] <= self.max_free_space[i]*0.2:\n",
    "                alert = True\n",
    "\n",
    "        info = {'type': self.type}\n",
    "\n",
    "        if alert:\n",
    "            reward = -1\n",
    "        else:\n",
    "            reward = 1 - (latency / (computed_latencies * 22+1))             # CHANGEEEEEEEEEEEEEEEEEEEEEE\n",
    "\n",
    "        done = False\n",
    "        if self.type == 3 and self.flag == False:\n",
    "            done=True\n",
    "        if self.flag == False and self.type != 3:\n",
    "            self.type += 1\n",
    "\n",
    "        return self.get_obs(self.type), reward, done, info\n",
    "\n",
    "    def reset(self):\n",
    "        self.architecture.heart_beat()\n",
    "        for execution in self.executions[self.execution_index]:\n",
    "            self.architecture.generate(execution)\n",
    "\n",
    "        self.free_space = [self.architecture.c_capacity,self.architecture.c_capacity,\n",
    "                           self.architecture.s_capacity,self.architecture.s_capacity,\n",
    "                           self.architecture.s_capacity,self.architecture.s_capacity,\n",
    "                           self.architecture.s_capacity,self.architecture.s_capacity,\n",
    "                           self.architecture.s_capacity,self.architecture.s_capacity,\n",
    "                           self.architecture.s_capacity,self.architecture.s_capacity,\n",
    "                           self.architecture.s_capacity,self.architecture.s_capacity,\n",
    "                           self.architecture.s_capacity,self.architecture.s_capacity,\n",
    "                           self.architecture.s_capacity,self.architecture.s_capacity]\n",
    "\n",
    "        self.execution_index = self.execution_index +1 if self.execution_index <= len(self.executions) - 2 else 0\n",
    "        self.type = 0\n",
    "        self.iter = 0\n",
    "        self.flag=False\n",
    "        return self.get_obs(self.type)\n",
    "\n",
    "    def close(self):\n",
    "        print('CLOSED')"
   ],
   "metadata": {
    "collapsed": false
   }
  },
  {
   "cell_type": "code",
   "execution_count": 711,
   "outputs": [],
   "source": [
    "ar = AcesStepArchitectureEnv(4)"
   ],
   "metadata": {
    "collapsed": false
   }
  },
  {
   "cell_type": "code",
   "execution_count": 712,
   "outputs": [
    {
     "data": {
      "text/plain": "{'quantity': 3,\n 'weight': array([0.0125]),\n 'free_space': array([50, 50,  2,  2,  2,  2,  2,  2,  2,  2,  2,  2,  2,  2,  2,  2,  2,\n         2]),\n 'last_calls': array([ 3, -1])}"
     },
     "execution_count": 712,
     "metadata": {},
     "output_type": "execute_result"
    }
   ],
   "source": [
    "ar.reset()"
   ],
   "metadata": {
    "collapsed": false
   }
  },
  {
   "cell_type": "code",
   "execution_count": 713,
   "outputs": [
    {
     "data": {
      "text/plain": "({'quantity': 3,\n  'weight': array([0.001]),\n  'free_space': array([50.   , 49.925,  2.   ,  1.85 ,  2.   ,  2.   ,  2.   ,  2.   ,\n          2.   ,  2.   ,  2.   ,  2.   ,  2.   ,  2.   ,  2.   ,  2.   ,\n          2.   ,  2.   ]),\n  'last_calls': array([-1, -1])},\n 0.791044776119403,\n False,\n {'type': 0})"
     },
     "execution_count": 713,
     "metadata": {},
     "output_type": "execute_result"
    }
   ],
   "source": [
    "ar.step(ar.action_space.sample())"
   ],
   "metadata": {
    "collapsed": false
   }
  },
  {
   "cell_type": "code",
   "execution_count": 714,
   "outputs": [],
   "source": [
    "from ray.rllib.utils import check_env\n",
    "from gymnasium.wrappers import EnvCompatibility\n",
    "\n",
    "simulated_aces = AcesStepArchitectureEnv(9)\n",
    "check_env(EnvCompatibility(simulated_aces))"
   ],
   "metadata": {
    "collapsed": false
   }
  },
  {
   "cell_type": "code",
   "execution_count": 715,
   "outputs": [
    {
     "name": "stderr",
     "output_type": "stream",
     "text": [
      "2023-06-21 17:36:01,338\tINFO worker.py:1553 -- Started a local Ray instance.\n",
      "2023-06-21 17:36:13,591\tINFO trainable.py:172 -- Trainable.setup took 14.847 seconds. If your trainable is slow to initialize, consider setting reuse_actors=True to reduce actor creation overheads.\n",
      "2023-06-21 17:36:13,592\tWARNING util.py:67 -- Install gputil for GPU system monitoring.\n",
      "100%|████████████████████████████████████████████████████████████████████████████████████████████████████████████████████████████████████████████████████████████████████████████| 100/100 [20:52<00:00, 12.52s/it]"
     ]
    },
    {
     "name": "stdout",
     "output_type": "stream",
     "text": [
      "[0.7766340522385811, 1.5762810640450189, 1.6995485764883178, 1.320764624621091, 1.360638172135214, 1.0548528655785832, 1.2765856940430058, 1.371211258535819, 1.1980228778266517, 1.514240880536035, 0.7556159444897946, 0.9501741763699877, 0.9381458285436326, 1.1541889394423797, 1.4954472297778323, 1.2786079960755632, 2.574184296165815, 1.6894814633782114, 5.259402406155921, 5.240326665433393, 3.6958287048443546, 4.901890317358946, 1.3078714969172436, 1.6751421020079853, 1.4456736024285204, 2.265758071387812, 4.2076916682614165, 4.467608543489855, 5.1815535761880644, 4.736165058441128, 5.025335914939569, 5.337802321990048, 3.3010972023274014, 0.2741782742068024, 1.3822954912531282, 0.47559135272350916, 0.7592191851341219, 0.4723720746604417, 1.501768420940923, 1.4339660259977138, 1.3784873892544591, 1.2310429011462611, 1.6370373255261867, 1.4178759456103396, 1.525484370284341, 1.5659825649987789, 0.7180040954123613, 1.0590443721472549, 1.3934957865273705, 1.0146954628000595, 0.4524056305112571, 1.5307623466018374, 0.5075231941875613, 0.9225140873762557, 1.0060140983415904, 0.9481618542868372, 1.4762265051509693, 1.505140780663426, 1.5818799625210245, 1.6300970677088669, 1.6367540612688931, 1.6611314221309543, 1.5661639693275127, 1.0274095724130174, 0.7357802411179455, 1.6227672817414014, 0.40760780209062647, 1.3790914481386074, 1.5740006849421693, 1.5010267271953328, 1.6302374666633324, 1.3393872755429792, 1.4696465679735444, 1.4761231749662593, 1.603025155800948, 1.379430848955447, 1.300233861221123, 1.365478860652823, 1.5445544308049246, 1.5830512736918991, 0.8177316525103111, 1.0701721486155833, 1.3784075554176194, 1.5898441145616165, 1.6032582637128527, 1.633505387048729, 1.4443122870652279, 1.7764857286819993, 1.8394085242168552, 1.8846907099053516, 1.8902489901958115, 1.900364493341486, 1.9433287957300351, 1.9499565195233024, 1.9701038424241493, 1.87165700828031, 1.949534944923423, 1.866017559760036, 1.5763016242603536, 1.7204356042485187]\n"
     ]
    },
    {
     "name": "stderr",
     "output_type": "stream",
     "text": [
      "\n"
     ]
    }
   ],
   "source": [
    "from ray.tune.registry import register_env\n",
    "from gymnasium.wrappers import EnvCompatibility\n",
    "from ray.rllib.algorithms.impala import ImpalaConfig\n",
    "from ray.rllib.algorithms.ppo import PPOConfig\n",
    "from gymnasium.wrappers import TimeLimit\n",
    "\n",
    "ray.shutdown()\n",
    "\n",
    "architecture = Architecture()\n",
    "\n",
    "def env_creator(env_config):\n",
    "    return TimeLimit(EnvCompatibility(AcesStepArchitectureEnv(4)), max_episode_steps=10)\n",
    "register_env(\"AcesStepArchitectureEnv\", env_creator)\n",
    "\n",
    "config = (\n",
    "    ImpalaConfig()\n",
    "    .environment(\"AcesStepArchitectureEnv\",disable_env_checking=True)\n",
    "    .rollouts(num_rollout_workers=40,\n",
    "              num_envs_per_worker=5) # Max = 60\n",
    "    .resources(num_gpus=0,\n",
    "               num_cpus_per_worker=1)\n",
    "    .training(entropy_coeff=0.02)\n",
    ")\n",
    "\n",
    "# config['model']['vf_share_layers'] = False\n",
    "config[\"model\"][\"fcnet_hiddens\"] =[64,64]\n",
    "\n",
    "\n",
    "algorithm_16 = config.build()\n",
    "\n",
    "result_16 =[]\n",
    "\n",
    "for j in tqdm(range(100)):\n",
    "    result_train = algorithm_16.train()[\"episode_reward_mean\"]\n",
    "    result_16.append(result_train)\n",
    "    # if (j%100 == 0):\n",
    "    # print(result_train)\n",
    "print(result_16)"
   ],
   "metadata": {
    "collapsed": false
   }
  },
  {
   "cell_type": "code",
   "execution_count": 735,
   "outputs": [
    {
     "name": "stderr",
     "output_type": "stream",
     "text": [
      "  2%|███▌                                                                                                                                                                           | 1/50 [00:13<10:56, 13.40s/it]"
     ]
    },
    {
     "name": "stdout",
     "output_type": "stream",
     "text": [
      "1.9389460472095983\n"
     ]
    },
    {
     "name": "stderr",
     "output_type": "stream",
     "text": [
      " 12%|█████████████████████                                                                                                                                                          | 6/50 [01:16<09:20, 12.75s/it]"
     ]
    },
    {
     "name": "stdout",
     "output_type": "stream",
     "text": [
      "1.980372416908545\n"
     ]
    },
    {
     "name": "stderr",
     "output_type": "stream",
     "text": [
      " 22%|██████████████████████████████████████▎                                                                                                                                       | 11/50 [02:20<08:20, 12.83s/it]"
     ]
    },
    {
     "name": "stdout",
     "output_type": "stream",
     "text": [
      "1.8815847768644258\n"
     ]
    },
    {
     "name": "stderr",
     "output_type": "stream",
     "text": [
      " 32%|███████████████████████████████████████████████████████▋                                                                                                                      | 16/50 [03:22<07:02, 12.44s/it]"
     ]
    },
    {
     "name": "stdout",
     "output_type": "stream",
     "text": [
      "1.5681184079990909\n"
     ]
    },
    {
     "name": "stderr",
     "output_type": "stream",
     "text": [
      " 42%|█████████████████████████████████████████████████████████████████████████                                                                                                     | 21/50 [04:26<06:05, 12.60s/it]"
     ]
    },
    {
     "name": "stdout",
     "output_type": "stream",
     "text": [
      "1.929738554159898\n"
     ]
    },
    {
     "name": "stderr",
     "output_type": "stream",
     "text": [
      " 52%|██████████████████████████████████████████████████████████████████████████████████████████▍                                                                                   | 26/50 [05:29<05:06, 12.76s/it]"
     ]
    },
    {
     "name": "stdout",
     "output_type": "stream",
     "text": [
      "1.7861421565946816\n"
     ]
    },
    {
     "name": "stderr",
     "output_type": "stream",
     "text": [
      " 62%|███████████████████████████████████████████████████████████████████████████████████████████████████████████▉                                                                  | 31/50 [06:32<03:57, 12.50s/it]"
     ]
    },
    {
     "name": "stdout",
     "output_type": "stream",
     "text": [
      "1.9333347343597693\n"
     ]
    },
    {
     "name": "stderr",
     "output_type": "stream",
     "text": [
      " 72%|█████████████████████████████████████████████████████████████████████████████████████████████████████████████████████████████▎                                                | 36/50 [07:36<03:00, 12.86s/it]"
     ]
    },
    {
     "name": "stdout",
     "output_type": "stream",
     "text": [
      "1.6812877013240668\n"
     ]
    },
    {
     "name": "stderr",
     "output_type": "stream",
     "text": [
      " 82%|██████████████████████████████████████████████████████████████████████████████████████████████████████████████████████████████████████████████▋                               | 41/50 [08:39<01:52, 12.49s/it]"
     ]
    },
    {
     "name": "stdout",
     "output_type": "stream",
     "text": [
      "1.9047263910465273\n"
     ]
    },
    {
     "name": "stderr",
     "output_type": "stream",
     "text": [
      " 92%|████████████████████████████████████████████████████████████████████████████████████████████████████████████████████████████████████████████████████████████████              | 46/50 [09:42<00:50, 12.63s/it]"
     ]
    },
    {
     "name": "stdout",
     "output_type": "stream",
     "text": [
      "2.006673682854732\n"
     ]
    },
    {
     "name": "stderr",
     "output_type": "stream",
     "text": [
      "100%|██████████████████████████████████████████████████████████████████████████████████████████████████████████████████████████████████████████████████████████████████████████████| 50/50 [10:33<00:00, 12.67s/it]"
     ]
    },
    {
     "name": "stdout",
     "output_type": "stream",
     "text": [
      "[0.7766340522385811, 1.5762810640450189, 1.6995485764883178, 1.320764624621091, 1.360638172135214, 1.0548528655785832, 1.2765856940430058, 1.371211258535819, 1.1980228778266517, 1.514240880536035, 0.7556159444897946, 0.9501741763699877, 0.9381458285436326, 1.1541889394423797, 1.4954472297778323, 1.2786079960755632, 2.574184296165815, 1.6894814633782114, 5.259402406155921, 5.240326665433393, 3.6958287048443546, 4.901890317358946, 1.3078714969172436, 1.6751421020079853, 1.4456736024285204, 2.265758071387812, 4.2076916682614165, 4.467608543489855, 5.1815535761880644, 4.736165058441128, 5.025335914939569, 5.337802321990048, 3.3010972023274014, 0.2741782742068024, 1.3822954912531282, 0.47559135272350916, 0.7592191851341219, 0.4723720746604417, 1.501768420940923, 1.4339660259977138, 1.3784873892544591, 1.2310429011462611, 1.6370373255261867, 1.4178759456103396, 1.525484370284341, 1.5659825649987789, 0.7180040954123613, 1.0590443721472549, 1.3934957865273705, 1.0146954628000595, 0.4524056305112571, 1.5307623466018374, 0.5075231941875613, 0.9225140873762557, 1.0060140983415904, 0.9481618542868372, 1.4762265051509693, 1.505140780663426, 1.5818799625210245, 1.6300970677088669, 1.6367540612688931, 1.6611314221309543, 1.5661639693275127, 1.0274095724130174, 0.7357802411179455, 1.6227672817414014, 0.40760780209062647, 1.3790914481386074, 1.5740006849421693, 1.5010267271953328, 1.6302374666633324, 1.3393872755429792, 1.4696465679735444, 1.4761231749662593, 1.603025155800948, 1.379430848955447, 1.300233861221123, 1.365478860652823, 1.5445544308049246, 1.5830512736918991, 0.8177316525103111, 1.0701721486155833, 1.3784075554176194, 1.5898441145616165, 1.6032582637128527, 1.633505387048729, 1.4443122870652279, 1.7764857286819993, 1.8394085242168552, 1.8846907099053516, 1.8902489901958115, 1.900364493341486, 1.9433287957300351, 1.9499565195233024, 1.9701038424241493, 1.87165700828031, 1.949534944923423, 1.866017559760036, 1.5763016242603536, 1.7204356042485187, 1.9389460472095983, 1.8941528215388084, 1.9360744373368808, 1.9786712911545008, 1.928344552079181, 1.980372416908545, 1.9006040237041306, 1.951851663000554, 1.916293822138455, 1.975146690114389, 1.8815847768644258, 1.9697008628371497, 1.9047480319080878, 1.7551592126340534, 1.777948020767525, 1.5681184079990909, 1.681963985986843, 1.7009875696164156, 1.9255893817178915, 1.9558540979952859, 1.929738554159898, 1.9277450096944868, 1.9540824864237918, 1.9653578820516466, 1.8939974788635237, 1.7861421565946816, 1.8775725961010588, 1.5951731149622834, 1.815033190437012, 1.8759973366325107, 1.9333347343597693, 1.9393312052104301, 1.9255233839614951, 1.915551005482445, 1.9169450937184789, 1.6812877013240668, 1.9231160350415692, 1.850386950952714, 1.9441796649154894, 1.949409199174327, 1.9047263910465273, 1.889265438196828, 1.9221843907873943, 1.9397427741766973, 1.9160951028747377, 2.006673682854732, 1.9084240107742312, 1.9206472941313557, 1.7301705715547486, 1.910907837264726]\n"
     ]
    },
    {
     "name": "stderr",
     "output_type": "stream",
     "text": [
      "\n"
     ]
    }
   ],
   "source": [
    "for j in tqdm(range(50)):\n",
    "    result_train = algorithm_16.train()[\"episode_reward_mean\"]\n",
    "    result_16.append(result_train)\n",
    "    if (j%5 == 0):\n",
    "        print(result_train)\n",
    "print(result_16)"
   ],
   "metadata": {
    "collapsed": false
   }
  },
  {
   "cell_type": "code",
   "execution_count": 736,
   "outputs": [
    {
     "data": {
      "text/plain": "[<matplotlib.lines.Line2D at 0x7f1afdf26560>]"
     },
     "execution_count": 736,
     "metadata": {},
     "output_type": "execute_result"
    },
    {
     "data": {
      "text/plain": "<Figure size 640x480 with 1 Axes>",
      "image/png": "[encoded data removed]"
     },
     "metadata": {},
     "output_type": "display_data"
    }
   ],
   "source": [
    "plt.plot(result_16)"
   ],
   "metadata": {
    "collapsed": false
   }
  },
  {
   "cell_type": "code",
   "execution_count": 654,
   "outputs": [
    {
     "data": {
      "text/plain": "[<matplotlib.lines.Line2D at 0x7f0bbc2e8460>]"
     },
     "execution_count": 654,
     "metadata": {},
     "output_type": "execute_result"
    },
    {
     "data": {
      "text/plain": "<Figure size 640x480 with 1 Axes>",
      "image/png": "[encoded data removed]"
     },
     "metadata": {},
     "output_type": "display_data"
    }
   ],
   "source": [
    "plt.plot(result_first)"
   ],
   "metadata": {
    "collapsed": false
   }
  },
  {
   "cell_type": "code",
   "execution_count": 764,
   "outputs": [],
   "source": [
    "# len(result_first)\n",
    "test_architecture = AcesStepArchitectureEnv(4)\n",
    "# test_architecture.architecture.weights"
   ],
   "metadata": {
    "collapsed": false
   }
  },
  {
   "cell_type": "code",
   "execution_count": 738,
   "outputs": [
    {
     "data": {
      "text/plain": "{0: [3, 4], 1: [14, 15], 2: [16, 17], 3: [0]}"
     },
     "execution_count": 738,
     "metadata": {},
     "output_type": "execute_result"
    }
   ],
   "source": [
    "test_architecture.architecture.clusters"
   ],
   "metadata": {
    "collapsed": false
   }
  },
  {
   "cell_type": "code",
   "execution_count": 774,
   "outputs": [
    {
     "name": "stdout",
     "output_type": "stream",
     "text": [
      "{0: 0.41235813366960905, 1: 0.41235813366960905, 2: 0.331230283911672, 3: 0.6085106382978723}\n",
      "2967\n",
      "{0: 0.5914249684741488, 1: 0.5914249684741488, 2: 0.5003154574132492, 3: 0.7730496453900709}\n",
      "2086\n",
      "2.1428571428571432\n",
      "{0: 0.7443609022556391, 1: 1.0, 2: 1.0, 3: 0.7293233082706767, 4: 0.6691729323308271, 5: -1, 6: -1}\n",
      "962\n",
      "{0: 0.8785, 1: 0.7951999999999999, 2: 1.0, 3: 1.0, 4: 0.9625, 5: 1.0, 6: 1.0, 7: 1.0, 8: 0.9625, 9: 1.0, 10: 0.94, 11: 1.0, 12: 1.0, 13: 1.0, 14: 0.982, 15: 1.0, 16: 0.88, 17: 0.94}\n"
     ]
    }
   ],
   "source": [
    "obs = test_architecture.reset()\n",
    "test_architecture.architecture.round_robin()\n",
    "print(test_architecture.architecture.compute_normalized_latency_dict())\n",
    "print(test_architecture.architecture.compute_total_latency())\n",
    "test_architecture.architecture.greedy_server()\n",
    "print(test_architecture.architecture.compute_normalized_latency_dict())\n",
    "print(test_architecture.architecture.compute_total_latency())\n",
    "# test_architecture.architecture.greedy_algorithm()\n",
    "# print(test_architecture.architecture.compute_normalized_latency_dict())\n",
    "# print(test_architecture.architecture.compute_total_latency())\n",
    "iteration = {}\n",
    "allocation = []\n",
    "types = []\n",
    "reward = 0\n",
    "\n",
    "for i in range(20):\n",
    "    action = algorithm_16.compute_single_action(obs)\n",
    "    output = test_architecture.step(action)\n",
    "    obs = output[0]\n",
    "    # print(obs['free_space'])\n",
    "    reward += output[1]\n",
    "    type = output[3]['type']\n",
    "    iteration[i] = output[1]\n",
    "    if type==0:\n",
    "        for j in range(6):\n",
    "            for k in range(3):\n",
    "                allocation.append(action[k])\n",
    "                types.append(0)\n",
    "    elif type==1:\n",
    "        for j in range(6):\n",
    "            for k in range(3):\n",
    "                allocation.append(action[k])\n",
    "                types.append(1)\n",
    "    elif type==2:\n",
    "        for j in range(6):\n",
    "            for k in range(3):\n",
    "                allocation.append(action[k])\n",
    "                types.append(2)\n",
    "    else:\n",
    "        for j in range(4):\n",
    "            for k in range(4):\n",
    "                if output[1] != -1:\n",
    "                    allocation.append(action[k])\n",
    "                    types.append(3)\n",
    "                else:\n",
    "                    allocation.append(random.randint(0,1))\n",
    "                    types.append(3)\n",
    "    if output[2]:\n",
    "        break\n",
    "\n",
    "# print(types)\n",
    "print(reward)\n",
    "test_architecture.architecture.false_data_allocation = allocation\n",
    "test_architecture.architecture.false_data_types = types\n",
    "test_architecture.architecture.false_construct_dictionaries()\n",
    "print(iteration)\n",
    "print(test_architecture.architecture.false_compute_total_latency())\n",
    "print(test_architecture.architecture.false_free_space())\n",
    "# print(len(test_architecture.architecture.data_allocation))"
   ],
   "metadata": {
    "collapsed": false
   }
  },
  {
   "cell_type": "code",
   "execution_count": 671,
   "outputs": [
    {
     "name": "stdout",
     "output_type": "stream",
     "text": [
      "[4, 4, 0, 4, 4, 0, 4, 4, 0, 4, 4, 0, 4, 4, 0, 4, 4, 0, 14, 11, 16, 14, 11, 16, 14, 11, 16, 14, 11, 16, 14, 11, 16, 14, 11, 16, 14, 1, 14, 14, 1, 14, 14, 1, 14, 14, 1, 14, 14, 1, 14, 14, 1, 14, 16, 17, 1, 16, 17, 1, 16, 17, 1, 16, 17, 1, 16, 17, 1, 16, 17, 1, 16, 17, 16, 16, 17, 16, 16, 17, 16, 16, 17, 16, 16, 17, 16, 16, 17, 16, 0, 0, 0, 0, 0, 0, 0, 0, 0, 0, 0, 0, 0, 0, 0, 0, 9, 0, 0, 9, 9, 0, 0, 9, 9, 0, 0, 9, 9, 0, 0, 9]\n",
      "[0, 0, 0, 0, 0, 0, 0, 0, 0, 0, 0, 0, 0, 0, 0, 0, 0, 0, 1, 1, 1, 1, 1, 1, 1, 1, 1, 1, 1, 1, 1, 1, 1, 1, 1, 1, 1, 1, 1, 1, 1, 1, 1, 1, 1, 1, 1, 1, 1, 1, 1, 1, 1, 1, 2, 2, 2, 2, 2, 2, 2, 2, 2, 2, 2, 2, 2, 2, 2, 2, 2, 2, 2, 2, 2, 2, 2, 2, 2, 2, 2, 2, 2, 2, 2, 2, 2, 2, 2, 2, 3, 3, 3, 3, 3, 3, 3, 3, 3, 3, 3, 3, 3, 3, 3, 3, 3, 3, 3, 3, 3, 3, 3, 3, 3, 3, 3, 3, 3, 3, 3, 3]\n"
     ]
    }
   ],
   "source": [
    "print(allocation)\n",
    "print(types)"
   ],
   "metadata": {
    "collapsed": false
   }
  }
 ],
 "metadata": {
  "kernelspec": {
   "display_name": "Python 3",
   "language": "python",
   "name": "python3"
  },
  "language_info": {
   "codemirror_mode": {
    "name": "ipython",
    "version": 2
   },
   "file_extension": ".py",
   "mimetype": "text/x-python",
   "name": "python",
   "nbconvert_exporter": "python",
   "pygments_lexer": "ipython2",
   "version": "2.7.6"
  }
 },
 "nbformat": 4,
 "nbformat_minor": 0
}
