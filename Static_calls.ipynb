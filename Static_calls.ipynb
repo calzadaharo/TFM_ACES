{
 "cells": [
  {
   "cell_type": "code",
   "execution_count": 723,
   "metadata": {
    "collapsed": true
   },
   "outputs": [],
   "source": [
    "from gymnasium import Env\n",
    "from gymnasium.spaces import Box, Dict, Discrete\n",
    "import random\n",
    "import numpy as np\n",
    "import matplotlib.pyplot as plt\n",
    "from tqdm import tqdm\n",
    "import networkx as nx\n",
    "from copy import copy\n",
    "import ray"
   ]
  },
  {
   "cell_type": "code",
   "execution_count": 635,
   "outputs": [],
   "source": [
    "class Architecture:\n",
    "    def __init__(self):\n",
    "        self.c_capacity, self.s_capacity = 50, 2\n",
    "        self.weights = [0.0125, 0.0010, 0.0200, 0.5000] # REVIEW\n",
    "        self.lifetime = {0: 1, 1: 2, 2: 3, 3: 10}   # REVIEW\n",
    "        self.max_actions = 10\n",
    "        self.num_c = 2\n",
    "        self.num_s = 6\n",
    "        self.max_actions = 10\n",
    "        self.min_free_space = 0.2\n",
    "        self.space_flag = -1\n",
    "\n",
    "        self.data_types = []\n",
    "        self.data_allocation = []\n",
    "        self.data_times = []\n",
    "\n",
    "        self.data = {}\n",
    "        self.devices = {}\n",
    "        self.latencies = {}\n",
    "        self.max_latencies = {}\n",
    "\n",
    "        self.action_device = []\n",
    "        self.action_type = []\n",
    "\n",
    "        for j in (range(len(self.weights))):\n",
    "            self.data[j] = {}\n",
    "            for i in range(self.num_s+self.num_c):\n",
    "                self.data[j][i] = 0\n",
    "                self.devices[i] = {0: 0, 1: 0, 2: 0, 3: 0}\n",
    "                self.latencies[i] = {}\n",
    "                self.max_latencies[i] = {}\n",
    "\n",
    "        for i in self.latencies.keys():\n",
    "            for j in self.latencies.keys():\n",
    "                self.latencies[i][j] = 0\n",
    "                self.max_latencies[i][j] = 0\n",
    "\n",
    "        devices = list(self.devices.keys())\n",
    "        bound = round(len(self.devices)/4)\n",
    "        self.clusters = {\n",
    "            0: devices[bound*3:],\n",
    "            1: devices[bound:bound*2],\n",
    "            2: devices[bound*2:bound*3],\n",
    "            3: devices[:bound]\n",
    "        }\n",
    "        self.visualization()\n",
    "\n",
    "    def construct_dictionaries(self):\n",
    "        for i in self.data:\n",
    "            for j in self.data[i]:\n",
    "                self.data[i][j] = 0\n",
    "        for i in self.devices:\n",
    "            for j in self.devices[i]:\n",
    "                self.devices[i][j] = 0\n",
    "        for device, d_type in zip(self.data_allocation, self.data_types):\n",
    "            self.data[d_type][device] += 1\n",
    "            self.devices[device][d_type] += 1\n",
    "\n",
    "    def update(self, data_type, device):\n",
    "        self.data_types.append(data_type)\n",
    "        self.data_allocation.append(device)\n",
    "        self.data_times.append(0)\n",
    "        self.devices[device][data_type] += 1\n",
    "        self.data[data_type][device] += 1\n",
    "\n",
    "    def heart_beat(self):\n",
    "        deads = []\n",
    "        for i in range(len(self.data_times)):\n",
    "            self.data_times[i] += 1\n",
    "            if self.data_times[i] == self.lifetime[self.data_types[i]]:\n",
    "                deads.append(i)\n",
    "\n",
    "        removed = 0\n",
    "        for i in deads:\n",
    "            self.devices[self.data_allocation[i-removed]][self.data_types[i-removed]] -= 1\n",
    "            self.data[self.data_types[i-removed]][self.data_allocation[i-removed]] -= 1\n",
    "            self.data_types.pop(i - removed)\n",
    "            self.data_allocation.pop(i - removed)\n",
    "            self.data_times.pop(i - removed)\n",
    "            removed += 1\n",
    "\n",
    "    def free_space(self):\n",
    "        load = {}\n",
    "        for i in range(self.num_c + self.num_s):\n",
    "            if i < self.num_c:\n",
    "                load[i] = (self.c_capacity - sum([a*b for a,b in zip(list(self.devices[i].values()), self.weights)]))/self.c_capacity\n",
    "            else:\n",
    "                load[i] = (self.s_capacity - sum([a*b for a,b in zip(list(self.devices[i].values()), self.weights)]))/self.s_capacity\n",
    "            if load[i] <= self.min_free_space:\n",
    "                self.space_flag = i\n",
    "        return load\n",
    "\n",
    "    def reduce_type(self, data_type):\n",
    "        max_time = 0\n",
    "        positions = []\n",
    "        for i in range(len(self.data_allocation)):\n",
    "            if self.data_types[i] == data_type:\n",
    "                if self.data_times[i] > max_time:\n",
    "                    max_time = self.data_times[i]\n",
    "                    positions = []\n",
    "                    positions.append(i)\n",
    "                elif self.data_times[i] == max_time:\n",
    "                    positions.append(i)\n",
    "\n",
    "        removed = 0\n",
    "        for i in positions:\n",
    "            self.devices[self.data_allocation[i-removed]][self.data_types[i-removed]] -= 1\n",
    "            self.data[self.data_types[i-removed]][self.data_allocation[i-removed]] -= 1\n",
    "            self.data_times.pop(i - removed)\n",
    "            self.data_types.pop(i - removed)\n",
    "            self.data_allocation.pop(i -removed)\n",
    "            removed += 1\n",
    "\n",
    "    def check_quantity(self, data_type):\n",
    "        if data_type != 3:\n",
    "            if sum(list(self.data[data_type].values())) > 2*(self.num_s + self.num_c):\n",
    "                self.reduce_type(data_type)\n",
    "        else:\n",
    "            if sum(list(self.data[data_type].values())) > 2*self.num_s:\n",
    "                self.reduce_type(data_type)\n",
    "\n",
    "    def visualization(self):\n",
    "        keys = list(self.devices.keys())\n",
    "        cs = keys[:self.num_c]\n",
    "        ss = keys[self.num_c:]\n",
    "\n",
    "        colors = []\n",
    "        sizes = []\n",
    "\n",
    "        graph = nx.Graph()\n",
    "\n",
    "        colors.append('lightblue')\n",
    "        sizes.append(1000)\n",
    "        index = 0\n",
    "        for i in range(len(cs)):\n",
    "            if i != len(cs)-1:\n",
    "                colors.append('lightblue')\n",
    "                sizes.append(1000)\n",
    "                graph.add_edge(cs[i],cs[i+1])\n",
    "                graph.add_weighted_edges_from([(cs[i],cs[i+1],10)])\n",
    "                for j in range(int(len(ss)/self.num_c)):\n",
    "                    colors.append('orange')\n",
    "                    sizes.append(100)\n",
    "                    graph.add_edge(cs[i],ss[index])\n",
    "                    graph.add_weighted_edges_from([(cs[i],ss[index],6)])\n",
    "                    index += 1\n",
    "            else:\n",
    "                graph.add_edge(cs[i],cs[0])\n",
    "                graph.add_weighted_edges_from([(cs[i],cs[0],10)])\n",
    "                for j in range(int(len(ss)/self.num_c)+len(ss)%self.num_c):\n",
    "                    graph.add_edge(cs[i],ss[index])\n",
    "                    graph.add_weighted_edges_from([(cs[i],ss[index],6)])\n",
    "                    colors.append('orange')\n",
    "                    sizes.append(100)\n",
    "                    index += 1\n",
    "\n",
    "        pos = nx.spring_layout(graph)  # Position nodes using a spring layout algorithm\n",
    "        # nx.draw(graph, pos, with_labels=True, node_size=sizes, node_color=colors, font_weight=12, font_color='black', edge_color='gray')\n",
    "        edge_labels = nx.get_edge_attributes(graph, 'weight')\n",
    "        # nx.draw_networkx_edge_labels(graph, pos, edge_labels=edge_labels)\n",
    "\n",
    "        # plt.title(\"Architecture:\")\n",
    "        # plt.axis('off')\n",
    "        # plt.show()\n",
    "\n",
    "        for u in graph.nodes:\n",
    "            shortest_paths = nx.shortest_path_length(graph, source=u, weight='weight')\n",
    "            for v, weight in shortest_paths.items():\n",
    "                self.latencies[u][v] = weight\n",
    "\n",
    "        max_latency = self.latencies[self.num_c][self.num_c+self.num_s-1]\n",
    "        for i in self.max_latencies.keys():\n",
    "            for j in self.max_latencies[i].keys():\n",
    "                self.max_latencies[i][j] = max_latency\n",
    "\n",
    "    def compute_total_latency(self):\n",
    "        total_latency = 0\n",
    "        for i in range(len(self.action_type)):\n",
    "            total_latency += sum([a*b for a,b in zip(self.data[self.action_type[i]].values(), self.latencies[self.action_device[i]].values())])\n",
    "        return total_latency\n",
    "\n",
    "    def compute_normalized_latency(self):\n",
    "        total_latency = 0\n",
    "        max_latency = 0\n",
    "        for i in range(len(self.action_type)):\n",
    "            total_latency += sum([a*b for a,b in zip(self.data[self.action_type[i]].values(), self.latencies[self.action_device[i]].values())])\n",
    "            max_latency += sum([a*b for a,b in zip(self.data[self.action_type[i]].values(), self.max_latencies[self.action_device[i]].values())])\n",
    "        return total_latency/(max_latency+1)\n",
    "\n",
    "    def rl_update(self, new_allocation):\n",
    "        self.data_allocation = new_allocation\n",
    "        self.construct_dictionaries()\n",
    "        return self.free_space()\n",
    "\n",
    "    def generate(self, operation):\n",
    "        if operation == 0 or operation == 1 or operation == 2:\n",
    "            for i in range(self.num_s + self.num_c):\n",
    "                self.update(operation,i)\n",
    "            self.check_quantity(operation)\n",
    "        elif operation == 3:\n",
    "            for i in range(self.num_c,(self.num_c + self.num_s)):\n",
    "                self.update(operation,i)\n",
    "            self.check_quantity(operation)\n",
    "        else:\n",
    "            device=self.clusters[operation - 10][0]\n",
    "            self.action_device.append(device)\n",
    "            self.action_type.append(operation-10)\n",
    "            difference = len(self.action_device) - self.max_actions\n",
    "            if difference >= 0:\n",
    "                for i in range(difference):\n",
    "                    self.action_device.pop(0)\n",
    "                    self.action_type.pop(0)\n",
    "\n",
    "    def round_robin(self):\n",
    "        allocation_round = []\n",
    "        capacities = [50,50,2,2,2,2,2,2]\n",
    "        index = 0\n",
    "        server_index = 0\n",
    "        for i in range(len(self.data_allocation)):\n",
    "            if index == self.num_c + self.num_s:\n",
    "                index = 0\n",
    "            if (index != 0 or index != 1) and capacities[index] - self.weights[self.data_types[i]] <= 0.2 * 2:\n",
    "                allocation_round.append(server_index)\n",
    "                capacities[server_index] -= self.weights[self.data_types[i]]\n",
    "                server_index = 1 if server_index == 0 else 0\n",
    "            else:\n",
    "                allocation_round.append(index)\n",
    "                capacities[index] -= self.weights[self.data_types[i]]\n",
    "                index += 1\n",
    "        self.data_allocation = allocation_round.copy()\n",
    "        self.construct_dictionaries()\n",
    "        for i in range(52 - len(allocation_round)):      # REMEMBER TO CHANGE !!!!!!!!!!!!!!\n",
    "            allocation_round.append(random.randint(0,self.num_c+self.num_s-1))\n",
    "        return allocation_round\n",
    "\n",
    "    def greedy_server(self):\n",
    "        allocation_greedy= []\n",
    "        index = 0\n",
    "        for i in range(len(self.data_allocation)):\n",
    "            allocation_greedy.append(index)\n",
    "            index = 1 if index == 0 else 0\n",
    "        self.data_allocation = allocation_greedy.copy()\n",
    "        self.construct_dictionaries()\n",
    "        for i in range(52 - len(allocation_greedy)):      # REMEMBER TO CHANGE !!!!!!!!!!!!!!\n",
    "            allocation_greedy.append(random.randint(0,self.num_c+self.num_s-1))\n",
    "        return allocation_greedy\n",
    "\n",
    "    def greedy_algorithm(self):\n",
    "        if self.space_flag == -1:\n",
    "            # print(\"It's ok\")\n",
    "            allocation = []\n",
    "            for i in self.data_types:\n",
    "                allocation.append(random.sample(list(self.clusters[i]),1)[0])\n",
    "            self.data_allocation = allocation.copy()\n",
    "            self.construct_dictionaries()\n",
    "            for i in range(52 - len(allocation)):      # REMEMBER TO CHANGE !!!!!!!!!!!!!!\n",
    "                allocation.append(random.randint(0,self.num_c+self.num_s-1))\n",
    "            return allocation\n",
    "        else:\n",
    "            # print(\"Problem\")\n",
    "            problematic_key = None\n",
    "            for key, value in self.clusters.items():\n",
    "                if self.space_flag in value:\n",
    "                    problematic_key = key\n",
    "                    break\n",
    "            for i in range(self.num_c):\n",
    "                self.clusters[problematic_key].append(i)\n",
    "            self.space_flag = -1\n",
    "            return self.greedy_algorithm()"
   ],
   "metadata": {
    "collapsed": false
   }
  },
  {
   "cell_type": "code",
   "execution_count": 5,
   "outputs": [
    {
     "name": "stdout",
     "output_type": "stream",
     "text": [
      "0.3931034482758621\n",
      "0.3931034482758621\n",
      "0.5011547344110854\n",
      "0.5011547344110854\n",
      "0.5228848821081831\n",
      "0.5228848821081831\n",
      "0.5228848821081831\n",
      "0.5228848821081831\n",
      "0.500578034682081\n",
      "0.500578034682081\n",
      "0.5143104943625325\n",
      "0.5143104943625325\n",
      "0.5225537820957669\n",
      "0.5225537820957669\n",
      "0.5225537820957669\n",
      "0.5225537820957669\n",
      "0.49909474954737476\n",
      "0.5111647555823777\n",
      "0.501388117712382\n",
      "0.49028317601332594\n",
      "0.4992819530876017\n",
      "0.5088559119195788\n",
      "0.5145140933950357\n",
      "0.5061001262095077\n",
      "0.5103071098022718\n",
      "0.5145140933950357\n",
      "0.5145140933950357\n",
      "0.5061001262095077\n",
      "0.5061001262095077\n",
      "0.5145140933950357\n",
      "0.5145140933950357\n",
      "0.5061001262095077\n",
      "0.5103071098022718\n",
      "0.5145140933950357\n",
      "0.5149040424663127\n",
      "0.49857084524295636\n",
      "0.4845986984815618\n",
      "0.5019522776572668\n",
      "0.5019522776572668\n",
      "0.4845986984815618\n",
      "0.5061001262095077\n",
      "0.5145140933950357\n",
      "0.5069415229280606\n",
      "0.5061001262095077\n",
      "0.5061001262095077\n",
      "0.5145140933950357\n",
      "0.5145140933950357\n",
      "0.5061001262095077\n",
      "0.5061001262095077\n",
      "0.5145140933950357\n",
      "0.5069415229280606\n",
      "0.5061001262095077\n",
      "0.49857084524295636\n",
      "0.5149040424663127\n"
     ]
    }
   ],
   "source": [
    "executions = [[0,1,2,10],\n",
    "              [0,1,2,11],\n",
    "              [0,1,2,12],\n",
    "              [0,1,2,3],\n",
    "              [0,1,2,10],\n",
    "              [0,1,2,11],\n",
    "              [0,1,2,12],\n",
    "              [0,1,2,3],\n",
    "              [0,1,2,13]]\n",
    "architecture = Architecture()\n",
    "\n",
    "for i in range(3):\n",
    "    for j in executions:\n",
    "        architecture.heart_beat()\n",
    "        for h in j:\n",
    "            architecture.generate(h)\n",
    "        print(1-architecture.compute_normalized_latency())\n",
    "        architecture.round_robin()\n",
    "        print(1-architecture.compute_normalized_latency())"
   ],
   "metadata": {
    "collapsed": false
   }
  },
  {
   "cell_type": "code",
   "execution_count": 636,
   "outputs": [],
   "source": [
    "class AcesArchitectureEnv(Env):\n",
    "    def __init__(self, maximum_data):\n",
    "        self.architecture = Architecture()\n",
    "        self.executions = [[0,1,2,10],\n",
    "                           [0,1,2,11],\n",
    "                           [0,1,2,12],\n",
    "                           [0,1,2,3],\n",
    "                           [0,1,2,10],\n",
    "                           [0,1,2,11],\n",
    "                           [0,1,2,12],\n",
    "                           [0,1,2,3],\n",
    "                           [0,1,2,13]]\n",
    "        self.execution_index = 0\n",
    "        self.num_devices = len(self.architecture.devices.keys())\n",
    "        self.maximum_data = maximum_data\n",
    "\n",
    "        self.weights = self.architecture.weights\n",
    "        self.allocation = self.architecture.data_allocation\n",
    "        self.data_types = self.architecture.data_types\n",
    "        self.free_space = list(self.architecture.free_space().values())\n",
    "        self.last_calls_type = self.architecture.action_type\n",
    "        self.last_calls_device = self.architecture.action_device\n",
    "\n",
    "        self.observation_space = Dict({\n",
    "            \"weights\": Box(low=0, high=1, shape=(4,), dtype=np.float32),\n",
    "            \"allocation\": Box(low=-1, high=self.num_devices-1, shape=(maximum_data,), dtype=np.int32),\n",
    "            \"data_type\": Box(low=-1, high=3, shape=(maximum_data,), dtype=np.int32),\n",
    "            \"free_space\": Box(low=-10, high=1, shape=(self.num_devices,), dtype=np.float32),\n",
    "            \"last_calls_type\": Box(low=-1, high=13, shape=(10,), dtype=np.int32),\n",
    "            \"last_calls_device\": Box(low=-1, high=self.num_devices-1, shape=(10,), dtype=np.int32)\n",
    "        })\n",
    "\n",
    "        self.action_space = Box(low=0, high=self.num_devices-1, shape=(maximum_data,), dtype=np.int32)\n",
    "\n",
    "        self.allocation_length = len(self.allocation)\n",
    "\n",
    "        self.reward = 0\n",
    "\n",
    "    def get_obs(self):\n",
    "\n",
    "        return {\n",
    "            \"weights\": np.array(self.weights),\n",
    "            \"allocation\": np.array(self.allocation),\n",
    "            \"data_type\": np.array(self.data_types),\n",
    "            \"free_space\": np.array(self.free_space),\n",
    "            \"last_calls_type\": np.array(self.last_calls_type),\n",
    "            \"last_calls_device\": np.array(self.last_calls_device)\n",
    "        }\n",
    "\n",
    "    def step(self,action):\n",
    "        self.architecture.data_allocation = list(action[:self.allocation_length])\n",
    "        self.allocation[:self.allocation_length] = list(action[:self.allocation_length])\n",
    "        self.architecture.construct_dictionaries()\n",
    "        normalized_latency = self.architecture.compute_normalized_latency()\n",
    "        # normalized_latency = 0\n",
    "        self.free_space = list(self.architecture.free_space().values())\n",
    "\n",
    "        # flag = False\n",
    "        # for i in self.free_space:\n",
    "        #     if i <= self.architecture.min_free_space:\n",
    "        #         flag = True\n",
    "        #         break\n",
    "        #\n",
    "        # if flag:\n",
    "        #     self.reward = -3\n",
    "        # else:\n",
    "        #     w1 = 2\n",
    "        #     w2 = 1\n",
    "        #     std = np.std(self.free_space)\n",
    "        #     self.reward = w1*(1 - normalized_latency) + w2*(1-std)\n",
    "        self.reward = (1 - normalized_latency)\n",
    "\n",
    "        done = True\n",
    "        info = {}\n",
    "\n",
    "        return self.get_obs(), self.reward, done, info\n",
    "\n",
    "    def reset(self):\n",
    "        if self.reward < 0:\n",
    "            return self.get_obs()\n",
    "        else:\n",
    "            self.architecture.heart_beat()\n",
    "            for execution in self.executions[self.execution_index]:\n",
    "                self.architecture.generate(execution)\n",
    "            self.allocation = self.architecture.data_allocation.copy()\n",
    "            self.data_types = self.architecture.data_types.copy()\n",
    "            self.allocation_length = len(self.allocation)\n",
    "            for minus_one in range(self.maximum_data - len(self.allocation)):\n",
    "                self.allocation.append(-1)\n",
    "                self.data_types.append(-1)\n",
    "            self.free_space = list(self.architecture.free_space().values())\n",
    "            self.last_calls_type = self.architecture.action_type.copy()\n",
    "            self.last_calls_device = self.architecture.action_device.copy()\n",
    "            for minus_one in range(10 - len(self.last_calls_type)):\n",
    "                self.last_calls_type.append(-1)\n",
    "                self.last_calls_device.append(-1)\n",
    "\n",
    "            self.execution_index = self.execution_index +1 if self.execution_index <= len(self.executions) - 2 else 0\n",
    "            return self.get_obs()\n",
    "\n",
    "    def close(self):\n",
    "        print('CLOSED')"
   ],
   "metadata": {
    "collapsed": false
   }
  },
  {
   "cell_type": "code",
   "execution_count": 637,
   "outputs": [
    {
     "name": "stderr",
     "output_type": "stream",
     "text": [
      "2023-06-09 15:59:05,697\tINFO worker.py:1553 -- Started a local Ray instance.\n"
     ]
    },
    {
     "ename": "KeyboardInterrupt",
     "evalue": "",
     "output_type": "error",
     "traceback": [
      "\u001B[0;31m---------------------------------------------------------------------------\u001B[0m",
      "\u001B[0;31mKeyboardInterrupt\u001B[0m                         Traceback (most recent call last)",
      "Cell \u001B[0;32mIn[637], line 32\u001B[0m\n\u001B[1;32m     26\u001B[0m config[\u001B[38;5;124m\"\u001B[39m\u001B[38;5;124mmodel\u001B[39m\u001B[38;5;124m\"\u001B[39m][\u001B[38;5;124m\"\u001B[39m\u001B[38;5;124mfcnet_hiddens\u001B[39m\u001B[38;5;124m\"\u001B[39m] \u001B[38;5;241m=\u001B[39m[\u001B[38;5;241m64\u001B[39m,\u001B[38;5;241m64\u001B[39m]\n\u001B[1;32m     28\u001B[0m \u001B[38;5;66;03m# algorithm = config.build()\u001B[39;00m\n\u001B[1;32m     29\u001B[0m \u001B[38;5;66;03m# algorithm.set_weights(algorithm_bc.get_weights())\u001B[39;00m\n\u001B[1;32m     30\u001B[0m \u001B[38;5;66;03m# checkpoint_path = algorithm.save()\u001B[39;00m\n\u001B[1;32m     31\u001B[0m \u001B[38;5;66;03m# print(checkpoint_path)\u001B[39;00m\n\u001B[0;32m---> 32\u001B[0m algorithm_latency \u001B[38;5;241m=\u001B[39m \u001B[43mconfig\u001B[49m\u001B[38;5;241;43m.\u001B[39;49m\u001B[43mbuild\u001B[49m\u001B[43m(\u001B[49m\u001B[43m)\u001B[49m\n\u001B[1;32m     33\u001B[0m \u001B[38;5;66;03m# algorithm.restore(\"./TFM/algorithms/online_offline_1400/checkpoint_001477\")\u001B[39;00m\n\u001B[1;32m     35\u001B[0m result \u001B[38;5;241m=\u001B[39m[]\n",
      "File \u001B[0;32m~/.local/lib/python3.10/site-packages/ray/rllib/algorithms/algorithm_config.py:926\u001B[0m, in \u001B[0;36mAlgorithmConfig.build\u001B[0;34m(self, env, logger_creator, use_copy)\u001B[0m\n\u001B[1;32m    923\u001B[0m \u001B[38;5;28;01mif\u001B[39;00m \u001B[38;5;28misinstance\u001B[39m(\u001B[38;5;28mself\u001B[39m\u001B[38;5;241m.\u001B[39malgo_class, \u001B[38;5;28mstr\u001B[39m):\n\u001B[1;32m    924\u001B[0m     algo_class \u001B[38;5;241m=\u001B[39m get_trainable_cls(\u001B[38;5;28mself\u001B[39m\u001B[38;5;241m.\u001B[39malgo_class)\n\u001B[0;32m--> 926\u001B[0m \u001B[38;5;28;01mreturn\u001B[39;00m \u001B[43malgo_class\u001B[49m\u001B[43m(\u001B[49m\n\u001B[1;32m    927\u001B[0m \u001B[43m    \u001B[49m\u001B[43mconfig\u001B[49m\u001B[38;5;241;43m=\u001B[39;49m\u001B[38;5;28;43mself\u001B[39;49m\u001B[43m \u001B[49m\u001B[38;5;28;43;01mif\u001B[39;49;00m\u001B[43m \u001B[49m\u001B[38;5;129;43;01mnot\u001B[39;49;00m\u001B[43m \u001B[49m\u001B[43muse_copy\u001B[49m\u001B[43m \u001B[49m\u001B[38;5;28;43;01melse\u001B[39;49;00m\u001B[43m \u001B[49m\u001B[43mcopy\u001B[49m\u001B[38;5;241;43m.\u001B[39;49m\u001B[43mdeepcopy\u001B[49m\u001B[43m(\u001B[49m\u001B[38;5;28;43mself\u001B[39;49m\u001B[43m)\u001B[49m\u001B[43m,\u001B[49m\n\u001B[1;32m    928\u001B[0m \u001B[43m    \u001B[49m\u001B[43mlogger_creator\u001B[49m\u001B[38;5;241;43m=\u001B[39;49m\u001B[38;5;28;43mself\u001B[39;49m\u001B[38;5;241;43m.\u001B[39;49m\u001B[43mlogger_creator\u001B[49m\u001B[43m,\u001B[49m\n\u001B[1;32m    929\u001B[0m \u001B[43m\u001B[49m\u001B[43m)\u001B[49m\n",
      "File \u001B[0;32m~/.local/lib/python3.10/site-packages/ray/rllib/algorithms/algorithm.py:445\u001B[0m, in \u001B[0;36mAlgorithm.__init__\u001B[0;34m(self, config, env, logger_creator, **kwargs)\u001B[0m\n\u001B[1;32m    433\u001B[0m \u001B[38;5;66;03m# Initialize common evaluation_metrics to nan, before they become\u001B[39;00m\n\u001B[1;32m    434\u001B[0m \u001B[38;5;66;03m# available. We want to make sure the metrics are always present\u001B[39;00m\n\u001B[1;32m    435\u001B[0m \u001B[38;5;66;03m# (although their values may be nan), so that Tune does not complain\u001B[39;00m\n\u001B[1;32m    436\u001B[0m \u001B[38;5;66;03m# when we use these as stopping criteria.\u001B[39;00m\n\u001B[1;32m    437\u001B[0m \u001B[38;5;28mself\u001B[39m\u001B[38;5;241m.\u001B[39mevaluation_metrics \u001B[38;5;241m=\u001B[39m {\n\u001B[1;32m    438\u001B[0m     \u001B[38;5;124m\"\u001B[39m\u001B[38;5;124mevaluation\u001B[39m\u001B[38;5;124m\"\u001B[39m: {\n\u001B[1;32m    439\u001B[0m         \u001B[38;5;124m\"\u001B[39m\u001B[38;5;124mepisode_reward_max\u001B[39m\u001B[38;5;124m\"\u001B[39m: np\u001B[38;5;241m.\u001B[39mnan,\n\u001B[0;32m   (...)\u001B[0m\n\u001B[1;32m    442\u001B[0m     }\n\u001B[1;32m    443\u001B[0m }\n\u001B[0;32m--> 445\u001B[0m \u001B[38;5;28;43msuper\u001B[39;49m\u001B[43m(\u001B[49m\u001B[43m)\u001B[49m\u001B[38;5;241;43m.\u001B[39;49m\u001B[38;5;21;43m__init__\u001B[39;49m\u001B[43m(\u001B[49m\n\u001B[1;32m    446\u001B[0m \u001B[43m    \u001B[49m\u001B[43mconfig\u001B[49m\u001B[38;5;241;43m=\u001B[39;49m\u001B[43mconfig\u001B[49m\u001B[43m,\u001B[49m\n\u001B[1;32m    447\u001B[0m \u001B[43m    \u001B[49m\u001B[43mlogger_creator\u001B[49m\u001B[38;5;241;43m=\u001B[39;49m\u001B[43mlogger_creator\u001B[49m\u001B[43m,\u001B[49m\n\u001B[1;32m    448\u001B[0m \u001B[43m    \u001B[49m\u001B[38;5;241;43m*\u001B[39;49m\u001B[38;5;241;43m*\u001B[39;49m\u001B[43mkwargs\u001B[49m\u001B[43m,\u001B[49m\n\u001B[1;32m    449\u001B[0m \u001B[43m\u001B[49m\u001B[43m)\u001B[49m\n\u001B[1;32m    451\u001B[0m \u001B[38;5;66;03m# Check, whether `training_iteration` is still a tune.Trainable property\u001B[39;00m\n\u001B[1;32m    452\u001B[0m \u001B[38;5;66;03m# and has not been overridden by the user in the attempt to implement the\u001B[39;00m\n\u001B[1;32m    453\u001B[0m \u001B[38;5;66;03m# algos logic (this should be done now inside `training_step`).\u001B[39;00m\n\u001B[1;32m    454\u001B[0m \u001B[38;5;28;01mtry\u001B[39;00m:\n",
      "File \u001B[0;32m~/.local/lib/python3.10/site-packages/ray/tune/trainable/trainable.py:169\u001B[0m, in \u001B[0;36mTrainable.__init__\u001B[0;34m(self, config, logger_creator, remote_checkpoint_dir, custom_syncer, sync_timeout)\u001B[0m\n\u001B[1;32m    167\u001B[0m start_time \u001B[38;5;241m=\u001B[39m time\u001B[38;5;241m.\u001B[39mtime()\n\u001B[1;32m    168\u001B[0m \u001B[38;5;28mself\u001B[39m\u001B[38;5;241m.\u001B[39m_local_ip \u001B[38;5;241m=\u001B[39m ray\u001B[38;5;241m.\u001B[39mutil\u001B[38;5;241m.\u001B[39mget_node_ip_address()\n\u001B[0;32m--> 169\u001B[0m \u001B[38;5;28;43mself\u001B[39;49m\u001B[38;5;241;43m.\u001B[39;49m\u001B[43msetup\u001B[49m\u001B[43m(\u001B[49m\u001B[43mcopy\u001B[49m\u001B[38;5;241;43m.\u001B[39;49m\u001B[43mdeepcopy\u001B[49m\u001B[43m(\u001B[49m\u001B[38;5;28;43mself\u001B[39;49m\u001B[38;5;241;43m.\u001B[39;49m\u001B[43mconfig\u001B[49m\u001B[43m)\u001B[49m\u001B[43m)\u001B[49m\n\u001B[1;32m    170\u001B[0m setup_time \u001B[38;5;241m=\u001B[39m time\u001B[38;5;241m.\u001B[39mtime() \u001B[38;5;241m-\u001B[39m start_time\n\u001B[1;32m    171\u001B[0m \u001B[38;5;28;01mif\u001B[39;00m setup_time \u001B[38;5;241m>\u001B[39m SETUP_TIME_THRESHOLD:\n",
      "File \u001B[0;32m~/.local/lib/python3.10/site-packages/ray/rllib/algorithms/impala/impala.py:470\u001B[0m, in \u001B[0;36mImpala.setup\u001B[0;34m(self, config)\u001B[0m\n\u001B[1;32m    468\u001B[0m \u001B[38;5;129m@override\u001B[39m(Algorithm)\n\u001B[1;32m    469\u001B[0m \u001B[38;5;28;01mdef\u001B[39;00m \u001B[38;5;21msetup\u001B[39m(\u001B[38;5;28mself\u001B[39m, config: AlgorithmConfig):\n\u001B[0;32m--> 470\u001B[0m     \u001B[38;5;28;43msuper\u001B[39;49m\u001B[43m(\u001B[49m\u001B[43m)\u001B[49m\u001B[38;5;241;43m.\u001B[39;49m\u001B[43msetup\u001B[49m\u001B[43m(\u001B[49m\u001B[43mconfig\u001B[49m\u001B[43m)\u001B[49m\n\u001B[1;32m    472\u001B[0m     \u001B[38;5;66;03m# Create extra aggregation workers and assign each rollout worker to\u001B[39;00m\n\u001B[1;32m    473\u001B[0m     \u001B[38;5;66;03m# one of them.\u001B[39;00m\n\u001B[1;32m    474\u001B[0m     \u001B[38;5;28mself\u001B[39m\u001B[38;5;241m.\u001B[39mbatches_to_place_on_learner \u001B[38;5;241m=\u001B[39m []\n",
      "File \u001B[0;32m~/.local/lib/python3.10/site-packages/ray/rllib/algorithms/algorithm.py:571\u001B[0m, in \u001B[0;36mAlgorithm.setup\u001B[0;34m(self, config)\u001B[0m\n\u001B[1;32m    564\u001B[0m \u001B[38;5;66;03m# Only if user did not override `_init()`:\u001B[39;00m\n\u001B[1;32m    565\u001B[0m \u001B[38;5;28;01mif\u001B[39;00m _init \u001B[38;5;129;01mis\u001B[39;00m \u001B[38;5;28;01mFalse\u001B[39;00m:\n\u001B[1;32m    566\u001B[0m     \u001B[38;5;66;03m# - Create rollout workers here automatically.\u001B[39;00m\n\u001B[1;32m    567\u001B[0m     \u001B[38;5;66;03m# - Run the execution plan to create the local iterator to `next()`\u001B[39;00m\n\u001B[1;32m    568\u001B[0m     \u001B[38;5;66;03m#   in each training iteration.\u001B[39;00m\n\u001B[1;32m    569\u001B[0m     \u001B[38;5;66;03m# This matches the behavior of using `build_trainer()`, which\u001B[39;00m\n\u001B[1;32m    570\u001B[0m     \u001B[38;5;66;03m# has been deprecated.\u001B[39;00m\n\u001B[0;32m--> 571\u001B[0m     \u001B[38;5;28mself\u001B[39m\u001B[38;5;241m.\u001B[39mworkers \u001B[38;5;241m=\u001B[39m \u001B[43mWorkerSet\u001B[49m\u001B[43m(\u001B[49m\n\u001B[1;32m    572\u001B[0m \u001B[43m        \u001B[49m\u001B[43menv_creator\u001B[49m\u001B[38;5;241;43m=\u001B[39;49m\u001B[38;5;28;43mself\u001B[39;49m\u001B[38;5;241;43m.\u001B[39;49m\u001B[43menv_creator\u001B[49m\u001B[43m,\u001B[49m\n\u001B[1;32m    573\u001B[0m \u001B[43m        \u001B[49m\u001B[43mvalidate_env\u001B[49m\u001B[38;5;241;43m=\u001B[39;49m\u001B[38;5;28;43mself\u001B[39;49m\u001B[38;5;241;43m.\u001B[39;49m\u001B[43mvalidate_env\u001B[49m\u001B[43m,\u001B[49m\n\u001B[1;32m    574\u001B[0m \u001B[43m        \u001B[49m\u001B[43mdefault_policy_class\u001B[49m\u001B[38;5;241;43m=\u001B[39;49m\u001B[38;5;28;43mself\u001B[39;49m\u001B[38;5;241;43m.\u001B[39;49m\u001B[43mget_default_policy_class\u001B[49m\u001B[43m(\u001B[49m\u001B[38;5;28;43mself\u001B[39;49m\u001B[38;5;241;43m.\u001B[39;49m\u001B[43mconfig\u001B[49m\u001B[43m)\u001B[49m\u001B[43m,\u001B[49m\n\u001B[1;32m    575\u001B[0m \u001B[43m        \u001B[49m\u001B[43mconfig\u001B[49m\u001B[38;5;241;43m=\u001B[39;49m\u001B[38;5;28;43mself\u001B[39;49m\u001B[38;5;241;43m.\u001B[39;49m\u001B[43mconfig\u001B[49m\u001B[43m,\u001B[49m\n\u001B[1;32m    576\u001B[0m \u001B[43m        \u001B[49m\u001B[43mnum_workers\u001B[49m\u001B[38;5;241;43m=\u001B[39;49m\u001B[38;5;28;43mself\u001B[39;49m\u001B[38;5;241;43m.\u001B[39;49m\u001B[43mconfig\u001B[49m\u001B[38;5;241;43m.\u001B[39;49m\u001B[43mnum_rollout_workers\u001B[49m\u001B[43m,\u001B[49m\n\u001B[1;32m    577\u001B[0m \u001B[43m        \u001B[49m\u001B[43mlocal_worker\u001B[49m\u001B[38;5;241;43m=\u001B[39;49m\u001B[38;5;28;43;01mTrue\u001B[39;49;00m\u001B[43m,\u001B[49m\n\u001B[1;32m    578\u001B[0m \u001B[43m        \u001B[49m\u001B[43mlogdir\u001B[49m\u001B[38;5;241;43m=\u001B[39;49m\u001B[38;5;28;43mself\u001B[39;49m\u001B[38;5;241;43m.\u001B[39;49m\u001B[43mlogdir\u001B[49m\u001B[43m,\u001B[49m\n\u001B[1;32m    579\u001B[0m \u001B[43m    \u001B[49m\u001B[43m)\u001B[49m\n\u001B[1;32m    581\u001B[0m     \u001B[38;5;66;03m# TODO (avnishn): Remove the execution plan API by q1 2023\u001B[39;00m\n\u001B[1;32m    582\u001B[0m     \u001B[38;5;66;03m# Function defining one single training iteration's behavior.\u001B[39;00m\n\u001B[1;32m    583\u001B[0m     \u001B[38;5;28;01mif\u001B[39;00m \u001B[38;5;28mself\u001B[39m\u001B[38;5;241m.\u001B[39mconfig\u001B[38;5;241m.\u001B[39m_disable_execution_plan_api:\n\u001B[1;32m    584\u001B[0m         \u001B[38;5;66;03m# Ensure remote workers are initially in sync with the local worker.\u001B[39;00m\n",
      "File \u001B[0;32m~/.local/lib/python3.10/site-packages/ray/rllib/evaluation/worker_set.py:170\u001B[0m, in \u001B[0;36mWorkerSet.__init__\u001B[0;34m(self, env_creator, validate_env, default_policy_class, config, num_workers, local_worker, logdir, _setup, policy_class, trainer_config)\u001B[0m\n\u001B[1;32m    168\u001B[0m \u001B[38;5;28;01mif\u001B[39;00m _setup:\n\u001B[1;32m    169\u001B[0m     \u001B[38;5;28;01mtry\u001B[39;00m:\n\u001B[0;32m--> 170\u001B[0m         \u001B[38;5;28;43mself\u001B[39;49m\u001B[38;5;241;43m.\u001B[39;49m\u001B[43m_setup\u001B[49m\u001B[43m(\u001B[49m\n\u001B[1;32m    171\u001B[0m \u001B[43m            \u001B[49m\u001B[43mvalidate_env\u001B[49m\u001B[38;5;241;43m=\u001B[39;49m\u001B[43mvalidate_env\u001B[49m\u001B[43m,\u001B[49m\n\u001B[1;32m    172\u001B[0m \u001B[43m            \u001B[49m\u001B[43mconfig\u001B[49m\u001B[38;5;241;43m=\u001B[39;49m\u001B[43mconfig\u001B[49m\u001B[43m,\u001B[49m\n\u001B[1;32m    173\u001B[0m \u001B[43m            \u001B[49m\u001B[43mnum_workers\u001B[49m\u001B[38;5;241;43m=\u001B[39;49m\u001B[43mnum_workers\u001B[49m\u001B[43m,\u001B[49m\n\u001B[1;32m    174\u001B[0m \u001B[43m            \u001B[49m\u001B[43mlocal_worker\u001B[49m\u001B[38;5;241;43m=\u001B[39;49m\u001B[43mlocal_worker\u001B[49m\u001B[43m,\u001B[49m\n\u001B[1;32m    175\u001B[0m \u001B[43m        \u001B[49m\u001B[43m)\u001B[49m\n\u001B[1;32m    176\u001B[0m     \u001B[38;5;66;03m# WorkerSet creation possibly fails, if some (remote) workers cannot\u001B[39;00m\n\u001B[1;32m    177\u001B[0m     \u001B[38;5;66;03m# be initialized properly (due to some errors in the RolloutWorker's\u001B[39;00m\n\u001B[1;32m    178\u001B[0m     \u001B[38;5;66;03m# constructor).\u001B[39;00m\n\u001B[1;32m    179\u001B[0m     \u001B[38;5;28;01mexcept\u001B[39;00m RayActorError \u001B[38;5;28;01mas\u001B[39;00m e:\n\u001B[1;32m    180\u001B[0m         \u001B[38;5;66;03m# In case of an actor (remote worker) init failure, the remote worker\u001B[39;00m\n\u001B[1;32m    181\u001B[0m         \u001B[38;5;66;03m# may still exist and will be accessible, however, e.g. calling\u001B[39;00m\n\u001B[1;32m    182\u001B[0m         \u001B[38;5;66;03m# its `sample.remote()` would result in strange \"property not found\"\u001B[39;00m\n\u001B[1;32m    183\u001B[0m         \u001B[38;5;66;03m# errors.\u001B[39;00m\n",
      "File \u001B[0;32m~/.local/lib/python3.10/site-packages/ray/rllib/evaluation/worker_set.py:240\u001B[0m, in \u001B[0;36mWorkerSet._setup\u001B[0;34m(self, validate_env, config, num_workers, local_worker)\u001B[0m\n\u001B[1;32m    237\u001B[0m     \u001B[38;5;28mself\u001B[39m\u001B[38;5;241m.\u001B[39m_ds_shards \u001B[38;5;241m=\u001B[39m \u001B[38;5;28;01mNone\u001B[39;00m\n\u001B[1;32m    239\u001B[0m \u001B[38;5;66;03m# Create a number of @ray.remote workers.\u001B[39;00m\n\u001B[0;32m--> 240\u001B[0m \u001B[38;5;28;43mself\u001B[39;49m\u001B[38;5;241;43m.\u001B[39;49m\u001B[43madd_workers\u001B[49m\u001B[43m(\u001B[49m\n\u001B[1;32m    241\u001B[0m \u001B[43m    \u001B[49m\u001B[43mnum_workers\u001B[49m\u001B[43m,\u001B[49m\n\u001B[1;32m    242\u001B[0m \u001B[43m    \u001B[49m\u001B[43mvalidate\u001B[49m\u001B[38;5;241;43m=\u001B[39;49m\u001B[43mconfig\u001B[49m\u001B[38;5;241;43m.\u001B[39;49m\u001B[43mvalidate_workers_after_construction\u001B[49m\u001B[43m,\u001B[49m\n\u001B[1;32m    243\u001B[0m \u001B[43m\u001B[49m\u001B[43m)\u001B[49m\n\u001B[1;32m    245\u001B[0m \u001B[38;5;66;03m# If num_workers > 0 and we don't have an env on the local worker,\u001B[39;00m\n\u001B[1;32m    246\u001B[0m \u001B[38;5;66;03m# get the observation- and action spaces for each policy from\u001B[39;00m\n\u001B[1;32m    247\u001B[0m \u001B[38;5;66;03m# the first remote worker (which does have an env).\u001B[39;00m\n\u001B[1;32m    248\u001B[0m \u001B[38;5;28;01mif\u001B[39;00m (\n\u001B[1;32m    249\u001B[0m     local_worker\n\u001B[1;32m    250\u001B[0m     \u001B[38;5;129;01mand\u001B[39;00m \u001B[38;5;28mself\u001B[39m\u001B[38;5;241m.\u001B[39m__worker_manager\u001B[38;5;241m.\u001B[39mnum_actors() \u001B[38;5;241m>\u001B[39m \u001B[38;5;241m0\u001B[39m\n\u001B[1;32m    251\u001B[0m     \u001B[38;5;129;01mand\u001B[39;00m \u001B[38;5;129;01mnot\u001B[39;00m config\u001B[38;5;241m.\u001B[39mcreate_env_on_local_worker\n\u001B[1;32m    252\u001B[0m     \u001B[38;5;129;01mand\u001B[39;00m (\u001B[38;5;129;01mnot\u001B[39;00m config\u001B[38;5;241m.\u001B[39mobservation_space \u001B[38;5;129;01mor\u001B[39;00m \u001B[38;5;129;01mnot\u001B[39;00m config\u001B[38;5;241m.\u001B[39maction_space)\n\u001B[1;32m    253\u001B[0m ):\n",
      "File \u001B[0;32m~/.local/lib/python3.10/site-packages/ray/rllib/evaluation/worker_set.py:608\u001B[0m, in \u001B[0;36mWorkerSet.add_workers\u001B[0;34m(self, num_workers, validate)\u001B[0m\n\u001B[1;32m    605\u001B[0m \u001B[38;5;66;03m# Validate here, whether all remote workers have been constructed properly\u001B[39;00m\n\u001B[1;32m    606\u001B[0m \u001B[38;5;66;03m# and are \"up and running\". Establish initial states.\u001B[39;00m\n\u001B[1;32m    607\u001B[0m \u001B[38;5;28;01mif\u001B[39;00m validate:\n\u001B[0;32m--> 608\u001B[0m     \u001B[38;5;28;01mfor\u001B[39;00m result \u001B[38;5;129;01min\u001B[39;00m \u001B[38;5;28;43mself\u001B[39;49m\u001B[38;5;241;43m.\u001B[39;49m\u001B[43m__worker_manager\u001B[49m\u001B[38;5;241;43m.\u001B[39;49m\u001B[43mforeach_actor\u001B[49m\u001B[43m(\u001B[49m\n\u001B[1;32m    609\u001B[0m \u001B[43m        \u001B[49m\u001B[38;5;28;43;01mlambda\u001B[39;49;00m\u001B[43m \u001B[49m\u001B[43mw\u001B[49m\u001B[43m:\u001B[49m\u001B[43m \u001B[49m\u001B[43mw\u001B[49m\u001B[38;5;241;43m.\u001B[39;49m\u001B[43massert_healthy\u001B[49m\u001B[43m(\u001B[49m\u001B[43m)\u001B[49m\n\u001B[1;32m    610\u001B[0m \u001B[43m    \u001B[49m\u001B[43m)\u001B[49m:\n\u001B[1;32m    611\u001B[0m         \u001B[38;5;66;03m# Simiply raise the error, which will get handled by the try-except\u001B[39;00m\n\u001B[1;32m    612\u001B[0m         \u001B[38;5;66;03m# clause around the _setup().\u001B[39;00m\n\u001B[1;32m    613\u001B[0m         \u001B[38;5;28;01mif\u001B[39;00m \u001B[38;5;129;01mnot\u001B[39;00m result\u001B[38;5;241m.\u001B[39mok:\n\u001B[1;32m    614\u001B[0m             \u001B[38;5;28;01mraise\u001B[39;00m result\u001B[38;5;241m.\u001B[39mget()\n",
      "File \u001B[0;32m~/.local/lib/python3.10/site-packages/ray/rllib/utils/actor_manager.py:588\u001B[0m, in \u001B[0;36mFaultTolerantActorManager.foreach_actor\u001B[0;34m(self, func, healthy_only, remote_actor_ids, timeout_seconds, return_obj_refs, mark_healthy)\u001B[0m\n\u001B[1;32m    579\u001B[0m     func, remote_actor_ids \u001B[38;5;241m=\u001B[39m \u001B[38;5;28mself\u001B[39m\u001B[38;5;241m.\u001B[39m_filter_func_and_remote_actor_id_by_state(\n\u001B[1;32m    580\u001B[0m         func, remote_actor_ids\n\u001B[1;32m    581\u001B[0m     )\n\u001B[1;32m    583\u001B[0m remote_calls \u001B[38;5;241m=\u001B[39m \u001B[38;5;28mself\u001B[39m\u001B[38;5;241m.\u001B[39m__call_actors(\n\u001B[1;32m    584\u001B[0m     func\u001B[38;5;241m=\u001B[39mfunc,\n\u001B[1;32m    585\u001B[0m     remote_actor_ids\u001B[38;5;241m=\u001B[39mremote_actor_ids,\n\u001B[1;32m    586\u001B[0m )\n\u001B[0;32m--> 588\u001B[0m _, remote_results \u001B[38;5;241m=\u001B[39m \u001B[38;5;28;43mself\u001B[39;49m\u001B[38;5;241;43m.\u001B[39;49m\u001B[43m__fetch_result\u001B[49m\u001B[43m(\u001B[49m\n\u001B[1;32m    589\u001B[0m \u001B[43m    \u001B[49m\u001B[43mremote_actor_ids\u001B[49m\u001B[38;5;241;43m=\u001B[39;49m\u001B[43mremote_actor_ids\u001B[49m\u001B[43m,\u001B[49m\n\u001B[1;32m    590\u001B[0m \u001B[43m    \u001B[49m\u001B[43mremote_calls\u001B[49m\u001B[38;5;241;43m=\u001B[39;49m\u001B[43mremote_calls\u001B[49m\u001B[43m,\u001B[49m\n\u001B[1;32m    591\u001B[0m \u001B[43m    \u001B[49m\u001B[43mtimeout_seconds\u001B[49m\u001B[38;5;241;43m=\u001B[39;49m\u001B[43mtimeout_seconds\u001B[49m\u001B[43m,\u001B[49m\n\u001B[1;32m    592\u001B[0m \u001B[43m    \u001B[49m\u001B[43mreturn_obj_refs\u001B[49m\u001B[38;5;241;43m=\u001B[39;49m\u001B[43mreturn_obj_refs\u001B[49m\u001B[43m,\u001B[49m\n\u001B[1;32m    593\u001B[0m \u001B[43m    \u001B[49m\u001B[43mmark_healthy\u001B[49m\u001B[38;5;241;43m=\u001B[39;49m\u001B[43mmark_healthy\u001B[49m\u001B[43m,\u001B[49m\n\u001B[1;32m    594\u001B[0m \u001B[43m\u001B[49m\u001B[43m)\u001B[49m\n\u001B[1;32m    596\u001B[0m \u001B[38;5;28;01mreturn\u001B[39;00m remote_results\n",
      "File \u001B[0;32m~/.local/lib/python3.10/site-packages/ray/rllib/utils/actor_manager.py:457\u001B[0m, in \u001B[0;36mFaultTolerantActorManager.__fetch_result\u001B[0;34m(self, remote_actor_ids, remote_calls, timeout_seconds, return_obj_refs, mark_healthy)\u001B[0m\n\u001B[1;32m    453\u001B[0m \u001B[38;5;66;03m# Notice that we do not return the refs to any unfinished calls to the\u001B[39;00m\n\u001B[1;32m    454\u001B[0m \u001B[38;5;66;03m# user, since it is not safe to handle such remote actor calls outside the\u001B[39;00m\n\u001B[1;32m    455\u001B[0m \u001B[38;5;66;03m# context of this actor manager. These requests are simply dropped.\u001B[39;00m\n\u001B[1;32m    456\u001B[0m timeout \u001B[38;5;241m=\u001B[39m \u001B[38;5;28mfloat\u001B[39m(timeout_seconds) \u001B[38;5;28;01mif\u001B[39;00m timeout_seconds \u001B[38;5;129;01mis\u001B[39;00m \u001B[38;5;129;01mnot\u001B[39;00m \u001B[38;5;28;01mNone\u001B[39;00m \u001B[38;5;28;01melse\u001B[39;00m \u001B[38;5;28;01mNone\u001B[39;00m\n\u001B[0;32m--> 457\u001B[0m ready, _ \u001B[38;5;241m=\u001B[39m \u001B[43mray\u001B[49m\u001B[38;5;241;43m.\u001B[39;49m\u001B[43mwait\u001B[49m\u001B[43m(\u001B[49m\n\u001B[1;32m    458\u001B[0m \u001B[43m    \u001B[49m\u001B[43mremote_calls\u001B[49m\u001B[43m,\u001B[49m\n\u001B[1;32m    459\u001B[0m \u001B[43m    \u001B[49m\u001B[43mnum_returns\u001B[49m\u001B[38;5;241;43m=\u001B[39;49m\u001B[38;5;28;43mlen\u001B[39;49m\u001B[43m(\u001B[49m\u001B[43mremote_calls\u001B[49m\u001B[43m)\u001B[49m\u001B[43m,\u001B[49m\n\u001B[1;32m    460\u001B[0m \u001B[43m    \u001B[49m\u001B[43mtimeout\u001B[49m\u001B[38;5;241;43m=\u001B[39;49m\u001B[43mtimeout\u001B[49m\u001B[43m,\u001B[49m\n\u001B[1;32m    461\u001B[0m \u001B[43m    \u001B[49m\u001B[38;5;66;43;03m# Make sure remote results are fetched locally in parallel.\u001B[39;49;00m\n\u001B[1;32m    462\u001B[0m \u001B[43m    \u001B[49m\u001B[43mfetch_local\u001B[49m\u001B[38;5;241;43m=\u001B[39;49m\u001B[38;5;129;43;01mnot\u001B[39;49;00m\u001B[43m \u001B[49m\u001B[43mreturn_obj_refs\u001B[49m\u001B[43m,\u001B[49m\n\u001B[1;32m    463\u001B[0m \u001B[43m\u001B[49m\u001B[43m)\u001B[49m\n\u001B[1;32m    465\u001B[0m \u001B[38;5;66;03m# Remote data should already be fetched to local object store at this point.\u001B[39;00m\n\u001B[1;32m    466\u001B[0m remote_results \u001B[38;5;241m=\u001B[39m RemoteCallResults()\n",
      "File \u001B[0;32m~/.local/lib/python3.10/site-packages/ray/_private/client_mode_hook.py:105\u001B[0m, in \u001B[0;36mclient_mode_hook.<locals>.wrapper\u001B[0;34m(*args, **kwargs)\u001B[0m\n\u001B[1;32m    103\u001B[0m     \u001B[38;5;28;01mif\u001B[39;00m func\u001B[38;5;241m.\u001B[39m\u001B[38;5;18m__name__\u001B[39m \u001B[38;5;241m!=\u001B[39m \u001B[38;5;124m\"\u001B[39m\u001B[38;5;124minit\u001B[39m\u001B[38;5;124m\"\u001B[39m \u001B[38;5;129;01mor\u001B[39;00m is_client_mode_enabled_by_default:\n\u001B[1;32m    104\u001B[0m         \u001B[38;5;28;01mreturn\u001B[39;00m \u001B[38;5;28mgetattr\u001B[39m(ray, func\u001B[38;5;241m.\u001B[39m\u001B[38;5;18m__name__\u001B[39m)(\u001B[38;5;241m*\u001B[39margs, \u001B[38;5;241m*\u001B[39m\u001B[38;5;241m*\u001B[39mkwargs)\n\u001B[0;32m--> 105\u001B[0m \u001B[38;5;28;01mreturn\u001B[39;00m \u001B[43mfunc\u001B[49m\u001B[43m(\u001B[49m\u001B[38;5;241;43m*\u001B[39;49m\u001B[43margs\u001B[49m\u001B[43m,\u001B[49m\u001B[43m \u001B[49m\u001B[38;5;241;43m*\u001B[39;49m\u001B[38;5;241;43m*\u001B[39;49m\u001B[43mkwargs\u001B[49m\u001B[43m)\u001B[49m\n",
      "File \u001B[0;32m~/.local/lib/python3.10/site-packages/ray/_private/worker.py:2578\u001B[0m, in \u001B[0;36mwait\u001B[0;34m(object_refs, num_returns, timeout, fetch_local)\u001B[0m\n\u001B[1;32m   2576\u001B[0m timeout \u001B[38;5;241m=\u001B[39m timeout \u001B[38;5;28;01mif\u001B[39;00m timeout \u001B[38;5;129;01mis\u001B[39;00m \u001B[38;5;129;01mnot\u001B[39;00m \u001B[38;5;28;01mNone\u001B[39;00m \u001B[38;5;28;01melse\u001B[39;00m \u001B[38;5;241m10\u001B[39m\u001B[38;5;241m*\u001B[39m\u001B[38;5;241m*\u001B[39m\u001B[38;5;241m6\u001B[39m\n\u001B[1;32m   2577\u001B[0m timeout_milliseconds \u001B[38;5;241m=\u001B[39m \u001B[38;5;28mint\u001B[39m(timeout \u001B[38;5;241m*\u001B[39m \u001B[38;5;241m1000\u001B[39m)\n\u001B[0;32m-> 2578\u001B[0m ready_ids, remaining_ids \u001B[38;5;241m=\u001B[39m \u001B[43mworker\u001B[49m\u001B[38;5;241;43m.\u001B[39;49m\u001B[43mcore_worker\u001B[49m\u001B[38;5;241;43m.\u001B[39;49m\u001B[43mwait\u001B[49m\u001B[43m(\u001B[49m\n\u001B[1;32m   2579\u001B[0m \u001B[43m    \u001B[49m\u001B[43mobject_refs\u001B[49m\u001B[43m,\u001B[49m\n\u001B[1;32m   2580\u001B[0m \u001B[43m    \u001B[49m\u001B[43mnum_returns\u001B[49m\u001B[43m,\u001B[49m\n\u001B[1;32m   2581\u001B[0m \u001B[43m    \u001B[49m\u001B[43mtimeout_milliseconds\u001B[49m\u001B[43m,\u001B[49m\n\u001B[1;32m   2582\u001B[0m \u001B[43m    \u001B[49m\u001B[43mworker\u001B[49m\u001B[38;5;241;43m.\u001B[39;49m\u001B[43mcurrent_task_id\u001B[49m\u001B[43m,\u001B[49m\n\u001B[1;32m   2583\u001B[0m \u001B[43m    \u001B[49m\u001B[43mfetch_local\u001B[49m\u001B[43m,\u001B[49m\n\u001B[1;32m   2584\u001B[0m \u001B[43m\u001B[49m\u001B[43m)\u001B[49m\n\u001B[1;32m   2585\u001B[0m \u001B[38;5;28;01mreturn\u001B[39;00m ready_ids, remaining_ids\n",
      "File \u001B[0;32mpython/ray/_raylet.pyx:1833\u001B[0m, in \u001B[0;36mray._raylet.CoreWorker.wait\u001B[0;34m()\u001B[0m\n",
      "File \u001B[0;32mpython/ray/_raylet.pyx:199\u001B[0m, in \u001B[0;36mray._raylet.check_status\u001B[0;34m()\u001B[0m\n",
      "\u001B[0;31mKeyboardInterrupt\u001B[0m: "
     ]
    }
   ],
   "source": [
    "from ray.tune.registry import register_env\n",
    "from gymnasium.wrappers import EnvCompatibility\n",
    "from ray.rllib.algorithms.impala import ImpalaConfig\n",
    "from ray.rllib.algorithms.ppo import PPOConfig\n",
    "from gymnasium.wrappers import TimeLimit\n",
    "import ray\n",
    "\n",
    "ray.shutdown()\n",
    "\n",
    "architecture = Architecture()\n",
    "\n",
    "def env_creator(env_config):\n",
    "    return TimeLimit(EnvCompatibility(AcesArchitectureEnv(52)), max_episode_steps=10)\n",
    "register_env(\"AcesArchitectureEnv\", env_creator)\n",
    "\n",
    "config = (\n",
    "    ImpalaConfig()\n",
    "    .environment(\"AcesArchitectureEnv\",disable_env_checking=True)\n",
    "    .rollouts(num_rollout_workers=40,\n",
    "              num_envs_per_worker=5) # Max = 60\n",
    "    .resources(num_gpus=0,\n",
    "               num_cpus_per_worker=1)\n",
    "    .training(entropy_coeff=0.02)\n",
    ")\n",
    "# config['model']['vf_share_layers'] = False\n",
    "config[\"model\"][\"fcnet_hiddens\"] =[64,64]\n",
    "\n",
    "# algorithm = config.build()\n",
    "# algorithm.set_weights(algorithm_bc.get_weights())\n",
    "# checkpoint_path = algorithm.save()\n",
    "# print(checkpoint_path)\n",
    "algorithm_latency = config.build()\n",
    "# algorithm.restore(\"./TFM/algorithms/online_offline_1400/checkpoint_001477\")\n",
    "\n",
    "result =[]\n",
    "\n",
    "for j in tqdm(range(150)):\n",
    "    result_train = algorithm_latency.train()[\"episode_reward_mean\"]\n",
    "    result.append(result_train)\n",
    "    # if (j%10 == 0):\n",
    "    print(result_train)\n",
    "print(result)"
   ],
   "metadata": {
    "collapsed": false
   }
  },
  {
   "cell_type": "code",
   "execution_count": 445,
   "outputs": [
    {
     "data": {
      "text/plain": "[<matplotlib.lines.Line2D at 0x7f361ea50dc0>]"
     },
     "execution_count": 445,
     "metadata": {},
     "output_type": "execute_result"
    },
    {
     "data": {
      "text/plain": "<Figure size 640x480 with 1 Axes>",
      "image/png": "[encoded data removed]"
     },
     "metadata": {},
     "output_type": "display_data"
    }
   ],
   "source": [
    "plt.plot(result)"
   ],
   "metadata": {
    "collapsed": false
   }
  },
  {
   "cell_type": "code",
   "execution_count": 446,
   "outputs": [],
   "source": [
    "test_architecture = AcesArchitectureEnv(52)"
   ],
   "metadata": {
    "collapsed": false
   }
  },
  {
   "cell_type": "code",
   "execution_count": 541,
   "outputs": [
    {
     "data": {
      "text/plain": "({'weights': array([0.0125, 0.001 , 0.02  , 0.5   ]),\n  'allocation': array([5, 5, 6, 5, 2, 3, 2, 2, 0, 0, 0, 4, 7, 3, 0, 2, 2, 7, 4, 0, 4, 1,\n         0, 3, 7, 0, 7, 5, 6, 1, 7, 4, 0, 4, 3, 4, 7, 5, 2, 3, 0, 3, 0, 4,\n         0, 1, 5, 7, 4, 2, 4, 0], dtype=int32),\n  'data_type': array([3, 3, 3, 3, 3, 3, 1, 1, 1, 1, 1, 1, 1, 1, 2, 2, 2, 2, 2, 2, 2, 2,\n         0, 0, 0, 0, 0, 0, 0, 0, 1, 1, 1, 1, 1, 1, 1, 1, 2, 2, 2, 2, 2, 2,\n         2, 2, 3, 3, 3, 3, 3, 3]),\n  'free_space': array([ 0.98742,  0.99895,  0.469  ,  0.72275,  0.468  , -0.00675,\n          0.74375,  0.726  ]),\n  'last_calls_type': array([0, 1, 2, 0, 1, 2, 3, 0, 1, 2]),\n  'last_calls_device': array([6, 2, 4, 6, 2, 4, 0, 6, 2, 4])},\n 0.5574253260412285,\n True,\n {})"
     },
     "execution_count": 541,
     "metadata": {},
     "output_type": "execute_result"
    }
   ],
   "source": [
    "obs = test_architecture.reset()\n",
    "action = algorithm_latency.compute_single_action(obs)\n",
    "test_architecture.step(action)"
   ],
   "metadata": {
    "collapsed": false
   }
  },
  {
   "cell_type": "code",
   "execution_count": 542,
   "outputs": [
    {
     "name": "stdout",
     "output_type": "stream",
     "text": [
      "1052\n",
      "0.5574253260412285\n",
      "1140\n",
      "0.5204038704249053\n",
      "1402\n",
      "0.41018090029448884\n"
     ]
    }
   ],
   "source": [
    "print(test_architecture.architecture.compute_total_latency())\n",
    "print(1-test_architecture.architecture.compute_normalized_latency())\n",
    "# print(np.std(test_architecture.free_space))\n",
    "# print(\"Reward: {}\".format(1-np.std(test_architecture.free_space)))\n",
    "test_architecture.architecture.greedy_server()\n",
    "print(test_architecture.architecture.compute_total_latency())\n",
    "print(1-test_architecture.architecture.compute_normalized_latency())\n",
    "test_architecture.architecture.round_robin()\n",
    "print(test_architecture.architecture.compute_total_latency())\n",
    "print(1-test_architecture.architecture.compute_normalized_latency())\n",
    "# print(1-np.std(list(test_architecture.architecture.free_space().values())))"
   ],
   "metadata": {
    "collapsed": false
   }
  },
  {
   "cell_type": "code",
   "execution_count": null,
   "outputs": [],
   "source": [
    "class AcesWeightedArchitectureEnv(Env):\n",
    "    def __init__(self, maximum_data):\n",
    "        self.architecture = Architecture()\n",
    "        self.executions = [[0,1,2,10],\n",
    "                           [0,1,2,11],\n",
    "                           [0,1,2,12],\n",
    "                           [0,1,2,3],\n",
    "                           [0,1,2,10],\n",
    "                           [0,1,2,11],\n",
    "                           [0,1,2,12],\n",
    "                           [0,1,2,3],\n",
    "                           [0,1,2,13]]\n",
    "        self.execution_index = 0\n",
    "        self.num_devices = len(self.architecture.devices.keys())\n",
    "        self.maximum_data = maximum_data\n",
    "\n",
    "        self.weights = self.architecture.weights\n",
    "        self.allocation = self.architecture.data_allocation\n",
    "        self.data_types = self.architecture.data_types\n",
    "        self.free_space = list(self.architecture.free_space().values())\n",
    "        self.last_calls_type = self.architecture.action_type\n",
    "        self.last_calls_device = self.architecture.action_device\n",
    "\n",
    "        self.observation_space = Dict({\n",
    "            \"weights\": Box(low=0, high=1, shape=(4,), dtype=np.float32),\n",
    "            \"allocation\": Box(low=-1, high=self.num_devices-1, shape=(maximum_data,), dtype=np.int32),\n",
    "            \"data_type\": Box(low=-1, high=3, shape=(maximum_data,), dtype=np.int32),\n",
    "            \"free_space\": Box(low=-10, high=1, shape=(self.num_devices,), dtype=np.float32),\n",
    "            \"last_calls_type\": Box(low=-1, high=13, shape=(10,), dtype=np.int32),\n",
    "            \"last_calls_device\": Box(low=-1, high=self.num_devices-1, shape=(10,), dtype=np.int32)\n",
    "        })\n",
    "\n",
    "        self.action_space = Box(low=0, high=self.num_devices-1, shape=(maximum_data,), dtype=np.int32)\n",
    "\n",
    "        self.allocation_length = len(self.allocation)\n",
    "\n",
    "        self.reward = 0\n",
    "\n",
    "    def get_obs(self):\n",
    "\n",
    "        return {\n",
    "            \"weights\": np.array(self.weights),\n",
    "            \"allocation\": np.array(self.allocation),\n",
    "            \"data_type\": np.array(self.data_types),\n",
    "            \"free_space\": np.array(self.free_space),\n",
    "            \"last_calls_type\": np.array(self.last_calls_type),\n",
    "            \"last_calls_device\": np.array(self.last_calls_device)\n",
    "        }\n",
    "\n",
    "    def step(self,action):\n",
    "        self.architecture.data_allocation = list(action[:self.allocation_length])\n",
    "        self.allocation[:self.allocation_length] = list(action[:self.allocation_length])\n",
    "        self.architecture.construct_dictionaries()\n",
    "        normalized_latency = self.architecture.compute_normalized_latency()\n",
    "        self.free_space = list(self.architecture.free_space().values())\n",
    "\n",
    "        flag = False\n",
    "        for space in self.free_space:\n",
    "            if space <= self.architecture.min_free_space:\n",
    "                flag = True\n",
    "                break\n",
    "\n",
    "        if flag:\n",
    "            self.reward = -1\n",
    "        else:\n",
    "            w1 = 1\n",
    "            w2 = 0\n",
    "            std = np.std(self.free_space)\n",
    "            self.reward = w1*(1 - normalized_latency) + w2*(1-std)\n",
    "        # self.reward = (1 - normalized_latency)\n",
    "\n",
    "        done = True\n",
    "        info = {}\n",
    "\n",
    "        return self.get_obs(), self.reward, done, info\n",
    "\n",
    "    def reset(self):\n",
    "        if self.reward < 0:\n",
    "            return self.get_obs()\n",
    "        else:\n",
    "            self.architecture.heart_beat()\n",
    "            for execution in self.executions[self.execution_index]:\n",
    "                self.architecture.generate(execution)\n",
    "            self.allocation = self.architecture.data_allocation.copy()\n",
    "            self.data_types = self.architecture.data_types.copy()\n",
    "            self.allocation_length = len(self.allocation)\n",
    "            for minus_one in range(self.maximum_data - len(self.allocation)):\n",
    "                self.allocation.append(-1)\n",
    "                self.data_types.append(-1)\n",
    "            self.free_space = list(self.architecture.free_space().values())\n",
    "            self.last_calls_type = self.architecture.action_type.copy()\n",
    "            self.last_calls_device = self.architecture.action_device.copy()\n",
    "            for minus_one in range(10 - len(self.last_calls_type)):\n",
    "                self.last_calls_type.append(-1)\n",
    "                self.last_calls_device.append(-1)\n",
    "\n",
    "            self.execution_index = self.execution_index +1 if self.execution_index <= len(self.executions) - 2 else 0\n",
    "            return self.get_obs()\n",
    "\n",
    "    def close(self):\n",
    "        print('CLOSED')"
   ],
   "metadata": {
    "collapsed": false
   }
  },
  {
   "cell_type": "code",
   "execution_count": null,
   "outputs": [
    {
     "name": "stderr",
     "output_type": "stream",
     "text": [
      "2023-06-09 18:59:59,937\tINFO worker.py:1553 -- Started a local Ray instance.\n",
      "2023-06-09 19:00:18,398\tINFO trainable.py:172 -- Trainable.setup took 21.243 seconds. If your trainable is slow to initialize, consider setting reuse_actors=True to reduce actor creation overheads.\n",
      "2023-06-09 19:00:18,400\tWARNING util.py:67 -- Install gputil for GPU system monitoring.\n",
      "  2%|██▎                                                                                                               | 1/50 [00:14<11:27, 14.02s/it]"
     ]
    },
    {
     "name": "stdout",
     "output_type": "stream",
     "text": [
      "0.11974051244906482\n"
     ]
    },
    {
     "name": "stderr",
     "output_type": "stream",
     "text": [
      "  4%|████▌                                                                                                             | 2/50 [00:30<12:11, 15.23s/it]"
     ]
    },
    {
     "name": "stdout",
     "output_type": "stream",
     "text": [
      "0.3632478801347752\n"
     ]
    },
    {
     "name": "stderr",
     "output_type": "stream",
     "text": [
      "  6%|██████▊                                                                                                           | 3/50 [00:45<12:06, 15.47s/it]"
     ]
    },
    {
     "name": "stdout",
     "output_type": "stream",
     "text": [
      "0.3906351610263017\n"
     ]
    },
    {
     "name": "stderr",
     "output_type": "stream",
     "text": [
      "  8%|█████████                                                                                                         | 4/50 [01:01<12:02, 15.70s/it]"
     ]
    },
    {
     "name": "stdout",
     "output_type": "stream",
     "text": [
      "0.4063153777531562\n"
     ]
    },
    {
     "name": "stderr",
     "output_type": "stream",
     "text": [
      " 10%|███████████▍                                                                                                      | 5/50 [01:16<11:24, 15.22s/it]"
     ]
    },
    {
     "name": "stdout",
     "output_type": "stream",
     "text": [
      "0.41376144416444405\n"
     ]
    },
    {
     "name": "stderr",
     "output_type": "stream",
     "text": [
      " 12%|█████████████▋                                                                                                    | 6/50 [01:31<11:15, 15.36s/it]"
     ]
    },
    {
     "name": "stdout",
     "output_type": "stream",
     "text": [
      "0.40776792455831234\n"
     ]
    },
    {
     "name": "stderr",
     "output_type": "stream",
     "text": [
      " 14%|███████████████▉                                                                                                  | 7/50 [01:47<11:01, 15.38s/it]"
     ]
    },
    {
     "name": "stdout",
     "output_type": "stream",
     "text": [
      "0.37717692465012953\n"
     ]
    },
    {
     "name": "stderr",
     "output_type": "stream",
     "text": [
      " 16%|██████████████████▏                                                                                               | 8/50 [02:02<10:48, 15.45s/it]"
     ]
    },
    {
     "name": "stdout",
     "output_type": "stream",
     "text": [
      "0.3941501793405564\n"
     ]
    },
    {
     "name": "stderr",
     "output_type": "stream",
     "text": [
      " 18%|████████████████████▌                                                                                             | 9/50 [02:17<10:19, 15.10s/it]"
     ]
    },
    {
     "name": "stdout",
     "output_type": "stream",
     "text": [
      "0.4225277684823769\n"
     ]
    },
    {
     "name": "stderr",
     "output_type": "stream",
     "text": [
      " 20%|██████████████████████▌                                                                                          | 10/50 [02:32<10:06, 15.17s/it]"
     ]
    },
    {
     "name": "stdout",
     "output_type": "stream",
     "text": [
      "0.4035151302774821\n"
     ]
    },
    {
     "name": "stderr",
     "output_type": "stream",
     "text": [
      " 22%|████████████████████████▊                                                                                        | 11/50 [02:48<10:02, 15.44s/it]"
     ]
    },
    {
     "name": "stdout",
     "output_type": "stream",
     "text": [
      "0.42188106225876865\n"
     ]
    },
    {
     "name": "stderr",
     "output_type": "stream",
     "text": [
      " 24%|███████████████████████████                                                                                      | 12/50 [03:04<09:49, 15.52s/it]"
     ]
    },
    {
     "name": "stdout",
     "output_type": "stream",
     "text": [
      "0.40820290903379075\n"
     ]
    },
    {
     "name": "stderr",
     "output_type": "stream",
     "text": [
      " 26%|█████████████████████████████▍                                                                                   | 13/50 [03:18<09:20, 15.16s/it]"
     ]
    },
    {
     "name": "stdout",
     "output_type": "stream",
     "text": [
      "0.4219647703460298\n"
     ]
    },
    {
     "name": "stderr",
     "output_type": "stream",
     "text": [
      " 28%|███████████████████████████████▋                                                                                 | 14/50 [03:34<09:10, 15.30s/it]"
     ]
    },
    {
     "name": "stdout",
     "output_type": "stream",
     "text": [
      "0.4219257704755235\n"
     ]
    },
    {
     "name": "stderr",
     "output_type": "stream",
     "text": [
      " 30%|█████████████████████████████████▉                                                                               | 15/50 [03:49<08:56, 15.34s/it]"
     ]
    },
    {
     "name": "stdout",
     "output_type": "stream",
     "text": [
      "0.409462502993706\n"
     ]
    },
    {
     "name": "stderr",
     "output_type": "stream",
     "text": [
      " 32%|████████████████████████████████████▏                                                                            | 16/50 [04:05<08:46, 15.49s/it]"
     ]
    },
    {
     "name": "stdout",
     "output_type": "stream",
     "text": [
      "0.4260740520602995\n"
     ]
    },
    {
     "name": "stderr",
     "output_type": "stream",
     "text": [
      " 34%|██████████████████████████████████████▍                                                                          | 17/50 [04:21<08:40, 15.77s/it]"
     ]
    },
    {
     "name": "stdout",
     "output_type": "stream",
     "text": [
      "0.42561628944015484\n"
     ]
    },
    {
     "name": "stderr",
     "output_type": "stream",
     "text": [
      " 36%|████████████████████████████████████████▋                                                                        | 18/50 [04:36<08:11, 15.35s/it]"
     ]
    },
    {
     "name": "stdout",
     "output_type": "stream",
     "text": [
      "0.4283831995618442\n"
     ]
    },
    {
     "name": "stderr",
     "output_type": "stream",
     "text": [
      " 38%|██████████████████████████████████████████▉                                                                      | 19/50 [04:52<07:59, 15.46s/it]"
     ]
    },
    {
     "name": "stdout",
     "output_type": "stream",
     "text": [
      "0.4228953544239139\n"
     ]
    },
    {
     "name": "stderr",
     "output_type": "stream",
     "text": [
      " 40%|█████████████████████████████████████████████▏                                                                   | 20/50 [05:07<07:45, 15.52s/it]"
     ]
    },
    {
     "name": "stdout",
     "output_type": "stream",
     "text": [
      "0.43047186091552253\n"
     ]
    },
    {
     "name": "stderr",
     "output_type": "stream",
     "text": [
      " 42%|███████████████████████████████████████████████▍                                                                 | 21/50 [05:22<07:22, 15.26s/it]"
     ]
    },
    {
     "name": "stdout",
     "output_type": "stream",
     "text": [
      "0.39783771245508964\n"
     ]
    },
    {
     "name": "stderr",
     "output_type": "stream",
     "text": [
      " 44%|█████████████████████████████████████████████████▋                                                               | 22/50 [05:38<07:11, 15.42s/it]"
     ]
    },
    {
     "name": "stdout",
     "output_type": "stream",
     "text": [
      "0.4291992431530129\n"
     ]
    },
    {
     "name": "stderr",
     "output_type": "stream",
     "text": [
      " 46%|███████████████████████████████████████████████████▉                                                             | 23/50 [05:53<06:58, 15.50s/it]"
     ]
    },
    {
     "name": "stdout",
     "output_type": "stream",
     "text": [
      "0.4326209925598977\n"
     ]
    },
    {
     "name": "stderr",
     "output_type": "stream",
     "text": [
      " 48%|██████████████████████████████████████████████████████▏                                                          | 24/50 [06:09<06:45, 15.60s/it]"
     ]
    },
    {
     "name": "stdout",
     "output_type": "stream",
     "text": [
      "0.4015317300860514\n"
     ]
    },
    {
     "name": "stderr",
     "output_type": "stream",
     "text": [
      " 50%|████████████████████████████████████████████████████████▌                                                        | 25/50 [06:25<06:32, 15.70s/it]"
     ]
    },
    {
     "name": "stdout",
     "output_type": "stream",
     "text": [
      "0.4317420646315559\n"
     ]
    },
    {
     "name": "stderr",
     "output_type": "stream",
     "text": [
      " 52%|██████████████████████████████████████████████████████████▊                                                      | 26/50 [06:40<06:07, 15.33s/it]"
     ]
    },
    {
     "name": "stdout",
     "output_type": "stream",
     "text": [
      "0.4124055262260388\n"
     ]
    },
    {
     "name": "stderr",
     "output_type": "stream",
     "text": [
      " 54%|█████████████████████████████████████████████████████████████                                                    | 27/50 [06:55<05:56, 15.48s/it]"
     ]
    },
    {
     "name": "stdout",
     "output_type": "stream",
     "text": [
      "0.42855459822758574\n"
     ]
    },
    {
     "name": "stderr",
     "output_type": "stream",
     "text": [
      " 56%|███████████████████████████████████████████████████████████████▎                                                 | 28/50 [07:11<05:44, 15.64s/it]"
     ]
    },
    {
     "name": "stdout",
     "output_type": "stream",
     "text": [
      "0.42692546066473874\n"
     ]
    }
   ],
   "source": [
    "from ray.tune.registry import register_env\n",
    "from gymnasium.wrappers import EnvCompatibility\n",
    "from ray.rllib.algorithms.impala import ImpalaConfig\n",
    "from gymnasium.wrappers import TimeLimit\n",
    "import ray\n",
    "\n",
    "ray.shutdown()\n",
    "\n",
    "def env_creator(env_config):\n",
    "    return TimeLimit(EnvCompatibility(AcesWeightedArchitectureEnv(52)), max_episode_steps=10)\n",
    "register_env(\"AcesWeightedArchitectureEnv\", env_creator)\n",
    "\n",
    "config = (\n",
    "    ImpalaConfig()\n",
    "    .environment(\"AcesWeightedArchitectureEnv\",disable_env_checking=True)\n",
    "    .rollouts(num_rollout_workers=40,\n",
    "              num_envs_per_worker=5) # Max = 60\n",
    "    .resources(num_gpus=0,\n",
    "               num_cpus_per_worker=1)\n",
    "    .training(entropy_coeff=0.02)\n",
    "    .offline_data(output=\"TFM/datasets/imapala50\")\n",
    ")\n",
    "# config['model']['vf_share_layers'] = False\n",
    "config[\"model\"][\"fcnet_hiddens\"] =[64,64]\n",
    "\n",
    "# algorithm = config.build()\n",
    "# algorithm.set_weights(algorithm_bc.get_weights())\n",
    "# checkpoint_path = algorithm.save()\n",
    "# print(checkpoint_path)\n",
    "algorithm_weighted = config.build()\n",
    "# algorithm.restore(\"./TFM/algorithms/online_offline_1400/checkpoint_001477\")\n",
    "\n",
    "result_weighted =[]\n",
    "\n",
    "for j in tqdm(range(50)):\n",
    "    result_train = algorithm_weighted.train()[\"episode_reward_mean\"]\n",
    "    result_weighted.append(result_train)\n",
    "    # if (j%50== 0):\n",
    "    print(result_train)\n",
    "print(result_weighted)"
   ],
   "metadata": {
    "collapsed": false,
    "pycharm": {
     "is_executing": true
    }
   }
  },
  {
   "cell_type": "code",
   "execution_count": 727,
   "outputs": [
    {
     "name": "stderr",
     "output_type": "stream",
     "text": [
      "2023-06-09 19:15:33,584\tWARNING deprecation.py:50 -- DeprecationWarning: `MARWIL used to have off_policy_estimation_methods is and wis by default. This haschanged to off_policy_estimation_methods: \\{\\}.If you want to use an off-policy estimator, specify it in.evaluation(off_policy_estimation_methods=...)` has been deprecated. This will raise an error in the future!\n",
      "2023-06-09 19:15:36,465\tINFO worker.py:1553 -- Started a local Ray instance.\n",
      "\u001B[2m\u001B[36m(RolloutWorker pid=2027016)\u001B[0m 2023-06-09 19:15:43,583\tWARNING json_reader.py:261 -- Treating input directory as glob patterns: ['/home/rcalzada/TFM/datasets/imapala50/*.json', '/home/rcalzada/TFM/datasets/imapala50/*.zip']\n",
      "2023-06-09 19:15:45,988\tWARNING json_reader.py:261 -- Treating input directory as glob patterns: ['/home/rcalzada/TFM/datasets/imapala50/*.json', '/home/rcalzada/TFM/datasets/imapala50/*.zip']\n",
      "2023-06-09 19:15:51,075\tINFO trainable.py:172 -- Trainable.setup took 17.476 seconds. If your trainable is slow to initialize, consider setting reuse_actors=True to reduce actor creation overheads.\n",
      "2023-06-09 19:15:51,077\tWARNING util.py:67 -- Install gputil for GPU system monitoring.\n",
      "  0%|                                                                                                                       | 0/10000 [00:00<?, ?it/s]2023-06-09 19:15:52,048\tWARNING deprecation.py:50 -- DeprecationWarning: `remote_workers()` has been deprecated. Accessing the list of remote workers directly through remote_workers() is strongly discouraged. Please try to use one of the foreach accessors that is fault tolerant.  This will raise an error in the future!\n",
      "  2%|██                                                                                                         | 191/10000 [02:13<1:54:41,  1.43it/s]Exception in thread Thread-7450:\n",
      "Traceback (most recent call last):\n",
      "  File \"/usr/lib/python3.10/threading.py\", line 1016, in _bootstrap_inner\n",
      "    self.run()\n",
      "  File \"/home/rcalzada/.local/lib/python3.10/site-packages/ray/rllib/execution/learner_thread.py\", line 74, in run\n",
      "    self.step()\n",
      "  File \"/home/rcalzada/.local/lib/python3.10/site-packages/ray/rllib/execution/multi_gpu_learner_thread.py\", line 143, in step\n",
      "    buffer_idx, released = self.ready_tower_stacks_buffer.get()\n",
      "  File \"/home/rcalzada/.local/lib/python3.10/site-packages/ray/rllib/execution/minibatch_buffer.py\", line 48, in get\n",
      "    self.buffers[self.idx] = self.inqueue.get(timeout=self.timeout)\n",
      "  File \"/usr/lib/python3.10/queue.py\", line 179, in get\n",
      "    raise Empty\n",
      "_queue.Empty\n",
      "100%|█████████████████████████████████████████████████████████████████████████████████████████████████████████| 10000/10000 [1:54:53<00:00,  1.45it/s]\n"
     ]
    }
   ],
   "source": [
    "from ray.rllib.algorithms.bc import BCConfig\n",
    "import ray\n",
    "from ray.tune.registry import register_env\n",
    "from gymnasium.wrappers import EnvCompatibility\n",
    "from gymnasium.wrappers import TimeLimit\n",
    "from ray.rllib.utils.test_utils import check_train_results\n",
    "\n",
    "ray.shutdown()\n",
    "\n",
    "def env_creator(env_config):\n",
    "    return TimeLimit(EnvCompatibility(AcesWeightedArchitectureEnv(52)), max_episode_steps=10)\n",
    "register_env(\"AcesWeightedArchitectureEnv\", env_creator)\n",
    "path = \"TFM/datasets/imapala50\"\n",
    "\n",
    "config_bc = (\n",
    "    BCConfig()\n",
    "    .environment(env=\"AcesWeightedArchitectureEnv\",disable_env_checking=True)\n",
    "    .offline_data(input_=path)\n",
    "    .training(\n",
    "        train_batch_size=2,\n",
    "        # twin_q=False,\n",
    "    )\n",
    "    .evaluation(\n",
    "        evaluation_interval=5,\n",
    "        evaluation_num_workers=1,\n",
    "        evaluation_duration=5,\n",
    "        evaluation_parallel_to_training=True,\n",
    "        evaluation_config=BCConfig.overrides(input_=\"sampler\"),\n",
    "    )\n",
    "    .rollouts(num_rollout_workers=1)\n",
    ")\n",
    "config_bc['model']['vf_share_layers'] = False\n",
    "config_bc[\"model\"][\"fcnet_hiddens\"] = [64,64]\n",
    "\n",
    "algorithm_bc = config_bc.build()\n",
    "for i in tqdm(range(10000)):\n",
    "    result = algorithm_bc.train()\n",
    "    check_train_results(result)\n",
    "    # print(result)\n",
    "    eval_results = result.get(\"evaluation\")"
   ],
   "metadata": {
    "collapsed": false
   }
  },
  {
   "cell_type": "code",
   "execution_count": 731,
   "outputs": [
    {
     "name": "stderr",
     "output_type": "stream",
     "text": [
      "2023-06-09 21:37:07,321\tINFO worker.py:1553 -- Started a local Ray instance.\n",
      "2023-06-09 21:37:24,014\tINFO trainable.py:172 -- Trainable.setup took 19.743 seconds. If your trainable is slow to initialize, consider setting reuse_actors=True to reduce actor creation overheads.\n",
      "2023-06-09 21:37:24,016\tWARNING util.py:67 -- Install gputil for GPU system monitoring.\n"
     ]
    },
    {
     "name": "stdout",
     "output_type": "stream",
     "text": [
      "/home/rcalzada/ray_results/Impala_AcesWeightedArchitectureEnv_2023-06-09_21-37-04o18rrb88/checkpoint_000000\n"
     ]
    },
    {
     "name": "stderr",
     "output_type": "stream",
     "text": [
      "2023-06-09 21:37:39,295\tINFO trainable.py:172 -- Trainable.setup took 15.104 seconds. If your trainable is slow to initialize, consider setting reuse_actors=True to reduce actor creation overheads.\n",
      "2023-06-09 21:37:39,297\tWARNING util.py:67 -- Install gputil for GPU system monitoring.\n",
      "  2%|██▎                                                                                                               | 1/50 [00:13<11:20, 13.88s/it]"
     ]
    },
    {
     "name": "stdout",
     "output_type": "stream",
     "text": [
      "0.10383328668480901\n"
     ]
    },
    {
     "name": "stderr",
     "output_type": "stream",
     "text": [
      "  4%|████▌                                                                                                             | 2/50 [00:29<12:01, 15.04s/it]"
     ]
    },
    {
     "name": "stdout",
     "output_type": "stream",
     "text": [
      "0.3553047463372978\n"
     ]
    },
    {
     "name": "stderr",
     "output_type": "stream",
     "text": [
      "  6%|██████▊                                                                                                           | 3/50 [00:43<11:18, 14.44s/it]"
     ]
    },
    {
     "name": "stdout",
     "output_type": "stream",
     "text": [
      "0.37815303766803193\n"
     ]
    },
    {
     "name": "stderr",
     "output_type": "stream",
     "text": [
      "  8%|█████████                                                                                                         | 4/50 [00:58<11:18, 14.75s/it]"
     ]
    },
    {
     "name": "stdout",
     "output_type": "stream",
     "text": [
      "0.39921978550671267\n"
     ]
    },
    {
     "name": "stderr",
     "output_type": "stream",
     "text": [
      " 10%|███████████▍                                                                                                      | 5/50 [01:12<10:49, 14.43s/it]"
     ]
    },
    {
     "name": "stdout",
     "output_type": "stream",
     "text": [
      "0.40879960052877873\n"
     ]
    },
    {
     "name": "stderr",
     "output_type": "stream",
     "text": [
      " 12%|█████████████▋                                                                                                    | 6/50 [01:27<10:48, 14.73s/it]"
     ]
    },
    {
     "name": "stdout",
     "output_type": "stream",
     "text": [
      "0.39988047072420774\n"
     ]
    },
    {
     "name": "stderr",
     "output_type": "stream",
     "text": [
      " 14%|███████████████▉                                                                                                  | 7/50 [01:43<10:49, 15.09s/it]"
     ]
    },
    {
     "name": "stdout",
     "output_type": "stream",
     "text": [
      "0.41900861817772916\n"
     ]
    },
    {
     "name": "stderr",
     "output_type": "stream",
     "text": [
      " 16%|██████████████████▏                                                                                               | 8/50 [01:57<10:18, 14.73s/it]"
     ]
    },
    {
     "name": "stdout",
     "output_type": "stream",
     "text": [
      "0.42150237267926555\n"
     ]
    },
    {
     "name": "stderr",
     "output_type": "stream",
     "text": [
      " 18%|████████████████████▌                                                                                             | 9/50 [02:13<10:12, 14.94s/it]"
     ]
    },
    {
     "name": "stdout",
     "output_type": "stream",
     "text": [
      "0.4265740305078653\n"
     ]
    },
    {
     "name": "stderr",
     "output_type": "stream",
     "text": [
      " 20%|██████████████████████▌                                                                                          | 10/50 [02:26<09:44, 14.62s/it]"
     ]
    },
    {
     "name": "stdout",
     "output_type": "stream",
     "text": [
      "0.40930518804047233\n"
     ]
    },
    {
     "name": "stderr",
     "output_type": "stream",
     "text": [
      " 22%|████████████████████████▊                                                                                        | 11/50 [02:42<09:38, 14.82s/it]"
     ]
    },
    {
     "name": "stdout",
     "output_type": "stream",
     "text": [
      "0.42987593089888165\n"
     ]
    },
    {
     "name": "stderr",
     "output_type": "stream",
     "text": [
      " 24%|███████████████████████████                                                                                      | 12/50 [02:56<09:15, 14.63s/it]"
     ]
    },
    {
     "name": "stdout",
     "output_type": "stream",
     "text": [
      "0.2926772416370629\n"
     ]
    },
    {
     "name": "stderr",
     "output_type": "stream",
     "text": [
      " 26%|█████████████████████████████▍                                                                                   | 13/50 [03:11<09:06, 14.78s/it]"
     ]
    },
    {
     "name": "stdout",
     "output_type": "stream",
     "text": [
      "0.4185046954938625\n"
     ]
    },
    {
     "name": "stderr",
     "output_type": "stream",
     "text": [
      " 28%|███████████████████████████████▋                                                                                 | 14/50 [03:26<08:55, 14.86s/it]"
     ]
    },
    {
     "name": "stdout",
     "output_type": "stream",
     "text": [
      "0.3750500619238434\n"
     ]
    },
    {
     "name": "stderr",
     "output_type": "stream",
     "text": [
      " 30%|█████████████████████████████████▉                                                                               | 15/50 [03:40<08:29, 14.57s/it]"
     ]
    },
    {
     "name": "stdout",
     "output_type": "stream",
     "text": [
      "0.2836715524396175\n"
     ]
    },
    {
     "name": "stderr",
     "output_type": "stream",
     "text": [
      " 32%|████████████████████████████████████▏                                                                            | 16/50 [03:55<08:24, 14.83s/it]"
     ]
    },
    {
     "name": "stdout",
     "output_type": "stream",
     "text": [
      "0.4103520625069426\n"
     ]
    },
    {
     "name": "stderr",
     "output_type": "stream",
     "text": [
      " 34%|██████████████████████████████████████▍                                                                          | 17/50 [04:09<07:58, 14.51s/it]"
     ]
    },
    {
     "name": "stdout",
     "output_type": "stream",
     "text": [
      "0.4272955249070326\n"
     ]
    },
    {
     "name": "stderr",
     "output_type": "stream",
     "text": [
      " 36%|████████████████████████████████████████▋                                                                        | 18/50 [04:25<07:52, 14.78s/it]"
     ]
    },
    {
     "name": "stdout",
     "output_type": "stream",
     "text": [
      "0.39617150554388175\n"
     ]
    },
    {
     "name": "stderr",
     "output_type": "stream",
     "text": [
      " 38%|██████████████████████████████████████████▉                                                                      | 19/50 [04:40<07:44, 15.00s/it]"
     ]
    },
    {
     "name": "stdout",
     "output_type": "stream",
     "text": [
      "0.361190437816217\n"
     ]
    },
    {
     "name": "stderr",
     "output_type": "stream",
     "text": [
      "Exception in thread Thread-9444:\n",
      "Traceback (most recent call last):\n",
      "  File \"/usr/lib/python3.10/threading.py\", line 1016, in _bootstrap_inner\n",
      "    self.run()\n",
      "  File \"/home/rcalzada/.local/lib/python3.10/site-packages/ray/rllib/execution/learner_thread.py\", line 74, in run\n",
      "    self.step()\n",
      "  File \"/home/rcalzada/.local/lib/python3.10/site-packages/ray/rllib/execution/multi_gpu_learner_thread.py\", line 143, in step\n",
      "    buffer_idx, released = self.ready_tower_stacks_buffer.get()\n",
      "  File \"/home/rcalzada/.local/lib/python3.10/site-packages/ray/rllib/execution/minibatch_buffer.py\", line 48, in get\n",
      "    self.buffers[self.idx] = self.inqueue.get(timeout=self.timeout)\n",
      "  File \"/usr/lib/python3.10/queue.py\", line 179, in get\n",
      "    raise Empty\n",
      "_queue.Empty\n",
      " 40%|█████████████████████████████████████████████▏                                                                   | 20/50 [04:54<07:19, 14.66s/it]"
     ]
    },
    {
     "name": "stdout",
     "output_type": "stream",
     "text": [
      "0.43022479250615214\n"
     ]
    },
    {
     "name": "stderr",
     "output_type": "stream",
     "text": [
      " 42%|███████████████████████████████████████████████▍                                                                 | 21/50 [05:10<07:13, 14.95s/it]"
     ]
    },
    {
     "name": "stdout",
     "output_type": "stream",
     "text": [
      "0.42435999933497637\n"
     ]
    },
    {
     "name": "stderr",
     "output_type": "stream",
     "text": [
      " 44%|█████████████████████████████████████████████████▋                                                               | 22/50 [05:24<06:50, 14.65s/it]"
     ]
    },
    {
     "name": "stdout",
     "output_type": "stream",
     "text": [
      "0.4201972256497125\n"
     ]
    },
    {
     "name": "stderr",
     "output_type": "stream",
     "text": [
      " 46%|███████████████████████████████████████████████████▉                                                             | 23/50 [05:39<06:40, 14.83s/it]"
     ]
    },
    {
     "name": "stdout",
     "output_type": "stream",
     "text": [
      "0.44056816618202554\n"
     ]
    },
    {
     "name": "stderr",
     "output_type": "stream",
     "text": [
      " 48%|██████████████████████████████████████████████████████▏                                                          | 24/50 [05:53<06:19, 14.58s/it]"
     ]
    },
    {
     "name": "stdout",
     "output_type": "stream",
     "text": [
      "0.4143508816018613\n"
     ]
    },
    {
     "name": "stderr",
     "output_type": "stream",
     "text": [
      " 50%|████████████████████████████████████████████████████████▌                                                        | 25/50 [06:08<06:11, 14.86s/it]"
     ]
    },
    {
     "name": "stdout",
     "output_type": "stream",
     "text": [
      "0.42790066090962103\n"
     ]
    },
    {
     "name": "stderr",
     "output_type": "stream",
     "text": [
      " 52%|██████████████████████████████████████████████████████████▊                                                      | 26/50 [06:24<05:59, 14.98s/it]"
     ]
    },
    {
     "name": "stdout",
     "output_type": "stream",
     "text": [
      "0.3122450168141709\n"
     ]
    },
    {
     "name": "stderr",
     "output_type": "stream",
     "text": [
      " 54%|█████████████████████████████████████████████████████████████                                                    | 27/50 [06:37<05:36, 14.65s/it]"
     ]
    },
    {
     "name": "stdout",
     "output_type": "stream",
     "text": [
      "0.4211519538800378\n"
     ]
    },
    {
     "name": "stderr",
     "output_type": "stream",
     "text": [
      " 56%|███████████████████████████████████████████████████████████████▎                                                 | 28/50 [06:53<05:28, 14.92s/it]"
     ]
    },
    {
     "name": "stdout",
     "output_type": "stream",
     "text": [
      "0.43169716468104624\n"
     ]
    },
    {
     "name": "stderr",
     "output_type": "stream",
     "text": [
      " 58%|█████████████████████████████████████████████████████████████████▌                                               | 29/50 [07:07<05:07, 14.63s/it]"
     ]
    },
    {
     "name": "stdout",
     "output_type": "stream",
     "text": [
      "0.38555542743583127\n"
     ]
    },
    {
     "name": "stderr",
     "output_type": "stream",
     "text": [
      " 60%|███████████████████████████████████████████████████████████████████▊                                             | 30/50 [07:22<04:58, 14.90s/it]"
     ]
    },
    {
     "name": "stdout",
     "output_type": "stream",
     "text": [
      "0.3965928658087173\n"
     ]
    },
    {
     "name": "stderr",
     "output_type": "stream",
     "text": [
      " 62%|██████████████████████████████████████████████████████████████████████                                           | 31/50 [07:38<04:45, 15.03s/it]"
     ]
    },
    {
     "name": "stdout",
     "output_type": "stream",
     "text": [
      "0.41269056234504714\n"
     ]
    },
    {
     "name": "stderr",
     "output_type": "stream",
     "text": [
      " 64%|████████████████████████████████████████████████████████████████████████▎                                        | 32/50 [07:52<04:24, 14.71s/it]"
     ]
    },
    {
     "name": "stdout",
     "output_type": "stream",
     "text": [
      "0.4389926188960996\n"
     ]
    },
    {
     "name": "stderr",
     "output_type": "stream",
     "text": [
      " 66%|██████████████████████████████████████████████████████████████████████████▌                                      | 33/50 [08:07<04:12, 14.88s/it]"
     ]
    },
    {
     "name": "stdout",
     "output_type": "stream",
     "text": [
      "0.4400452723078034\n"
     ]
    },
    {
     "name": "stderr",
     "output_type": "stream",
     "text": [
      " 68%|████████████████████████████████████████████████████████████████████████████▊                                    | 34/50 [08:21<03:53, 14.61s/it]"
     ]
    },
    {
     "name": "stdout",
     "output_type": "stream",
     "text": [
      "0.3700365201981676\n"
     ]
    },
    {
     "name": "stderr",
     "output_type": "stream",
     "text": [
      " 70%|███████████████████████████████████████████████████████████████████████████████                                  | 35/50 [08:36<03:42, 14.80s/it]"
     ]
    },
    {
     "name": "stdout",
     "output_type": "stream",
     "text": [
      "0.42735743514941726\n"
     ]
    },
    {
     "name": "stderr",
     "output_type": "stream",
     "text": [
      " 72%|█████████████████████████████████████████████████████████████████████████████████▎                               | 36/50 [08:52<03:30, 15.02s/it]"
     ]
    },
    {
     "name": "stdout",
     "output_type": "stream",
     "text": [
      "0.42811063162350144\n"
     ]
    },
    {
     "name": "stderr",
     "output_type": "stream",
     "text": [
      " 74%|███████████████████████████████████████████████████████████████████████████████████▌                             | 37/50 [09:06<03:10, 14.67s/it]"
     ]
    },
    {
     "name": "stdout",
     "output_type": "stream",
     "text": [
      "0.43307692340454335\n"
     ]
    },
    {
     "name": "stderr",
     "output_type": "stream",
     "text": [
      " 76%|█████████████████████████████████████████████████████████████████████████████████████▉                           | 38/50 [09:21<02:58, 14.91s/it]"
     ]
    },
    {
     "name": "stdout",
     "output_type": "stream",
     "text": [
      "0.43293018022067364\n"
     ]
    },
    {
     "name": "stderr",
     "output_type": "stream",
     "text": [
      " 78%|████████████████████████████████████████████████████████████████████████████████████████▏                        | 39/50 [09:34<02:38, 14.43s/it]"
     ]
    },
    {
     "name": "stdout",
     "output_type": "stream",
     "text": [
      "0.4201285759383236\n"
     ]
    },
    {
     "name": "stderr",
     "output_type": "stream",
     "text": [
      " 80%|██████████████████████████████████████████████████████████████████████████████████████████▍                      | 40/50 [09:50<02:27, 14.73s/it]"
     ]
    },
    {
     "name": "stdout",
     "output_type": "stream",
     "text": [
      "0.42690351595477094\n"
     ]
    },
    {
     "name": "stderr",
     "output_type": "stream",
     "text": [
      " 82%|████████████████████████████████████████████████████████████████████████████████████████████▋                    | 41/50 [10:04<02:10, 14.50s/it]"
     ]
    },
    {
     "name": "stdout",
     "output_type": "stream",
     "text": [
      "0.4321414847912555\n"
     ]
    },
    {
     "name": "stderr",
     "output_type": "stream",
     "text": [
      " 84%|██████████████████████████████████████████████████████████████████████████████████████████████▉                  | 42/50 [10:19<01:57, 14.70s/it]"
     ]
    },
    {
     "name": "stdout",
     "output_type": "stream",
     "text": [
      "0.4397592408234912\n"
     ]
    },
    {
     "name": "stderr",
     "output_type": "stream",
     "text": [
      " 86%|█████████████████████████████████████████████████████████████████████████████████████████████████▏               | 43/50 [10:33<01:41, 14.56s/it]"
     ]
    },
    {
     "name": "stdout",
     "output_type": "stream",
     "text": [
      "0.438103169416491\n"
     ]
    },
    {
     "name": "stderr",
     "output_type": "stream",
     "text": [
      " 88%|███████████████████████████████████████████████████████████████████████████████████████████████████▍             | 44/50 [10:48<01:28, 14.72s/it]"
     ]
    },
    {
     "name": "stdout",
     "output_type": "stream",
     "text": [
      "0.4397633710868169\n"
     ]
    },
    {
     "name": "stderr",
     "output_type": "stream",
     "text": [
      " 90%|█████████████████████████████████████████████████████████████████████████████████████████████████████▋           | 45/50 [11:04<01:14, 14.86s/it]"
     ]
    },
    {
     "name": "stdout",
     "output_type": "stream",
     "text": [
      "0.43363246697068275\n"
     ]
    },
    {
     "name": "stderr",
     "output_type": "stream",
     "text": [
      " 92%|███████████████████████████████████████████████████████████████████████████████████████████████████████▉         | 46/50 [11:18<00:58, 14.63s/it]"
     ]
    },
    {
     "name": "stdout",
     "output_type": "stream",
     "text": [
      "0.4394436264779061\n"
     ]
    },
    {
     "name": "stderr",
     "output_type": "stream",
     "text": [
      " 94%|██████████████████████████████████████████████████████████████████████████████████████████████████████████▏      | 47/50 [11:33<00:44, 14.92s/it]"
     ]
    },
    {
     "name": "stdout",
     "output_type": "stream",
     "text": [
      "0.41585863110879184\n"
     ]
    },
    {
     "name": "stderr",
     "output_type": "stream",
     "text": [
      " 96%|████████████████████████████████████████████████████████████████████████████████████████████████████████████▍    | 48/50 [11:47<00:29, 14.62s/it]"
     ]
    },
    {
     "name": "stdout",
     "output_type": "stream",
     "text": [
      "0.4306926896271734\n"
     ]
    },
    {
     "name": "stderr",
     "output_type": "stream",
     "text": [
      " 98%|██████████████████████████████████████████████████████████████████████████████████████████████████████████████▋  | 49/50 [12:02<00:14, 14.79s/it]"
     ]
    },
    {
     "name": "stdout",
     "output_type": "stream",
     "text": [
      "0.4360529475957365\n"
     ]
    },
    {
     "name": "stderr",
     "output_type": "stream",
     "text": [
      "100%|█████████████████████████████████████████████████████████████████████████████████████████████████████████████████| 50/50 [12:16<00:00, 14.74s/it]"
     ]
    },
    {
     "name": "stdout",
     "output_type": "stream",
     "text": [
      "0.30828879740818466\n",
      "[0.10383328668480901, 0.3553047463372978, 0.37815303766803193, 0.39921978550671267, 0.40879960052877873, 0.39988047072420774, 0.41900861817772916, 0.42150237267926555, 0.4265740305078653, 0.40930518804047233, 0.42987593089888165, 0.2926772416370629, 0.4185046954938625, 0.3750500619238434, 0.2836715524396175, 0.4103520625069426, 0.4272955249070326, 0.39617150554388175, 0.361190437816217, 0.43022479250615214, 0.42435999933497637, 0.4201972256497125, 0.44056816618202554, 0.4143508816018613, 0.42790066090962103, 0.3122450168141709, 0.4211519538800378, 0.43169716468104624, 0.38555542743583127, 0.3965928658087173, 0.41269056234504714, 0.4389926188960996, 0.4400452723078034, 0.3700365201981676, 0.42735743514941726, 0.42811063162350144, 0.43307692340454335, 0.43293018022067364, 0.4201285759383236, 0.42690351595477094, 0.4321414847912555, 0.4397592408234912, 0.438103169416491, 0.4397633710868169, 0.43363246697068275, 0.4394436264779061, 0.41585863110879184, 0.4306926896271734, 0.4360529475957365, 0.30828879740818466]\n"
     ]
    },
    {
     "name": "stderr",
     "output_type": "stream",
     "text": [
      "\n"
     ]
    }
   ],
   "source": [
    "from ray.tune.registry import register_env\n",
    "from gymnasium.wrappers import EnvCompatibility\n",
    "from ray.rllib.algorithms.impala import ImpalaConfig\n",
    "from gymnasium.wrappers import TimeLimit\n",
    "import ray\n",
    "\n",
    "ray.shutdown()\n",
    "\n",
    "def env_creator(env_config):\n",
    "    return TimeLimit(EnvCompatibility(AcesWeightedArchitectureEnv(52)), max_episode_steps=10)\n",
    "register_env(\"AcesWeightedArchitectureEnv\", env_creator)\n",
    "\n",
    "config = (\n",
    "    ImpalaConfig()\n",
    "    .environment(\"AcesWeightedArchitectureEnv\",disable_env_checking=True)\n",
    "    .rollouts(num_rollout_workers=30,\n",
    "              num_envs_per_worker=5) # Max = 60\n",
    "    .resources(num_gpus=0,\n",
    "               num_cpus_per_worker=1)\n",
    "    .training(entropy_coeff=0.02)\n",
    "    .offline_data(output=\"TFM/datasets/imapala50\")\n",
    ")\n",
    "config['model']['vf_share_layers'] = False\n",
    "config[\"model\"][\"fcnet_hiddens\"] =[64,64]\n",
    "\n",
    "algorithm = config.build()\n",
    "algorithm.set_weights(algorithm_bc.get_weights())\n",
    "checkpoint_path = algorithm.save()\n",
    "print(checkpoint_path)\n",
    "algorithm_weighted = config.build()\n",
    "# algorithm.restore(\"./TFM/algorithms/online_offline_1400/checkpoint_001477\")\n",
    "\n",
    "result_weighted =[]\n",
    "\n",
    "for j in tqdm(range(50)):\n",
    "    result_train = algorithm_weighted.train()[\"episode_reward_mean\"]\n",
    "    result_weighted.append(result_train)\n",
    "    # if (j%50== 0):\n",
    "    print(result_train)\n",
    "print(result_weighted)"
   ],
   "metadata": {
    "collapsed": false
   }
  },
  {
   "cell_type": "code",
   "execution_count": 733,
   "outputs": [
    {
     "name": "stderr",
     "output_type": "stream",
     "text": [
      "  0%|                                                                                                              | 1/2000 [00:15<8:22:31, 15.08s/it]"
     ]
    },
    {
     "name": "stdout",
     "output_type": "stream",
     "text": [
      "0.42698321082469143\n"
     ]
    },
    {
     "name": "stderr",
     "output_type": "stream",
     "text": [
      "  5%|█████▍                                                                                                      | 101/2000 [24:43<7:47:05, 14.76s/it]"
     ]
    },
    {
     "name": "stdout",
     "output_type": "stream",
     "text": [
      "0.4350999054708121\n"
     ]
    },
    {
     "name": "stderr",
     "output_type": "stream",
     "text": [
      " 10%|██████████▊                                                                                                 | 201/2000 [49:16<7:15:52, 14.54s/it]"
     ]
    },
    {
     "name": "stdout",
     "output_type": "stream",
     "text": [
      "0.43682828860810863\n"
     ]
    },
    {
     "name": "stderr",
     "output_type": "stream",
     "text": [
      " 15%|███████████████▉                                                                                          | 301/2000 [1:13:44<7:03:23, 14.95s/it]"
     ]
    },
    {
     "name": "stdout",
     "output_type": "stream",
     "text": [
      "0.4409959268115544\n"
     ]
    },
    {
     "name": "stderr",
     "output_type": "stream",
     "text": [
      " 20%|█████████████████████▎                                                                                    | 401/2000 [1:38:10<6:38:14, 14.94s/it]"
     ]
    },
    {
     "name": "stdout",
     "output_type": "stream",
     "text": [
      "0.43807195164699647\n"
     ]
    },
    {
     "name": "stderr",
     "output_type": "stream",
     "text": [
      " 25%|██████████████████████████▌                                                                               | 501/2000 [2:02:37<6:06:47, 14.68s/it]"
     ]
    },
    {
     "name": "stdout",
     "output_type": "stream",
     "text": [
      "0.44368266674424833\n"
     ]
    },
    {
     "name": "stderr",
     "output_type": "stream",
     "text": [
      " 30%|███████████████████████████████▊                                                                          | 601/2000 [2:27:04<5:40:08, 14.59s/it]"
     ]
    },
    {
     "name": "stdout",
     "output_type": "stream",
     "text": [
      "0.4457802792475778\n"
     ]
    },
    {
     "name": "stderr",
     "output_type": "stream",
     "text": [
      " 35%|█████████████████████████████████████▏                                                                    | 701/2000 [2:51:22<5:13:37, 14.49s/it]"
     ]
    },
    {
     "name": "stdout",
     "output_type": "stream",
     "text": [
      "0.4449641343675359\n"
     ]
    },
    {
     "name": "stderr",
     "output_type": "stream",
     "text": [
      " 37%|███████████████████████████████████████▍                                                                  | 743/2000 [3:01:41<5:09:55, 14.79s/it]2023-06-10 00:52:49,683\tERROR actor_manager.py:496 -- Ray error, taking actor 13 out of service. \u001B[36mray::RolloutWorker.apply()\u001B[39m (pid=2087117, ip=138.4.11.229, repr=<ray.rllib.evaluation.rollout_worker.RolloutWorker object at 0x7f8ed3bc8ac0>)\n",
      "  File \"/home/rcalzada/.local/lib/python3.10/site-packages/ray/rllib/utils/actor_manager.py\", line 183, in apply\n",
      "    raise e\n",
      "  File \"/home/rcalzada/.local/lib/python3.10/site-packages/ray/rllib/utils/actor_manager.py\", line 174, in apply\n",
      "    return func(self, *args, **kwargs)\n",
      "  File \"/home/rcalzada/.local/lib/python3.10/site-packages/ray/rllib/algorithms/impala/impala.py\", line 679, in <lambda>\n",
      "    lambda worker: worker.sample(),\n",
      "  File \"/home/rcalzada/.local/lib/python3.10/site-packages/ray/rllib/evaluation/rollout_worker.py\", line 946, in sample\n",
      "    self.output_writer.write(batch)\n",
      "  File \"/home/rcalzada/.local/lib/python3.10/site-packages/ray/rllib/offline/json_writer.py\", line 76, in write\n",
      "    f.write(data)\n",
      "OSError: [Errno 28] No space left on device\n",
      " 37%|███████████████████████████████████████▍                                                                  | 743/2000 [3:01:51<5:07:39, 14.69s/it]\n"
     ]
    },
    {
     "ename": "RayTaskError(OSError)",
     "evalue": "\u001B[36mray::RolloutWorker.apply()\u001B[39m (pid=2087117, ip=138.4.11.229, repr=<ray.rllib.evaluation.rollout_worker.RolloutWorker object at 0x7f8ed3bc8ac0>)\n  File \"/home/rcalzada/.local/lib/python3.10/site-packages/ray/rllib/utils/actor_manager.py\", line 183, in apply\n    raise e\n  File \"/home/rcalzada/.local/lib/python3.10/site-packages/ray/rllib/utils/actor_manager.py\", line 174, in apply\n    return func(self, *args, **kwargs)\n  File \"/home/rcalzada/.local/lib/python3.10/site-packages/ray/rllib/algorithms/impala/impala.py\", line 679, in <lambda>\n    lambda worker: worker.sample(),\n  File \"/home/rcalzada/.local/lib/python3.10/site-packages/ray/rllib/evaluation/rollout_worker.py\", line 946, in sample\n    self.output_writer.write(batch)\n  File \"/home/rcalzada/.local/lib/python3.10/site-packages/ray/rllib/offline/json_writer.py\", line 76, in write\n    f.write(data)\nOSError: [Errno 28] No space left on device",
     "output_type": "error",
     "traceback": [
      "\u001B[0;31m---------------------------------------------------------------------------\u001B[0m",
      "\u001B[0;31mRayTaskError(OSError)\u001B[0m                     Traceback (most recent call last)",
      "Cell \u001B[0;32mIn[733], line 2\u001B[0m\n\u001B[1;32m      1\u001B[0m \u001B[38;5;28;01mfor\u001B[39;00m j \u001B[38;5;129;01min\u001B[39;00m tqdm(\u001B[38;5;28mrange\u001B[39m(\u001B[38;5;241m2000\u001B[39m)):\n\u001B[0;32m----> 2\u001B[0m     result_train \u001B[38;5;241m=\u001B[39m \u001B[43malgorithm_weighted\u001B[49m\u001B[38;5;241;43m.\u001B[39;49m\u001B[43mtrain\u001B[49m\u001B[43m(\u001B[49m\u001B[43m)\u001B[49m[\u001B[38;5;124m\"\u001B[39m\u001B[38;5;124mepisode_reward_mean\u001B[39m\u001B[38;5;124m\"\u001B[39m]\n\u001B[1;32m      3\u001B[0m     result_weighted\u001B[38;5;241m.\u001B[39mappend(result_train)\n\u001B[1;32m      4\u001B[0m     \u001B[38;5;28;01mif\u001B[39;00m (j\u001B[38;5;241m%\u001B[39m\u001B[38;5;241m100\u001B[39m\u001B[38;5;241m==\u001B[39m \u001B[38;5;241m0\u001B[39m):\n",
      "File \u001B[0;32m~/.local/lib/python3.10/site-packages/ray/tune/trainable/trainable.py:368\u001B[0m, in \u001B[0;36mTrainable.train\u001B[0;34m(self)\u001B[0m\n\u001B[1;32m    366\u001B[0m \u001B[38;5;28;01mexcept\u001B[39;00m \u001B[38;5;167;01mException\u001B[39;00m \u001B[38;5;28;01mas\u001B[39;00m e:\n\u001B[1;32m    367\u001B[0m     skipped \u001B[38;5;241m=\u001B[39m skip_exceptions(e)\n\u001B[0;32m--> 368\u001B[0m     \u001B[38;5;28;01mraise\u001B[39;00m skipped \u001B[38;5;28;01mfrom\u001B[39;00m \u001B[38;5;21;01mexception_cause\u001B[39;00m(skipped)\n\u001B[1;32m    370\u001B[0m \u001B[38;5;28;01massert\u001B[39;00m \u001B[38;5;28misinstance\u001B[39m(result, \u001B[38;5;28mdict\u001B[39m), \u001B[38;5;124m\"\u001B[39m\u001B[38;5;124mstep() needs to return a dict.\u001B[39m\u001B[38;5;124m\"\u001B[39m\n\u001B[1;32m    372\u001B[0m \u001B[38;5;66;03m# We do not modify internal state nor update this result if duplicate.\u001B[39;00m\n",
      "File \u001B[0;32m~/.local/lib/python3.10/site-packages/ray/tune/trainable/trainable.py:365\u001B[0m, in \u001B[0;36mTrainable.train\u001B[0;34m(self)\u001B[0m\n\u001B[1;32m    363\u001B[0m start \u001B[38;5;241m=\u001B[39m time\u001B[38;5;241m.\u001B[39mtime()\n\u001B[1;32m    364\u001B[0m \u001B[38;5;28;01mtry\u001B[39;00m:\n\u001B[0;32m--> 365\u001B[0m     result \u001B[38;5;241m=\u001B[39m \u001B[38;5;28;43mself\u001B[39;49m\u001B[38;5;241;43m.\u001B[39;49m\u001B[43mstep\u001B[49m\u001B[43m(\u001B[49m\u001B[43m)\u001B[49m\n\u001B[1;32m    366\u001B[0m \u001B[38;5;28;01mexcept\u001B[39;00m \u001B[38;5;167;01mException\u001B[39;00m \u001B[38;5;28;01mas\u001B[39;00m e:\n\u001B[1;32m    367\u001B[0m     skipped \u001B[38;5;241m=\u001B[39m skip_exceptions(e)\n",
      "File \u001B[0;32m~/.local/lib/python3.10/site-packages/ray/rllib/algorithms/algorithm.py:782\u001B[0m, in \u001B[0;36mAlgorithm.step\u001B[0;34m(self)\u001B[0m\n\u001B[1;32m    774\u001B[0m     (\n\u001B[1;32m    775\u001B[0m         results,\n\u001B[1;32m    776\u001B[0m         train_iter_ctx,\n\u001B[1;32m    777\u001B[0m     ) \u001B[38;5;241m=\u001B[39m \u001B[38;5;28mself\u001B[39m\u001B[38;5;241m.\u001B[39m_run_one_training_iteration_and_evaluation_in_parallel()\n\u001B[1;32m    778\u001B[0m \u001B[38;5;66;03m# - No evaluation necessary, just run the next training iteration.\u001B[39;00m\n\u001B[1;32m    779\u001B[0m \u001B[38;5;66;03m# - We have to evaluate in this training iteration, but no parallelism ->\u001B[39;00m\n\u001B[1;32m    780\u001B[0m \u001B[38;5;66;03m#   evaluate after the training iteration is entirely done.\u001B[39;00m\n\u001B[1;32m    781\u001B[0m \u001B[38;5;28;01melse\u001B[39;00m:\n\u001B[0;32m--> 782\u001B[0m     results, train_iter_ctx \u001B[38;5;241m=\u001B[39m \u001B[38;5;28;43mself\u001B[39;49m\u001B[38;5;241;43m.\u001B[39;49m\u001B[43m_run_one_training_iteration\u001B[49m\u001B[43m(\u001B[49m\u001B[43m)\u001B[49m\n\u001B[1;32m    784\u001B[0m \u001B[38;5;66;03m# Sequential: Train (already done above), then evaluate.\u001B[39;00m\n\u001B[1;32m    785\u001B[0m \u001B[38;5;28;01mif\u001B[39;00m evaluate_this_iter \u001B[38;5;129;01mand\u001B[39;00m \u001B[38;5;129;01mnot\u001B[39;00m \u001B[38;5;28mself\u001B[39m\u001B[38;5;241m.\u001B[39mconfig\u001B[38;5;241m.\u001B[39mevaluation_parallel_to_training:\n",
      "File \u001B[0;32m~/.local/lib/python3.10/site-packages/ray/rllib/algorithms/algorithm.py:2713\u001B[0m, in \u001B[0;36mAlgorithm._run_one_training_iteration\u001B[0;34m(self)\u001B[0m\n\u001B[1;32m   2711\u001B[0m \u001B[38;5;28;01mwith\u001B[39;00m \u001B[38;5;28mself\u001B[39m\u001B[38;5;241m.\u001B[39m_timers[TRAINING_ITERATION_TIMER]:\n\u001B[1;32m   2712\u001B[0m     \u001B[38;5;28;01mif\u001B[39;00m \u001B[38;5;28mself\u001B[39m\u001B[38;5;241m.\u001B[39mconfig\u001B[38;5;241m.\u001B[39m_disable_execution_plan_api:\n\u001B[0;32m-> 2713\u001B[0m         results \u001B[38;5;241m=\u001B[39m \u001B[38;5;28;43mself\u001B[39;49m\u001B[38;5;241;43m.\u001B[39;49m\u001B[43mtraining_step\u001B[49m\u001B[43m(\u001B[49m\u001B[43m)\u001B[49m\n\u001B[1;32m   2714\u001B[0m     \u001B[38;5;28;01melse\u001B[39;00m:\n\u001B[1;32m   2715\u001B[0m         results \u001B[38;5;241m=\u001B[39m \u001B[38;5;28mnext\u001B[39m(\u001B[38;5;28mself\u001B[39m\u001B[38;5;241m.\u001B[39mtrain_exec_impl)\n",
      "File \u001B[0;32m~/.local/lib/python3.10/site-packages/ray/rllib/algorithms/impala/impala.py:545\u001B[0m, in \u001B[0;36mImpala.training_step\u001B[0;34m(self)\u001B[0m\n\u001B[1;32m    539\u001B[0m use_tree_aggregation \u001B[38;5;241m=\u001B[39m (\n\u001B[1;32m    540\u001B[0m     \u001B[38;5;28mself\u001B[39m\u001B[38;5;241m.\u001B[39m_aggregator_actor_manager\n\u001B[1;32m    541\u001B[0m     \u001B[38;5;129;01mand\u001B[39;00m \u001B[38;5;28mself\u001B[39m\u001B[38;5;241m.\u001B[39m_aggregator_actor_manager\u001B[38;5;241m.\u001B[39mnum_healthy_actors() \u001B[38;5;241m>\u001B[39m \u001B[38;5;241m0\u001B[39m\n\u001B[1;32m    542\u001B[0m )\n\u001B[1;32m    544\u001B[0m \u001B[38;5;66;03m# Get references to sampled SampleBatches from our workers.\u001B[39;00m\n\u001B[0;32m--> 545\u001B[0m unprocessed_sample_batches \u001B[38;5;241m=\u001B[39m \u001B[38;5;28;43mself\u001B[39;49m\u001B[38;5;241;43m.\u001B[39;49m\u001B[43mget_samples_from_workers\u001B[49m\u001B[43m(\u001B[49m\n\u001B[1;32m    546\u001B[0m \u001B[43m    \u001B[49m\u001B[43mreturn_object_refs\u001B[49m\u001B[38;5;241;43m=\u001B[39;49m\u001B[43muse_tree_aggregation\u001B[49m\u001B[43m,\u001B[49m\n\u001B[1;32m    547\u001B[0m \u001B[43m\u001B[49m\u001B[43m)\u001B[49m\n\u001B[1;32m    548\u001B[0m \u001B[38;5;66;03m# Tag workers that actually produced ready sample batches this iteration.\u001B[39;00m\n\u001B[1;32m    549\u001B[0m \u001B[38;5;66;03m# Those workers will have to get updated at the end of the iteration.\u001B[39;00m\n\u001B[1;32m    550\u001B[0m workers_that_need_updates \u001B[38;5;241m=\u001B[39m {\n\u001B[1;32m    551\u001B[0m     worker_id \u001B[38;5;28;01mfor\u001B[39;00m worker_id, _ \u001B[38;5;129;01min\u001B[39;00m unprocessed_sample_batches\n\u001B[1;32m    552\u001B[0m }\n",
      "File \u001B[0;32m~/.local/lib/python3.10/site-packages/ray/rllib/algorithms/impala/impala.py:684\u001B[0m, in \u001B[0;36mImpala.get_samples_from_workers\u001B[0;34m(self, return_object_refs)\u001B[0m\n\u001B[1;32m    677\u001B[0m \u001B[38;5;28;01mif\u001B[39;00m \u001B[38;5;28mself\u001B[39m\u001B[38;5;241m.\u001B[39mworkers\u001B[38;5;241m.\u001B[39mnum_healthy_remote_workers() \u001B[38;5;241m>\u001B[39m \u001B[38;5;241m0\u001B[39m:\n\u001B[1;32m    678\u001B[0m     \u001B[38;5;28mself\u001B[39m\u001B[38;5;241m.\u001B[39mworkers\u001B[38;5;241m.\u001B[39mforeach_worker_async(\n\u001B[1;32m    679\u001B[0m         \u001B[38;5;28;01mlambda\u001B[39;00m worker: worker\u001B[38;5;241m.\u001B[39msample(),\n\u001B[1;32m    680\u001B[0m         healthy_only\u001B[38;5;241m=\u001B[39m\u001B[38;5;28;01mTrue\u001B[39;00m,\n\u001B[1;32m    681\u001B[0m     )\n\u001B[1;32m    682\u001B[0m     sample_batches: List[\n\u001B[1;32m    683\u001B[0m         Tuple[\u001B[38;5;28mint\u001B[39m, ObjectRef]\n\u001B[0;32m--> 684\u001B[0m     ] \u001B[38;5;241m=\u001B[39m \u001B[38;5;28;43mself\u001B[39;49m\u001B[38;5;241;43m.\u001B[39;49m\u001B[43mworkers\u001B[49m\u001B[38;5;241;43m.\u001B[39;49m\u001B[43mfetch_ready_async_reqs\u001B[49m\u001B[43m(\u001B[49m\n\u001B[1;32m    685\u001B[0m \u001B[43m        \u001B[49m\u001B[43mtimeout_seconds\u001B[49m\u001B[38;5;241;43m=\u001B[39;49m\u001B[38;5;28;43mself\u001B[39;49m\u001B[38;5;241;43m.\u001B[39;49m\u001B[43m_timeout_s_sampler_manager\u001B[49m\u001B[43m,\u001B[49m\n\u001B[1;32m    686\u001B[0m \u001B[43m        \u001B[49m\u001B[43mreturn_obj_refs\u001B[49m\u001B[38;5;241;43m=\u001B[39;49m\u001B[43mreturn_object_refs\u001B[49m\u001B[43m,\u001B[49m\n\u001B[1;32m    687\u001B[0m \u001B[43m    \u001B[49m\u001B[43m)\u001B[49m\n\u001B[1;32m    688\u001B[0m \u001B[38;5;28;01melif\u001B[39;00m \u001B[38;5;28mself\u001B[39m\u001B[38;5;241m.\u001B[39mworkers\u001B[38;5;241m.\u001B[39mlocal_worker() \u001B[38;5;129;01mand\u001B[39;00m \u001B[38;5;28mself\u001B[39m\u001B[38;5;241m.\u001B[39mconfig\u001B[38;5;241m.\u001B[39mcreate_env_on_local_worker:\n\u001B[1;32m    689\u001B[0m     \u001B[38;5;66;03m# Sampling from the local worker\u001B[39;00m\n\u001B[1;32m    690\u001B[0m     sample_batch \u001B[38;5;241m=\u001B[39m \u001B[38;5;28mself\u001B[39m\u001B[38;5;241m.\u001B[39mworkers\u001B[38;5;241m.\u001B[39mlocal_worker()\u001B[38;5;241m.\u001B[39msample()\n",
      "File \u001B[0;32m~/.local/lib/python3.10/site-packages/ray/rllib/evaluation/worker_set.py:809\u001B[0m, in \u001B[0;36mWorkerSet.fetch_ready_async_reqs\u001B[0;34m(self, timeout_seconds, return_obj_refs, mark_healthy)\u001B[0m\n\u001B[1;32m    792\u001B[0m \u001B[38;5;250m\u001B[39m\u001B[38;5;124;03m\"\"\"Get esults from outstanding asynchronous requests that are ready.\u001B[39;00m\n\u001B[1;32m    793\u001B[0m \n\u001B[1;32m    794\u001B[0m \u001B[38;5;124;03mArgs:\u001B[39;00m\n\u001B[0;32m   (...)\u001B[0m\n\u001B[1;32m    801\u001B[0m \u001B[38;5;124;03m    paired with the indices of the callee workers.\u001B[39;00m\n\u001B[1;32m    802\u001B[0m \u001B[38;5;124;03m\"\"\"\u001B[39;00m\n\u001B[1;32m    803\u001B[0m remote_results \u001B[38;5;241m=\u001B[39m \u001B[38;5;28mself\u001B[39m\u001B[38;5;241m.\u001B[39m__worker_manager\u001B[38;5;241m.\u001B[39mfetch_ready_async_reqs(\n\u001B[1;32m    804\u001B[0m     timeout_seconds\u001B[38;5;241m=\u001B[39mtimeout_seconds,\n\u001B[1;32m    805\u001B[0m     return_obj_refs\u001B[38;5;241m=\u001B[39mreturn_obj_refs,\n\u001B[1;32m    806\u001B[0m     mark_healthy\u001B[38;5;241m=\u001B[39mmark_healthy,\n\u001B[1;32m    807\u001B[0m )\n\u001B[0;32m--> 809\u001B[0m \u001B[43mhandle_remote_call_result_errors\u001B[49m\u001B[43m(\u001B[49m\u001B[43mremote_results\u001B[49m\u001B[43m,\u001B[49m\u001B[43m \u001B[49m\u001B[38;5;28;43mself\u001B[39;49m\u001B[38;5;241;43m.\u001B[39;49m\u001B[43m_ignore_worker_failures\u001B[49m\u001B[43m)\u001B[49m\n\u001B[1;32m    811\u001B[0m \u001B[38;5;28;01mreturn\u001B[39;00m [(r\u001B[38;5;241m.\u001B[39mactor_id, r\u001B[38;5;241m.\u001B[39mget()) \u001B[38;5;28;01mfor\u001B[39;00m r \u001B[38;5;129;01min\u001B[39;00m remote_results\u001B[38;5;241m.\u001B[39mignore_errors()]\n",
      "File \u001B[0;32m~/.local/lib/python3.10/site-packages/ray/rllib/evaluation/worker_set.py:74\u001B[0m, in \u001B[0;36mhandle_remote_call_result_errors\u001B[0;34m(results, ignore_worker_failures)\u001B[0m\n\u001B[1;32m     72\u001B[0m     logger\u001B[38;5;241m.\u001B[39mexception(r\u001B[38;5;241m.\u001B[39mget())\n\u001B[1;32m     73\u001B[0m \u001B[38;5;28;01melse\u001B[39;00m:\n\u001B[0;32m---> 74\u001B[0m     \u001B[38;5;28;01mraise\u001B[39;00m r\u001B[38;5;241m.\u001B[39mget()\n",
      "\u001B[0;31mRayTaskError(OSError)\u001B[0m: \u001B[36mray::RolloutWorker.apply()\u001B[39m (pid=2087117, ip=138.4.11.229, repr=<ray.rllib.evaluation.rollout_worker.RolloutWorker object at 0x7f8ed3bc8ac0>)\n  File \"/home/rcalzada/.local/lib/python3.10/site-packages/ray/rllib/utils/actor_manager.py\", line 183, in apply\n    raise e\n  File \"/home/rcalzada/.local/lib/python3.10/site-packages/ray/rllib/utils/actor_manager.py\", line 174, in apply\n    return func(self, *args, **kwargs)\n  File \"/home/rcalzada/.local/lib/python3.10/site-packages/ray/rllib/algorithms/impala/impala.py\", line 679, in <lambda>\n    lambda worker: worker.sample(),\n  File \"/home/rcalzada/.local/lib/python3.10/site-packages/ray/rllib/evaluation/rollout_worker.py\", line 946, in sample\n    self.output_writer.write(batch)\n  File \"/home/rcalzada/.local/lib/python3.10/site-packages/ray/rllib/offline/json_writer.py\", line 76, in write\n    f.write(data)\nOSError: [Errno 28] No space left on device"
     ]
    }
   ],
   "source": [
    "for j in tqdm(range(2000)):\n",
    "    result_train = algorithm_weighted.train()[\"episode_reward_mean\"]\n",
    "    result_weighted.append(result_train)\n",
    "    if (j%100== 0):\n",
    "        print(result_train)"
   ],
   "metadata": {
    "collapsed": false
   }
  },
  {
   "cell_type": "code",
   "execution_count": 734,
   "outputs": [
    {
     "name": "stdout",
     "output_type": "stream",
     "text": [
      "The history saving thread hit an unexpected error (OperationalError('database or disk is full')).History will not be written to the database.\n"
     ]
    },
    {
     "data": {
      "text/plain": "[<matplotlib.lines.Line2D at 0x7f373f7bd030>]"
     },
     "execution_count": 734,
     "metadata": {},
     "output_type": "execute_result"
    },
    {
     "data": {
      "text/plain": "<Figure size 640x480 with 1 Axes>",
      "image/png": "[encoded data removed]"
     },
     "metadata": {},
     "output_type": "display_data"
    }
   ],
   "source": [
    "plt.plot(result_weighted)"
   ],
   "metadata": {
    "collapsed": false
   }
  },
  {
   "cell_type": "code",
   "execution_count": 735,
   "outputs": [],
   "source": [
    "# test_architecture = AcesArchitectureEnv(52)\n",
    "test_weighted_architecture = AcesArchitectureEnv(52)"
   ],
   "metadata": {
    "collapsed": false
   }
  },
  {
   "cell_type": "code",
   "execution_count": 797,
   "outputs": [
    {
     "data": {
      "text/plain": "({'weights': array([0.0125, 0.001 , 0.02  , 0.5   ]),\n  'allocation': array([0, 0, 0, 6, 6, 2, 0, 5, 6, 0, 4, 0, 2, 4, 3, 0, 0, 2, 6, 3, 6, 7,\n         1, 4, 4, 4, 3, 4, 7, 2, 7, 2, 1, 4, 5, 1, 4, 2, 1, 4, 0, 0, 2, 1,\n         2, 2, 0, 7, 1, 2, 3, 0], dtype=int32),\n  'data_type': array([3, 3, 3, 3, 3, 3, 3, 3, 3, 3, 3, 3, 1, 1, 1, 1, 1, 1, 1, 1, 2, 2,\n         2, 2, 2, 2, 2, 2, 0, 0, 0, 0, 0, 0, 0, 0, 1, 1, 1, 1, 1, 1, 1, 1,\n         2, 2, 2, 2, 2, 2, 2, 2]),\n  'free_space': array([0.93912, 0.99866, 0.7055 , 0.979  , 0.70225, 0.74375, 0.2395 ,\n         0.9675 ]),\n  'last_calls_type': array([0, 1, 2, 0, 1, 2, 3, 0, 1, 2]),\n  'last_calls_device': array([6, 2, 4, 6, 2, 4, 0, 6, 2, 4])},\n 0.538037865748709,\n True,\n {})"
     },
     "execution_count": 797,
     "metadata": {},
     "output_type": "execute_result"
    }
   ],
   "source": [
    "obs=test_weighted_architecture.reset()\n",
    "# action = algorithm.compute_single_action(obs)\n",
    "action_weighted = algorithm_weighted.compute_single_action(obs)\n",
    "# print(test_architecture.step(action))\n",
    "test_weighted_architecture.step(action_weighted)"
   ],
   "metadata": {
    "collapsed": false
   }
  },
  {
   "cell_type": "code",
   "execution_count": 786,
   "outputs": [
    {
     "name": "stdout",
     "output_type": "stream",
     "text": [
      "1298\n",
      "0.4135605253816117\n",
      "Reward: 0.4135605253816117\n",
      "1264\n",
      "Reward: 0.5512957046503373\n"
     ]
    }
   ],
   "source": [
    "# print(test_architecture.architecture.compute_total_latency())\n",
    "# print(1-test_architecture.architecture.compute_normalized_latency())\n",
    "print(test_weighted_architecture.architecture.compute_total_latency())\n",
    "# print(test_weighted_architecture.architecture.latencies)\n",
    "# print(1-test_weighted_architecture.architecture.compute_normalized_latency())\n",
    "test_weighted_architecture.architecture.round_robin()\n",
    "# print(test_weighted_architecture.architecture.data_allocation)\n",
    "# print(test_weighted_architecture.architecture.free_space())\n",
    "# print(test_weighted_architecture.architecture.compute_total_latency())\n",
    "print(1-test_weighted_architecture.architecture.compute_normalized_latency())\n",
    "print(\"Reward: {}\".format(1*(1-test_weighted_architecture.architecture.compute_normalized_latency())+0*(1-np.std(test_weighted_architecture.free_space))))\n",
    "test_weighted_architecture.architecture.greedy_server()\n",
    "print(test_weighted_architecture.architecture.compute_total_latency())\n",
    "# print(1-test_weighted_architecture.architecture.compute_normalized_latency())\n",
    "print(\"Reward: {}\".format(1*(1-test_weighted_architecture.architecture.compute_normalized_latency())+0*(1-np.std(test_weighted_architecture.free_space))))"
   ],
   "metadata": {
    "collapsed": false
   }
  }
 ],
 "metadata": {
  "kernelspec": {
   "display_name": "Python 3",
   "language": "python",
   "name": "python3"
  },
  "language_info": {
   "codemirror_mode": {
    "name": "ipython",
    "version": 2
   },
   "file_extension": ".py",
   "mimetype": "text/x-python",
   "name": "python",
   "nbconvert_exporter": "python",
   "pygments_lexer": "ipython2",
   "version": "2.7.6"
  }
 },
 "nbformat": 4,
 "nbformat_minor": 0
}
