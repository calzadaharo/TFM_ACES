{
 "cells": [
  {
   "cell_type": "code",
   "execution_count": 1,
   "metadata": {
    "collapsed": true
   },
   "outputs": [],
   "source": [
    "from gymnasium import Env\n",
    "from gymnasium.spaces import Box, Dict, Discrete, MultiDiscrete\n",
    "import random\n",
    "import numpy as np\n",
    "import matplotlib.pyplot as plt\n",
    "from tqdm import tqdm\n",
    "import networkx as nx\n",
    "from copy import copy\n",
    "import ray"
   ]
  },
  {
   "cell_type": "code",
   "execution_count": 6,
   "outputs": [],
   "source": [
    "class Architecture:\n",
    "    def __init__(self):\n",
    "        self.c_capacity, self.s_capacity = 50, 2\n",
    "        self.weights = [0.0125, 0.0010, 0.0200, 0.5000] # REVIEW\n",
    "        self.lifetime = {0: 1, 1: 2, 2: 3, 3: 10}   # REVIEW\n",
    "        self.max_actions = 10\n",
    "        self.num_c = 2\n",
    "        self.num_s = 6\n",
    "        self.max_actions = 10\n",
    "        self.min_free_space = 0.2\n",
    "        self.space_flag = -1\n",
    "\n",
    "        self.data_types = []\n",
    "        self.data_allocation = []\n",
    "        self.data_times = []\n",
    "\n",
    "        self.false_data_types = []\n",
    "        self.false_data_allocation = []\n",
    "        self.false_data = {}\n",
    "        self.false_devices = {}\n",
    "\n",
    "        self.data = {}\n",
    "        self.devices = {}\n",
    "        self.latencies = {}\n",
    "        self.max_latencies = {}\n",
    "\n",
    "        self.action_device = []\n",
    "        self.action_type = []\n",
    "\n",
    "        for j in (range(len(self.weights))):\n",
    "            self.data[j] = {}\n",
    "            self.false_data[j] = {}\n",
    "            for i in range(self.num_s+self.num_c):\n",
    "                self.data[j][i] = 0\n",
    "                self.false_data[j][i] = 0\n",
    "                self.devices[i] = {0: 0, 1: 0, 2: 0, 3: 0}\n",
    "                self.false_devices[i] = {0: 0, 1: 0, 2: 0, 3: 0}\n",
    "                self.latencies[i] = {}\n",
    "                self.max_latencies[i] = {}\n",
    "\n",
    "        for i in self.latencies.keys():\n",
    "            for j in self.latencies.keys():\n",
    "                self.latencies[i][j] = 0\n",
    "                self.max_latencies[i][j] = 0\n",
    "\n",
    "        devices = list(self.devices.keys())\n",
    "        bound = round(len(self.devices)/4)\n",
    "        self.clusters = {\n",
    "            0: devices[2:4],\n",
    "            1: devices[4:6],\n",
    "            2: devices[6:8],\n",
    "            # 3: devices[:bound]\n",
    "            3: [0]\n",
    "        }\n",
    "        self.visualization()\n",
    "\n",
    "    def construct_dictionaries(self):\n",
    "        for i in self.data:\n",
    "            for j in self.data[i]:\n",
    "                self.data[i][j] = 0\n",
    "        for i in self.devices:\n",
    "            for j in self.devices[i]:\n",
    "                self.devices[i][j] = 0\n",
    "        for device, d_type in zip(self.data_allocation, self.data_types):\n",
    "            self.data[d_type][device] += 1\n",
    "            self.devices[device][d_type] += 1\n",
    "\n",
    "    def false_construct_dictionaries(self):\n",
    "        for i in self.false_data:\n",
    "            for j in self.false_data[i]:\n",
    "                self.false_data[i][j] = 0\n",
    "        for i in self.false_devices:\n",
    "            for j in self.false_devices[i]:\n",
    "                self.false_devices[i][j] = 0\n",
    "        for device, d_type in zip(self.false_data_allocation, self.false_data_types):\n",
    "            self.false_data[d_type][device] += 1\n",
    "            self.false_devices[device][d_type] += 1\n",
    "\n",
    "    def update(self, data_type, device):\n",
    "        self.data_types.append(data_type)\n",
    "        self.data_allocation.append(device)\n",
    "        self.data_times.append(0)\n",
    "        self.devices[device][data_type] += 1\n",
    "        self.data[data_type][device] += 1\n",
    "\n",
    "    def heart_beat(self):\n",
    "        deads = []\n",
    "        for i in range(len(self.data_times)):\n",
    "            self.data_times[i] += 1\n",
    "            if self.data_times[i] == self.lifetime[self.data_types[i]]:\n",
    "                deads.append(i)\n",
    "\n",
    "        removed = 0\n",
    "        for i in deads:\n",
    "            self.devices[self.data_allocation[i-removed]][self.data_types[i-removed]] -= 1\n",
    "            self.data[self.data_types[i-removed]][self.data_allocation[i-removed]] -= 1\n",
    "            self.data_types.pop(i - removed)\n",
    "            self.data_allocation.pop(i - removed)\n",
    "            self.data_times.pop(i - removed)\n",
    "            removed += 1\n",
    "\n",
    "    def free_space(self):\n",
    "        load = {}\n",
    "        for i in range(self.num_c + self.num_s):\n",
    "            if i < self.num_c:\n",
    "                load[i] = (self.c_capacity - sum([a*b for a,b in zip(list(self.devices[i].values()), self.weights)]))/self.c_capacity\n",
    "            else:\n",
    "                load[i] = (self.s_capacity - sum([a*b for a,b in zip(list(self.devices[i].values()), self.weights)]))/self.s_capacity\n",
    "            if load[i] <= self.min_free_space:\n",
    "                self.space_flag = i\n",
    "        return load\n",
    "\n",
    "    def false_free_space(self):\n",
    "        load = {}\n",
    "        for i in range(self.num_c + self.num_s):\n",
    "            if i < self.num_c:\n",
    "                load[i] = (self.c_capacity - sum([a*b for a,b in zip(list(self.false_devices[i].values()), self.weights)]))/self.c_capacity\n",
    "            else:\n",
    "                load[i] = (self.s_capacity - sum([a*b for a,b in zip(list(self.false_devices[i].values()), self.weights)]))/self.s_capacity\n",
    "            # if load[i] <= self.min_free_space:\n",
    "            #     self.space_flag = i\n",
    "        return load\n",
    "\n",
    "    def reduce_type(self, data_type):\n",
    "        max_time = 0\n",
    "        positions = []\n",
    "        for i in range(len(self.data_allocation)):\n",
    "            if self.data_types[i] == data_type:\n",
    "                if self.data_times[i] > max_time:\n",
    "                    max_time = self.data_times[i]\n",
    "                    positions = []\n",
    "                    positions.append(i)\n",
    "                elif self.data_times[i] == max_time:\n",
    "                    positions.append(i)\n",
    "\n",
    "        removed = 0\n",
    "        for i in positions:\n",
    "            self.devices[self.data_allocation[i-removed]][self.data_types[i-removed]] -= 1\n",
    "            self.data[self.data_types[i-removed]][self.data_allocation[i-removed]] -= 1\n",
    "            self.data_times.pop(i - removed)\n",
    "            self.data_types.pop(i - removed)\n",
    "            self.data_allocation.pop(i -removed)\n",
    "            removed += 1\n",
    "\n",
    "    def check_quantity(self, data_type):\n",
    "        if data_type != 3:\n",
    "            if sum(list(self.data[data_type].values())) > 2*(self.num_s + self.num_c):\n",
    "                self.reduce_type(data_type)\n",
    "        else:\n",
    "            if sum(list(self.data[data_type].values())) > 2*self.num_s:\n",
    "                self.reduce_type(data_type)\n",
    "\n",
    "    def visualization(self):\n",
    "        keys = list(self.devices.keys())\n",
    "        cs = keys[:self.num_c]\n",
    "        ss = keys[self.num_c:]\n",
    "\n",
    "        colors = []\n",
    "        sizes = []\n",
    "\n",
    "        graph = nx.Graph()\n",
    "\n",
    "        colors.append('lightblue')\n",
    "        sizes.append(1000)\n",
    "        index = 0\n",
    "        for i in range(len(cs)):\n",
    "            if i != len(cs)-1:\n",
    "                colors.append('lightblue')\n",
    "                sizes.append(1000)\n",
    "                graph.add_edge(cs[i],cs[i+1])\n",
    "                graph.add_weighted_edges_from([(cs[i],cs[i+1],10)])\n",
    "                for j in range(int(len(ss)/self.num_c)):\n",
    "                    colors.append('orange')\n",
    "                    sizes.append(100)\n",
    "                    graph.add_edge(cs[i],ss[index])\n",
    "                    graph.add_weighted_edges_from([(cs[i],ss[index],random.randint(4,6))])\n",
    "                    index += 1\n",
    "            else:\n",
    "                graph.add_edge(cs[i],cs[0])\n",
    "                graph.add_weighted_edges_from([(cs[i],cs[0],10)])\n",
    "                for j in range(int(len(ss)/self.num_c)+len(ss)%self.num_c):\n",
    "                    graph.add_edge(cs[i],ss[index])\n",
    "                    graph.add_weighted_edges_from([(cs[i],ss[index],random.randint(4,6))])\n",
    "                    colors.append('orange')\n",
    "                    sizes.append(100)\n",
    "                    index += 1\n",
    "\n",
    "        pos = nx.spring_layout(graph)  # Position nodes using a spring layout algorithm\n",
    "        # nx.draw(graph, pos, with_labels=True, node_size=sizes, node_color=colors, font_weight=12, font_color='black', edge_color='gray')\n",
    "        edge_labels = nx.get_edge_attributes(graph, 'weight')\n",
    "        # nx.draw_networkx_edge_labels(graph, pos, edge_labels=edge_labels)\n",
    "\n",
    "        # plt.title(\"Architecture:\")\n",
    "        # plt.axis('off')\n",
    "        # plt.show()\n",
    "\n",
    "        for u in graph.nodes:\n",
    "            shortest_paths = nx.shortest_path_length(graph, source=u, weight='weight')\n",
    "            for v, weight in shortest_paths.items():\n",
    "                self.latencies[u][v] = weight\n",
    "\n",
    "        max_latency = self.latencies[self.num_c][self.num_c+self.num_s-1]\n",
    "        for i in self.max_latencies.keys():\n",
    "            for j in self.max_latencies[i].keys():\n",
    "                self.max_latencies[i][j] = max_latency\n",
    "\n",
    "    def compute_total_latency(self):\n",
    "        total_latency = 0\n",
    "        for i in range(len(self.action_type)):\n",
    "            total_latency += sum([a*b for a,b in zip(self.data[self.action_type[i]].values(), self.latencies[self.action_device[i]].values())])\n",
    "        return total_latency\n",
    "\n",
    "    def false_compute_total_latency(self):\n",
    "        total_latency = 0\n",
    "        for i in range(len(self.action_type)):\n",
    "            total_latency += sum([a*b for a,b in zip(self.false_data[self.action_type[i]].values(), self.latencies[self.action_device[i]].values())])\n",
    "        return total_latency\n",
    "\n",
    "    def compute_normalized_latency(self):\n",
    "        total_latency = 0\n",
    "        max_latency = 0\n",
    "        for i in range(len(self.action_type)):\n",
    "            total_latency += sum([a*b for a,b in zip(self.data[self.action_type[i]].values(), self.latencies[self.action_device[i]].values())])\n",
    "            max_latency += sum([a*b for a,b in zip(self.data[self.action_type[i]].values(), self.max_latencies[self.action_device[i]].values())])\n",
    "        return total_latency/(max_latency+1)\n",
    "\n",
    "    def compute_normalized_latency_dict(self):    # CHANGEEEEEEEEEEEEEE\n",
    "        total_latency = {\n",
    "            0: 0,\n",
    "            1: 0,\n",
    "            2: 0,\n",
    "            3: 0\n",
    "        }\n",
    "        max_latency = {\n",
    "            0: 0,\n",
    "            1: 0,\n",
    "            2: 0,\n",
    "            3: 0\n",
    "        }\n",
    "\n",
    "        for key in total_latency.keys():\n",
    "            for dev in range(len(self.clusters[key])):\n",
    "                if self.clusters[key][dev] in self.action_device:\n",
    "                    for j in self.data[key]:\n",
    "                        total_latency[key] += self.latencies[self.clusters[key][dev]][j] * self.data[key][j]\n",
    "                        max_latency[key] += self.data[key][j]\n",
    "        for i in total_latency.keys():\n",
    "            total_latency[i] = 1-total_latency[i]/(max_latency[i]*22+1)\n",
    "\n",
    "        return total_latency\n",
    "\n",
    "    # def rl_update(self, new_allocation):\n",
    "    #     self.data_allocation = new_allocation\n",
    "    #     self.construct_dictionaries()\n",
    "    #     return self.free_space()\n",
    "\n",
    "    def generate(self, operation):\n",
    "        if operation == 0 or operation == 1 or operation == 2:\n",
    "            for i in range(self.num_s + self.num_c):\n",
    "                self.update(operation,i)\n",
    "            self.check_quantity(operation)\n",
    "        elif operation == 3:\n",
    "            for i in range(self.num_c,(self.num_c + self.num_s)):\n",
    "                self.update(operation,i)\n",
    "            self.check_quantity(operation)\n",
    "        else:\n",
    "            device=random.sample(self.clusters[operation-10],1)[0] if operation != 13 else self.clusters[operation-10][0] # CHANGEEEEEEEEEEEEEEE\n",
    "            # device=self.clusters[operation - 10][0]\n",
    "            self.action_device.append(device)\n",
    "            self.action_type.append(operation-10)\n",
    "            difference = len(self.action_device) - self.max_actions\n",
    "            if difference >= 0:\n",
    "                for i in range(difference):\n",
    "                    self.action_device.pop(0)\n",
    "                    self.action_type.pop(0)\n",
    "\n",
    "    def round_robin(self):\n",
    "        allocation_round = []\n",
    "        capacities = [50,50,2,2,2,2,2,2,2,2,2,2,2,2,2,2,2,2]  # CHANGEEEEEEEEEEEEEEEEEEEEE\n",
    "        index = 0\n",
    "        server_index = 0\n",
    "        for i in range(len(self.data_allocation)):\n",
    "            if index == self.num_c + self.num_s:\n",
    "                index = 0\n",
    "            if (index != 0 or index != 1) and capacities[index] - self.weights[self.data_types[i]] <= 0.2 * 2:      # CHANGEEEEEEEEEEEEEEEEEEEEE\n",
    "                allocation_round.append(server_index)\n",
    "                capacities[server_index] -= self.weights[self.data_types[i]]\n",
    "                server_index = 1 if server_index == 0 else 0\n",
    "            else:\n",
    "                allocation_round.append(index)\n",
    "                capacities[index] -= self.weights[self.data_types[i]]\n",
    "                index += 1\n",
    "        self.data_allocation = allocation_round.copy()\n",
    "        self.construct_dictionaries()\n",
    "        for i in range(80 - len(allocation_round)):      # REMEMBER TO CHANGE !!!!!!!!!!!!!!\n",
    "            allocation_round.append(random.randint(0,self.num_c+self.num_s-1))\n",
    "        return allocation_round\n",
    "\n",
    "    def greedy_server(self):\n",
    "        allocation_greedy= []\n",
    "        index = 0\n",
    "        for i in range(len(self.data_allocation)):\n",
    "            allocation_greedy.append(index)\n",
    "            index = 1 if index == 0 else 0          # CHANGEEEEEEEEEEEEEEEEEEEEE\n",
    "        self.data_allocation = allocation_greedy.copy()\n",
    "        self.construct_dictionaries()\n",
    "        for i in range(122 - len(allocation_greedy)):      # REMEMBER TO CHANGE !!!!!!!!!!!!!!\n",
    "            allocation_greedy.append(random.randint(0,self.num_c+self.num_s-1))\n",
    "        return allocation_greedy\n",
    "\n",
    "    def greedy_algorithm(self):\n",
    "        if self.space_flag == -1:\n",
    "            # print(\"It's ok\")\n",
    "            allocation = []\n",
    "            for i in self.data_types:\n",
    "                allocation.append(random.sample(list(self.clusters[i]),1)[0])\n",
    "            self.data_allocation = allocation.copy()\n",
    "            self.construct_dictionaries()\n",
    "            for i in range(122 - len(allocation)):      # REMEMBER TO CHANGE !!!!!!!!!!!!!!\n",
    "                allocation.append(random.randint(0,self.num_c+self.num_s-1))\n",
    "            return allocation\n",
    "        else:\n",
    "            # print(\"Problem\")\n",
    "            problematic_key = None\n",
    "            for key, value in self.clusters.items():\n",
    "                if self.space_flag in value:\n",
    "                    problematic_key = key\n",
    "                    break\n",
    "            for i in range(self.num_c):\n",
    "                self.clusters[problematic_key].append(i)\n",
    "            self.space_flag = -1\n",
    "            return self.greedy_algorithm()"
   ],
   "metadata": {
    "collapsed": false
   }
  },
  {
   "cell_type": "code",
   "execution_count": 7,
   "outputs": [
    {
     "name": "stdout",
     "output_type": "stream",
     "text": [
      "{0: [2, 3], 1: [4, 5], 2: [6, 7], 3: [0]}\n",
      "[2, 3, 4, 5, 6, 7, 0, 1, 2, 3, 4, 5, 6, 7, 0, 1, 2, 3, 4, 5, 6, 7, 2, 3, 4, 5, 6, 7, 0, 1, 2, 3, 4, 5, 6, 7, 0, 1, 2, 3, 4, 5, 6, 7, 0, 1, 2, 3, 4, 5, 6, 7]\n",
      "52\n"
     ]
    }
   ],
   "source": [
    "executions = [[0,1,2,10],\n",
    "              [0,1,2,11],\n",
    "              [0,1,2,12],\n",
    "              [0,1,2,3],\n",
    "              [0,1,2,10],\n",
    "              [0,1,2,11],\n",
    "              [0,1,2,12],\n",
    "              [0,1,2,3],\n",
    "              [0,1,2,13]]\n",
    "\n",
    "architecture = Architecture()\n",
    "print(architecture.clusters)\n",
    "\n",
    "for i in range(3):\n",
    "    for j in executions:\n",
    "        architecture.heart_beat()\n",
    "        for h in j:\n",
    "            architecture.generate(h)\n",
    "print(architecture.data_allocation)\n",
    "print(len(architecture.data_allocation))\n",
    "# print(architecture.data)\n",
    "# print(architecture.action_device)\n",
    "# print(architecture.action_type)\n",
    "# architecture.round_robin()\n",
    "# print(architecture.compute_normalized_latency_dict())\n",
    "# architecture.greedy_server()\n",
    "# print(architecture.compute_normalized_latency_dict())"
   ],
   "metadata": {
    "collapsed": false
   }
  },
  {
   "cell_type": "code",
   "execution_count": 278,
   "outputs": [],
   "source": [
    "# 6: [2,4,4,3]\n",
    "# 10: [3,6,6,5]\n",
    "# 16: [4.5,9,9,8]\n",
    "class AcesStepArchitectureEnv(Env):\n",
    "    def __init__(self, num_stations):\n",
    "        self.architecture = Architecture()\n",
    "        self.executions = [[0,1,2,10],\n",
    "                           [0,1,2,11],\n",
    "                           [0,1,2,12],\n",
    "                           [0,1,2,3],\n",
    "                           [0,1,2,10],\n",
    "                           [0,1,2,11],\n",
    "                           [0,1,2,12],\n",
    "                           [0,1,2,3],\n",
    "                           [0,1,2,13]]\n",
    "        self.execution_index = 0\n",
    "        self.num_devices = len(self.architecture.devices.keys())\n",
    "        self.num_stations = num_stations\n",
    "        self.multipliers = {\n",
    "            6: [2,4,4,3],\n",
    "            10: [3,6,6,5],\n",
    "            16: [4.5,9,9,8]\n",
    "        }\n",
    "\n",
    "        self.free_space = [self.architecture.c_capacity,self.architecture.c_capacity]\n",
    "        self.max_free_space = [self.architecture.c_capacity,self.architecture.c_capacity]\n",
    "\n",
    "        for i in range(self.num_stations):\n",
    "            self.free_space.append(self.architecture.s_capacity)\n",
    "            self.max_free_space.append(self.architecture.s_capacity)\n",
    "\n",
    "        self.last_call = [-1]\n",
    "        self.weight = 0\n",
    "        self.type = 0\n",
    "        self.flag = False\n",
    "\n",
    "        self.observation_space = Dict({\n",
    "            \"weight\": Box(low=0, high=5, shape=(1,), dtype=np.float32),\n",
    "            \"free_space\": Box(low=-10, high=50, shape=(self.num_devices,), dtype=np.float32),\n",
    "            \"last_calls\": Box(low=-1, high=self.num_devices-1, shape=(2,), dtype=np.int32)               # CHAAAAAAAAAAAAAAAAAAAAAAAAAANGE\n",
    "        })\n",
    "\n",
    "        self.action_space = Box(low=0, high=self.num_devices-1, shape=(2,), dtype=np.int32)\n",
    "\n",
    "        self.reward = 0\n",
    "\n",
    "    def get_obs(self, type):\n",
    "        self.weight = self.architecture.weights[type] * self.multipliers[self.num_stations][type]\n",
    "        self.flag = True if self.flag == False else False\n",
    "        indices = set()\n",
    "        for i in range(len(self.architecture.action_type)):\n",
    "            if self.architecture.action_type[i]==type:\n",
    "                indices.add(self.architecture.action_device[i])\n",
    "        if len(indices) == 2:\n",
    "            self.last_call = list(indices)\n",
    "        elif len(indices) == 1:\n",
    "            self.last_call = list(indices)\n",
    "            self.last_call.append(-1)\n",
    "        else:\n",
    "            self.last_call = [-1,-1]\n",
    "        return {\n",
    "            \"weight\": np.array([self.weight]),\n",
    "            \"free_space\": np.array(self.free_space),\n",
    "            \"last_calls\": np.array(self.last_call)\n",
    "        }\n",
    "\n",
    "    def step(self,action):\n",
    "        latency = 0\n",
    "        alert = False\n",
    "        computed_latencies = 0\n",
    "        for location in action:\n",
    "            for call in self.last_call:\n",
    "                if call != -1:\n",
    "                    latency += self.architecture.latencies[call][location]\n",
    "                    computed_latencies+=1\n",
    "            self.free_space[location] -= self.weight\n",
    "        for i in range(len(self.free_space)):\n",
    "            if self.free_space[i] <= self.max_free_space[i]*0.2:\n",
    "                alert = True\n",
    "\n",
    "        reward = -1 if alert else 1 - (latency / (computed_latencies * 22+1))\n",
    "\n",
    "        done = False\n",
    "        info = {'type': self.type}\n",
    "\n",
    "        if self.type == 3 and self.flag == False:\n",
    "            done = True\n",
    "        if self.type !=3:\n",
    "            if self.flag == False:\n",
    "                self.type += 1\n",
    "\n",
    "        return self.get_obs(self.type), reward, done, info\n",
    "\n",
    "    def reset(self):\n",
    "        self.architecture.heart_beat()\n",
    "        for execution in self.executions[self.execution_index]:\n",
    "            self.architecture.generate(execution)\n",
    "\n",
    "        self.free_space = [self.architecture.c_capacity,self.architecture.c_capacity]\n",
    "        for i in range(self.num_stations):\n",
    "            self.free_space.append(self.architecture.s_capacity)\n",
    "\n",
    "        self.execution_index = self.execution_index +1 if self.execution_index <= len(self.executions) - 2 else 0\n",
    "        self.type = 0\n",
    "        self.iter = 0\n",
    "        self.flag=False\n",
    "        return self.get_obs(self.type)\n",
    "\n",
    "    def close(self):\n",
    "        print('CLOSED')"
   ],
   "metadata": {
    "collapsed": false
   }
  },
  {
   "cell_type": "code",
   "execution_count": 279,
   "outputs": [],
   "source": [
    "ar = AcesStepArchitectureEnv(6)"
   ],
   "metadata": {
    "collapsed": false
   }
  },
  {
   "cell_type": "code",
   "execution_count": 280,
   "outputs": [
    {
     "data": {
      "text/plain": "{'weight': array([0.025]),\n 'free_space': array([50, 50,  2,  2,  2,  2,  2,  2]),\n 'last_calls': array([ 2, -1])}"
     },
     "execution_count": 280,
     "metadata": {},
     "output_type": "execute_result"
    }
   ],
   "source": [
    "ar.reset()"
   ],
   "metadata": {
    "collapsed": false
   }
  },
  {
   "cell_type": "code",
   "execution_count": 281,
   "outputs": [
    {
     "data": {
      "text/plain": "array([2, 2], dtype=int32)"
     },
     "execution_count": 281,
     "metadata": {},
     "output_type": "execute_result"
    }
   ],
   "source": [
    "ar.action_space.sample()"
   ],
   "metadata": {
    "collapsed": false
   }
  },
  {
   "cell_type": "code",
   "execution_count": 269,
   "outputs": [
    {
     "data": {
      "text/plain": "({'weight': array([1.5]),\n  'free_space': array([47.   , 46.975,  1.992,  1.815,  0.416,  0.391,  1.975,  2.   ]),\n  'last_calls': array([-1, -1])},\n -1,\n False,\n {'type': 3})"
     },
     "execution_count": 269,
     "metadata": {},
     "output_type": "execute_result"
    }
   ],
   "source": [
    "ar.step(ar.action_space.sample())"
   ],
   "metadata": {
    "collapsed": false
   }
  },
  {
   "cell_type": "code",
   "execution_count": 272,
   "outputs": [],
   "source": [
    "ar.step(ar.action_space.sample())\n",
    "from ray.rllib.utils import check_env\n",
    "from gymnasium.wrappers import EnvCompatibility\n",
    "\n",
    "simulated_aces = AcesStepArchitectureEnv(6)\n",
    "check_env(EnvCompatibility(simulated_aces))"
   ],
   "metadata": {
    "collapsed": false
   }
  },
  {
   "cell_type": "code",
   "execution_count": 282,
   "outputs": [
    {
     "name": "stderr",
     "output_type": "stream",
     "text": [
      "2023-06-22 18:24:29,571\tINFO worker.py:1553 -- Started a local Ray instance.\n",
      "2023-06-22 18:24:40,321\tINFO trainable.py:172 -- Trainable.setup took 13.883 seconds. If your trainable is slow to initialize, consider setting reuse_actors=True to reduce actor creation overheads.\n",
      "2023-06-22 18:24:40,322\tWARNING util.py:67 -- Install gputil for GPU system monitoring.\n",
      "  1%|█▋                                                                                                                                                                            | 1/100 [00:11<19:16, 11.69s/it]"
     ]
    },
    {
     "name": "stdout",
     "output_type": "stream",
     "text": [
      "4.981511522543041\n"
     ]
    },
    {
     "name": "stderr",
     "output_type": "stream",
     "text": [
      "  2%|███▍                                                                                                                                                                          | 2/100 [00:23<19:03, 11.66s/it]"
     ]
    },
    {
     "name": "stdout",
     "output_type": "stream",
     "text": [
      "6.211859094651016\n"
     ]
    },
    {
     "name": "stderr",
     "output_type": "stream",
     "text": [
      "  3%|█████▏                                                                                                                                                                        | 3/100 [00:34<18:48, 11.64s/it]"
     ]
    },
    {
     "name": "stdout",
     "output_type": "stream",
     "text": [
      "6.240136229939333\n"
     ]
    },
    {
     "name": "stderr",
     "output_type": "stream",
     "text": [
      "  4%|██████▉                                                                                                                                                                       | 4/100 [00:46<18:48, 11.76s/it]"
     ]
    },
    {
     "name": "stdout",
     "output_type": "stream",
     "text": [
      "6.256620697776654\n"
     ]
    },
    {
     "name": "stderr",
     "output_type": "stream",
     "text": [
      "  5%|████████▋                                                                                                                                                                     | 5/100 [00:58<18:38, 11.77s/it]"
     ]
    },
    {
     "name": "stdout",
     "output_type": "stream",
     "text": [
      "6.157184348579819\n"
     ]
    },
    {
     "name": "stderr",
     "output_type": "stream",
     "text": [
      "  6%|██████████▍                                                                                                                                                                   | 6/100 [01:10<18:28, 11.79s/it]"
     ]
    },
    {
     "name": "stdout",
     "output_type": "stream",
     "text": [
      "6.289343386979374\n"
     ]
    },
    {
     "name": "stderr",
     "output_type": "stream",
     "text": [
      "  7%|████████████▏                                                                                                                                                                 | 7/100 [01:22<18:12, 11.75s/it]"
     ]
    },
    {
     "name": "stdout",
     "output_type": "stream",
     "text": [
      "6.283810105385457\n"
     ]
    },
    {
     "name": "stderr",
     "output_type": "stream",
     "text": [
      "  8%|█████████████▉                                                                                                                                                                | 8/100 [01:33<17:52, 11.65s/it]"
     ]
    },
    {
     "name": "stdout",
     "output_type": "stream",
     "text": [
      "6.152218345767291\n"
     ]
    },
    {
     "name": "stderr",
     "output_type": "stream",
     "text": [
      "  9%|███████████████▋                                                                                                                                                              | 9/100 [01:45<17:48, 11.74s/it]"
     ]
    },
    {
     "name": "stdout",
     "output_type": "stream",
     "text": [
      "6.328719208114918\n"
     ]
    },
    {
     "name": "stderr",
     "output_type": "stream",
     "text": [
      " 10%|█████████████████▎                                                                                                                                                           | 10/100 [01:57<17:29, 11.67s/it]"
     ]
    },
    {
     "name": "stdout",
     "output_type": "stream",
     "text": [
      "6.004208566377879\n"
     ]
    },
    {
     "name": "stderr",
     "output_type": "stream",
     "text": [
      " 11%|███████████████████                                                                                                                                                          | 11/100 [02:09<17:33, 11.84s/it]"
     ]
    },
    {
     "name": "stdout",
     "output_type": "stream",
     "text": [
      "6.036090092375618\n"
     ]
    },
    {
     "name": "stderr",
     "output_type": "stream",
     "text": [
      " 12%|████████████████████▊                                                                                                                                                        | 12/100 [02:21<17:22, 11.84s/it]"
     ]
    },
    {
     "name": "stdout",
     "output_type": "stream",
     "text": [
      "4.54404888293861\n"
     ]
    },
    {
     "name": "stderr",
     "output_type": "stream",
     "text": [
      " 13%|██████████████████████▍                                                                                                                                                      | 13/100 [02:33<17:13, 11.88s/it]"
     ]
    },
    {
     "name": "stdout",
     "output_type": "stream",
     "text": [
      "6.085999051500438\n"
     ]
    },
    {
     "name": "stderr",
     "output_type": "stream",
     "text": [
      " 14%|████████████████████████▏                                                                                                                                                    | 14/100 [02:44<16:57, 11.84s/it]"
     ]
    },
    {
     "name": "stdout",
     "output_type": "stream",
     "text": [
      "6.0810513081068\n"
     ]
    },
    {
     "name": "stderr",
     "output_type": "stream",
     "text": [
      " 15%|█████████████████████████▉                                                                                                                                                   | 15/100 [02:56<16:51, 11.90s/it]"
     ]
    },
    {
     "name": "stdout",
     "output_type": "stream",
     "text": [
      "6.04090203035679\n"
     ]
    },
    {
     "name": "stderr",
     "output_type": "stream",
     "text": [
      "Exception in thread Thread-796:\n",
      "Traceback (most recent call last):\n",
      "  File \"/usr/lib/python3.10/threading.py\", line 1016, in _bootstrap_inner\n",
      "    self.run()\n",
      "  File \"/home/rcalzada/.local/lib/python3.10/site-packages/ray/rllib/execution/learner_thread.py\", line 74, in run\n",
      "    self.step()\n",
      "  File \"/home/rcalzada/.local/lib/python3.10/site-packages/ray/rllib/execution/multi_gpu_learner_thread.py\", line 143, in step\n",
      "    buffer_idx, released = self.ready_tower_stacks_buffer.get()\n",
      "  File \"/home/rcalzada/.local/lib/python3.10/site-packages/ray/rllib/execution/minibatch_buffer.py\", line 48, in get\n",
      "    self.buffers[self.idx] = self.inqueue.get(timeout=self.timeout)\n",
      "  File \"/usr/lib/python3.10/queue.py\", line 179, in get\n",
      "    raise Empty\n",
      "_queue.Empty\n",
      " 16%|███████████████████████████▋                                                                                                                                                 | 16/100 [03:08<16:34, 11.84s/it]"
     ]
    },
    {
     "name": "stdout",
     "output_type": "stream",
     "text": [
      "6.020469389910813\n"
     ]
    },
    {
     "name": "stderr",
     "output_type": "stream",
     "text": [
      " 17%|█████████████████████████████▍                                                                                                                                               | 17/100 [03:20<16:25, 11.87s/it]"
     ]
    },
    {
     "name": "stdout",
     "output_type": "stream",
     "text": [
      "5.15295645130377\n"
     ]
    },
    {
     "name": "stderr",
     "output_type": "stream",
     "text": [
      " 18%|███████████████████████████████▏                                                                                                                                             | 18/100 [03:32<16:21, 11.97s/it]"
     ]
    },
    {
     "name": "stdout",
     "output_type": "stream",
     "text": [
      "5.816771316422986\n"
     ]
    },
    {
     "name": "stderr",
     "output_type": "stream",
     "text": [
      " 19%|████████████████████████████████▊                                                                                                                                            | 19/100 [03:44<16:01, 11.87s/it]"
     ]
    },
    {
     "name": "stdout",
     "output_type": "stream",
     "text": [
      "5.7328540660574765\n"
     ]
    },
    {
     "name": "stderr",
     "output_type": "stream",
     "text": [
      " 20%|██████████████████████████████████▌                                                                                                                                          | 20/100 [03:56<15:49, 11.87s/it]"
     ]
    },
    {
     "name": "stdout",
     "output_type": "stream",
     "text": [
      "5.715225009965801\n"
     ]
    },
    {
     "name": "stderr",
     "output_type": "stream",
     "text": [
      " 21%|████████████████████████████████████▎                                                                                                                                        | 21/100 [04:07<15:33, 11.82s/it]"
     ]
    },
    {
     "name": "stdout",
     "output_type": "stream",
     "text": [
      "6.111706051589111\n"
     ]
    },
    {
     "name": "stderr",
     "output_type": "stream",
     "text": [
      " 22%|██████████████████████████████████████                                                                                                                                       | 22/100 [04:19<15:17, 11.77s/it]"
     ]
    },
    {
     "name": "stdout",
     "output_type": "stream",
     "text": [
      "5.0013595604862315\n"
     ]
    },
    {
     "name": "stderr",
     "output_type": "stream",
     "text": [
      " 23%|███████████████████████████████████████▊                                                                                                                                     | 23/100 [04:31<15:11, 11.84s/it]"
     ]
    },
    {
     "name": "stdout",
     "output_type": "stream",
     "text": [
      "5.091512431366786\n"
     ]
    },
    {
     "name": "stderr",
     "output_type": "stream",
     "text": [
      " 24%|█████████████████████████████████████████▌                                                                                                                                   | 24/100 [04:43<15:04, 11.91s/it]"
     ]
    },
    {
     "name": "stdout",
     "output_type": "stream",
     "text": [
      "5.649228239729658\n"
     ]
    },
    {
     "name": "stderr",
     "output_type": "stream",
     "text": [
      " 25%|███████████████████████████████████████████▎                                                                                                                                 | 25/100 [04:55<14:47, 11.84s/it]"
     ]
    },
    {
     "name": "stdout",
     "output_type": "stream",
     "text": [
      "5.524256940522786\n"
     ]
    },
    {
     "name": "stderr",
     "output_type": "stream",
     "text": [
      " 26%|████████████████████████████████████████████▉                                                                                                                                | 26/100 [05:07<14:32, 11.79s/it]"
     ]
    },
    {
     "name": "stdout",
     "output_type": "stream",
     "text": [
      "6.094463339235095\n"
     ]
    },
    {
     "name": "stderr",
     "output_type": "stream",
     "text": [
      " 27%|██████████████████████████████████████████████▋                                                                                                                              | 27/100 [05:18<14:20, 11.79s/it]"
     ]
    },
    {
     "name": "stdout",
     "output_type": "stream",
     "text": [
      "5.753316335422397\n"
     ]
    },
    {
     "name": "stderr",
     "output_type": "stream",
     "text": [
      " 28%|████████████████████████████████████████████████▍                                                                                                                            | 28/100 [05:30<14:08, 11.79s/it]"
     ]
    },
    {
     "name": "stdout",
     "output_type": "stream",
     "text": [
      "5.9977738163574905\n"
     ]
    },
    {
     "name": "stderr",
     "output_type": "stream",
     "text": [
      " 29%|██████████████████████████████████████████████████▏                                                                                                                          | 29/100 [05:42<14:07, 11.94s/it]"
     ]
    },
    {
     "name": "stdout",
     "output_type": "stream",
     "text": [
      "5.610920874651942\n"
     ]
    },
    {
     "name": "stderr",
     "output_type": "stream",
     "text": [
      " 30%|███████████████████████████████████████████████████▉                                                                                                                         | 30/100 [05:54<13:49, 11.85s/it]"
     ]
    },
    {
     "name": "stdout",
     "output_type": "stream",
     "text": [
      "5.932047894577682\n"
     ]
    },
    {
     "name": "stderr",
     "output_type": "stream",
     "text": [
      " 31%|█████████████████████████████████████████████████████▋                                                                                                                       | 31/100 [06:06<13:33, 11.80s/it]"
     ]
    },
    {
     "name": "stdout",
     "output_type": "stream",
     "text": [
      "6.290106617388476\n"
     ]
    },
    {
     "name": "stderr",
     "output_type": "stream",
     "text": [
      " 32%|███████████████████████████████████████████████████████▎                                                                                                                     | 32/100 [06:18<13:23, 11.82s/it]"
     ]
    },
    {
     "name": "stdout",
     "output_type": "stream",
     "text": [
      "6.344785135118657\n"
     ]
    },
    {
     "name": "stderr",
     "output_type": "stream",
     "text": [
      " 33%|█████████████████████████████████████████████████████████                                                                                                                    | 33/100 [06:29<13:11, 11.81s/it]"
     ]
    },
    {
     "name": "stdout",
     "output_type": "stream",
     "text": [
      "6.375247057583738\n"
     ]
    },
    {
     "name": "stderr",
     "output_type": "stream",
     "text": [
      " 34%|██████████████████████████████████████████████████████████▊                                                                                                                  | 34/100 [06:41<12:58, 11.80s/it]"
     ]
    },
    {
     "name": "stdout",
     "output_type": "stream",
     "text": [
      "6.363124701466479\n"
     ]
    },
    {
     "name": "stderr",
     "output_type": "stream",
     "text": [
      " 35%|████████████████████████████████████████████████████████████▌                                                                                                                | 35/100 [06:53<12:46, 11.80s/it]"
     ]
    },
    {
     "name": "stdout",
     "output_type": "stream",
     "text": [
      "6.422693558805554\n"
     ]
    },
    {
     "name": "stderr",
     "output_type": "stream",
     "text": [
      " 36%|██████████████████████████████████████████████████████████████▎                                                                                                              | 36/100 [07:05<12:32, 11.76s/it]"
     ]
    },
    {
     "name": "stdout",
     "output_type": "stream",
     "text": [
      "6.443461108573163\n"
     ]
    },
    {
     "name": "stderr",
     "output_type": "stream",
     "text": [
      " 37%|████████████████████████████████████████████████████████████████                                                                                                             | 37/100 [07:16<12:16, 11.68s/it]"
     ]
    },
    {
     "name": "stdout",
     "output_type": "stream",
     "text": [
      "6.4695353803069535\n"
     ]
    },
    {
     "name": "stderr",
     "output_type": "stream",
     "text": [
      " 38%|█████████████████████████████████████████████████████████████████▋                                                                                                           | 38/100 [07:27<11:58, 11.59s/it]"
     ]
    },
    {
     "name": "stdout",
     "output_type": "stream",
     "text": [
      "6.488004643803361\n"
     ]
    },
    {
     "name": "stderr",
     "output_type": "stream",
     "text": [
      " 39%|███████████████████████████████████████████████████████████████████▍                                                                                                         | 39/100 [07:39<11:48, 11.61s/it]"
     ]
    },
    {
     "name": "stdout",
     "output_type": "stream",
     "text": [
      "6.4221690401763825\n"
     ]
    },
    {
     "name": "stderr",
     "output_type": "stream",
     "text": [
      " 40%|█████████████████████████████████████████████████████████████████████▏                                                                                                       | 40/100 [07:51<11:35, 11.58s/it]"
     ]
    },
    {
     "name": "stdout",
     "output_type": "stream",
     "text": [
      "6.491995078726915\n"
     ]
    },
    {
     "name": "stderr",
     "output_type": "stream",
     "text": [
      " 41%|██████████████████████████████████████████████████████████████████████▉                                                                                                      | 41/100 [08:02<11:21, 11.56s/it]"
     ]
    },
    {
     "name": "stdout",
     "output_type": "stream",
     "text": [
      "6.437816913100784\n"
     ]
    },
    {
     "name": "stderr",
     "output_type": "stream",
     "text": [
      " 42%|████████████████████████████████████████████████████████████████████████▋                                                                                                    | 42/100 [08:14<11:08, 11.53s/it]"
     ]
    },
    {
     "name": "stdout",
     "output_type": "stream",
     "text": [
      "6.533945747594475\n"
     ]
    },
    {
     "name": "stderr",
     "output_type": "stream",
     "text": [
      " 43%|██████████████████████████████████████████████████████████████████████████▍                                                                                                  | 43/100 [08:25<10:59, 11.57s/it]"
     ]
    },
    {
     "name": "stdout",
     "output_type": "stream",
     "text": [
      "6.531682359538128\n"
     ]
    },
    {
     "name": "stderr",
     "output_type": "stream",
     "text": [
      " 44%|████████████████████████████████████████████████████████████████████████████                                                                                                 | 44/100 [08:37<10:48, 11.59s/it]"
     ]
    },
    {
     "name": "stdout",
     "output_type": "stream",
     "text": [
      "5.944644907079363\n"
     ]
    },
    {
     "name": "stderr",
     "output_type": "stream",
     "text": [
      " 45%|█████████████████████████████████████████████████████████████████████████████▊                                                                                               | 45/100 [08:49<10:38, 11.60s/it]"
     ]
    },
    {
     "name": "stdout",
     "output_type": "stream",
     "text": [
      "6.365629501176252\n"
     ]
    },
    {
     "name": "stderr",
     "output_type": "stream",
     "text": [
      " 46%|███████████████████████████████████████████████████████████████████████████████▌                                                                                             | 46/100 [09:01<10:33, 11.73s/it]"
     ]
    },
    {
     "name": "stdout",
     "output_type": "stream",
     "text": [
      "6.448971703958489\n"
     ]
    },
    {
     "name": "stderr",
     "output_type": "stream",
     "text": [
      " 47%|█████████████████████████████████████████████████████████████████████████████████▎                                                                                           | 47/100 [09:13<10:26, 11.82s/it]"
     ]
    },
    {
     "name": "stdout",
     "output_type": "stream",
     "text": [
      "6.52407170945143\n"
     ]
    },
    {
     "name": "stderr",
     "output_type": "stream",
     "text": [
      " 48%|███████████████████████████████████████████████████████████████████████████████████                                                                                          | 48/100 [09:25<10:17, 11.87s/it]"
     ]
    },
    {
     "name": "stdout",
     "output_type": "stream",
     "text": [
      "6.52812950736206\n"
     ]
    },
    {
     "name": "stderr",
     "output_type": "stream",
     "text": [
      " 49%|████████████████████████████████████████████████████████████████████████████████████▊                                                                                        | 49/100 [09:36<10:00, 11.78s/it]"
     ]
    },
    {
     "name": "stdout",
     "output_type": "stream",
     "text": [
      "6.5469624647243885\n"
     ]
    },
    {
     "name": "stderr",
     "output_type": "stream",
     "text": [
      " 50%|██████████████████████████████████████████████████████████████████████████████████████▌                                                                                      | 50/100 [09:48<09:47, 11.76s/it]"
     ]
    },
    {
     "name": "stdout",
     "output_type": "stream",
     "text": [
      "6.542933326119067\n"
     ]
    },
    {
     "name": "stderr",
     "output_type": "stream",
     "text": [
      " 50%|██████████████████████████████████████████████████████████████████████████████████████▌                                                                                      | 50/100 [09:49<09:49, 11.79s/it]\n"
     ]
    },
    {
     "ename": "KeyboardInterrupt",
     "evalue": "",
     "output_type": "error",
     "traceback": [
      "\u001B[0;31m---------------------------------------------------------------------------\u001B[0m",
      "\u001B[0;31mKeyboardInterrupt\u001B[0m                         Traceback (most recent call last)",
      "Cell \u001B[0;32mIn[282], line 33\u001B[0m\n\u001B[1;32m     30\u001B[0m result_unified_6 \u001B[38;5;241m=\u001B[39m[]\n\u001B[1;32m     32\u001B[0m \u001B[38;5;28;01mfor\u001B[39;00m j \u001B[38;5;129;01min\u001B[39;00m tqdm(\u001B[38;5;28mrange\u001B[39m(\u001B[38;5;241m100\u001B[39m)):\n\u001B[0;32m---> 33\u001B[0m     result_train \u001B[38;5;241m=\u001B[39m \u001B[43malgorithm_unified_6\u001B[49m\u001B[38;5;241;43m.\u001B[39;49m\u001B[43mtrain\u001B[49m\u001B[43m(\u001B[49m\u001B[43m)\u001B[49m[\u001B[38;5;124m\"\u001B[39m\u001B[38;5;124mepisode_reward_mean\u001B[39m\u001B[38;5;124m\"\u001B[39m]\n\u001B[1;32m     34\u001B[0m     result_unified_6\u001B[38;5;241m.\u001B[39mappend(result_train)\n\u001B[1;32m     35\u001B[0m     \u001B[38;5;66;03m# if (j%100 == 0):\u001B[39;00m\n",
      "File \u001B[0;32m~/.local/lib/python3.10/site-packages/ray/tune/trainable/trainable.py:365\u001B[0m, in \u001B[0;36mTrainable.train\u001B[0;34m(self)\u001B[0m\n\u001B[1;32m    363\u001B[0m start \u001B[38;5;241m=\u001B[39m time\u001B[38;5;241m.\u001B[39mtime()\n\u001B[1;32m    364\u001B[0m \u001B[38;5;28;01mtry\u001B[39;00m:\n\u001B[0;32m--> 365\u001B[0m     result \u001B[38;5;241m=\u001B[39m \u001B[38;5;28;43mself\u001B[39;49m\u001B[38;5;241;43m.\u001B[39;49m\u001B[43mstep\u001B[49m\u001B[43m(\u001B[49m\u001B[43m)\u001B[49m\n\u001B[1;32m    366\u001B[0m \u001B[38;5;28;01mexcept\u001B[39;00m \u001B[38;5;167;01mException\u001B[39;00m \u001B[38;5;28;01mas\u001B[39;00m e:\n\u001B[1;32m    367\u001B[0m     skipped \u001B[38;5;241m=\u001B[39m skip_exceptions(e)\n",
      "File \u001B[0;32m~/.local/lib/python3.10/site-packages/ray/rllib/algorithms/algorithm.py:782\u001B[0m, in \u001B[0;36mAlgorithm.step\u001B[0;34m(self)\u001B[0m\n\u001B[1;32m    774\u001B[0m     (\n\u001B[1;32m    775\u001B[0m         results,\n\u001B[1;32m    776\u001B[0m         train_iter_ctx,\n\u001B[1;32m    777\u001B[0m     ) \u001B[38;5;241m=\u001B[39m \u001B[38;5;28mself\u001B[39m\u001B[38;5;241m.\u001B[39m_run_one_training_iteration_and_evaluation_in_parallel()\n\u001B[1;32m    778\u001B[0m \u001B[38;5;66;03m# - No evaluation necessary, just run the next training iteration.\u001B[39;00m\n\u001B[1;32m    779\u001B[0m \u001B[38;5;66;03m# - We have to evaluate in this training iteration, but no parallelism ->\u001B[39;00m\n\u001B[1;32m    780\u001B[0m \u001B[38;5;66;03m#   evaluate after the training iteration is entirely done.\u001B[39;00m\n\u001B[1;32m    781\u001B[0m \u001B[38;5;28;01melse\u001B[39;00m:\n\u001B[0;32m--> 782\u001B[0m     results, train_iter_ctx \u001B[38;5;241m=\u001B[39m \u001B[38;5;28;43mself\u001B[39;49m\u001B[38;5;241;43m.\u001B[39;49m\u001B[43m_run_one_training_iteration\u001B[49m\u001B[43m(\u001B[49m\u001B[43m)\u001B[49m\n\u001B[1;32m    784\u001B[0m \u001B[38;5;66;03m# Sequential: Train (already done above), then evaluate.\u001B[39;00m\n\u001B[1;32m    785\u001B[0m \u001B[38;5;28;01mif\u001B[39;00m evaluate_this_iter \u001B[38;5;129;01mand\u001B[39;00m \u001B[38;5;129;01mnot\u001B[39;00m \u001B[38;5;28mself\u001B[39m\u001B[38;5;241m.\u001B[39mconfig\u001B[38;5;241m.\u001B[39mevaluation_parallel_to_training:\n",
      "File \u001B[0;32m~/.local/lib/python3.10/site-packages/ray/rllib/algorithms/algorithm.py:2713\u001B[0m, in \u001B[0;36mAlgorithm._run_one_training_iteration\u001B[0;34m(self)\u001B[0m\n\u001B[1;32m   2711\u001B[0m \u001B[38;5;28;01mwith\u001B[39;00m \u001B[38;5;28mself\u001B[39m\u001B[38;5;241m.\u001B[39m_timers[TRAINING_ITERATION_TIMER]:\n\u001B[1;32m   2712\u001B[0m     \u001B[38;5;28;01mif\u001B[39;00m \u001B[38;5;28mself\u001B[39m\u001B[38;5;241m.\u001B[39mconfig\u001B[38;5;241m.\u001B[39m_disable_execution_plan_api:\n\u001B[0;32m-> 2713\u001B[0m         results \u001B[38;5;241m=\u001B[39m \u001B[38;5;28;43mself\u001B[39;49m\u001B[38;5;241;43m.\u001B[39;49m\u001B[43mtraining_step\u001B[49m\u001B[43m(\u001B[49m\u001B[43m)\u001B[49m\n\u001B[1;32m   2714\u001B[0m     \u001B[38;5;28;01melse\u001B[39;00m:\n\u001B[1;32m   2715\u001B[0m         results \u001B[38;5;241m=\u001B[39m \u001B[38;5;28mnext\u001B[39m(\u001B[38;5;28mself\u001B[39m\u001B[38;5;241m.\u001B[39mtrain_exec_impl)\n",
      "File \u001B[0;32m~/.local/lib/python3.10/site-packages/ray/rllib/algorithms/impala/impala.py:578\u001B[0m, in \u001B[0;36mImpala.training_step\u001B[0;34m(self)\u001B[0m\n\u001B[1;32m    576\u001B[0m \u001B[38;5;66;03m# Sync worker weights (only those policies that were actually updated).\u001B[39;00m\n\u001B[1;32m    577\u001B[0m \u001B[38;5;28;01mwith\u001B[39;00m \u001B[38;5;28mself\u001B[39m\u001B[38;5;241m.\u001B[39m_timers[SYNCH_WORKER_WEIGHTS_TIMER]:\n\u001B[0;32m--> 578\u001B[0m     \u001B[38;5;28;43mself\u001B[39;49m\u001B[38;5;241;43m.\u001B[39;49m\u001B[43mupdate_workers_if_necessary\u001B[49m\u001B[43m(\u001B[49m\n\u001B[1;32m    579\u001B[0m \u001B[43m        \u001B[49m\u001B[43mworkers_that_need_updates\u001B[49m\u001B[38;5;241;43m=\u001B[39;49m\u001B[43mworkers_that_need_updates\u001B[49m\u001B[43m,\u001B[49m\n\u001B[1;32m    580\u001B[0m \u001B[43m        \u001B[49m\u001B[43mpolicy_ids\u001B[49m\u001B[38;5;241;43m=\u001B[39;49m\u001B[38;5;28;43mlist\u001B[39;49m\u001B[43m(\u001B[49m\u001B[43mtrain_results\u001B[49m\u001B[38;5;241;43m.\u001B[39;49m\u001B[43mkeys\u001B[49m\u001B[43m(\u001B[49m\u001B[43m)\u001B[49m\u001B[43m)\u001B[49m\u001B[43m,\u001B[49m\n\u001B[1;32m    581\u001B[0m \u001B[43m    \u001B[49m\u001B[43m)\u001B[49m\n\u001B[1;32m    583\u001B[0m \u001B[38;5;66;03m# With a training step done, try to bring any aggregators back to life\u001B[39;00m\n\u001B[1;32m    584\u001B[0m \u001B[38;5;66;03m# if necessary.\u001B[39;00m\n\u001B[1;32m    585\u001B[0m \u001B[38;5;66;03m# Aggregation workers are stateless, so we do not need to restore any\u001B[39;00m\n\u001B[1;32m    586\u001B[0m \u001B[38;5;66;03m# state here.\u001B[39;00m\n\u001B[1;32m    587\u001B[0m \u001B[38;5;28;01mif\u001B[39;00m \u001B[38;5;28mself\u001B[39m\u001B[38;5;241m.\u001B[39m_aggregator_actor_manager:\n",
      "File \u001B[0;32m~/.local/lib/python3.10/site-packages/ray/rllib/algorithms/impala/impala.py:855\u001B[0m, in \u001B[0;36mImpala.update_workers_if_necessary\u001B[0;34m(self, workers_that_need_updates, policy_ids)\u001B[0m\n\u001B[1;32m    852\u001B[0m \u001B[38;5;28mself\u001B[39m\u001B[38;5;241m.\u001B[39m_counters[NUM_TRAINING_STEP_CALLS_SINCE_LAST_SYNCH_WORKER_WEIGHTS] \u001B[38;5;241m=\u001B[39m \u001B[38;5;241m0\u001B[39m\n\u001B[1;32m    853\u001B[0m \u001B[38;5;28mself\u001B[39m\u001B[38;5;241m.\u001B[39m_counters[NUM_SYNCH_WORKER_WEIGHTS] \u001B[38;5;241m+\u001B[39m\u001B[38;5;241m=\u001B[39m \u001B[38;5;241m1\u001B[39m\n\u001B[0;32m--> 855\u001B[0m \u001B[38;5;28;43mself\u001B[39;49m\u001B[38;5;241;43m.\u001B[39;49m\u001B[43mworkers\u001B[49m\u001B[38;5;241;43m.\u001B[39;49m\u001B[43mforeach_worker\u001B[49m\u001B[43m(\u001B[49m\n\u001B[1;32m    856\u001B[0m \u001B[43m    \u001B[49m\u001B[43mfunc\u001B[49m\u001B[38;5;241;43m=\u001B[39;49m\u001B[38;5;28;43;01mlambda\u001B[39;49;00m\u001B[43m \u001B[49m\u001B[43mw\u001B[49m\u001B[43m:\u001B[49m\u001B[43m \u001B[49m\u001B[43mw\u001B[49m\u001B[38;5;241;43m.\u001B[39;49m\u001B[43mset_weights\u001B[49m\u001B[43m(\u001B[49m\u001B[43mray\u001B[49m\u001B[38;5;241;43m.\u001B[39;49m\u001B[43mget\u001B[49m\u001B[43m(\u001B[49m\u001B[43mweights\u001B[49m\u001B[43m)\u001B[49m\u001B[43m,\u001B[49m\u001B[43m \u001B[49m\u001B[43mglobal_vars\u001B[49m\u001B[43m)\u001B[49m\u001B[43m,\u001B[49m\n\u001B[1;32m    857\u001B[0m \u001B[43m    \u001B[49m\u001B[43mlocal_worker\u001B[49m\u001B[38;5;241;43m=\u001B[39;49m\u001B[38;5;28;43;01mFalse\u001B[39;49;00m\u001B[43m,\u001B[49m\n\u001B[1;32m    858\u001B[0m \u001B[43m    \u001B[49m\u001B[43mremote_worker_ids\u001B[49m\u001B[38;5;241;43m=\u001B[39;49m\u001B[38;5;28;43mlist\u001B[39;49m\u001B[43m(\u001B[49m\u001B[43mworkers_that_need_updates\u001B[49m\u001B[43m)\u001B[49m\u001B[43m,\u001B[49m\n\u001B[1;32m    859\u001B[0m \u001B[43m    \u001B[49m\u001B[43mtimeout_seconds\u001B[49m\u001B[38;5;241;43m=\u001B[39;49m\u001B[38;5;241;43m0\u001B[39;49m\u001B[43m,\u001B[49m\u001B[43m  \u001B[49m\u001B[38;5;66;43;03m# Don't wait for the workers to finish.\u001B[39;49;00m\n\u001B[1;32m    860\u001B[0m \u001B[43m\u001B[49m\u001B[43m)\u001B[49m\n",
      "File \u001B[0;32m~/.local/lib/python3.10/site-packages/ray/rllib/evaluation/worker_set.py:692\u001B[0m, in \u001B[0;36mWorkerSet.foreach_worker\u001B[0;34m(self, func, local_worker, healthy_only, remote_worker_ids, timeout_seconds, return_obj_refs, mark_healthy)\u001B[0m\n\u001B[1;32m    689\u001B[0m \u001B[38;5;28;01mif\u001B[39;00m local_worker \u001B[38;5;129;01mand\u001B[39;00m \u001B[38;5;28mself\u001B[39m\u001B[38;5;241m.\u001B[39mlocal_worker() \u001B[38;5;129;01mis\u001B[39;00m \u001B[38;5;129;01mnot\u001B[39;00m \u001B[38;5;28;01mNone\u001B[39;00m:\n\u001B[1;32m    690\u001B[0m     local_result \u001B[38;5;241m=\u001B[39m [func(\u001B[38;5;28mself\u001B[39m\u001B[38;5;241m.\u001B[39mlocal_worker())]\n\u001B[0;32m--> 692\u001B[0m remote_results \u001B[38;5;241m=\u001B[39m \u001B[38;5;28;43mself\u001B[39;49m\u001B[38;5;241;43m.\u001B[39;49m\u001B[43m__worker_manager\u001B[49m\u001B[38;5;241;43m.\u001B[39;49m\u001B[43mforeach_actor\u001B[49m\u001B[43m(\u001B[49m\n\u001B[1;32m    693\u001B[0m \u001B[43m    \u001B[49m\u001B[43mfunc\u001B[49m\u001B[43m,\u001B[49m\n\u001B[1;32m    694\u001B[0m \u001B[43m    \u001B[49m\u001B[43mhealthy_only\u001B[49m\u001B[38;5;241;43m=\u001B[39;49m\u001B[43mhealthy_only\u001B[49m\u001B[43m,\u001B[49m\n\u001B[1;32m    695\u001B[0m \u001B[43m    \u001B[49m\u001B[43mremote_actor_ids\u001B[49m\u001B[38;5;241;43m=\u001B[39;49m\u001B[43mremote_worker_ids\u001B[49m\u001B[43m,\u001B[49m\n\u001B[1;32m    696\u001B[0m \u001B[43m    \u001B[49m\u001B[43mtimeout_seconds\u001B[49m\u001B[38;5;241;43m=\u001B[39;49m\u001B[43mtimeout_seconds\u001B[49m\u001B[43m,\u001B[49m\n\u001B[1;32m    697\u001B[0m \u001B[43m    \u001B[49m\u001B[43mreturn_obj_refs\u001B[49m\u001B[38;5;241;43m=\u001B[39;49m\u001B[43mreturn_obj_refs\u001B[49m\u001B[43m,\u001B[49m\n\u001B[1;32m    698\u001B[0m \u001B[43m    \u001B[49m\u001B[43mmark_healthy\u001B[49m\u001B[38;5;241;43m=\u001B[39;49m\u001B[43mmark_healthy\u001B[49m\u001B[43m,\u001B[49m\n\u001B[1;32m    699\u001B[0m \u001B[43m\u001B[49m\u001B[43m)\u001B[49m\n\u001B[1;32m    701\u001B[0m handle_remote_call_result_errors(remote_results, \u001B[38;5;28mself\u001B[39m\u001B[38;5;241m.\u001B[39m_ignore_worker_failures)\n\u001B[1;32m    703\u001B[0m \u001B[38;5;66;03m# With application errors handled, return good results.\u001B[39;00m\n",
      "File \u001B[0;32m~/.local/lib/python3.10/site-packages/ray/rllib/utils/actor_manager.py:583\u001B[0m, in \u001B[0;36mFaultTolerantActorManager.foreach_actor\u001B[0;34m(self, func, healthy_only, remote_actor_ids, timeout_seconds, return_obj_refs, mark_healthy)\u001B[0m\n\u001B[1;32m    578\u001B[0m \u001B[38;5;28;01mif\u001B[39;00m healthy_only:\n\u001B[1;32m    579\u001B[0m     func, remote_actor_ids \u001B[38;5;241m=\u001B[39m \u001B[38;5;28mself\u001B[39m\u001B[38;5;241m.\u001B[39m_filter_func_and_remote_actor_id_by_state(\n\u001B[1;32m    580\u001B[0m         func, remote_actor_ids\n\u001B[1;32m    581\u001B[0m     )\n\u001B[0;32m--> 583\u001B[0m remote_calls \u001B[38;5;241m=\u001B[39m \u001B[38;5;28;43mself\u001B[39;49m\u001B[38;5;241;43m.\u001B[39;49m\u001B[43m__call_actors\u001B[49m\u001B[43m(\u001B[49m\n\u001B[1;32m    584\u001B[0m \u001B[43m    \u001B[49m\u001B[43mfunc\u001B[49m\u001B[38;5;241;43m=\u001B[39;49m\u001B[43mfunc\u001B[49m\u001B[43m,\u001B[49m\n\u001B[1;32m    585\u001B[0m \u001B[43m    \u001B[49m\u001B[43mremote_actor_ids\u001B[49m\u001B[38;5;241;43m=\u001B[39;49m\u001B[43mremote_actor_ids\u001B[49m\u001B[43m,\u001B[49m\n\u001B[1;32m    586\u001B[0m \u001B[43m\u001B[49m\u001B[43m)\u001B[49m\n\u001B[1;32m    588\u001B[0m _, remote_results \u001B[38;5;241m=\u001B[39m \u001B[38;5;28mself\u001B[39m\u001B[38;5;241m.\u001B[39m__fetch_result(\n\u001B[1;32m    589\u001B[0m     remote_actor_ids\u001B[38;5;241m=\u001B[39mremote_actor_ids,\n\u001B[1;32m    590\u001B[0m     remote_calls\u001B[38;5;241m=\u001B[39mremote_calls,\n\u001B[0;32m   (...)\u001B[0m\n\u001B[1;32m    593\u001B[0m     mark_healthy\u001B[38;5;241m=\u001B[39mmark_healthy,\n\u001B[1;32m    594\u001B[0m )\n\u001B[1;32m    596\u001B[0m \u001B[38;5;28;01mreturn\u001B[39;00m remote_results\n",
      "File \u001B[0;32m~/.local/lib/python3.10/site-packages/ray/rllib/utils/actor_manager.py:422\u001B[0m, in \u001B[0;36mFaultTolerantActorManager.__call_actors\u001B[0;34m(self, func, remote_actor_ids)\u001B[0m\n\u001B[1;32m    418\u001B[0m     calls \u001B[38;5;241m=\u001B[39m [\n\u001B[1;32m    419\u001B[0m         \u001B[38;5;28mself\u001B[39m\u001B[38;5;241m.\u001B[39m__actors[i]\u001B[38;5;241m.\u001B[39mapply\u001B[38;5;241m.\u001B[39mremote(f) \u001B[38;5;28;01mfor\u001B[39;00m i, f \u001B[38;5;129;01min\u001B[39;00m \u001B[38;5;28mzip\u001B[39m(remote_actor_ids, func)\n\u001B[1;32m    420\u001B[0m     ]\n\u001B[1;32m    421\u001B[0m \u001B[38;5;28;01melse\u001B[39;00m:\n\u001B[0;32m--> 422\u001B[0m     calls \u001B[38;5;241m=\u001B[39m [\u001B[38;5;28mself\u001B[39m\u001B[38;5;241m.\u001B[39m__actors[i]\u001B[38;5;241m.\u001B[39mapply\u001B[38;5;241m.\u001B[39mremote(func) \u001B[38;5;28;01mfor\u001B[39;00m i \u001B[38;5;129;01min\u001B[39;00m remote_actor_ids]\n\u001B[1;32m    424\u001B[0m \u001B[38;5;28;01mreturn\u001B[39;00m calls\n",
      "File \u001B[0;32m~/.local/lib/python3.10/site-packages/ray/rllib/utils/actor_manager.py:422\u001B[0m, in \u001B[0;36m<listcomp>\u001B[0;34m(.0)\u001B[0m\n\u001B[1;32m    418\u001B[0m     calls \u001B[38;5;241m=\u001B[39m [\n\u001B[1;32m    419\u001B[0m         \u001B[38;5;28mself\u001B[39m\u001B[38;5;241m.\u001B[39m__actors[i]\u001B[38;5;241m.\u001B[39mapply\u001B[38;5;241m.\u001B[39mremote(f) \u001B[38;5;28;01mfor\u001B[39;00m i, f \u001B[38;5;129;01min\u001B[39;00m \u001B[38;5;28mzip\u001B[39m(remote_actor_ids, func)\n\u001B[1;32m    420\u001B[0m     ]\n\u001B[1;32m    421\u001B[0m \u001B[38;5;28;01melse\u001B[39;00m:\n\u001B[0;32m--> 422\u001B[0m     calls \u001B[38;5;241m=\u001B[39m [\u001B[38;5;28;43mself\u001B[39;49m\u001B[38;5;241;43m.\u001B[39;49m\u001B[43m__actors\u001B[49m\u001B[43m[\u001B[49m\u001B[43mi\u001B[49m\u001B[43m]\u001B[49m\u001B[38;5;241;43m.\u001B[39;49m\u001B[43mapply\u001B[49m\u001B[38;5;241;43m.\u001B[39;49m\u001B[43mremote\u001B[49m\u001B[43m(\u001B[49m\u001B[43mfunc\u001B[49m\u001B[43m)\u001B[49m \u001B[38;5;28;01mfor\u001B[39;00m i \u001B[38;5;129;01min\u001B[39;00m remote_actor_ids]\n\u001B[1;32m    424\u001B[0m \u001B[38;5;28;01mreturn\u001B[39;00m calls\n",
      "File \u001B[0;32m~/.local/lib/python3.10/site-packages/ray/actor.py:138\u001B[0m, in \u001B[0;36mActorMethod.remote\u001B[0;34m(self, *args, **kwargs)\u001B[0m\n\u001B[1;32m    137\u001B[0m \u001B[38;5;28;01mdef\u001B[39;00m \u001B[38;5;21mremote\u001B[39m(\u001B[38;5;28mself\u001B[39m, \u001B[38;5;241m*\u001B[39margs, \u001B[38;5;241m*\u001B[39m\u001B[38;5;241m*\u001B[39mkwargs):\n\u001B[0;32m--> 138\u001B[0m     \u001B[38;5;28;01mreturn\u001B[39;00m \u001B[38;5;28;43mself\u001B[39;49m\u001B[38;5;241;43m.\u001B[39;49m\u001B[43m_remote\u001B[49m\u001B[43m(\u001B[49m\u001B[43margs\u001B[49m\u001B[43m,\u001B[49m\u001B[43m \u001B[49m\u001B[43mkwargs\u001B[49m\u001B[43m)\u001B[49m\n",
      "File \u001B[0;32m~/.local/lib/python3.10/site-packages/ray/util/tracing/tracing_helper.py:425\u001B[0m, in \u001B[0;36m_tracing_actor_method_invocation.<locals>._start_span\u001B[0;34m(self, args, kwargs, *_args, **_kwargs)\u001B[0m\n\u001B[1;32m    423\u001B[0m     \u001B[38;5;28;01mif\u001B[39;00m kwargs \u001B[38;5;129;01mis\u001B[39;00m \u001B[38;5;129;01mnot\u001B[39;00m \u001B[38;5;28;01mNone\u001B[39;00m:\n\u001B[1;32m    424\u001B[0m         \u001B[38;5;28;01massert\u001B[39;00m \u001B[38;5;124m\"\u001B[39m\u001B[38;5;124m_ray_trace_ctx\u001B[39m\u001B[38;5;124m\"\u001B[39m \u001B[38;5;129;01mnot\u001B[39;00m \u001B[38;5;129;01min\u001B[39;00m kwargs\n\u001B[0;32m--> 425\u001B[0m     \u001B[38;5;28;01mreturn\u001B[39;00m \u001B[43mmethod\u001B[49m\u001B[43m(\u001B[49m\u001B[38;5;28;43mself\u001B[39;49m\u001B[43m,\u001B[49m\u001B[43m \u001B[49m\u001B[43margs\u001B[49m\u001B[43m,\u001B[49m\u001B[43m \u001B[49m\u001B[43mkwargs\u001B[49m\u001B[43m,\u001B[49m\u001B[43m \u001B[49m\u001B[38;5;241;43m*\u001B[39;49m\u001B[43m_args\u001B[49m\u001B[43m,\u001B[49m\u001B[43m \u001B[49m\u001B[38;5;241;43m*\u001B[39;49m\u001B[38;5;241;43m*\u001B[39;49m\u001B[43m_kwargs\u001B[49m\u001B[43m)\u001B[49m\n\u001B[1;32m    427\u001B[0m class_name \u001B[38;5;241m=\u001B[39m (\n\u001B[1;32m    428\u001B[0m     \u001B[38;5;28mself\u001B[39m\u001B[38;5;241m.\u001B[39m_actor_ref()\u001B[38;5;241m.\u001B[39m_ray_actor_creation_function_descriptor\u001B[38;5;241m.\u001B[39mclass_name\n\u001B[1;32m    429\u001B[0m )\n\u001B[1;32m    430\u001B[0m method_name \u001B[38;5;241m=\u001B[39m \u001B[38;5;28mself\u001B[39m\u001B[38;5;241m.\u001B[39m_method_name\n",
      "File \u001B[0;32m~/.local/lib/python3.10/site-packages/ray/actor.py:184\u001B[0m, in \u001B[0;36mActorMethod._remote\u001B[0;34m(self, args, kwargs, name, num_returns, concurrency_group)\u001B[0m\n\u001B[1;32m    181\u001B[0m \u001B[38;5;28;01mif\u001B[39;00m \u001B[38;5;28mself\u001B[39m\u001B[38;5;241m.\u001B[39m_decorator \u001B[38;5;129;01mis\u001B[39;00m \u001B[38;5;129;01mnot\u001B[39;00m \u001B[38;5;28;01mNone\u001B[39;00m:\n\u001B[1;32m    182\u001B[0m     invocation \u001B[38;5;241m=\u001B[39m \u001B[38;5;28mself\u001B[39m\u001B[38;5;241m.\u001B[39m_decorator(invocation)\n\u001B[0;32m--> 184\u001B[0m \u001B[38;5;28;01mreturn\u001B[39;00m \u001B[43minvocation\u001B[49m\u001B[43m(\u001B[49m\u001B[43margs\u001B[49m\u001B[43m,\u001B[49m\u001B[43m \u001B[49m\u001B[43mkwargs\u001B[49m\u001B[43m)\u001B[49m\n",
      "File \u001B[0;32m~/.local/lib/python3.10/site-packages/ray/actor.py:171\u001B[0m, in \u001B[0;36mActorMethod._remote.<locals>.invocation\u001B[0;34m(args, kwargs)\u001B[0m\n\u001B[1;32m    169\u001B[0m \u001B[38;5;28;01mif\u001B[39;00m actor \u001B[38;5;129;01mis\u001B[39;00m \u001B[38;5;28;01mNone\u001B[39;00m:\n\u001B[1;32m    170\u001B[0m     \u001B[38;5;28;01mraise\u001B[39;00m \u001B[38;5;167;01mRuntimeError\u001B[39;00m(\u001B[38;5;124m\"\u001B[39m\u001B[38;5;124mLost reference to actor\u001B[39m\u001B[38;5;124m\"\u001B[39m)\n\u001B[0;32m--> 171\u001B[0m \u001B[38;5;28;01mreturn\u001B[39;00m \u001B[43mactor\u001B[49m\u001B[38;5;241;43m.\u001B[39;49m\u001B[43m_actor_method_call\u001B[49m\u001B[43m(\u001B[49m\n\u001B[1;32m    172\u001B[0m \u001B[43m    \u001B[49m\u001B[38;5;28;43mself\u001B[39;49m\u001B[38;5;241;43m.\u001B[39;49m\u001B[43m_method_name\u001B[49m\u001B[43m,\u001B[49m\n\u001B[1;32m    173\u001B[0m \u001B[43m    \u001B[49m\u001B[43margs\u001B[49m\u001B[38;5;241;43m=\u001B[39;49m\u001B[43margs\u001B[49m\u001B[43m,\u001B[49m\n\u001B[1;32m    174\u001B[0m \u001B[43m    \u001B[49m\u001B[43mkwargs\u001B[49m\u001B[38;5;241;43m=\u001B[39;49m\u001B[43mkwargs\u001B[49m\u001B[43m,\u001B[49m\n\u001B[1;32m    175\u001B[0m \u001B[43m    \u001B[49m\u001B[43mname\u001B[49m\u001B[38;5;241;43m=\u001B[39;49m\u001B[43mname\u001B[49m\u001B[43m,\u001B[49m\n\u001B[1;32m    176\u001B[0m \u001B[43m    \u001B[49m\u001B[43mnum_returns\u001B[49m\u001B[38;5;241;43m=\u001B[39;49m\u001B[43mnum_returns\u001B[49m\u001B[43m,\u001B[49m\n\u001B[1;32m    177\u001B[0m \u001B[43m    \u001B[49m\u001B[43mconcurrency_group_name\u001B[49m\u001B[38;5;241;43m=\u001B[39;49m\u001B[43mconcurrency_group\u001B[49m\u001B[43m,\u001B[49m\n\u001B[1;32m    178\u001B[0m \u001B[43m\u001B[49m\u001B[43m)\u001B[49m\n",
      "File \u001B[0;32m~/.local/lib/python3.10/site-packages/ray/actor.py:1169\u001B[0m, in \u001B[0;36mActorHandle._actor_method_call\u001B[0;34m(self, method_name, args, kwargs, name, num_returns, concurrency_group_name)\u001B[0m\n\u001B[1;32m   1166\u001B[0m \u001B[38;5;28;01mif\u001B[39;00m num_returns \u001B[38;5;241m==\u001B[39m \u001B[38;5;124m\"\u001B[39m\u001B[38;5;124mdynamic\u001B[39m\u001B[38;5;124m\"\u001B[39m:\n\u001B[1;32m   1167\u001B[0m     num_returns \u001B[38;5;241m=\u001B[39m \u001B[38;5;241m-\u001B[39m\u001B[38;5;241m1\u001B[39m\n\u001B[0;32m-> 1169\u001B[0m object_refs \u001B[38;5;241m=\u001B[39m \u001B[43mworker\u001B[49m\u001B[38;5;241;43m.\u001B[39;49m\u001B[43mcore_worker\u001B[49m\u001B[38;5;241;43m.\u001B[39;49m\u001B[43msubmit_actor_task\u001B[49m\u001B[43m(\u001B[49m\n\u001B[1;32m   1170\u001B[0m \u001B[43m    \u001B[49m\u001B[38;5;28;43mself\u001B[39;49m\u001B[38;5;241;43m.\u001B[39;49m\u001B[43m_ray_actor_language\u001B[49m\u001B[43m,\u001B[49m\n\u001B[1;32m   1171\u001B[0m \u001B[43m    \u001B[49m\u001B[38;5;28;43mself\u001B[39;49m\u001B[38;5;241;43m.\u001B[39;49m\u001B[43m_ray_actor_id\u001B[49m\u001B[43m,\u001B[49m\n\u001B[1;32m   1172\u001B[0m \u001B[43m    \u001B[49m\u001B[43mfunction_descriptor\u001B[49m\u001B[43m,\u001B[49m\n\u001B[1;32m   1173\u001B[0m \u001B[43m    \u001B[49m\u001B[43mlist_args\u001B[49m\u001B[43m,\u001B[49m\n\u001B[1;32m   1174\u001B[0m \u001B[43m    \u001B[49m\u001B[43mname\u001B[49m\u001B[43m,\u001B[49m\n\u001B[1;32m   1175\u001B[0m \u001B[43m    \u001B[49m\u001B[43mnum_returns\u001B[49m\u001B[43m,\u001B[49m\n\u001B[1;32m   1176\u001B[0m \u001B[43m    \u001B[49m\u001B[38;5;28;43mself\u001B[39;49m\u001B[38;5;241;43m.\u001B[39;49m\u001B[43m_ray_actor_method_cpus\u001B[49m\u001B[43m,\u001B[49m\n\u001B[1;32m   1177\u001B[0m \u001B[43m    \u001B[49m\u001B[43mconcurrency_group_name\u001B[49m\u001B[43m \u001B[49m\u001B[38;5;28;43;01mif\u001B[39;49;00m\u001B[43m \u001B[49m\u001B[43mconcurrency_group_name\u001B[49m\u001B[43m \u001B[49m\u001B[38;5;129;43;01mis\u001B[39;49;00m\u001B[43m \u001B[49m\u001B[38;5;129;43;01mnot\u001B[39;49;00m\u001B[43m \u001B[49m\u001B[38;5;28;43;01mNone\u001B[39;49;00m\u001B[43m \u001B[49m\u001B[38;5;28;43;01melse\u001B[39;49;00m\u001B[43m \u001B[49m\u001B[38;5;124;43mb\u001B[39;49m\u001B[38;5;124;43m\"\u001B[39;49m\u001B[38;5;124;43m\"\u001B[39;49m\u001B[43m,\u001B[49m\n\u001B[1;32m   1178\u001B[0m \u001B[43m\u001B[49m\u001B[43m)\u001B[49m\n\u001B[1;32m   1180\u001B[0m \u001B[38;5;28;01mif\u001B[39;00m \u001B[38;5;28mlen\u001B[39m(object_refs) \u001B[38;5;241m==\u001B[39m \u001B[38;5;241m1\u001B[39m:\n\u001B[1;32m   1181\u001B[0m     object_refs \u001B[38;5;241m=\u001B[39m object_refs[\u001B[38;5;241m0\u001B[39m]\n",
      "File \u001B[0;32mpython/ray/_raylet.pyx:2164\u001B[0m, in \u001B[0;36mray._raylet.CoreWorker.submit_actor_task\u001B[0;34m()\u001B[0m\n",
      "File \u001B[0;32mpython/ray/_raylet.pyx:2169\u001B[0m, in \u001B[0;36mray._raylet.CoreWorker.submit_actor_task\u001B[0;34m()\u001B[0m\n",
      "File \u001B[0;32mpython/ray/_raylet.pyx:416\u001B[0m, in \u001B[0;36mray._raylet.prepare_args_and_increment_put_refs\u001B[0;34m()\u001B[0m\n",
      "File \u001B[0;32mpython/ray/_raylet.pyx:463\u001B[0m, in \u001B[0;36mray._raylet.prepare_args_internal\u001B[0;34m()\u001B[0m\n",
      "File \u001B[0;32m~/.local/lib/python3.10/site-packages/ray/_private/serialization.py:450\u001B[0m, in \u001B[0;36mSerializationContext.serialize\u001B[0;34m(self, value)\u001B[0m\n\u001B[1;32m    448\u001B[0m     \u001B[38;5;28;01mreturn\u001B[39;00m RawSerializedObject(value)\n\u001B[1;32m    449\u001B[0m \u001B[38;5;28;01melse\u001B[39;00m:\n\u001B[0;32m--> 450\u001B[0m     \u001B[38;5;28;01mreturn\u001B[39;00m \u001B[38;5;28;43mself\u001B[39;49m\u001B[38;5;241;43m.\u001B[39;49m\u001B[43m_serialize_to_msgpack\u001B[49m\u001B[43m(\u001B[49m\u001B[43mvalue\u001B[49m\u001B[43m)\u001B[49m\n",
      "File \u001B[0;32m~/.local/lib/python3.10/site-packages/ray/_private/serialization.py:428\u001B[0m, in \u001B[0;36mSerializationContext._serialize_to_msgpack\u001B[0;34m(self, value)\u001B[0m\n\u001B[1;32m    426\u001B[0m \u001B[38;5;28;01mif\u001B[39;00m python_objects:\n\u001B[1;32m    427\u001B[0m     metadata \u001B[38;5;241m=\u001B[39m ray_constants\u001B[38;5;241m.\u001B[39mOBJECT_METADATA_TYPE_PYTHON\n\u001B[0;32m--> 428\u001B[0m     pickle5_serialized_object \u001B[38;5;241m=\u001B[39m \u001B[38;5;28;43mself\u001B[39;49m\u001B[38;5;241;43m.\u001B[39;49m\u001B[43m_serialize_to_pickle5\u001B[49m\u001B[43m(\u001B[49m\n\u001B[1;32m    429\u001B[0m \u001B[43m        \u001B[49m\u001B[43mmetadata\u001B[49m\u001B[43m,\u001B[49m\u001B[43m \u001B[49m\u001B[43mpython_objects\u001B[49m\n\u001B[1;32m    430\u001B[0m \u001B[43m    \u001B[49m\u001B[43m)\u001B[49m\n\u001B[1;32m    431\u001B[0m \u001B[38;5;28;01melse\u001B[39;00m:\n\u001B[1;32m    432\u001B[0m     pickle5_serialized_object \u001B[38;5;241m=\u001B[39m \u001B[38;5;28;01mNone\u001B[39;00m\n",
      "File \u001B[0;32m~/.local/lib/python3.10/site-packages/ray/_private/serialization.py:385\u001B[0m, in \u001B[0;36mSerializationContext._serialize_to_pickle5\u001B[0;34m(self, metadata, value)\u001B[0m\n\u001B[1;32m    383\u001B[0m \u001B[38;5;28;01mtry\u001B[39;00m:\n\u001B[1;32m    384\u001B[0m     \u001B[38;5;28mself\u001B[39m\u001B[38;5;241m.\u001B[39mset_in_band_serialization()\n\u001B[0;32m--> 385\u001B[0m     inband \u001B[38;5;241m=\u001B[39m \u001B[43mpickle\u001B[49m\u001B[38;5;241;43m.\u001B[39;49m\u001B[43mdumps\u001B[49m\u001B[43m(\u001B[49m\n\u001B[1;32m    386\u001B[0m \u001B[43m        \u001B[49m\u001B[43mvalue\u001B[49m\u001B[43m,\u001B[49m\u001B[43m \u001B[49m\u001B[43mprotocol\u001B[49m\u001B[38;5;241;43m=\u001B[39;49m\u001B[38;5;241;43m5\u001B[39;49m\u001B[43m,\u001B[49m\u001B[43m \u001B[49m\u001B[43mbuffer_callback\u001B[49m\u001B[38;5;241;43m=\u001B[39;49m\u001B[43mwriter\u001B[49m\u001B[38;5;241;43m.\u001B[39;49m\u001B[43mbuffer_callback\u001B[49m\n\u001B[1;32m    387\u001B[0m \u001B[43m    \u001B[49m\u001B[43m)\u001B[49m\n\u001B[1;32m    388\u001B[0m \u001B[38;5;28;01mexcept\u001B[39;00m \u001B[38;5;167;01mException\u001B[39;00m \u001B[38;5;28;01mas\u001B[39;00m e:\n\u001B[1;32m    389\u001B[0m     \u001B[38;5;28mself\u001B[39m\u001B[38;5;241m.\u001B[39mget_and_clear_contained_object_refs()\n",
      "File \u001B[0;32m~/.local/lib/python3.10/site-packages/ray/cloudpickle/cloudpickle_fast.py:88\u001B[0m, in \u001B[0;36mdumps\u001B[0;34m(obj, protocol, buffer_callback)\u001B[0m\n\u001B[1;32m     86\u001B[0m \u001B[38;5;28;01mwith\u001B[39;00m io\u001B[38;5;241m.\u001B[39mBytesIO() \u001B[38;5;28;01mas\u001B[39;00m file:\n\u001B[1;32m     87\u001B[0m     cp \u001B[38;5;241m=\u001B[39m CloudPickler(file, protocol\u001B[38;5;241m=\u001B[39mprotocol, buffer_callback\u001B[38;5;241m=\u001B[39mbuffer_callback)\n\u001B[0;32m---> 88\u001B[0m     \u001B[43mcp\u001B[49m\u001B[38;5;241;43m.\u001B[39;49m\u001B[43mdump\u001B[49m\u001B[43m(\u001B[49m\u001B[43mobj\u001B[49m\u001B[43m)\u001B[49m\n\u001B[1;32m     89\u001B[0m     \u001B[38;5;28;01mreturn\u001B[39;00m file\u001B[38;5;241m.\u001B[39mgetvalue()\n",
      "File \u001B[0;32m~/.local/lib/python3.10/site-packages/ray/cloudpickle/cloudpickle_fast.py:733\u001B[0m, in \u001B[0;36mCloudPickler.dump\u001B[0;34m(self, obj)\u001B[0m\n\u001B[1;32m    731\u001B[0m \u001B[38;5;28;01mdef\u001B[39;00m \u001B[38;5;21mdump\u001B[39m(\u001B[38;5;28mself\u001B[39m, obj):\n\u001B[1;32m    732\u001B[0m     \u001B[38;5;28;01mtry\u001B[39;00m:\n\u001B[0;32m--> 733\u001B[0m         \u001B[38;5;28;01mreturn\u001B[39;00m \u001B[43mPickler\u001B[49m\u001B[38;5;241;43m.\u001B[39;49m\u001B[43mdump\u001B[49m\u001B[43m(\u001B[49m\u001B[38;5;28;43mself\u001B[39;49m\u001B[43m,\u001B[49m\u001B[43m \u001B[49m\u001B[43mobj\u001B[49m\u001B[43m)\u001B[49m\n\u001B[1;32m    734\u001B[0m     \u001B[38;5;28;01mexcept\u001B[39;00m \u001B[38;5;167;01mRuntimeError\u001B[39;00m \u001B[38;5;28;01mas\u001B[39;00m e:\n\u001B[1;32m    735\u001B[0m         \u001B[38;5;28;01mif\u001B[39;00m \u001B[38;5;124m\"\u001B[39m\u001B[38;5;124mrecursion\u001B[39m\u001B[38;5;124m\"\u001B[39m \u001B[38;5;129;01min\u001B[39;00m e\u001B[38;5;241m.\u001B[39margs[\u001B[38;5;241m0\u001B[39m]:\n",
      "File \u001B[0;32m~/.local/lib/python3.10/site-packages/ray/cloudpickle/cloudpickle_fast.py:840\u001B[0m, in \u001B[0;36mCloudPickler.reducer_override\u001B[0;34m(self, obj)\u001B[0m\n\u001B[1;32m    837\u001B[0m     is_anyclass \u001B[38;5;241m=\u001B[39m \u001B[38;5;28;01mFalse\u001B[39;00m\n\u001B[1;32m    839\u001B[0m \u001B[38;5;28;01mif\u001B[39;00m is_anyclass:\n\u001B[0;32m--> 840\u001B[0m     \u001B[38;5;28;01mreturn\u001B[39;00m \u001B[43m_class_reduce\u001B[49m\u001B[43m(\u001B[49m\u001B[43mobj\u001B[49m\u001B[43m)\u001B[49m\n\u001B[1;32m    841\u001B[0m \u001B[38;5;28;01melif\u001B[39;00m \u001B[38;5;28misinstance\u001B[39m(obj, types\u001B[38;5;241m.\u001B[39mFunctionType):\n\u001B[1;32m    842\u001B[0m     \u001B[38;5;28;01mreturn\u001B[39;00m \u001B[38;5;28mself\u001B[39m\u001B[38;5;241m.\u001B[39m_function_reduce(obj)\n",
      "File \u001B[0;32m~/.local/lib/python3.10/site-packages/ray/cloudpickle/cloudpickle_fast.py:537\u001B[0m, in \u001B[0;36m_class_reduce\u001B[0;34m(obj)\u001B[0m\n\u001B[1;32m    526\u001B[0m     \u001B[38;5;28;01melse\u001B[39;00m:\n\u001B[1;32m    527\u001B[0m         \u001B[38;5;28;01mreturn\u001B[39;00m (\n\u001B[1;32m    528\u001B[0m             _make_skeleton_class,\n\u001B[1;32m    529\u001B[0m             _class_getnewargs(obj),\n\u001B[0;32m   (...)\u001B[0m\n\u001B[1;32m    533\u001B[0m             _class_setstate,\n\u001B[1;32m    534\u001B[0m         )\n\u001B[0;32m--> 537\u001B[0m \u001B[38;5;28;01mdef\u001B[39;00m \u001B[38;5;21m_class_reduce\u001B[39m(obj):\n\u001B[1;32m    538\u001B[0m \u001B[38;5;250m    \u001B[39m\u001B[38;5;124;03m\"\"\"Select the reducer depending on the dynamic nature of the class obj\"\"\"\u001B[39;00m\n\u001B[1;32m    539\u001B[0m     \u001B[38;5;28;01mif\u001B[39;00m obj \u001B[38;5;129;01mis\u001B[39;00m \u001B[38;5;28mtype\u001B[39m(\u001B[38;5;28;01mNone\u001B[39;00m):  \u001B[38;5;66;03m# noqa\u001B[39;00m\n",
      "\u001B[0;31mKeyboardInterrupt\u001B[0m: "
     ]
    }
   ],
   "source": [
    "from ray.tune.registry import register_env\n",
    "from gymnasium.wrappers import EnvCompatibility\n",
    "from ray.rllib.algorithms.impala import ImpalaConfig\n",
    "from ray.rllib.algorithms.ppo import PPOConfig\n",
    "from gymnasium.wrappers import TimeLimit\n",
    "\n",
    "ray.shutdown()\n",
    "\n",
    "architecture = Architecture()\n",
    "\n",
    "def env_creator(env_config):\n",
    "    return TimeLimit(EnvCompatibility(AcesStepArchitectureEnv(6)), max_episode_steps=10)\n",
    "register_env(\"AcesStepArchitectureEnv\", env_creator)\n",
    "\n",
    "config = (\n",
    "    ImpalaConfig()\n",
    "    .environment(\"AcesStepArchitectureEnv\",disable_env_checking=True)\n",
    "    .rollouts(num_rollout_workers=40,\n",
    "              num_envs_per_worker=5) # Max = 60\n",
    "    .resources(num_gpus=0,\n",
    "               num_cpus_per_worker=1)\n",
    "    .training(entropy_coeff=0.02)\n",
    ")\n",
    "\n",
    "config[\"model\"][\"fcnet_hiddens\"] =[64,64]\n",
    "\n",
    "\n",
    "algorithm_unified_6 = config.build()\n",
    "\n",
    "result_unified_6 =[]\n",
    "\n",
    "for j in tqdm(range(100)):\n",
    "    result_train = algorithm_unified_6.train()[\"episode_reward_mean\"]\n",
    "    result_unified_6.append(result_train)\n",
    "    # if (j%100 == 0):\n",
    "    print(result_train)\n",
    "print(result_unified_6)"
   ],
   "metadata": {
    "collapsed": false
   }
  },
  {
   "cell_type": "code",
   "execution_count": 167,
   "outputs": [],
   "source": [
    "# for j in tqdm(range(10)):\n",
    "#     result_train = algorithm_unified_6.train()[\"episode_reward_mean\"]\n",
    "#     result_unified_6.append(result_train)\n",
    "#     # if (j%100 == 0):\n",
    "#     print(result_train)\n",
    "# print(result_unified_6)"
   ],
   "metadata": {
    "collapsed": false
   }
  },
  {
   "cell_type": "code",
   "execution_count": 283,
   "outputs": [
    {
     "data": {
      "text/plain": "[<matplotlib.lines.Line2D at 0x7efd5c43b9d0>]"
     },
     "execution_count": 283,
     "metadata": {},
     "output_type": "execute_result"
    },
    {
     "data": {
      "text/plain": "<Figure size 640x480 with 1 Axes>",
      "image/png": "[encoded data removed]"
     },
     "metadata": {},
     "output_type": "display_data"
    }
   ],
   "source": [
    "plt.plot(result_unified_6)"
   ],
   "metadata": {
    "collapsed": false
   }
  },
  {
   "cell_type": "code",
   "execution_count": 286,
   "outputs": [],
   "source": [
    "test_architecture = AcesStepArchitectureEnv(6)"
   ],
   "metadata": {
    "collapsed": false
   }
  },
  {
   "cell_type": "code",
   "execution_count": 341,
   "outputs": [
    {
     "name": "stdout",
     "output_type": "stream",
     "text": [
      "{0: 0.48441926345609065, 1: 0.48441926345609065, 2: 0.43262411347517726, 3: 0.679245283018868}\n",
      "1413\n",
      "{0: 0.5920679886685553, 1: 0.5920679886685553, 2: 0.5234042553191489, 3: 0.7735849056603774}\n",
      "1136\n",
      "[0, 0, 0, 0, 0, 0, 0, 0, 1, 1, 1, 1, 1, 1, 1, 1, 1, 1, 1, 1, 1, 1, 1, 1, 2, 2, 2, 2, 2, 2, 2, 2, 2, 2, 2, 2, 2, 2, 2, 2, 3, 3, 3, 3, 3, 3, 3, 3, 3, 3, 3, 3]\n",
      "7.146067415730337\n",
      "{0: 0.8202247191011236, 1: 0.8202247191011236, 2: 1.0, 3: 1.0, 4: 0.752808988764045, 5: 0.752808988764045, 6: 1.0, 7: 1.0}\n",
      "420\n",
      "[43.975, 49.92, 1.9500000000000002, 1.975, 1.984, 2, 2, 1.7599999999999998]\n",
      "{0: 0.8795000000000001, 1: 0.9984000000000001, 2: 0.975, 3: 0.9875, 4: 0.992, 5: 1.0, 6: 1.0, 7: 0.88}\n",
      "52\n"
     ]
    }
   ],
   "source": [
    "obs = test_architecture.reset()\n",
    "test_architecture.architecture.round_robin()\n",
    "print(test_architecture.architecture.compute_normalized_latency_dict())\n",
    "print(test_architecture.architecture.compute_total_latency())\n",
    "test_architecture.architecture.greedy_server()\n",
    "print(test_architecture.architecture.compute_normalized_latency_dict())\n",
    "print(test_architecture.architecture.compute_total_latency())\n",
    "# test_architecture.architecture.greedy_algorithm()\n",
    "# print(test_architecture.architecture.compute_normalized_latency_dict())\n",
    "# print(test_architecture.architecture.compute_total_latency())\n",
    "iteration = {}\n",
    "allocation = []\n",
    "types = []\n",
    "reward = 0\n",
    "\n",
    "for i in range(20):\n",
    "    action = algorithm_unified_6.compute_single_action(obs)\n",
    "    output = test_architecture.step(action)\n",
    "    obs = output[0]\n",
    "    # print(obs['free_space'])\n",
    "    reward += output[1]\n",
    "    type = output[3]['type']\n",
    "    iteration[i] = output[1]\n",
    "    if type==0:\n",
    "        for j in range(2):\n",
    "            for k in range(2):\n",
    "                allocation.append(action[k])\n",
    "                types.append(0)\n",
    "    elif type==1:\n",
    "        for j in range(4):\n",
    "            for k in range(2):\n",
    "                allocation.append(action[k])\n",
    "                types.append(1)\n",
    "    elif type==2:\n",
    "        for j in range(4):\n",
    "            for k in range(2):\n",
    "                allocation.append(action[k])\n",
    "                types.append(2)\n",
    "    else:\n",
    "        for j in range(3):\n",
    "            for k in range(2):\n",
    "                if output[1] != -1:\n",
    "                    allocation.append(action[k])\n",
    "                    types.append(3)\n",
    "                else:\n",
    "                    allocation.append(random.randint(0,1))\n",
    "                    types.append(3)\n",
    "    if output[2]:\n",
    "        break\n",
    "\n",
    "print(types)\n",
    "print(reward)\n",
    "test_architecture.architecture.false_data_allocation = allocation\n",
    "test_architecture.architecture.false_data_types = types\n",
    "test_architecture.architecture.false_construct_dictionaries()\n",
    "print(iteration)\n",
    "print(test_architecture.architecture.false_compute_total_latency())\n",
    "print(test_architecture.free_space)\n",
    "print(test_architecture.architecture.false_free_space())\n",
    "print(len(test_architecture.architecture.false_data_allocation))"
   ],
   "metadata": {
    "collapsed": false
   }
  }
 ],
 "metadata": {
  "kernelspec": {
   "display_name": "Python 3",
   "language": "python",
   "name": "python3"
  },
  "language_info": {
   "codemirror_mode": {
    "name": "ipython",
    "version": 2
   },
   "file_extension": ".py",
   "mimetype": "text/x-python",
   "name": "python",
   "nbconvert_exporter": "python",
   "pygments_lexer": "ipython2",
   "version": "2.7.6"
  }
 },
 "nbformat": 4,
 "nbformat_minor": 0
}
