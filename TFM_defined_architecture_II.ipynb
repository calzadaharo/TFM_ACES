{
 "cells": [
  {
   "cell_type": "code",
   "execution_count": 2,
   "metadata": {
    "collapsed": true
   },
   "outputs": [],
   "source": [
    "from gymnasium import Env\n",
    "from gymnasium.spaces import Box, Dict, Discrete\n",
    "from ray.rllib.utils.spaces.repeated import Repeated\n",
    "import random\n",
    "import numpy as np\n",
    "import matplotlib.pyplot as plt\n",
    "from tqdm import tqdm\n",
    "import networkx as nx\n",
    "from copy import copy"
   ]
  },
  {
   "cell_type": "code",
   "execution_count": 3,
   "outputs": [],
   "source": [
    "class Architecture:\n",
    "    def __init__(self):\n",
    "        self.c_capacity, self.s_capacity = 50, 2\n",
    "        self.weights = [0.0125, 0.0010, 0.0200, 0.5000] # REVIEW\n",
    "        self.lifetime = {0: 1, 1: 2, 2: 3, 3: 10}   # REVIEW\n",
    "        self.max_actions = 10\n",
    "        self.num_c = 2\n",
    "        self.num_s = 6\n",
    "        self.max_actions = 10\n",
    "        self.min_free_space = 0.2\n",
    "        self.space_flag = -1\n",
    "\n",
    "        self.data_types = []\n",
    "        self.data_allocation = []\n",
    "        self.data_times = []\n",
    "\n",
    "        self.data = {}\n",
    "        self.devices = {}\n",
    "        self.latencies = {}\n",
    "        self.max_latencies = {}\n",
    "\n",
    "        self.action_device = []\n",
    "        self.action_type = []\n",
    "\n",
    "        for j in (range(len(self.weights))):\n",
    "            self.data[j] = {}\n",
    "            for i in range(self.num_s+self.num_c):\n",
    "                self.data[j][i] = 0\n",
    "                self.devices[i] = {0: 0, 1: 0, 2: 0, 3: 0}\n",
    "                self.latencies[i] = {}\n",
    "                self.max_latencies[i] = {}\n",
    "\n",
    "        for i in self.latencies.keys():\n",
    "            for j in self.latencies.keys():\n",
    "                self.latencies[i][j] = 0\n",
    "                self.max_latencies[i][j] = 0\n",
    "\n",
    "        randomized = list(self.devices.keys())\n",
    "        random.shuffle(randomized)\n",
    "        bound = round(len(self.devices)/4)\n",
    "        self.clusters = {\n",
    "            0: randomized[:bound],\n",
    "            1: randomized[bound:bound*2],\n",
    "            2: randomized[bound*2:bound*3],\n",
    "            3: randomized[bound*3:]\n",
    "        }\n",
    "        self.visualization()\n",
    "\n",
    "    def construct_dictionaries(self):\n",
    "        for i in self.data:\n",
    "            for j in self.data[i]:\n",
    "                self.data[i][j] = 0\n",
    "        for i in self.devices:\n",
    "            for j in self.devices[i]:\n",
    "                self.devices[i][j] = 0\n",
    "        for device, d_type in zip(self.data_allocation, self.data_types):\n",
    "            self.data[d_type][device] += 1\n",
    "            self.devices[device][d_type] += 1\n",
    "\n",
    "    def update(self, data_type, device):\n",
    "        self.data_types.append(data_type)\n",
    "        self.data_allocation.append(device)\n",
    "        self.data_times.append(0)\n",
    "        self.devices[device][data_type] += 1\n",
    "        self.data[data_type][device] += 1\n",
    "\n",
    "    def heart_beat(self):\n",
    "        deads = []\n",
    "        for i in range(len(self.data_times)):\n",
    "            self.data_times[i] += 1\n",
    "            if self.data_times[i] == self.lifetime[self.data_types[i]]:\n",
    "                deads.append(i)\n",
    "\n",
    "        removed = 0\n",
    "        for i in deads:\n",
    "            self.devices[self.data_allocation[i-removed]][self.data_types[i-removed]] -= 1\n",
    "            self.data[self.data_types[i-removed]][self.data_allocation[i-removed]] -= 1\n",
    "            self.data_types.pop(i - removed)\n",
    "            self.data_allocation.pop(i - removed)\n",
    "            self.data_times.pop(i - removed)\n",
    "            removed += 1\n",
    "\n",
    "    def free_space(self):\n",
    "        load = {}\n",
    "        for i in range(self.num_c + self.num_s):\n",
    "            if i < self.num_c:\n",
    "                load[i] = (self.c_capacity - sum([a*b for a,b in zip(list(self.devices[i].values()), self.weights)]))/self.c_capacity\n",
    "            else:\n",
    "                load[i] = (self.s_capacity - sum([a*b for a,b in zip(list(self.devices[i].values()), self.weights)]))/self.s_capacity\n",
    "            if load[i] <= self.min_free_space:\n",
    "                self.space_flag = i\n",
    "        return load\n",
    "\n",
    "    def reduce_type(self, data_type):\n",
    "        max_time = 0\n",
    "        positions = []\n",
    "        for i in range(len(self.data_allocation)):\n",
    "            if self.data_types[i] == data_type:\n",
    "                if self.data_times[i] > max_time:\n",
    "                    max_time = self.data_times[i]\n",
    "                    positions = []\n",
    "                    positions.append(i)\n",
    "                elif self.data_times[i] == max_time:\n",
    "                    positions.append(i)\n",
    "\n",
    "        removed = 0\n",
    "        for i in positions:\n",
    "            self.devices[self.data_allocation[i-removed]][self.data_types[i-removed]] -= 1\n",
    "            self.data[self.data_types[i-removed]][self.data_allocation[i-removed]] -= 1\n",
    "            self.data_times.pop(i - removed)\n",
    "            self.data_types.pop(i - removed)\n",
    "            self.data_allocation.pop(i -removed)\n",
    "            removed += 1\n",
    "\n",
    "    def check_quantity(self, data_type):\n",
    "        if data_type != 3:\n",
    "            if sum(list(self.data[data_type].values())) > 2*(self.num_s + self.num_c):\n",
    "                self.reduce_type(data_type)\n",
    "        else:\n",
    "            if sum(list(self.data[data_type].values())) > 2*self.num_s:\n",
    "                self.reduce_type(data_type)\n",
    "\n",
    "    def visualization(self):\n",
    "        keys = list(self.devices.keys())\n",
    "        cs = keys[:self.num_c]\n",
    "        ss = keys[self.num_c:]\n",
    "\n",
    "        colors = []\n",
    "        sizes = []\n",
    "\n",
    "        graph = nx.Graph()\n",
    "\n",
    "        colors.append('lightblue')\n",
    "        sizes.append(1000)\n",
    "        index = 0\n",
    "        for i in range(len(cs)):\n",
    "            if i != len(cs)-1:\n",
    "                colors.append('lightblue')\n",
    "                sizes.append(1000)\n",
    "                graph.add_edge(cs[i],cs[i+1])\n",
    "                graph.add_weighted_edges_from([(cs[i],cs[i+1],10)])\n",
    "                for j in range(int(len(ss)/self.num_c)):\n",
    "                    colors.append('orange')\n",
    "                    sizes.append(100)\n",
    "                    graph.add_edge(cs[i],ss[index])\n",
    "                    graph.add_weighted_edges_from([(cs[i],ss[index],4)])\n",
    "                    index += 1\n",
    "            else:\n",
    "                graph.add_edge(cs[i],cs[0])\n",
    "                graph.add_weighted_edges_from([(cs[i],cs[0],10)])\n",
    "                for j in range(int(len(ss)/self.num_c)+len(ss)%self.num_c):\n",
    "                    graph.add_edge(cs[i],ss[index])\n",
    "                    graph.add_weighted_edges_from([(cs[i],ss[index],4)])\n",
    "                    colors.append('orange')\n",
    "                    sizes.append(100)\n",
    "                    index += 1\n",
    "\n",
    "        pos = nx.spring_layout(graph)  # Position nodes using a spring layout algorithm\n",
    "        # nx.draw(graph, pos, with_labels=True, node_size=sizes, node_color=colors, font_weight=12, font_color='black', edge_color='gray')\n",
    "        edge_labels = nx.get_edge_attributes(graph, 'weight')\n",
    "        # nx.draw_networkx_edge_labels(graph, pos, edge_labels=edge_labels)\n",
    "\n",
    "        # plt.title(\"Architecture:\")\n",
    "        # plt.axis('off')\n",
    "        # plt.show()\n",
    "\n",
    "        for u in graph.nodes:\n",
    "            shortest_paths = nx.shortest_path_length(graph, source=u, weight='weight')\n",
    "            for v, weight in shortest_paths.items():\n",
    "                self.latencies[u][v] = weight\n",
    "\n",
    "        max_latency = self.latencies[self.num_c][self.num_c+self.num_s-1]\n",
    "        for i in self.max_latencies.keys():\n",
    "            for j in self.max_latencies[i].keys():\n",
    "                self.max_latencies[i][j] = max_latency\n",
    "\n",
    "    def compute_total_latency(self):\n",
    "        total_latency = 0\n",
    "        for i in range(len(self.action_type)):\n",
    "            total_latency += sum([a*b for a,b in zip(self.data[self.action_type[i]].values(), self.latencies[self.action_device[i]].values())])\n",
    "        return total_latency\n",
    "\n",
    "    def compute_normalized_latency(self):\n",
    "        total_latency = 0\n",
    "        max_latency = 0\n",
    "        for i in range(len(self.action_type)):\n",
    "            total_latency += sum([a*b for a,b in zip(self.data[self.action_type[i]].values(), self.latencies[self.action_device[i]].values())])\n",
    "            max_latency += sum([a*b for a,b in zip(self.data[self.action_type[i]].values(), self.max_latencies[self.action_device[i]].values())])\n",
    "        return total_latency/(max_latency+1)\n",
    "\n",
    "    def rl_update(self, new_allocation):\n",
    "        self.data_allocation = new_allocation\n",
    "        self.construct_dictionaries()\n",
    "        return self.free_space()\n",
    "\n",
    "    def generate(self, operation):\n",
    "        if operation == 0 or operation == 1 or operation == 2:\n",
    "            for i in range(self.num_s + self.num_c):\n",
    "                self.update(operation,i)\n",
    "            self.check_quantity(operation)\n",
    "        elif operation == 3:\n",
    "            for i in range(self.num_c,(self.num_c + self.num_s)):\n",
    "                self.update(operation,i)\n",
    "            self.check_quantity(operation)\n",
    "        else:\n",
    "            device=random.sample(self.clusters[operation - 10],1)\n",
    "            self.action_device.append(device[0])\n",
    "            self.action_type.append(operation-10)\n",
    "            difference = len(self.action_device) - self.max_actions\n",
    "            if difference >= 0:\n",
    "                for i in range(difference):\n",
    "                    self.action_device.pop(0)\n",
    "                    self.action_type.pop(0)\n",
    "\n",
    "    def greedy_algorithm(self):\n",
    "        if self.space_flag == -1:\n",
    "            print(\"It's ok\")\n",
    "            allocation = []\n",
    "            for i in self.data_types:\n",
    "                allocation.append(random.sample(list(self.clusters[i]),1)[0])\n",
    "            self.data_allocation = allocation\n",
    "            self.construct_dictionaries()\n",
    "        else:\n",
    "            print(\"Problem\")\n",
    "            problematic_key = None\n",
    "            for key, value in self.clusters.items():\n",
    "                if self.space_flag in value:\n",
    "                    problematic_key = key\n",
    "                    break\n",
    "            for i in range(self.num_c):\n",
    "                self.clusters[problematic_key].append(i)\n",
    "            self.space_flag = -1\n",
    "            self.greedy_algorithm()"
   ],
   "metadata": {
    "collapsed": false
   }
  },
  {
   "cell_type": "code",
   "execution_count": 243,
   "outputs": [],
   "source": [
    "class AcesArchitectureEnv(Env):\n",
    "    def __init__(self, maximum_data):\n",
    "        self.architecture = Architecture()\n",
    "        self.executions = [[0,1,2,10],\n",
    "                           [0,1,2,11],\n",
    "                           [0,1,2,12],\n",
    "                           [0,1,2,3],\n",
    "                           [0,1,2,10],\n",
    "                           [0,1,2,11],\n",
    "                           [0,1,2,12],\n",
    "                           [0,1,2,3],\n",
    "                           [0,1,2,13]]\n",
    "        self.execution_index = 0\n",
    "        self.num_devices = len(self.architecture.devices.keys())\n",
    "        self.maximum_data = maximum_data\n",
    "\n",
    "        self.weigths = self.architecture.weights\n",
    "        self.allocation = self.architecture.data_allocation\n",
    "        self.data_types = self.architecture.data_types\n",
    "        self.free_space = list(self.architecture.free_space().values())\n",
    "        self.last_calls_type = self.architecture.action_type\n",
    "        self.last_calls_device = self.architecture.action_device\n",
    "\n",
    "        self.observation_space = Dict({\n",
    "            \"weights\": Box(low=0, high=1, shape=(4,), dtype=np.float32),\n",
    "            \"allocation\": Box(low=-1, high=self.num_devices-1, shape=(maximum_data,), dtype=np.int32),\n",
    "            # \"allocation\": Repeated(Discrete(self.num_devices),maximum_data),\n",
    "            \"data_type\": Box(low=-1, high=3, shape=(maximum_data,), dtype=np.int32),\n",
    "            # \"data_type\": Repeated(Discrete(4),maximum_data),\n",
    "            \"free_space\": Box(low=-10, high=1, shape=(self.num_devices,), dtype=np.float32),\n",
    "            \"last_calls_type\": Box(low=-1, high=13, shape=(10,), dtype=np.int32),\n",
    "            # \"last_calls_type\": Repeated(Discrete(4,start=10),10),\n",
    "            \"last_calls_device\": Box(low=-1, high=self.num_devices-1, shape=(10,), dtype=np.int32)\n",
    "            # \"last_calls_device\": Repeated(Discrete(self.num_devices),10)\n",
    "        })\n",
    "\n",
    "        self.action_space = Box(low=0, high=self.num_devices-1, shape=(maximum_data,), dtype=np.int32)\n",
    "\n",
    "        self.allocation_length = len(self.allocation)\n",
    "\n",
    "        self.reward = 0\n",
    "\n",
    "    def get_obs(self):\n",
    "\n",
    "        return {\n",
    "            \"weights\": np.array(self.weigths),\n",
    "            \"allocation\": np.array(self.allocation),\n",
    "            \"data_type\": np.array(self.data_types),\n",
    "            \"free_space\": np.array(self.free_space),\n",
    "            \"last_calls_type\": np.array(self.last_calls_type),\n",
    "            \"last_calls_device\": np.array(self.last_calls_device)\n",
    "        }\n",
    "\n",
    "    def step(self,action):\n",
    "        self.architecture.data_allocation = list(action[:self.allocation_length])\n",
    "        self.allocation[:self.allocation_length] = list(action[:self.allocation_length])\n",
    "        self.architecture.construct_dictionaries()\n",
    "        normalized_latency = self.architecture.compute_normalized_latency()\n",
    "        # normalized_latency = 0\n",
    "        self.free_space = list(self.architecture.free_space().values())\n",
    "\n",
    "        # flag = False\n",
    "        # for i in self.free_space:\n",
    "        #     if i <= self.architecture.min_free_space:\n",
    "        #         flag = True\n",
    "        #         break\n",
    "        #\n",
    "        # if flag:\n",
    "        #     self.reward = -3\n",
    "        # else:\n",
    "        #     w1 = 2\n",
    "        #     w2 = 1\n",
    "        #     std = np.std(self.free_space)\n",
    "        #     self.reward = w1*(1 - normalized_latency) + w2*(1-std)\n",
    "        self.reward = (1 - normalized_latency) - 0.5\n",
    "\n",
    "        done = True\n",
    "        info = {}\n",
    "\n",
    "        return self.get_obs(), self.reward, done, info\n",
    "\n",
    "    def reset(self):\n",
    "        if self.reward < -10:\n",
    "            return self.get_obs()\n",
    "        else:\n",
    "            self.architecture.heart_beat()\n",
    "            for execution in self.executions[self.execution_index]:\n",
    "                self.architecture.generate(execution)\n",
    "            self.allocation = self.architecture.data_allocation.copy()\n",
    "            self.data_types = self.architecture.data_types.copy()\n",
    "            self.allocation_length = len(self.allocation)\n",
    "            for minus_one in range(self.maximum_data - len(self.allocation)):\n",
    "                self.allocation.append(-1)\n",
    "                self.data_types.append(-1)\n",
    "            self.free_space = list(self.architecture.free_space().values())\n",
    "            self.last_calls_type = self.architecture.action_type.copy()\n",
    "            self.last_calls_device = self.architecture.action_device.copy()\n",
    "            for minus_one in range(10 - len(self.last_calls_type)):\n",
    "                self.last_calls_type.append(-1)\n",
    "                self.last_calls_device.append(-1)\n",
    "\n",
    "            self.execution_index = self.execution_index +1 if self.execution_index <= len(self.executions) - 2 else 0\n",
    "            return self.get_obs()\n",
    "\n",
    "    def close(self):\n",
    "        print('CLOSED')"
   ],
   "metadata": {
    "collapsed": false
   }
  },
  {
   "cell_type": "code",
   "execution_count": 5,
   "outputs": [
    {
     "name": "stderr",
     "output_type": "stream",
     "text": [
      "2023-06-06 10:33:57,586\tWARNING env.py:156 -- Your env doesn't have a .spec.max_episode_steps attribute. Your horizon will default to infinity, and your environment will not be reset.\n",
      "2023-06-06 10:33:57,590\tWARNING env.py:166 -- Your env reset() method appears to take 'seed' or 'return_info' arguments. Note that these are not yet supported in RLlib. Seeding will take place using 'env.seed()' and the info dict will not be returned from reset.\n"
     ]
    }
   ],
   "source": [
    "from ray.rllib.utils import check_env\n",
    "from gymnasium.wrappers import TimeLimit\n",
    "from gymnasium.wrappers import EnvCompatibility\n",
    "\n",
    "check_env(TimeLimit(EnvCompatibility(AcesArchitectureEnv(52)), max_episode_steps=10))"
   ],
   "metadata": {
    "collapsed": false
   }
  },
  {
   "cell_type": "code",
   "execution_count": 430,
   "outputs": [
    {
     "name": "stderr",
     "output_type": "stream",
     "text": [
      "2023-06-06 17:29:33,302\tINFO worker.py:1553 -- Started a local Ray instance.\n",
      "2023-06-06 17:29:55,013\tINFO trainable.py:172 -- Trainable.setup took 25.383 seconds. If your trainable is slow to initialize, consider setting reuse_actors=True to reduce actor creation overheads.\n",
      "2023-06-06 17:29:55,015\tWARNING util.py:67 -- Install gputil for GPU system monitoring.\n",
      "2023-06-06 17:29:55,502\tINFO trainable.py:791 -- Restored on 138.4.11.227 from checkpoint: TFM/algorithms/latency-05_03/checkpoint_000650\n",
      "2023-06-06 17:29:55,504\tINFO trainable.py:800 -- Current state after restoring: {'_iteration': 650, '_timesteps_total': None, '_time_total': 9098.782043933868, '_episodes_total': 65414250}\n"
     ]
    }
   ],
   "source": [
    "import ray\n",
    "from ray.tune.registry import register_env\n",
    "from gymnasium.wrappers import EnvCompatibility\n",
    "from ray.rllib.algorithms.ppo import PPOConfig\n",
    "from ray.rllib.algorithms.impala import ImpalaConfig\n",
    "from gymnasium.wrappers import TimeLimit\n",
    "\n",
    "ray.shutdown()\n",
    "\n",
    "def env_creator(env_config):\n",
    "    return TimeLimit(EnvCompatibility(AcesArchitectureEnv(52)), max_episode_steps=10)\n",
    "register_env(\"AcesArchitectureEnv\", env_creator)\n",
    "\n",
    "config = (\n",
    "    ImpalaConfig()\n",
    "        .environment(\"AcesArchitectureEnv\",disable_env_checking=True)\n",
    "        .rollouts(num_rollout_workers=40,\n",
    "                  num_envs_per_worker=5) # Max = 60\n",
    "        .resources(num_gpus=0,\n",
    "                   num_cpus_per_worker=1)\n",
    "        .training(entropy_coeff=0.02)\n",
    "        # .offline_data(output=\"./TFM/datasets/impala_weights_20it\")\n",
    "    )\n",
    "config[\"model\"][\"fcnet_hiddens\"] = [256,256,256] # [256, 256] -> default\n",
    "# print(config[\"model\"][\"fcnet_hiddens\"])\n",
    "\n",
    "algorithm_weights_restored_3 = config.build()\n",
    "algorithm_weights_restored_3.restore(\"./TFM/algorithms/latency-05_03/checkpoint_000650\")\n",
    "\n",
    "# algorithm_weights = config.build()\n",
    "#\n",
    "# result =[]\n",
    "# for i in tqdm(range(15)):\n",
    "#     train_result = algorithm_weights.train()[\"episode_reward_mean\"]\n",
    "#     print(train_result)\n",
    "#     result.append(train_result)\n",
    "#     # if train_result > 4:\n",
    "#     #     break\n",
    "# print(result)\n",
    "result_3 = []"
   ],
   "metadata": {
    "collapsed": false
   }
  },
  {
   "cell_type": "code",
   "execution_count": 429,
   "outputs": [
    {
     "data": {
      "text/plain": "[-0.010333719037672977,\n -0.008770446375599985,\n -0.008560527584549232,\n -0.008192204557503992,\n -0.00874479817114547,\n -0.008542197511776848,\n -0.008342102116944996,\n -0.008061703341436395,\n -0.007646988126478616,\n -0.008349025223966092,\n -0.008285172152904302,\n -0.00783547714217409,\n -0.00835018011962368,\n -0.007809081256127838,\n -0.008057534329196954,\n -0.00789226185856123,\n -0.008467702492821593,\n -0.008469620335456953,\n -0.007681900968356636,\n -0.008097853566513734,\n -0.008279372590964413,\n -0.008296146877476212,\n -0.008349926315858694,\n -0.008232486488922471,\n -0.008093914641298288,\n -0.0083337716875138,\n -0.008335932095892467,\n -0.00829677695557063,\n -0.008189243544581143,\n -0.008207385154739861,\n -0.007978059044510018,\n -0.007540637605752487,\n -0.008180029290626698,\n -0.007665762232571227,\n -0.0084667304749714,\n -0.007121749748278574,\n -0.007436383933032249,\n -0.007520251727267215,\n -0.007170930670540057,\n -0.007797437625526462,\n -0.008216852219560195,\n -0.007759541461020292,\n -0.0075770751757075466,\n -0.007519946782225508,\n -0.0076111027990082335,\n -0.00783984622210906,\n -0.008339501501394021,\n -0.00830036804489625,\n -0.00735506649926992,\n -0.007792294248329471]"
     },
     "execution_count": 429,
     "metadata": {},
     "output_type": "execute_result"
    }
   ],
   "source": [
    "result\n",
    "result_2"
   ],
   "metadata": {
    "collapsed": false
   }
  },
  {
   "cell_type": "code",
   "execution_count": 431,
   "outputs": [
    {
     "name": "stderr",
     "output_type": "stream",
     "text": [
      "  2%|██▎                                                                                                               | 1/50 [00:16<13:27, 16.47s/it]"
     ]
    },
    {
     "name": "stdout",
     "output_type": "stream",
     "text": [
      "-0.01064344403014489\n"
     ]
    },
    {
     "name": "stderr",
     "output_type": "stream",
     "text": [
      "  4%|████▌                                                                                                             | 2/50 [00:33<13:24, 16.76s/it]"
     ]
    },
    {
     "name": "stdout",
     "output_type": "stream",
     "text": [
      "-0.010172995999468401\n"
     ]
    },
    {
     "name": "stderr",
     "output_type": "stream",
     "text": [
      "  6%|██████▊                                                                                                           | 3/50 [00:47<12:19, 15.73s/it]"
     ]
    },
    {
     "name": "stdout",
     "output_type": "stream",
     "text": [
      "-0.009623516813164484\n"
     ]
    },
    {
     "name": "stderr",
     "output_type": "stream",
     "text": [
      "  8%|█████████                                                                                                         | 4/50 [01:04<12:12, 15.92s/it]"
     ]
    },
    {
     "name": "stdout",
     "output_type": "stream",
     "text": [
      "-0.009344529144545869\n"
     ]
    },
    {
     "name": "stderr",
     "output_type": "stream",
     "text": [
      " 10%|███████████▍                                                                                                      | 5/50 [01:21<12:26, 16.58s/it]"
     ]
    },
    {
     "name": "stdout",
     "output_type": "stream",
     "text": [
      "-0.00997017763652473\n"
     ]
    },
    {
     "name": "stderr",
     "output_type": "stream",
     "text": [
      " 12%|█████████████▋                                                                                                    | 6/50 [01:38<12:12, 16.66s/it]"
     ]
    },
    {
     "name": "stdout",
     "output_type": "stream",
     "text": [
      "-0.00940186879806014\n"
     ]
    },
    {
     "name": "stderr",
     "output_type": "stream",
     "text": [
      " 14%|███████████████▉                                                                                                  | 7/50 [01:53<11:33, 16.12s/it]"
     ]
    },
    {
     "name": "stdout",
     "output_type": "stream",
     "text": [
      "-0.009521602984851944\n"
     ]
    },
    {
     "name": "stderr",
     "output_type": "stream",
     "text": [
      " 16%|██████████████████▏                                                                                               | 8/50 [02:10<11:24, 16.30s/it]"
     ]
    },
    {
     "name": "stdout",
     "output_type": "stream",
     "text": [
      "-0.00923710979407208\n"
     ]
    },
    {
     "name": "stderr",
     "output_type": "stream",
     "text": [
      " 18%|████████████████████▌                                                                                             | 9/50 [02:27<11:14, 16.46s/it]"
     ]
    },
    {
     "name": "stdout",
     "output_type": "stream",
     "text": [
      "-0.009534437360251185\n"
     ]
    },
    {
     "name": "stderr",
     "output_type": "stream",
     "text": [
      " 20%|██████████████████████▌                                                                                          | 10/50 [02:43<10:58, 16.46s/it]"
     ]
    },
    {
     "name": "stdout",
     "output_type": "stream",
     "text": [
      "-0.009556796464299385\n"
     ]
    },
    {
     "name": "stderr",
     "output_type": "stream",
     "text": [
      " 22%|████████████████████████▊                                                                                        | 11/50 [02:58<10:19, 15.89s/it]"
     ]
    },
    {
     "name": "stdout",
     "output_type": "stream",
     "text": [
      "-0.009622878603558836\n"
     ]
    },
    {
     "name": "stderr",
     "output_type": "stream",
     "text": [
      "Exception in thread Thread-5608:\n",
      "Traceback (most recent call last):\n",
      "  File \"/usr/lib/python3.10/threading.py\", line 1016, in _bootstrap_inner\n",
      "    self.run()\n",
      "  File \"/home/rcalzada/.local/lib/python3.10/site-packages/ray/rllib/execution/learner_thread.py\", line 74, in run\n",
      "    self.step()\n",
      "  File \"/home/rcalzada/.local/lib/python3.10/site-packages/ray/rllib/execution/multi_gpu_learner_thread.py\", line 143, in step\n",
      "    buffer_idx, released = self.ready_tower_stacks_buffer.get()\n",
      "  File \"/home/rcalzada/.local/lib/python3.10/site-packages/ray/rllib/execution/minibatch_buffer.py\", line 48, in get\n",
      "    self.buffers[self.idx] = self.inqueue.get(timeout=self.timeout)\n",
      "  File \"/usr/lib/python3.10/queue.py\", line 179, in get\n",
      "    raise Empty\n",
      "_queue.Empty\n",
      " 24%|███████████████████████████                                                                                      | 12/50 [03:14<10:10, 16.08s/it]"
     ]
    },
    {
     "name": "stdout",
     "output_type": "stream",
     "text": [
      "-0.009831291613334391\n"
     ]
    },
    {
     "name": "stderr",
     "output_type": "stream",
     "text": [
      " 24%|███████████████████████████                                                                                      | 12/50 [03:16<10:21, 16.35s/it]\n"
     ]
    },
    {
     "ename": "KeyboardInterrupt",
     "evalue": "",
     "output_type": "error",
     "traceback": [
      "\u001B[0;31m---------------------------------------------------------------------------\u001B[0m",
      "\u001B[0;31mKeyboardInterrupt\u001B[0m                         Traceback (most recent call last)",
      "Cell \u001B[0;32mIn[431], line 2\u001B[0m\n\u001B[1;32m      1\u001B[0m \u001B[38;5;28;01mfor\u001B[39;00m i \u001B[38;5;129;01min\u001B[39;00m tqdm(\u001B[38;5;28mrange\u001B[39m(\u001B[38;5;241m50\u001B[39m)):\n\u001B[0;32m----> 2\u001B[0m     train_result \u001B[38;5;241m=\u001B[39m \u001B[43malgorithm_weights_restored_3\u001B[49m\u001B[38;5;241;43m.\u001B[39;49m\u001B[43mtrain\u001B[49m\u001B[43m(\u001B[49m\u001B[43m)\u001B[49m[\u001B[38;5;124m\"\u001B[39m\u001B[38;5;124mepisode_reward_mean\u001B[39m\u001B[38;5;124m\"\u001B[39m]\n\u001B[1;32m      3\u001B[0m     \u001B[38;5;28mprint\u001B[39m(train_result)\n\u001B[1;32m      4\u001B[0m     result_3\u001B[38;5;241m.\u001B[39mappend(train_result)\n",
      "File \u001B[0;32m~/.local/lib/python3.10/site-packages/ray/tune/trainable/trainable.py:365\u001B[0m, in \u001B[0;36mTrainable.train\u001B[0;34m(self)\u001B[0m\n\u001B[1;32m    363\u001B[0m start \u001B[38;5;241m=\u001B[39m time\u001B[38;5;241m.\u001B[39mtime()\n\u001B[1;32m    364\u001B[0m \u001B[38;5;28;01mtry\u001B[39;00m:\n\u001B[0;32m--> 365\u001B[0m     result \u001B[38;5;241m=\u001B[39m \u001B[38;5;28;43mself\u001B[39;49m\u001B[38;5;241;43m.\u001B[39;49m\u001B[43mstep\u001B[49m\u001B[43m(\u001B[49m\u001B[43m)\u001B[49m\n\u001B[1;32m    366\u001B[0m \u001B[38;5;28;01mexcept\u001B[39;00m \u001B[38;5;167;01mException\u001B[39;00m \u001B[38;5;28;01mas\u001B[39;00m e:\n\u001B[1;32m    367\u001B[0m     skipped \u001B[38;5;241m=\u001B[39m skip_exceptions(e)\n",
      "File \u001B[0;32m~/.local/lib/python3.10/site-packages/ray/rllib/algorithms/algorithm.py:782\u001B[0m, in \u001B[0;36mAlgorithm.step\u001B[0;34m(self)\u001B[0m\n\u001B[1;32m    774\u001B[0m     (\n\u001B[1;32m    775\u001B[0m         results,\n\u001B[1;32m    776\u001B[0m         train_iter_ctx,\n\u001B[1;32m    777\u001B[0m     ) \u001B[38;5;241m=\u001B[39m \u001B[38;5;28mself\u001B[39m\u001B[38;5;241m.\u001B[39m_run_one_training_iteration_and_evaluation_in_parallel()\n\u001B[1;32m    778\u001B[0m \u001B[38;5;66;03m# - No evaluation necessary, just run the next training iteration.\u001B[39;00m\n\u001B[1;32m    779\u001B[0m \u001B[38;5;66;03m# - We have to evaluate in this training iteration, but no parallelism ->\u001B[39;00m\n\u001B[1;32m    780\u001B[0m \u001B[38;5;66;03m#   evaluate after the training iteration is entirely done.\u001B[39;00m\n\u001B[1;32m    781\u001B[0m \u001B[38;5;28;01melse\u001B[39;00m:\n\u001B[0;32m--> 782\u001B[0m     results, train_iter_ctx \u001B[38;5;241m=\u001B[39m \u001B[38;5;28;43mself\u001B[39;49m\u001B[38;5;241;43m.\u001B[39;49m\u001B[43m_run_one_training_iteration\u001B[49m\u001B[43m(\u001B[49m\u001B[43m)\u001B[49m\n\u001B[1;32m    784\u001B[0m \u001B[38;5;66;03m# Sequential: Train (already done above), then evaluate.\u001B[39;00m\n\u001B[1;32m    785\u001B[0m \u001B[38;5;28;01mif\u001B[39;00m evaluate_this_iter \u001B[38;5;129;01mand\u001B[39;00m \u001B[38;5;129;01mnot\u001B[39;00m \u001B[38;5;28mself\u001B[39m\u001B[38;5;241m.\u001B[39mconfig\u001B[38;5;241m.\u001B[39mevaluation_parallel_to_training:\n",
      "File \u001B[0;32m~/.local/lib/python3.10/site-packages/ray/rllib/algorithms/algorithm.py:2713\u001B[0m, in \u001B[0;36mAlgorithm._run_one_training_iteration\u001B[0;34m(self)\u001B[0m\n\u001B[1;32m   2711\u001B[0m \u001B[38;5;28;01mwith\u001B[39;00m \u001B[38;5;28mself\u001B[39m\u001B[38;5;241m.\u001B[39m_timers[TRAINING_ITERATION_TIMER]:\n\u001B[1;32m   2712\u001B[0m     \u001B[38;5;28;01mif\u001B[39;00m \u001B[38;5;28mself\u001B[39m\u001B[38;5;241m.\u001B[39mconfig\u001B[38;5;241m.\u001B[39m_disable_execution_plan_api:\n\u001B[0;32m-> 2713\u001B[0m         results \u001B[38;5;241m=\u001B[39m \u001B[38;5;28;43mself\u001B[39;49m\u001B[38;5;241;43m.\u001B[39;49m\u001B[43mtraining_step\u001B[49m\u001B[43m(\u001B[49m\u001B[43m)\u001B[49m\n\u001B[1;32m   2714\u001B[0m     \u001B[38;5;28;01melse\u001B[39;00m:\n\u001B[1;32m   2715\u001B[0m         results \u001B[38;5;241m=\u001B[39m \u001B[38;5;28mnext\u001B[39m(\u001B[38;5;28mself\u001B[39m\u001B[38;5;241m.\u001B[39mtrain_exec_impl)\n",
      "File \u001B[0;32m~/.local/lib/python3.10/site-packages/ray/rllib/algorithms/impala/impala.py:561\u001B[0m, in \u001B[0;36mImpala.training_step\u001B[0;34m(self)\u001B[0m\n\u001B[1;32m    556\u001B[0m     batches \u001B[38;5;241m=\u001B[39m \u001B[38;5;28mself\u001B[39m\u001B[38;5;241m.\u001B[39mprocess_experiences_tree_aggregation(\n\u001B[1;32m    557\u001B[0m         unprocessed_sample_batches\n\u001B[1;32m    558\u001B[0m     )\n\u001B[1;32m    559\u001B[0m \u001B[38;5;66;03m# Resolve collected batches here on local process (using the mixin buffer).\u001B[39;00m\n\u001B[1;32m    560\u001B[0m \u001B[38;5;28;01melse\u001B[39;00m:\n\u001B[0;32m--> 561\u001B[0m     batches \u001B[38;5;241m=\u001B[39m \u001B[38;5;28;43mself\u001B[39;49m\u001B[38;5;241;43m.\u001B[39;49m\u001B[43mprocess_experiences_directly\u001B[49m\u001B[43m(\u001B[49m\u001B[43munprocessed_sample_batches\u001B[49m\u001B[43m)\u001B[49m\n\u001B[1;32m    563\u001B[0m \u001B[38;5;66;03m# Increase sampling counters now that we have the actual SampleBatches on\u001B[39;00m\n\u001B[1;32m    564\u001B[0m \u001B[38;5;66;03m# the local process (and can measure their sizes).\u001B[39;00m\n\u001B[1;32m    565\u001B[0m \u001B[38;5;28;01mfor\u001B[39;00m batch \u001B[38;5;129;01min\u001B[39;00m batches:\n",
      "File \u001B[0;32m~/.local/lib/python3.10/site-packages/ray/rllib/algorithms/impala/impala.py:764\u001B[0m, in \u001B[0;36mImpala.process_experiences_directly\u001B[0;34m(self, worker_to_sample_batches)\u001B[0m\n\u001B[1;32m    760\u001B[0m \u001B[38;5;28;01mfor\u001B[39;00m batch \u001B[38;5;129;01min\u001B[39;00m batches:\n\u001B[1;32m    761\u001B[0m     \u001B[38;5;28;01massert\u001B[39;00m \u001B[38;5;129;01mnot\u001B[39;00m \u001B[38;5;28misinstance\u001B[39m(\n\u001B[1;32m    762\u001B[0m         batch, ObjectRef\n\u001B[1;32m    763\u001B[0m     ), \u001B[38;5;124m\"\u001B[39m\u001B[38;5;124mprocess_experiences_directly can not handle ObjectRefs. \u001B[39m\u001B[38;5;124m\"\u001B[39m\n\u001B[0;32m--> 764\u001B[0m     batch \u001B[38;5;241m=\u001B[39m \u001B[43mbatch\u001B[49m\u001B[38;5;241;43m.\u001B[39;49m\u001B[43mdecompress_if_needed\u001B[49m\u001B[43m(\u001B[49m\u001B[43m)\u001B[49m\n\u001B[1;32m    765\u001B[0m     \u001B[38;5;28mself\u001B[39m\u001B[38;5;241m.\u001B[39mlocal_mixin_buffer\u001B[38;5;241m.\u001B[39madd(batch)\n\u001B[1;32m    766\u001B[0m     batch \u001B[38;5;241m=\u001B[39m \u001B[38;5;28mself\u001B[39m\u001B[38;5;241m.\u001B[39mlocal_mixin_buffer\u001B[38;5;241m.\u001B[39mreplay(_ALL_POLICIES)\n",
      "File \u001B[0;32m~/.local/lib/python3.10/site-packages/ray/rllib/policy/sample_batch.py:1411\u001B[0m, in \u001B[0;36mMultiAgentBatch.decompress_if_needed\u001B[0;34m(self, columns)\u001B[0m\n\u001B[1;32m   1402\u001B[0m \u001B[38;5;250m\u001B[39m\u001B[38;5;124;03m\"\"\"Decompresses each policy batch (per column), if already compressed.\u001B[39;00m\n\u001B[1;32m   1403\u001B[0m \n\u001B[1;32m   1404\u001B[0m \u001B[38;5;124;03mArgs:\u001B[39;00m\n\u001B[0;32m   (...)\u001B[0m\n\u001B[1;32m   1408\u001B[0m \u001B[38;5;124;03m    Self.\u001B[39;00m\n\u001B[1;32m   1409\u001B[0m \u001B[38;5;124;03m\"\"\"\u001B[39;00m\n\u001B[1;32m   1410\u001B[0m \u001B[38;5;28;01mfor\u001B[39;00m batch \u001B[38;5;129;01min\u001B[39;00m \u001B[38;5;28mself\u001B[39m\u001B[38;5;241m.\u001B[39mpolicy_batches\u001B[38;5;241m.\u001B[39mvalues():\n\u001B[0;32m-> 1411\u001B[0m     \u001B[43mbatch\u001B[49m\u001B[38;5;241;43m.\u001B[39;49m\u001B[43mdecompress_if_needed\u001B[49m\u001B[43m(\u001B[49m\u001B[43mcolumns\u001B[49m\u001B[43m)\u001B[49m\n\u001B[1;32m   1412\u001B[0m \u001B[38;5;28;01mreturn\u001B[39;00m \u001B[38;5;28mself\u001B[39m\n",
      "File \u001B[0;32m~/.local/lib/python3.10/site-packages/ray/rllib/policy/sample_batch.py:990\u001B[0m, in \u001B[0;36mSampleBatch.decompress_if_needed\u001B[0;34m(self, columns)\u001B[0m\n\u001B[1;32m    987\u001B[0m     \u001B[38;5;28;01melif\u001B[39;00m \u001B[38;5;28mlen\u001B[39m(value) \u001B[38;5;241m>\u001B[39m \u001B[38;5;241m0\u001B[39m \u001B[38;5;129;01mand\u001B[39;00m is_compressed(value[\u001B[38;5;241m0\u001B[39m]):\n\u001B[1;32m    988\u001B[0m         curr[path[\u001B[38;5;241m-\u001B[39m\u001B[38;5;241m1\u001B[39m]] \u001B[38;5;241m=\u001B[39m np\u001B[38;5;241m.\u001B[39marray([unpack(o) \u001B[38;5;28;01mfor\u001B[39;00m o \u001B[38;5;129;01min\u001B[39;00m value])\n\u001B[0;32m--> 990\u001B[0m \u001B[43mtree\u001B[49m\u001B[38;5;241;43m.\u001B[39;49m\u001B[43mmap_structure_with_path\u001B[49m\u001B[43m(\u001B[49m\u001B[43m_decompress_in_place\u001B[49m\u001B[43m,\u001B[49m\u001B[43m \u001B[49m\u001B[38;5;28;43mself\u001B[39;49m\u001B[43m)\u001B[49m\n\u001B[1;32m    992\u001B[0m \u001B[38;5;28;01mreturn\u001B[39;00m \u001B[38;5;28mself\u001B[39m\n",
      "File \u001B[0;32m~/.local/lib/python3.10/site-packages/tree/__init__.py:474\u001B[0m, in \u001B[0;36mmap_structure_with_path\u001B[0;34m(func, *structures, **kwargs)\u001B[0m\n\u001B[1;32m    438\u001B[0m \u001B[38;5;28;01mdef\u001B[39;00m \u001B[38;5;21mmap_structure_with_path\u001B[39m(func, \u001B[38;5;241m*\u001B[39mstructures, \u001B[38;5;241m*\u001B[39m\u001B[38;5;241m*\u001B[39mkwargs):\n\u001B[1;32m    439\u001B[0m \u001B[38;5;250m  \u001B[39m\u001B[38;5;124;03m\"\"\"Maps `func` through given structures.\u001B[39;00m\n\u001B[1;32m    440\u001B[0m \n\u001B[1;32m    441\u001B[0m \u001B[38;5;124;03m  This is a variant of :func:`~tree.map_structure` which accumulates\u001B[39;00m\n\u001B[0;32m   (...)\u001B[0m\n\u001B[1;32m    472\u001B[0m \u001B[38;5;124;03m      than `check_types` is provided.\u001B[39;00m\n\u001B[1;32m    473\u001B[0m \u001B[38;5;124;03m  \"\"\"\u001B[39;00m\n\u001B[0;32m--> 474\u001B[0m   \u001B[38;5;28;01mreturn\u001B[39;00m \u001B[43mmap_structure_with_path_up_to\u001B[49m\u001B[43m(\u001B[49m\u001B[43mstructures\u001B[49m\u001B[43m[\u001B[49m\u001B[38;5;241;43m0\u001B[39;49m\u001B[43m]\u001B[49m\u001B[43m,\u001B[49m\u001B[43m \u001B[49m\u001B[43mfunc\u001B[49m\u001B[43m,\u001B[49m\u001B[43m \u001B[49m\u001B[38;5;241;43m*\u001B[39;49m\u001B[43mstructures\u001B[49m\u001B[43m,\u001B[49m\n\u001B[1;32m    475\u001B[0m \u001B[43m                                       \u001B[49m\u001B[38;5;241;43m*\u001B[39;49m\u001B[38;5;241;43m*\u001B[39;49m\u001B[43mkwargs\u001B[49m\u001B[43m)\u001B[49m\n",
      "File \u001B[0;32m~/.local/lib/python3.10/site-packages/tree/__init__.py:777\u001B[0m, in \u001B[0;36mmap_structure_with_path_up_to\u001B[0;34m(***failed resolving arguments***)\u001B[0m\n\u001B[1;32m    775\u001B[0m \u001B[38;5;28;01mdel\u001B[39;00m kwargs\n\u001B[1;32m    776\u001B[0m results \u001B[38;5;241m=\u001B[39m []\n\u001B[0;32m--> 777\u001B[0m \u001B[38;5;28;01mfor\u001B[39;00m path_and_values \u001B[38;5;129;01min\u001B[39;00m _multiyield_flat_up_to(shallow_structure, \u001B[38;5;241m*\u001B[39mstructures):\n\u001B[1;32m    778\u001B[0m   results\u001B[38;5;241m.\u001B[39mappend(func(\u001B[38;5;241m*\u001B[39mpath_and_values))\n\u001B[1;32m    779\u001B[0m \u001B[38;5;28;01mreturn\u001B[39;00m unflatten_as(shallow_structure, results)\n",
      "File \u001B[0;32m~/.local/lib/python3.10/site-packages/tree/__init__.py:516\u001B[0m, in \u001B[0;36m_multiyield_flat_up_to\u001B[0;34m(shallow_tree, *input_trees)\u001B[0m\n\u001B[1;32m    513\u001B[0m zipped_iterators \u001B[38;5;241m=\u001B[39m \u001B[38;5;28mzip\u001B[39m(\u001B[38;5;241m*\u001B[39m[_yield_flat_up_to(shallow_tree, input_tree)\n\u001B[1;32m    514\u001B[0m                          \u001B[38;5;28;01mfor\u001B[39;00m input_tree \u001B[38;5;129;01min\u001B[39;00m input_trees])\n\u001B[1;32m    515\u001B[0m \u001B[38;5;28;01mtry\u001B[39;00m:\n\u001B[0;32m--> 516\u001B[0m   \u001B[38;5;28;01mfor\u001B[39;00m paths_and_values \u001B[38;5;129;01min\u001B[39;00m zipped_iterators:\n\u001B[1;32m    517\u001B[0m     paths, values \u001B[38;5;241m=\u001B[39m \u001B[38;5;28mzip\u001B[39m(\u001B[38;5;241m*\u001B[39mpaths_and_values)\n\u001B[1;32m    518\u001B[0m     \u001B[38;5;28;01myield\u001B[39;00m paths[:\u001B[38;5;241m1\u001B[39m] \u001B[38;5;241m+\u001B[39m values\n",
      "File \u001B[0;32m~/.local/lib/python3.10/site-packages/tree/__init__.py:501\u001B[0m, in \u001B[0;36m_yield_flat_up_to\u001B[0;34m(shallow_tree, input_tree, path)\u001B[0m\n\u001B[1;32m    499\u001B[0m   \u001B[38;5;28;01myield\u001B[39;00m (path, input_tree)\n\u001B[1;32m    500\u001B[0m \u001B[38;5;28;01melse\u001B[39;00m:\n\u001B[0;32m--> 501\u001B[0m   input_tree \u001B[38;5;241m=\u001B[39m \u001B[38;5;28;43mdict\u001B[39;49m\u001B[43m(\u001B[49m\u001B[43m_yield_sorted_items\u001B[49m\u001B[43m(\u001B[49m\u001B[43minput_tree\u001B[49m\u001B[43m)\u001B[49m\u001B[43m)\u001B[49m\n\u001B[1;32m    502\u001B[0m   \u001B[38;5;28;01mfor\u001B[39;00m shallow_key, shallow_subtree \u001B[38;5;129;01min\u001B[39;00m _yield_sorted_items(shallow_tree):\n\u001B[1;32m    503\u001B[0m     subpath \u001B[38;5;241m=\u001B[39m path \u001B[38;5;241m+\u001B[39m (shallow_key,)\n",
      "File \u001B[0;32m~/.local/lib/python3.10/site-packages/tree/__init__.py:158\u001B[0m, in \u001B[0;36m_yield_sorted_items\u001B[0;34m(iterable)\u001B[0m\n\u001B[1;32m    151\u001B[0m \u001B[38;5;28;01mif\u001B[39;00m \u001B[38;5;28misinstance\u001B[39m(iterable, collections_abc\u001B[38;5;241m.\u001B[39mMapping):\n\u001B[1;32m    152\u001B[0m   \u001B[38;5;66;03m# Iterate through dictionaries in a deterministic order by sorting the\u001B[39;00m\n\u001B[1;32m    153\u001B[0m   \u001B[38;5;66;03m# keys. Notice this means that we ignore the original order of `OrderedDict`\u001B[39;00m\n\u001B[1;32m    154\u001B[0m   \u001B[38;5;66;03m# instances. This is intentional, to avoid potential bugs caused by mixing\u001B[39;00m\n\u001B[1;32m    155\u001B[0m   \u001B[38;5;66;03m# ordered and plain dicts (e.g., flattening a dict but using a\u001B[39;00m\n\u001B[1;32m    156\u001B[0m   \u001B[38;5;66;03m# corresponding `OrderedDict` to pack it back).\u001B[39;00m\n\u001B[1;32m    157\u001B[0m   \u001B[38;5;28;01mfor\u001B[39;00m key \u001B[38;5;129;01min\u001B[39;00m _sorted(iterable):\n\u001B[0;32m--> 158\u001B[0m     \u001B[38;5;28;01myield\u001B[39;00m key, \u001B[43miterable\u001B[49m\u001B[43m[\u001B[49m\u001B[43mkey\u001B[49m\u001B[43m]\u001B[49m\n\u001B[1;32m    159\u001B[0m \u001B[38;5;28;01melif\u001B[39;00m _is_attrs(iterable):\n\u001B[1;32m    160\u001B[0m   \u001B[38;5;28;01mfor\u001B[39;00m item \u001B[38;5;129;01min\u001B[39;00m _get_attrs_items(iterable):\n",
      "File \u001B[0;32m~/.local/lib/python3.10/site-packages/ray/rllib/policy/sample_batch.py:862\u001B[0m, in \u001B[0;36mSampleBatch.__getitem__\u001B[0;34m(self, key)\u001B[0m\n\u001B[1;32m    855\u001B[0m         deprecation_warning(\n\u001B[1;32m    856\u001B[0m             old\u001B[38;5;241m=\u001B[39m\u001B[38;5;124m\"\u001B[39m\u001B[38;5;124mSampleBatch[\u001B[39m\u001B[38;5;124m'\u001B[39m\u001B[38;5;124mis_training\u001B[39m\u001B[38;5;124m'\u001B[39m\u001B[38;5;124m]\u001B[39m\u001B[38;5;124m\"\u001B[39m,\n\u001B[1;32m    857\u001B[0m             new\u001B[38;5;241m=\u001B[39m\u001B[38;5;124m\"\u001B[39m\u001B[38;5;124mSampleBatch.is_training\u001B[39m\u001B[38;5;124m\"\u001B[39m,\n\u001B[1;32m    858\u001B[0m             error\u001B[38;5;241m=\u001B[39m\u001B[38;5;28;01mFalse\u001B[39;00m,\n\u001B[1;32m    859\u001B[0m         )\n\u001B[1;32m    860\u001B[0m     \u001B[38;5;28;01mreturn\u001B[39;00m \u001B[38;5;28mself\u001B[39m\u001B[38;5;241m.\u001B[39mis_training\n\u001B[0;32m--> 862\u001B[0m \u001B[38;5;28;01mif\u001B[39;00m \u001B[38;5;129;01mnot\u001B[39;00m \u001B[38;5;28;43mhasattr\u001B[39;49m\u001B[43m(\u001B[49m\u001B[38;5;28;43mself\u001B[39;49m\u001B[43m,\u001B[49m\u001B[43m \u001B[49m\u001B[43mkey\u001B[49m\u001B[43m)\u001B[49m \u001B[38;5;129;01mand\u001B[39;00m key \u001B[38;5;129;01min\u001B[39;00m \u001B[38;5;28mself\u001B[39m:\n\u001B[1;32m    863\u001B[0m     \u001B[38;5;28mself\u001B[39m\u001B[38;5;241m.\u001B[39maccessed_keys\u001B[38;5;241m.\u001B[39madd(key)\n\u001B[1;32m    865\u001B[0m value \u001B[38;5;241m=\u001B[39m \u001B[38;5;28mdict\u001B[39m\u001B[38;5;241m.\u001B[39m\u001B[38;5;21m__getitem__\u001B[39m(\u001B[38;5;28mself\u001B[39m, key)\n",
      "\u001B[0;31mKeyboardInterrupt\u001B[0m: "
     ]
    }
   ],
   "source": [
    "for i in tqdm(range(50)):\n",
    "    train_result = algorithm_weights_restored_3.train()[\"episode_reward_mean\"]\n",
    "    print(train_result)\n",
    "    result_3.append(train_result)\n",
    "#     # if train_result > 4:\n",
    "#     #     break\n",
    "print(result_3)\n",
    "# checkpoint_path = algorithm_weights_restored_2.save(\"./TFM/algorithms/latency-05_03\")"
   ],
   "metadata": {
    "collapsed": false
   }
  },
  {
   "cell_type": "code",
   "execution_count": 423,
   "outputs": [
    {
     "data": {
      "text/plain": "[<matplotlib.lines.Line2D at 0x7ef3e96967a0>]"
     },
     "execution_count": 423,
     "metadata": {},
     "output_type": "execute_result"
    },
    {
     "data": {
      "text/plain": "<Figure size 640x480 with 1 Axes>",
      "image/png": "[encoded data removed]"
     },
     "metadata": {},
     "output_type": "display_data"
    }
   ],
   "source": [
    "plt.plot(result_2)"
   ],
   "metadata": {
    "collapsed": false
   }
  },
  {
   "cell_type": "code",
   "execution_count": 382,
   "outputs": [
    {
     "data": {
      "text/plain": "[<matplotlib.lines.Line2D at 0x7ef596f2ec80>]"
     },
     "execution_count": 382,
     "metadata": {},
     "output_type": "execute_result"
    },
    {
     "data": {
      "text/plain": "<Figure size 640x480 with 1 Axes>",
      "image/png": "[encoded data removed]"
     },
     "metadata": {},
     "output_type": "display_data"
    }
   ],
   "source": [
    "plt.plot(result)\n",
    "# len(result)"
   ],
   "metadata": {
    "collapsed": false
   }
  },
  {
   "cell_type": "code",
   "execution_count": 272,
   "outputs": [],
   "source": [
    "test_architecture = AcesArchitectureEnv(52)"
   ],
   "metadata": {
    "collapsed": false
   }
  },
  {
   "cell_type": "code",
   "execution_count": 413,
   "outputs": [
    {
     "data": {
      "text/plain": "({'weights': array([0.0125, 0.001 , 0.02  , 0.5   ]),\n  'allocation': array([0, 2, 5, 2, 3, 1, 3, 3, 6, 7, 2, 1, 4, 6, 5, 1, 1, 5, 5, 0, 2, 0,\n         4, 7, 4, 5, 2, 5, 5, 5, 2, 5, 5, 0, 5, 4, 3, 6, 7, 5, 1, 2, 1, 0,\n         6, 2, 1, 4, 2, 6, 2, 1], dtype=int32),\n  'data_type': array([3, 3, 3, 3, 3, 3, 3, 3, 3, 3, 3, 3, 1, 1, 1, 1, 1, 1, 1, 1, 2, 2,\n         2, 2, 2, 2, 2, 2, 0, 0, 0, 0, 0, 0, 0, 0, 1, 1, 1, 1, 1, 1, 1, 1,\n         2, 2, 2, 2, 2, 2, 2, 2]),\n  'free_space': array([0.98931, 0.97912, 0.19325, 0.2495 , 0.96325, 0.69675, 0.729  ,\n         0.7395 ]),\n  'last_calls_type': array([0, 1, 2, 3, 0, 1, 2, 0, 1, 2]),\n  'last_calls_device': array([1, 1, 1, 0, 1, 1, 1, 1, 0, 4])},\n 0.06415649978965088,\n True,\n {})"
     },
     "execution_count": 413,
     "metadata": {},
     "output_type": "execute_result"
    }
   ],
   "source": [
    "obs=test_architecture.reset()\n",
    "action = algorithm_weights_restored.compute_single_action(obs)\n",
    "test_architecture.step(action)"
   ],
   "metadata": {
    "collapsed": false
   }
  },
  {
   "cell_type": "code",
   "execution_count": 414,
   "outputs": [
    {
     "name": "stdout",
     "output_type": "stream",
     "text": [
      "1036\n",
      "0.06415649978965088\n",
      "0.29423876894454276\n",
      "Reward: 0.7057612310554573\n",
      "Problem\n",
      "It's ok\n",
      "874\n",
      "0.13230963399242746\n",
      "0.8990616367529174\n"
     ]
    }
   ],
   "source": [
    "print(test_architecture.architecture.compute_total_latency())\n",
    "print(1-test_architecture.architecture.compute_normalized_latency()-0.5)\n",
    "print(np.std(test_architecture.free_space))\n",
    "print(\"Reward: {}\".format(1-np.std(test_architecture.free_space)))\n",
    "test_architecture.architecture.greedy_algorithm()\n",
    "print(test_architecture.architecture.compute_total_latency())\n",
    "print(1-test_architecture.architecture.compute_normalized_latency()-0.5)\n",
    "print(1-np.std(list(test_architecture.architecture.free_space().values())))"
   ],
   "metadata": {
    "collapsed": false
   }
  },
  {
   "cell_type": "code",
   "execution_count": 83,
   "outputs": [
    {
     "name": "stderr",
     "output_type": "stream",
     "text": [
      "2023-06-06 11:15:06,909\tINFO worker.py:1553 -- Started a local Ray instance.\n",
      "2023-06-06 11:15:27,543\tINFO trainable.py:172 -- Trainable.setup took 23.500 seconds. If your trainable is slow to initialize, consider setting reuse_actors=True to reduce actor creation overheads.\n",
      "2023-06-06 11:15:27,546\tWARNING util.py:67 -- Install gputil for GPU system monitoring.\n"
     ]
    },
    {
     "name": "stdout",
     "output_type": "stream",
     "text": [
      "/home/rcalzada/ray_results/Impala_AcesArchitectureEnv_2023-06-06_11-15-04l7okusgd/checkpoint_000000\n"
     ]
    },
    {
     "name": "stderr",
     "output_type": "stream",
     "text": [
      "2023-06-06 11:15:45,476\tINFO trainable.py:172 -- Trainable.setup took 17.691 seconds. If your trainable is slow to initialize, consider setting reuse_actors=True to reduce actor creation overheads.\n",
      "2023-06-06 11:15:45,479\tWARNING util.py:67 -- Install gputil for GPU system monitoring.\n",
      "2023-06-06 11:15:45,961\tINFO trainable.py:791 -- Restored on 138.4.11.227 from checkpoint: /home/rcalzada/ray_results/Impala_AcesArchitectureEnv_2023-06-06_11-15-04l7okusgd/checkpoint_000000\n",
      "2023-06-06 11:15:45,963\tINFO trainable.py:800 -- Current state after restoring: {'_iteration': 0, '_timesteps_total': None, '_time_total': 0.0, '_episodes_total': None}\n",
      "  5%|█████▋                                                                                                            | 1/20 [00:14<04:44, 14.97s/it]"
     ]
    },
    {
     "name": "stdout",
     "output_type": "stream",
     "text": [
      "1.1442208844917199\n"
     ]
    },
    {
     "name": "stderr",
     "output_type": "stream",
     "text": [
      " 10%|███████████▍                                                                                                      | 2/20 [00:30<04:30, 15.01s/it]"
     ]
    },
    {
     "name": "stdout",
     "output_type": "stream",
     "text": [
      "1.16968643451961\n"
     ]
    },
    {
     "name": "stderr",
     "output_type": "stream",
     "text": [
      " 15%|█████████████████                                                                                                 | 3/20 [00:46<04:22, 15.46s/it]"
     ]
    },
    {
     "name": "stdout",
     "output_type": "stream",
     "text": [
      "1.14218284038133\n"
     ]
    },
    {
     "name": "stderr",
     "output_type": "stream",
     "text": [
      " 20%|██████████████████████▊                                                                                           | 4/20 [01:01<04:05, 15.36s/it]"
     ]
    },
    {
     "name": "stdout",
     "output_type": "stream",
     "text": [
      "1.1521464283475715\n"
     ]
    },
    {
     "name": "stderr",
     "output_type": "stream",
     "text": [
      " 25%|████████████████████████████▌                                                                                     | 5/20 [01:16<03:51, 15.41s/it]"
     ]
    },
    {
     "name": "stdout",
     "output_type": "stream",
     "text": [
      "1.1622031441469562\n"
     ]
    },
    {
     "name": "stderr",
     "output_type": "stream",
     "text": [
      " 30%|██████████████████████████████████▏                                                                               | 6/20 [01:32<03:35, 15.38s/it]"
     ]
    },
    {
     "name": "stdout",
     "output_type": "stream",
     "text": [
      "1.167257438358611\n"
     ]
    },
    {
     "name": "stderr",
     "output_type": "stream",
     "text": [
      " 35%|███████████████████████████████████████▉                                                                          | 7/20 [01:47<03:20, 15.46s/it]"
     ]
    },
    {
     "name": "stdout",
     "output_type": "stream",
     "text": [
      "1.1379632996710185\n"
     ]
    },
    {
     "name": "stderr",
     "output_type": "stream",
     "text": [
      " 40%|█████████████████████████████████████████████▌                                                                    | 8/20 [02:02<03:04, 15.41s/it]"
     ]
    },
    {
     "name": "stdout",
     "output_type": "stream",
     "text": [
      "1.1155598566632663\n"
     ]
    },
    {
     "name": "stderr",
     "output_type": "stream",
     "text": [
      " 45%|███████████████████████████████████████████████████▎                                                              | 9/20 [02:18<02:49, 15.42s/it]"
     ]
    },
    {
     "name": "stdout",
     "output_type": "stream",
     "text": [
      "1.131271686633538\n"
     ]
    },
    {
     "name": "stderr",
     "output_type": "stream",
     "text": [
      " 50%|████████████████████████████████████████████████████████▌                                                        | 10/20 [02:33<02:32, 15.24s/it]"
     ]
    },
    {
     "name": "stdout",
     "output_type": "stream",
     "text": [
      "1.1479758545987193\n"
     ]
    },
    {
     "name": "stderr",
     "output_type": "stream",
     "text": [
      " 55%|██████████████████████████████████████████████████████████████▏                                                  | 11/20 [02:47<02:15, 15.09s/it]"
     ]
    },
    {
     "name": "stdout",
     "output_type": "stream",
     "text": [
      "1.115153965023674\n"
     ]
    },
    {
     "name": "stderr",
     "output_type": "stream",
     "text": [
      " 60%|███████████████████████████████████████████████████████████████████▊                                             | 12/20 [03:02<02:00, 15.05s/it]"
     ]
    },
    {
     "name": "stdout",
     "output_type": "stream",
     "text": [
      "1.1191684487963085\n"
     ]
    },
    {
     "name": "stderr",
     "output_type": "stream",
     "text": [
      " 65%|█████████████████████████████████████████████████████████████████████████▍                                       | 13/20 [03:19<01:48, 15.47s/it]"
     ]
    },
    {
     "name": "stdout",
     "output_type": "stream",
     "text": [
      "1.1387431337431213\n"
     ]
    },
    {
     "name": "stderr",
     "output_type": "stream",
     "text": [
      " 70%|███████████████████████████████████████████████████████████████████████████████                                  | 14/20 [03:34<01:32, 15.45s/it]"
     ]
    },
    {
     "name": "stdout",
     "output_type": "stream",
     "text": [
      "1.1533014994293926\n"
     ]
    },
    {
     "name": "stderr",
     "output_type": "stream",
     "text": [
      " 75%|████████████████████████████████████████████████████████████████████████████████████▊                            | 15/20 [03:49<01:16, 15.35s/it]"
     ]
    },
    {
     "name": "stdout",
     "output_type": "stream",
     "text": [
      "1.1500948492275016\n"
     ]
    },
    {
     "name": "stderr",
     "output_type": "stream",
     "text": [
      " 80%|██████████████████████████████████████████████████████████████████████████████████████████▍                      | 16/20 [04:05<01:01, 15.27s/it]"
     ]
    },
    {
     "name": "stdout",
     "output_type": "stream",
     "text": [
      "1.1577547870416434\n"
     ]
    },
    {
     "name": "stderr",
     "output_type": "stream",
     "text": [
      " 85%|████████████████████████████████████████████████████████████████████████████████████████████████                 | 17/20 [04:20<00:45, 15.31s/it]"
     ]
    },
    {
     "name": "stdout",
     "output_type": "stream",
     "text": [
      "1.1571176052934677\n"
     ]
    },
    {
     "name": "stderr",
     "output_type": "stream",
     "text": [
      " 90%|█████████████████████████████████████████████████████████████████████████████████████████████████████▋           | 18/20 [04:35<00:30, 15.24s/it]"
     ]
    },
    {
     "name": "stdout",
     "output_type": "stream",
     "text": [
      "1.1411047521564832\n"
     ]
    },
    {
     "name": "stderr",
     "output_type": "stream",
     "text": [
      "Exception in thread Thread-663:\n",
      "Traceback (most recent call last):\n",
      "  File \"/usr/lib/python3.10/threading.py\", line 1016, in _bootstrap_inner\n",
      "    self.run()\n",
      "  File \"/home/rcalzada/.local/lib/python3.10/site-packages/ray/rllib/execution/learner_thread.py\", line 74, in run\n",
      "    self.step()\n",
      "  File \"/home/rcalzada/.local/lib/python3.10/site-packages/ray/rllib/execution/multi_gpu_learner_thread.py\", line 143, in step\n",
      "    buffer_idx, released = self.ready_tower_stacks_buffer.get()\n",
      "  File \"/home/rcalzada/.local/lib/python3.10/site-packages/ray/rllib/execution/minibatch_buffer.py\", line 48, in get\n",
      "    self.buffers[self.idx] = self.inqueue.get(timeout=self.timeout)\n",
      "  File \"/usr/lib/python3.10/queue.py\", line 179, in get\n",
      "    raise Empty\n",
      "_queue.Empty\n",
      " 95%|███████████████████████████████████████████████████████████████████████████████████████████████████████████▎     | 19/20 [04:50<00:15, 15.13s/it]"
     ]
    },
    {
     "name": "stdout",
     "output_type": "stream",
     "text": [
      "1.151451549908042\n"
     ]
    },
    {
     "name": "stderr",
     "output_type": "stream",
     "text": [
      "100%|█████████████████████████████████████████████████████████████████████████████████████████████████████████████████| 20/20 [05:05<00:00, 15.29s/it]"
     ]
    },
    {
     "name": "stdout",
     "output_type": "stream",
     "text": [
      "1.1352486827219241\n",
      "Impala\n"
     ]
    },
    {
     "name": "stderr",
     "output_type": "stream",
     "text": [
      "\n"
     ]
    }
   ],
   "source": [
    "import ray\n",
    "from ray.tune.registry import register_env\n",
    "from gymnasium.wrappers import EnvCompatibility\n",
    "from ray.rllib.algorithms.ppo import PPOConfig\n",
    "from ray.rllib.algorithms.impala import ImpalaConfig\n",
    "from gymnasium.wrappers import TimeLimit\n",
    "\n",
    "ray.shutdown()\n",
    "\n",
    "def env_creator(env_config):\n",
    "    return TimeLimit(EnvCompatibility(AcesArchitectureEnv(52)), max_episode_steps=10)\n",
    "register_env(\"AcesArchitectureEnv\", env_creator)\n",
    "\n",
    "config_whole = (\n",
    "    ImpalaConfig()\n",
    "    .environment(\"AcesArchitectureEnv\",disable_env_checking=True)\n",
    "    .rollouts(num_rollout_workers=30,\n",
    "              num_envs_per_worker=5) # Max = 60\n",
    "    .resources(num_gpus=0,\n",
    "               num_cpus_per_worker=1)\n",
    "    .training(entropy_coeff=0.02)\n",
    "    # .offline_data(output=\"./TFM/datasets/impala_weights_20it\")\n",
    ")\n",
    "config_whole[\"model\"][\"fcnet_hiddens\"] = [256,256,256] # [256, 256] -> default\n",
    "# print(config[\"model\"][\"fcnet_hiddens\"])\n",
    "\n",
    "\n",
    "algorithm_whole = config_whole.build()\n",
    "algorithm_whole.set_weights(algorithm_weights.get_weights())\n",
    "checkpoint_path = algorithm_whole.save()\n",
    "print(checkpoint_path)\n",
    "algorithm_whole = config_whole.build()\n",
    "algorithm_whole.restore(checkpoint_path)\n",
    "\n",
    "result_whole =[]\n",
    "for i in tqdm(range(20)):\n",
    "    train_result = algorithm_whole.train()[\"episode_reward_mean\"]\n",
    "    print(train_result)\n",
    "    result_whole.append(train_result)\n",
    "print(algorithm_whole)"
   ],
   "metadata": {
    "collapsed": false
   }
  },
  {
   "cell_type": "code",
   "execution_count": 101,
   "outputs": [],
   "source": [
    "test_architecture = AcesArchitectureEnv(52)"
   ],
   "metadata": {
    "collapsed": false
   }
  },
  {
   "cell_type": "code",
   "execution_count": 116,
   "outputs": [
    {
     "data": {
      "text/plain": "({'weights': array([0.0125, 0.001 , 0.02  , 0.5   ]),\n  'allocation': array([2, 1, 4, 0, 3, 3, 5, 4, 7, 4, 3, 6, 7, 2, 7, 6, 3, 0, 0, 0, 3, 6,\n         1, 5, 7, 2, 2, 0, 1, 1, 1, 5, 4, 5, 6, 4, 1, 1, 4, 4, 1, 3, 4, 4,\n         7, 1, 0, 0, 0, 0, 0, 0], dtype=int32),\n  'data_type': array([3, 3, 3, 3, 3, 3, 1, 1, 1, 1, 1, 1, 1, 1, 2, 2, 2, 2, 2, 2, 2, 2,\n         0, 0, 0, 0, 0, 0, 0, 0, 1, 1, 1, 1, 1, 1, 1, 1, 2, 2, 2, 2, 2, 2,\n         2, 2, 3, 3, 3, 3, 3, 3]),\n  'free_space': array([0.92855, 0.98839, 0.737  , 0.4695 , 0.708  , 0.99225, 0.979  ,\n         0.97275]),\n  'last_calls_type': array([ 0,  1,  2,  0,  1,  2, -1, -1, -1, -1]),\n  'last_calls_device': array([ 4,  0,  6,  2,  7,  1, -1, -1, -1, -1])},\n 1.246897148070211,\n True,\n {})"
     },
     "execution_count": 116,
     "metadata": {},
     "output_type": "execute_result"
    }
   ],
   "source": [
    "action = algorithm_whole.compute_single_action(test_architecture.reset())\n",
    "test_architecture.step(action)"
   ],
   "metadata": {
    "collapsed": false
   }
  },
  {
   "cell_type": "code",
   "execution_count": 117,
   "outputs": [
    {
     "name": "stdout",
     "output_type": "stream",
     "text": [
      "828\n",
      "Problem\n",
      "It's ok\n",
      "352\n",
      "dict_values([0.93982, 0.9776, 0.96875, 0.75, 0.98125, 0.25, 0.9, 0.9965])\n"
     ]
    }
   ],
   "source": [
    "print(test_architecture.architecture.compute_total_latency())\n",
    "# print(test_architecture.architecture.compute_normalized_latency())\n",
    "# print(np.std(test_architecture.free_space))\n",
    "# print(\"Reward: {}\".format(1-test_architecture.architecture.compute_normalized_latency() + 1-np.std(test_architecture.free_space)))\n",
    "test_architecture.architecture.greedy_algorithm()\n",
    "print(test_architecture.architecture.compute_total_latency())\n",
    "print(test_architecture.architecture.free_space().values())"
   ],
   "metadata": {
    "collapsed": false
   }
  },
  {
   "cell_type": "code",
   "execution_count": null,
   "outputs": [],
   "source": [],
   "metadata": {
    "collapsed": false
   }
  }
 ],
 "metadata": {
  "kernelspec": {
   "display_name": "Python 3",
   "language": "python",
   "name": "python3"
  },
  "language_info": {
   "codemirror_mode": {
    "name": "ipython",
    "version": 2
   },
   "file_extension": ".py",
   "mimetype": "text/x-python",
   "name": "python",
   "nbconvert_exporter": "python",
   "pygments_lexer": "ipython2",
   "version": "2.7.6"
  }
 },
 "nbformat": 4,
 "nbformat_minor": 0
}
