{
 "cells": [
  {
   "cell_type": "code",
   "execution_count": 1,
   "metadata": {
    "collapsed": true
   },
   "outputs": [],
   "source": [
    "from gymnasium import Env\n",
    "from gymnasium.spaces import Box, Dict, Discrete, MultiDiscrete\n",
    "import random\n",
    "import numpy as np\n",
    "import matplotlib.pyplot as plt\n",
    "from tqdm import tqdm\n",
    "import networkx as nx\n",
    "from copy import copy\n",
    "import ray"
   ]
  },
  {
   "cell_type": "code",
   "execution_count": 4,
   "outputs": [],
   "source": [
    "class Architecture:\n",
    "    def __init__(self):\n",
    "        self.c_capacity, self.s_capacity = 50, 2\n",
    "        self.weights = [0.0125, 0.0010, 0.0200, 0.5000] # REVIEW\n",
    "        self.lifetime = {0: 1, 1: 2, 2: 3, 3: 10}   # REVIEW\n",
    "        self.max_actions = 10\n",
    "        self.num_c = 2\n",
    "        self.num_s = 10\n",
    "        self.max_actions = 10\n",
    "        self.min_free_space = 0.2\n",
    "        self.space_flag = -1\n",
    "\n",
    "        self.data_types = []\n",
    "        self.data_allocation = []\n",
    "        self.data_times = []\n",
    "\n",
    "        self.false_data_types = []\n",
    "        self.false_data_allocation = []\n",
    "        self.false_data = {}\n",
    "        self.false_devices = {}\n",
    "\n",
    "        self.data = {}\n",
    "        self.devices = {}\n",
    "        self.latencies = {}\n",
    "        self.max_latencies = {}\n",
    "\n",
    "        self.action_device = []\n",
    "        self.action_type = []\n",
    "\n",
    "        for j in (range(len(self.weights))):\n",
    "            self.data[j] = {}\n",
    "            self.false_data[j] = {}\n",
    "            for i in range(self.num_s+self.num_c):\n",
    "                self.data[j][i] = 0\n",
    "                self.false_data[j][i] = 0\n",
    "                self.devices[i] = {0: 0, 1: 0, 2: 0, 3: 0}\n",
    "                self.false_devices[i] = {0: 0, 1: 0, 2: 0, 3: 0}\n",
    "                self.latencies[i] = {}\n",
    "                self.max_latencies[i] = {}\n",
    "\n",
    "        for i in self.latencies.keys():\n",
    "            for j in self.latencies.keys():\n",
    "                self.latencies[i][j] = 0\n",
    "                self.max_latencies[i][j] = 0\n",
    "\n",
    "        devices = list(self.devices.keys())\n",
    "        bound = round(len(self.devices)/4)\n",
    "        self.clusters = {\n",
    "            0: devices[2:4],\n",
    "            1: devices[6:8],\n",
    "            2: devices[-2:],\n",
    "            # 3: devices[:bound]\n",
    "            3: [0]\n",
    "        }\n",
    "        self.visualization()\n",
    "\n",
    "    def construct_dictionaries(self):\n",
    "        for i in self.data:\n",
    "            for j in self.data[i]:\n",
    "                self.data[i][j] = 0\n",
    "        for i in self.devices:\n",
    "            for j in self.devices[i]:\n",
    "                self.devices[i][j] = 0\n",
    "        for device, d_type in zip(self.data_allocation, self.data_types):\n",
    "            self.data[d_type][device] += 1\n",
    "            self.devices[device][d_type] += 1\n",
    "\n",
    "    def false_construct_dictionaries(self):\n",
    "        for i in self.false_data:\n",
    "            for j in self.false_data[i]:\n",
    "                self.false_data[i][j] = 0\n",
    "        for i in self.false_devices:\n",
    "            for j in self.false_devices[i]:\n",
    "                self.false_devices[i][j] = 0\n",
    "        for device, d_type in zip(self.false_data_allocation, self.false_data_types):\n",
    "            self.false_data[d_type][device] += 1\n",
    "            self.false_devices[device][d_type] += 1\n",
    "\n",
    "    def update(self, data_type, device):\n",
    "        self.data_types.append(data_type)\n",
    "        self.data_allocation.append(device)\n",
    "        self.data_times.append(0)\n",
    "        self.devices[device][data_type] += 1\n",
    "        self.data[data_type][device] += 1\n",
    "\n",
    "    def heart_beat(self):\n",
    "        deads = []\n",
    "        for i in range(len(self.data_times)):\n",
    "            self.data_times[i] += 1\n",
    "            if self.data_times[i] == self.lifetime[self.data_types[i]]:\n",
    "                deads.append(i)\n",
    "\n",
    "        removed = 0\n",
    "        for i in deads:\n",
    "            self.devices[self.data_allocation[i-removed]][self.data_types[i-removed]] -= 1\n",
    "            self.data[self.data_types[i-removed]][self.data_allocation[i-removed]] -= 1\n",
    "            self.data_types.pop(i - removed)\n",
    "            self.data_allocation.pop(i - removed)\n",
    "            self.data_times.pop(i - removed)\n",
    "            removed += 1\n",
    "\n",
    "    def free_space(self):\n",
    "        load = {}\n",
    "        for i in range(self.num_c + self.num_s):\n",
    "            if i < self.num_c:\n",
    "                load[i] = (self.c_capacity - sum([a*b for a,b in zip(list(self.devices[i].values()), self.weights)]))/self.c_capacity\n",
    "            else:\n",
    "                load[i] = (self.s_capacity - sum([a*b for a,b in zip(list(self.devices[i].values()), self.weights)]))/self.s_capacity\n",
    "            if load[i] <= self.min_free_space:\n",
    "                self.space_flag = i\n",
    "        return load\n",
    "\n",
    "    def false_free_space(self):\n",
    "        load = {}\n",
    "        for i in range(self.num_c + self.num_s):\n",
    "            if i < self.num_c:\n",
    "                load[i] = (self.c_capacity - sum([a*b for a,b in zip(list(self.false_devices[i].values()), self.weights)]))/self.c_capacity\n",
    "            else:\n",
    "                load[i] = (self.s_capacity - sum([a*b for a,b in zip(list(self.false_devices[i].values()), self.weights)]))/self.s_capacity\n",
    "            # if load[i] <= self.min_free_space:\n",
    "            #     self.space_flag = i\n",
    "        return load\n",
    "\n",
    "    def reduce_type(self, data_type):\n",
    "        max_time = 0\n",
    "        positions = []\n",
    "        for i in range(len(self.data_allocation)):\n",
    "            if self.data_types[i] == data_type:\n",
    "                if self.data_times[i] > max_time:\n",
    "                    max_time = self.data_times[i]\n",
    "                    positions = []\n",
    "                    positions.append(i)\n",
    "                elif self.data_times[i] == max_time:\n",
    "                    positions.append(i)\n",
    "\n",
    "        removed = 0\n",
    "        for i in positions:\n",
    "            self.devices[self.data_allocation[i-removed]][self.data_types[i-removed]] -= 1\n",
    "            self.data[self.data_types[i-removed]][self.data_allocation[i-removed]] -= 1\n",
    "            self.data_times.pop(i - removed)\n",
    "            self.data_types.pop(i - removed)\n",
    "            self.data_allocation.pop(i -removed)\n",
    "            removed += 1\n",
    "\n",
    "    def check_quantity(self, data_type):\n",
    "        if data_type != 3:\n",
    "            if sum(list(self.data[data_type].values())) > 2*(self.num_s + self.num_c):\n",
    "                self.reduce_type(data_type)\n",
    "        else:\n",
    "            if sum(list(self.data[data_type].values())) > 2*self.num_s:\n",
    "                self.reduce_type(data_type)\n",
    "\n",
    "    def visualization(self):\n",
    "        keys = list(self.devices.keys())\n",
    "        cs = keys[:self.num_c]\n",
    "        ss = keys[self.num_c:]\n",
    "\n",
    "        colors = []\n",
    "        sizes = []\n",
    "\n",
    "        graph = nx.Graph()\n",
    "\n",
    "        colors.append('lightblue')\n",
    "        sizes.append(1000)\n",
    "        index = 0\n",
    "        for i in range(len(cs)):\n",
    "            if i != len(cs)-1:\n",
    "                colors.append('lightblue')\n",
    "                sizes.append(1000)\n",
    "                graph.add_edge(cs[i],cs[i+1])\n",
    "                graph.add_weighted_edges_from([(cs[i],cs[i+1],10)])\n",
    "                for j in range(int(len(ss)/self.num_c)):\n",
    "                    colors.append('orange')\n",
    "                    sizes.append(100)\n",
    "                    graph.add_edge(cs[i],ss[index])\n",
    "                    graph.add_weighted_edges_from([(cs[i],ss[index],random.randint(4,6))])\n",
    "                    index += 1\n",
    "            else:\n",
    "                graph.add_edge(cs[i],cs[0])\n",
    "                graph.add_weighted_edges_from([(cs[i],cs[0],10)])\n",
    "                for j in range(int(len(ss)/self.num_c)+len(ss)%self.num_c):\n",
    "                    graph.add_edge(cs[i],ss[index])\n",
    "                    graph.add_weighted_edges_from([(cs[i],ss[index],random.randint(4,6))])\n",
    "                    colors.append('orange')\n",
    "                    sizes.append(100)\n",
    "                    index += 1\n",
    "\n",
    "        pos = nx.spring_layout(graph)  # Position nodes using a spring layout algorithm\n",
    "        # nx.draw(graph, pos, with_labels=True, node_size=sizes, node_color=colors, font_weight=12, font_color='black', edge_color='gray')\n",
    "        edge_labels = nx.get_edge_attributes(graph, 'weight')\n",
    "        # nx.draw_networkx_edge_labels(graph, pos, edge_labels=edge_labels)\n",
    "\n",
    "        # plt.title(\"Architecture:\")\n",
    "        # plt.axis('off')\n",
    "        # plt.show()\n",
    "\n",
    "        for u in graph.nodes:\n",
    "            shortest_paths = nx.shortest_path_length(graph, source=u, weight='weight')\n",
    "            for v, weight in shortest_paths.items():\n",
    "                self.latencies[u][v] = weight\n",
    "\n",
    "        max_latency = self.latencies[self.num_c][self.num_c+self.num_s-1]\n",
    "        for i in self.max_latencies.keys():\n",
    "            for j in self.max_latencies[i].keys():\n",
    "                self.max_latencies[i][j] = max_latency\n",
    "\n",
    "    def compute_total_latency(self):\n",
    "        total_latency = 0\n",
    "        for i in range(len(self.action_type)):\n",
    "            total_latency += sum([a*b for a,b in zip(self.data[self.action_type[i]].values(), self.latencies[self.action_device[i]].values())])\n",
    "        return total_latency\n",
    "\n",
    "    def false_compute_total_latency(self):\n",
    "        total_latency = 0\n",
    "        for i in range(len(self.action_type)):\n",
    "            total_latency += sum([a*b for a,b in zip(self.false_data[self.action_type[i]].values(), self.latencies[self.action_device[i]].values())])\n",
    "        return total_latency\n",
    "\n",
    "    def compute_normalized_latency(self):\n",
    "        total_latency = 0\n",
    "        max_latency = 0\n",
    "        for i in range(len(self.action_type)):\n",
    "            total_latency += sum([a*b for a,b in zip(self.data[self.action_type[i]].values(), self.latencies[self.action_device[i]].values())])\n",
    "            max_latency += sum([a*b for a,b in zip(self.data[self.action_type[i]].values(), self.max_latencies[self.action_device[i]].values())])\n",
    "        return total_latency/(max_latency+1)\n",
    "\n",
    "    def compute_normalized_latency_dict(self):    # CHANGEEEEEEEEEEEEEE\n",
    "        total_latency = {\n",
    "            0: 0,\n",
    "            1: 0,\n",
    "            2: 0,\n",
    "            3: 0\n",
    "        }\n",
    "        max_latency = {\n",
    "            0: 0,\n",
    "            1: 0,\n",
    "            2: 0,\n",
    "            3: 0\n",
    "        }\n",
    "\n",
    "        for key in total_latency.keys():\n",
    "            for dev in range(len(self.clusters[key])):\n",
    "                if self.clusters[key][dev] in self.action_device:\n",
    "                    for j in self.data[key]:\n",
    "                        total_latency[key] += self.latencies[self.clusters[key][dev]][j] * self.data[key][j]\n",
    "                        max_latency[key] += self.data[key][j]\n",
    "        for i in total_latency.keys():\n",
    "            total_latency[i] = 1-total_latency[i]/(max_latency[i]*22+1)\n",
    "\n",
    "        return total_latency\n",
    "\n",
    "    # def rl_update(self, new_allocation):\n",
    "    #     self.data_allocation = new_allocation\n",
    "    #     self.construct_dictionaries()\n",
    "    #     return self.free_space()\n",
    "\n",
    "    def generate(self, operation):\n",
    "        if operation == 0 or operation == 1 or operation == 2:\n",
    "            for i in range(self.num_s + self.num_c):\n",
    "                self.update(operation,i)\n",
    "            self.check_quantity(operation)\n",
    "        elif operation == 3:\n",
    "            for i in range(self.num_c,(self.num_c + self.num_s)):\n",
    "                self.update(operation,i)\n",
    "            self.check_quantity(operation)\n",
    "        else:\n",
    "            device=random.sample(self.clusters[operation-10],1)[0] if operation != 13 else self.clusters[operation-10][0] # CHANGEEEEEEEEEEEEEEE\n",
    "            # device=self.clusters[operation - 10][0]\n",
    "            self.action_device.append(device)\n",
    "            self.action_type.append(operation-10)\n",
    "            difference = len(self.action_device) - self.max_actions\n",
    "            if difference >= 0:\n",
    "                for i in range(difference):\n",
    "                    self.action_device.pop(0)\n",
    "                    self.action_type.pop(0)\n",
    "\n",
    "    def round_robin(self):\n",
    "        allocation_round = []\n",
    "        capacities = [50,50,2,2,2,2,2,2,2,2,2,2,2,2,2,2,2,2]  # CHANGEEEEEEEEEEEEEEEEEEEEE\n",
    "        index = 0\n",
    "        server_index = 0\n",
    "        for i in range(len(self.data_allocation)):\n",
    "            if index == self.num_c + self.num_s:\n",
    "                index = 0\n",
    "            if (index != 0 or index != 1) and capacities[index] - self.weights[self.data_types[i]] <= 0.2 * 2:      # CHANGEEEEEEEEEEEEEEEEEEEEE\n",
    "                allocation_round.append(server_index)\n",
    "                capacities[server_index] -= self.weights[self.data_types[i]]\n",
    "                server_index = 1 if server_index == 0 else 0\n",
    "            else:\n",
    "                allocation_round.append(index)\n",
    "                capacities[index] -= self.weights[self.data_types[i]]\n",
    "                index += 1\n",
    "        self.data_allocation = allocation_round.copy()\n",
    "        self.construct_dictionaries()\n",
    "        for i in range(80 - len(allocation_round)):      # REMEMBER TO CHANGE !!!!!!!!!!!!!!\n",
    "            allocation_round.append(random.randint(0,self.num_c+self.num_s-1))\n",
    "        return allocation_round\n",
    "\n",
    "    def greedy_server(self):\n",
    "        allocation_greedy= []\n",
    "        index = 0\n",
    "        for i in range(len(self.data_allocation)):\n",
    "            allocation_greedy.append(index)\n",
    "            index = 1 if index == 0 else 0          # CHANGEEEEEEEEEEEEEEEEEEEEE\n",
    "        self.data_allocation = allocation_greedy.copy()\n",
    "        self.construct_dictionaries()\n",
    "        for i in range(122 - len(allocation_greedy)):      # REMEMBER TO CHANGE !!!!!!!!!!!!!!\n",
    "            allocation_greedy.append(random.randint(0,self.num_c+self.num_s-1))\n",
    "        return allocation_greedy\n",
    "\n",
    "    def greedy_algorithm(self):\n",
    "        if self.space_flag == -1:\n",
    "            # print(\"It's ok\")\n",
    "            allocation = []\n",
    "            for i in self.data_types:\n",
    "                allocation.append(random.sample(list(self.clusters[i]),1)[0])\n",
    "            self.data_allocation = allocation.copy()\n",
    "            self.construct_dictionaries()\n",
    "            for i in range(122 - len(allocation)):      # REMEMBER TO CHANGE !!!!!!!!!!!!!!\n",
    "                allocation.append(random.randint(0,self.num_c+self.num_s-1))\n",
    "            return allocation\n",
    "        else:\n",
    "            # print(\"Problem\")\n",
    "            problematic_key = None\n",
    "            for key, value in self.clusters.items():\n",
    "                if self.space_flag in value:\n",
    "                    problematic_key = key\n",
    "                    break\n",
    "            for i in range(self.num_c):\n",
    "                self.clusters[problematic_key].append(i)\n",
    "            self.space_flag = -1\n",
    "            return self.greedy_algorithm()"
   ],
   "metadata": {
    "collapsed": false
   }
  },
  {
   "cell_type": "code",
   "execution_count": 5,
   "outputs": [
    {
     "name": "stdout",
     "output_type": "stream",
     "text": [
      "{0: [2, 3], 1: [6, 7], 2: [10, 11], 3: [0]}\n",
      "[2, 3, 4, 5, 6, 7, 8, 9, 10, 11, 0, 1, 2, 3, 4, 5, 6, 7, 8, 9, 10, 11, 0, 1, 2, 3, 4, 5, 6, 7, 8, 9, 10, 11, 2, 3, 4, 5, 6, 7, 8, 9, 10, 11, 0, 1, 2, 3, 4, 5, 6, 7, 8, 9, 10, 11, 0, 1, 2, 3, 4, 5, 6, 7, 8, 9, 10, 11, 0, 1, 2, 3, 4, 5, 6, 7, 8, 9, 10, 11]\n",
      "80\n"
     ]
    }
   ],
   "source": [
    "executions = [[0,1,2,10],\n",
    "              [0,1,2,11],\n",
    "              [0,1,2,12],\n",
    "              [0,1,2,3],\n",
    "              [0,1,2,10],\n",
    "              [0,1,2,11],\n",
    "              [0,1,2,12],\n",
    "              [0,1,2,3],\n",
    "              [0,1,2,13]]\n",
    "\n",
    "architecture = Architecture()\n",
    "print(architecture.clusters)\n",
    "\n",
    "for i in range(3):\n",
    "    for j in executions:\n",
    "        architecture.heart_beat()\n",
    "        for h in j:\n",
    "            architecture.generate(h)\n",
    "print(architecture.data_allocation)\n",
    "print(len(architecture.data_allocation))\n",
    "# print(architecture.data)\n",
    "# print(architecture.action_device)\n",
    "# print(architecture.action_type)\n",
    "# architecture.round_robin()\n",
    "# print(architecture.compute_normalized_latency_dict())\n",
    "# architecture.greedy_server()\n",
    "# print(architecture.compute_normalized_latency_dict())"
   ],
   "metadata": {
    "collapsed": false
   }
  },
  {
   "cell_type": "code",
   "execution_count": 6,
   "outputs": [],
   "source": [
    "# 6: [2,4,4,3]\n",
    "# 10: [3,6,6,5]\n",
    "# 16: [4.5,9,9,8]\n",
    "class AcesStepArchitectureEnv(Env):\n",
    "    def __init__(self, num_stations):\n",
    "        self.architecture = Architecture()\n",
    "        self.executions = [[0,1,2,10],\n",
    "                           [0,1,2,11],\n",
    "                           [0,1,2,12],\n",
    "                           [0,1,2,3],\n",
    "                           [0,1,2,10],\n",
    "                           [0,1,2,11],\n",
    "                           [0,1,2,12],\n",
    "                           [0,1,2,3],\n",
    "                           [0,1,2,13]]\n",
    "        self.execution_index = 0\n",
    "        self.num_devices = len(self.architecture.devices.keys())\n",
    "        self.num_stations = num_stations\n",
    "        self.multipliers = {\n",
    "            6: [2,4,4,3],\n",
    "            10: [3,6,6,5],\n",
    "            16: [4.5,9,9,8]\n",
    "        }\n",
    "\n",
    "        self.free_space = [self.architecture.c_capacity,self.architecture.c_capacity]\n",
    "        self.max_free_space = [self.architecture.c_capacity,self.architecture.c_capacity]\n",
    "\n",
    "        for i in range(self.num_stations):\n",
    "            self.free_space.append(self.architecture.s_capacity)\n",
    "            self.max_free_space.append(self.architecture.s_capacity)\n",
    "\n",
    "        self.last_call = [-1]\n",
    "        self.weight = 0\n",
    "        self.type = 0\n",
    "        self.flag = False\n",
    "\n",
    "        self.observation_space = Dict({\n",
    "            \"weight\": Box(low=0, high=5, shape=(1,), dtype=np.float32),\n",
    "            \"free_space\": Box(low=-10, high=50, shape=(self.num_devices,), dtype=np.float32),\n",
    "            \"last_calls\": Box(low=-1, high=self.num_devices-1, shape=(2,), dtype=np.int32)               # CHAAAAAAAAAAAAAAAAAAAAAAAAAANGE\n",
    "        })\n",
    "\n",
    "        self.action_space = Box(low=0, high=self.num_devices-1, shape=(2,), dtype=np.int32)\n",
    "\n",
    "        self.reward = 0\n",
    "\n",
    "    def get_obs(self, type):\n",
    "        self.weight = self.architecture.weights[type] * self.multipliers[self.num_stations][type]\n",
    "        self.flag = True if self.flag == False else False\n",
    "        indices = set()\n",
    "        for i in range(len(self.architecture.action_type)):\n",
    "            if self.architecture.action_type[i]==type:\n",
    "                indices.add(self.architecture.action_device[i])\n",
    "        if len(indices) == 2:\n",
    "            self.last_call = list(indices)\n",
    "        elif len(indices) == 1:\n",
    "            self.last_call = list(indices)\n",
    "            self.last_call.append(-1)\n",
    "        else:\n",
    "            self.last_call = [-1,-1]\n",
    "        return {\n",
    "            \"weight\": np.array([self.weight]),\n",
    "            \"free_space\": np.array(self.free_space),\n",
    "            \"last_calls\": np.array(self.last_call)\n",
    "        }\n",
    "\n",
    "    def step(self,action):\n",
    "        latency = 0\n",
    "        alert = False\n",
    "        computed_latencies = 0\n",
    "        for location in action:\n",
    "            for call in self.last_call:\n",
    "                if call != -1:\n",
    "                    latency += self.architecture.latencies[call][location]\n",
    "                    computed_latencies+=1\n",
    "            self.free_space[location] -= self.weight\n",
    "        for i in range(len(self.free_space)):\n",
    "            if self.free_space[i] <= self.max_free_space[i]*0.2:\n",
    "                alert = True\n",
    "\n",
    "        reward = -1 if alert else 1 - (latency / (computed_latencies * 22+1))\n",
    "\n",
    "        done = False\n",
    "        info = {'type': self.type}\n",
    "\n",
    "        if self.type == 3 and self.flag == False:\n",
    "            done = True\n",
    "        if self.type !=3:\n",
    "            if self.flag == False:\n",
    "                self.type += 1\n",
    "\n",
    "        return self.get_obs(self.type), reward, done, info\n",
    "\n",
    "    def reset(self):\n",
    "        self.architecture.heart_beat()\n",
    "        for execution in self.executions[self.execution_index]:\n",
    "            self.architecture.generate(execution)\n",
    "\n",
    "        self.free_space = [self.architecture.c_capacity,self.architecture.c_capacity]\n",
    "        for i in range(self.num_stations):\n",
    "            self.free_space.append(self.architecture.s_capacity)\n",
    "\n",
    "        self.execution_index = self.execution_index +1 if self.execution_index <= len(self.executions) - 2 else 0\n",
    "        self.type = 0\n",
    "        self.iter = 0\n",
    "        self.flag=False\n",
    "        return self.get_obs(self.type)\n",
    "\n",
    "    def close(self):\n",
    "        print('CLOSED')"
   ],
   "metadata": {
    "collapsed": false
   }
  },
  {
   "cell_type": "code",
   "execution_count": 7,
   "outputs": [],
   "source": [
    "ar = AcesStepArchitectureEnv(10)"
   ],
   "metadata": {
    "collapsed": false
   }
  },
  {
   "cell_type": "code",
   "execution_count": 17,
   "outputs": [
    {
     "data": {
      "text/plain": "{'weight': array([0.0375]),\n 'free_space': array([50, 50,  2,  2,  2,  2,  2,  2,  2,  2,  2,  2]),\n 'last_calls': array([ 3, -1])}"
     },
     "execution_count": 17,
     "metadata": {},
     "output_type": "execute_result"
    }
   ],
   "source": [
    "ar.reset()"
   ],
   "metadata": {
    "collapsed": false
   }
  },
  {
   "cell_type": "code",
   "execution_count": 25,
   "outputs": [
    {
     "data": {
      "text/plain": "({'weight': array([2.5]),\n  'free_space': array([50.    , 49.88  ,  1.8425,  2.    ,  1.8425, -0.512 ,  2.    ,\n          1.9565,  1.9625,  1.994 , -0.62  , -3.    ]),\n  'last_calls': array([-1, -1])},\n -1,\n True,\n {'type': 3})"
     },
     "execution_count": 25,
     "metadata": {},
     "output_type": "execute_result"
    }
   ],
   "source": [
    "ar.step(ar.action_space.sample())"
   ],
   "metadata": {
    "collapsed": false
   }
  },
  {
   "cell_type": "code",
   "execution_count": 26,
   "outputs": [
    {
     "name": "stderr",
     "output_type": "stream",
     "text": [
      "2023-06-22 23:18:54,849\tWARNING env.py:156 -- Your env doesn't have a .spec.max_episode_steps attribute. Your horizon will default to infinity, and your environment will not be reset.\n",
      "2023-06-22 23:18:54,850\tWARNING env.py:166 -- Your env reset() method appears to take 'seed' or 'return_info' arguments. Note that these are not yet supported in RLlib. Seeding will take place using 'env.seed()' and the info dict will not be returned from reset.\n"
     ]
    }
   ],
   "source": [
    "ar.step(ar.action_space.sample())\n",
    "from ray.rllib.utils import check_env\n",
    "from gymnasium.wrappers import EnvCompatibility\n",
    "\n",
    "simulated_aces = AcesStepArchitectureEnv(10)\n",
    "check_env(EnvCompatibility(simulated_aces))"
   ],
   "metadata": {
    "collapsed": false
   }
  },
  {
   "cell_type": "code",
   "execution_count": 27,
   "outputs": [
    {
     "name": "stderr",
     "output_type": "stream",
     "text": [
      "2023-06-22 23:19:20,045\tINFO worker.py:1553 -- Started a local Ray instance.\n",
      "2023-06-22 23:19:32,997\tINFO trainable.py:172 -- Trainable.setup took 15.449 seconds. If your trainable is slow to initialize, consider setting reuse_actors=True to reduce actor creation overheads.\n",
      "2023-06-22 23:19:32,999\tWARNING util.py:67 -- Install gputil for GPU system monitoring.\n",
      "  2%|███▌                                                                                                                                                                           | 1/50 [00:11<09:31, 11.66s/it]"
     ]
    },
    {
     "name": "stdout",
     "output_type": "stream",
     "text": [
      "4.092705332844984\n"
     ]
    },
    {
     "name": "stderr",
     "output_type": "stream",
     "text": [
      "  4%|███████                                                                                                                                                                        | 2/50 [00:23<09:23, 11.74s/it]"
     ]
    },
    {
     "name": "stdout",
     "output_type": "stream",
     "text": [
      "4.327915196496656\n"
     ]
    },
    {
     "name": "stderr",
     "output_type": "stream",
     "text": [
      "  6%|██████████▌                                                                                                                                                                    | 3/50 [00:35<09:09, 11.70s/it]"
     ]
    },
    {
     "name": "stdout",
     "output_type": "stream",
     "text": [
      "4.4029970732248085\n"
     ]
    },
    {
     "name": "stderr",
     "output_type": "stream",
     "text": [
      "  8%|██████████████                                                                                                                                                                 | 4/50 [00:46<08:59, 11.72s/it]"
     ]
    },
    {
     "name": "stdout",
     "output_type": "stream",
     "text": [
      "5.945908349559679\n"
     ]
    },
    {
     "name": "stderr",
     "output_type": "stream",
     "text": [
      " 10%|█████████████████▌                                                                                                                                                             | 5/50 [00:58<08:45, 11.68s/it]"
     ]
    },
    {
     "name": "stdout",
     "output_type": "stream",
     "text": [
      "6.146991602145189\n"
     ]
    },
    {
     "name": "stderr",
     "output_type": "stream",
     "text": [
      " 12%|█████████████████████                                                                                                                                                          | 6/50 [01:10<08:33, 11.67s/it]"
     ]
    },
    {
     "name": "stdout",
     "output_type": "stream",
     "text": [
      "6.1577242287374325\n"
     ]
    },
    {
     "name": "stderr",
     "output_type": "stream",
     "text": [
      " 14%|████████████████████████▌                                                                                                                                                      | 7/50 [01:21<08:21, 11.67s/it]"
     ]
    },
    {
     "name": "stdout",
     "output_type": "stream",
     "text": [
      "6.077316081937742\n"
     ]
    },
    {
     "name": "stderr",
     "output_type": "stream",
     "text": [
      " 16%|████████████████████████████                                                                                                                                                   | 8/50 [01:33<08:11, 11.70s/it]"
     ]
    },
    {
     "name": "stdout",
     "output_type": "stream",
     "text": [
      "6.2204264636033235\n"
     ]
    },
    {
     "name": "stderr",
     "output_type": "stream",
     "text": [
      " 18%|███████████████████████████████▌                                                                                                                                               | 9/50 [01:45<07:58, 11.66s/it]"
     ]
    },
    {
     "name": "stdout",
     "output_type": "stream",
     "text": [
      "6.174560752623642\n"
     ]
    },
    {
     "name": "stderr",
     "output_type": "stream",
     "text": [
      " 20%|██████████████████████████████████▊                                                                                                                                           | 10/50 [01:56<07:47, 11.70s/it]"
     ]
    },
    {
     "name": "stdout",
     "output_type": "stream",
     "text": [
      "6.2627388557965125\n"
     ]
    },
    {
     "name": "stderr",
     "output_type": "stream",
     "text": [
      " 22%|██████████████████████████████████████▎                                                                                                                                       | 11/50 [02:08<07:33, 11.64s/it]"
     ]
    },
    {
     "name": "stdout",
     "output_type": "stream",
     "text": [
      "6.134040441481013\n"
     ]
    },
    {
     "name": "stderr",
     "output_type": "stream",
     "text": [
      " 24%|█████████████████████████████████████████▊                                                                                                                                    | 12/50 [02:20<07:22, 11.65s/it]"
     ]
    },
    {
     "name": "stdout",
     "output_type": "stream",
     "text": [
      "6.331718591696336\n"
     ]
    },
    {
     "name": "stderr",
     "output_type": "stream",
     "text": [
      " 26%|█████████████████████████████████████████████▏                                                                                                                                | 13/50 [02:31<07:12, 11.69s/it]"
     ]
    },
    {
     "name": "stdout",
     "output_type": "stream",
     "text": [
      "6.39453936956891\n"
     ]
    },
    {
     "name": "stderr",
     "output_type": "stream",
     "text": [
      " 28%|████████████████████████████████████████████████▋                                                                                                                             | 14/50 [02:43<07:03, 11.78s/it]"
     ]
    },
    {
     "name": "stdout",
     "output_type": "stream",
     "text": [
      "6.4200088252738485\n"
     ]
    },
    {
     "name": "stderr",
     "output_type": "stream",
     "text": [
      " 30%|████████████████████████████████████████████████████▏                                                                                                                         | 15/50 [02:55<06:51, 11.77s/it]"
     ]
    },
    {
     "name": "stdout",
     "output_type": "stream",
     "text": [
      "6.453994693447647\n"
     ]
    },
    {
     "name": "stderr",
     "output_type": "stream",
     "text": [
      " 32%|███████████████████████████████████████████████████████▋                                                                                                                      | 16/50 [03:07<06:41, 11.80s/it]"
     ]
    },
    {
     "name": "stdout",
     "output_type": "stream",
     "text": [
      "6.477996690707144\n"
     ]
    },
    {
     "name": "stderr",
     "output_type": "stream",
     "text": [
      " 34%|███████████████████████████████████████████████████████████▏                                                                                                                  | 17/50 [03:19<06:27, 11.74s/it]"
     ]
    },
    {
     "name": "stdout",
     "output_type": "stream",
     "text": [
      "6.5043860944633485\n"
     ]
    },
    {
     "name": "stderr",
     "output_type": "stream",
     "text": [
      " 36%|██████████████████████████████████████████████████████████████▋                                                                                                               | 18/50 [03:30<06:14, 11.71s/it]"
     ]
    },
    {
     "name": "stdout",
     "output_type": "stream",
     "text": [
      "6.479313931323335\n"
     ]
    },
    {
     "name": "stderr",
     "output_type": "stream",
     "text": [
      " 38%|██████████████████████████████████████████████████████████████████                                                                                                            | 19/50 [03:42<06:06, 11.82s/it]"
     ]
    },
    {
     "name": "stdout",
     "output_type": "stream",
     "text": [
      "6.510121057209293\n"
     ]
    },
    {
     "name": "stderr",
     "output_type": "stream",
     "text": [
      " 40%|█████████████████████████████████████████████████████████████████████▌                                                                                                        | 20/50 [03:54<05:52, 11.76s/it]"
     ]
    },
    {
     "name": "stdout",
     "output_type": "stream",
     "text": [
      "6.520172785590149\n"
     ]
    },
    {
     "name": "stderr",
     "output_type": "stream",
     "text": [
      " 42%|█████████████████████████████████████████████████████████████████████████                                                                                                     | 21/50 [04:06<05:41, 11.78s/it]"
     ]
    },
    {
     "name": "stdout",
     "output_type": "stream",
     "text": [
      "6.4064883729019835\n"
     ]
    },
    {
     "name": "stderr",
     "output_type": "stream",
     "text": [
      " 44%|████████████████████████████████████████████████████████████████████████████▌                                                                                                 | 22/50 [04:17<05:28, 11.74s/it]"
     ]
    },
    {
     "name": "stdout",
     "output_type": "stream",
     "text": [
      "6.43276272600961\n"
     ]
    },
    {
     "name": "stderr",
     "output_type": "stream",
     "text": [
      " 46%|████████████████████████████████████████████████████████████████████████████████                                                                                              | 23/50 [04:29<05:17, 11.78s/it]"
     ]
    },
    {
     "name": "stdout",
     "output_type": "stream",
     "text": [
      "6.517735990231884\n"
     ]
    },
    {
     "name": "stderr",
     "output_type": "stream",
     "text": [
      " 48%|███████████████████████████████████████████████████████████████████████████████████▌                                                                                          | 24/50 [04:41<05:05, 11.74s/it]"
     ]
    },
    {
     "name": "stdout",
     "output_type": "stream",
     "text": [
      "6.322266641787767\n"
     ]
    },
    {
     "name": "stderr",
     "output_type": "stream",
     "text": [
      " 50%|███████████████████████████████████████████████████████████████████████████████████████                                                                                       | 25/50 [04:53<04:53, 11.75s/it]"
     ]
    },
    {
     "name": "stdout",
     "output_type": "stream",
     "text": [
      "6.422713750995155\n"
     ]
    },
    {
     "name": "stderr",
     "output_type": "stream",
     "text": [
      " 52%|██████████████████████████████████████████████████████████████████████████████████████████▍                                                                                   | 26/50 [05:05<04:42, 11.77s/it]"
     ]
    },
    {
     "name": "stdout",
     "output_type": "stream",
     "text": [
      "6.1124314830790825\n"
     ]
    },
    {
     "name": "stderr",
     "output_type": "stream",
     "text": [
      " 54%|█████████████████████████████████████████████████████████████████████████████████████████████▉                                                                                | 27/50 [05:16<04:32, 11.84s/it]"
     ]
    },
    {
     "name": "stdout",
     "output_type": "stream",
     "text": [
      "6.13739302874458\n"
     ]
    },
    {
     "name": "stderr",
     "output_type": "stream",
     "text": [
      " 56%|█████████████████████████████████████████████████████████████████████████████████████████████████▍                                                                            | 28/50 [05:28<04:19, 11.79s/it]"
     ]
    },
    {
     "name": "stdout",
     "output_type": "stream",
     "text": [
      "6.108787886182487\n"
     ]
    },
    {
     "name": "stderr",
     "output_type": "stream",
     "text": [
      " 58%|████████████████████████████████████████████████████████████████████████████████████████████████████▉                                                                         | 29/50 [05:40<04:08, 11.82s/it]"
     ]
    },
    {
     "name": "stdout",
     "output_type": "stream",
     "text": [
      "6.248179216081072\n"
     ]
    },
    {
     "name": "stderr",
     "output_type": "stream",
     "text": [
      " 60%|████████████████████████████████████████████████████████████████████████████████████████████████████████▍                                                                     | 30/50 [05:52<03:56, 11.84s/it]"
     ]
    },
    {
     "name": "stdout",
     "output_type": "stream",
     "text": [
      "6.205648948593653\n"
     ]
    },
    {
     "name": "stderr",
     "output_type": "stream",
     "text": [
      " 62%|███████████████████████████████████████████████████████████████████████████████████████████████████████████▉                                                                  | 31/50 [06:04<03:43, 11.78s/it]"
     ]
    },
    {
     "name": "stdout",
     "output_type": "stream",
     "text": [
      "5.729914419243603\n"
     ]
    },
    {
     "name": "stderr",
     "output_type": "stream",
     "text": [
      " 64%|███████████████████████████████████████████████████████████████████████████████████████████████████████████████▎                                                              | 32/50 [06:15<03:32, 11.81s/it]"
     ]
    },
    {
     "name": "stdout",
     "output_type": "stream",
     "text": [
      "5.426957265325387\n"
     ]
    },
    {
     "name": "stderr",
     "output_type": "stream",
     "text": [
      " 66%|██████████████████████████████████████████████████████████████████████████████████████████████████████████████████▊                                                           | 33/50 [06:27<03:19, 11.76s/it]"
     ]
    },
    {
     "name": "stdout",
     "output_type": "stream",
     "text": [
      "6.11662381434127\n"
     ]
    },
    {
     "name": "stderr",
     "output_type": "stream",
     "text": [
      " 68%|██████████████████████████████████████████████████████████████████████████████████████████████████████████████████████▎                                                       | 34/50 [06:39<03:10, 11.91s/it]"
     ]
    },
    {
     "name": "stdout",
     "output_type": "stream",
     "text": [
      "6.01035679664687\n"
     ]
    },
    {
     "name": "stderr",
     "output_type": "stream",
     "text": [
      " 70%|█████████████████████████████████████████████████████████████████████████████████████████████████████████████████████████▊                                                    | 35/50 [06:51<02:57, 11.81s/it]"
     ]
    },
    {
     "name": "stdout",
     "output_type": "stream",
     "text": [
      "6.104620098083139\n"
     ]
    },
    {
     "name": "stderr",
     "output_type": "stream",
     "text": [
      " 72%|█████████████████████████████████████████████████████████████████████████████████████████████████████████████████████████████▎                                                | 36/50 [07:03<02:46, 11.87s/it]"
     ]
    },
    {
     "name": "stdout",
     "output_type": "stream",
     "text": [
      "5.953111698062864\n"
     ]
    },
    {
     "name": "stderr",
     "output_type": "stream",
     "text": [
      " 74%|████████████████████████████████████████████████████████████████████████████████████████████████████████████████████████████████▊                                             | 37/50 [07:15<02:33, 11.81s/it]"
     ]
    },
    {
     "name": "stdout",
     "output_type": "stream",
     "text": [
      "5.73614868874872\n"
     ]
    },
    {
     "name": "stderr",
     "output_type": "stream",
     "text": [
      " 76%|████████████████████████████████████████████████████████████████████████████████████████████████████████████████████████████████████▏                                         | 38/50 [07:26<02:21, 11.82s/it]"
     ]
    },
    {
     "name": "stdout",
     "output_type": "stream",
     "text": [
      "6.043846262597584\n"
     ]
    },
    {
     "name": "stderr",
     "output_type": "stream",
     "text": [
      " 78%|███████████████████████████████████████████████████████████████████████████████████████████████████████████████████████████████████████▋                                      | 39/50 [07:38<02:08, 11.73s/it]"
     ]
    },
    {
     "name": "stdout",
     "output_type": "stream",
     "text": [
      "5.244266325466041\n"
     ]
    },
    {
     "name": "stderr",
     "output_type": "stream",
     "text": [
      " 80%|███████████████████████████████████████████████████████████████████████████████████████████████████████████████████████████████████████████▏                                  | 40/50 [07:50<01:57, 11.74s/it]"
     ]
    },
    {
     "name": "stdout",
     "output_type": "stream",
     "text": [
      "6.32326790554975\n"
     ]
    },
    {
     "name": "stderr",
     "output_type": "stream",
     "text": [
      " 82%|██████████████████████████████████████████████████████████████████████████████████████████████████████████████████████████████████████████████▋                               | 41/50 [08:01<01:45, 11.72s/it]"
     ]
    },
    {
     "name": "stdout",
     "output_type": "stream",
     "text": [
      "6.234945044511572\n"
     ]
    },
    {
     "name": "stderr",
     "output_type": "stream",
     "text": [
      " 84%|██████████████████████████████████████████████████████████████████████████████████████████████████████████████████████████████████████████████████▏                           | 42/50 [08:13<01:34, 11.76s/it]"
     ]
    },
    {
     "name": "stdout",
     "output_type": "stream",
     "text": [
      "6.1535577297899735\n"
     ]
    },
    {
     "name": "stderr",
     "output_type": "stream",
     "text": [
      " 86%|█████████████████████████████████████████████████████████████████████████████████████████████████████████████████████████████████████████████████████▋                        | 43/50 [08:25<01:21, 11.68s/it]"
     ]
    },
    {
     "name": "stdout",
     "output_type": "stream",
     "text": [
      "6.114581636497703\n"
     ]
    },
    {
     "name": "stderr",
     "output_type": "stream",
     "text": [
      " 88%|█████████████████████████████████████████████████████████████████████████████████████████████████████████████████████████████████████████████████████████                     | 44/50 [08:37<01:10, 11.76s/it]"
     ]
    },
    {
     "name": "stdout",
     "output_type": "stream",
     "text": [
      "5.427830078478334\n"
     ]
    },
    {
     "name": "stderr",
     "output_type": "stream",
     "text": [
      " 90%|████████████████████████████████████████████████████████████████████████████████████████████████████████████████████████████████████████████████████████████▌                 | 45/50 [08:48<00:58, 11.74s/it]"
     ]
    },
    {
     "name": "stdout",
     "output_type": "stream",
     "text": [
      "5.497837505406369\n"
     ]
    },
    {
     "name": "stderr",
     "output_type": "stream",
     "text": [
      " 92%|████████████████████████████████████████████████████████████████████████████████████████████████████████████████████████████████████████████████████████████████              | 46/50 [09:00<00:46, 11.75s/it]"
     ]
    },
    {
     "name": "stdout",
     "output_type": "stream",
     "text": [
      "6.265113966521941\n"
     ]
    },
    {
     "name": "stderr",
     "output_type": "stream",
     "text": [
      " 94%|███████████████████████████████████████████████████████████████████████████████████████████████████████████████████████████████████████████████████████████████████▌          | 47/50 [09:12<00:35, 11.77s/it]"
     ]
    },
    {
     "name": "stdout",
     "output_type": "stream",
     "text": [
      "6.14370830507361\n"
     ]
    },
    {
     "name": "stderr",
     "output_type": "stream",
     "text": [
      " 96%|███████████████████████████████████████████████████████████████████████████████████████████████████████████████████████████████████████████████████████████████████████       | 48/50 [09:24<00:23, 11.73s/it]"
     ]
    },
    {
     "name": "stdout",
     "output_type": "stream",
     "text": [
      "5.399465564432186\n"
     ]
    },
    {
     "name": "stderr",
     "output_type": "stream",
     "text": [
      " 98%|██████████████████████████████████████████████████████████████████████████████████████████████████████████████████████████████████████████████████████████████████████████▌   | 49/50 [09:35<00:11, 11.71s/it]"
     ]
    },
    {
     "name": "stdout",
     "output_type": "stream",
     "text": [
      "5.969351022045631\n"
     ]
    },
    {
     "name": "stderr",
     "output_type": "stream",
     "text": [
      "100%|██████████████████████████████████████████████████████████████████████████████████████████████████████████████████████████████████████████████████████████████████████████████| 50/50 [09:48<00:00, 11.76s/it]"
     ]
    },
    {
     "name": "stdout",
     "output_type": "stream",
     "text": [
      "6.382613910897885\n",
      "[4.092705332844984, 4.327915196496656, 4.4029970732248085, 5.945908349559679, 6.146991602145189, 6.1577242287374325, 6.077316081937742, 6.2204264636033235, 6.174560752623642, 6.2627388557965125, 6.134040441481013, 6.331718591696336, 6.39453936956891, 6.4200088252738485, 6.453994693447647, 6.477996690707144, 6.5043860944633485, 6.479313931323335, 6.510121057209293, 6.520172785590149, 6.4064883729019835, 6.43276272600961, 6.517735990231884, 6.322266641787767, 6.422713750995155, 6.1124314830790825, 6.13739302874458, 6.108787886182487, 6.248179216081072, 6.205648948593653, 5.729914419243603, 5.426957265325387, 6.11662381434127, 6.01035679664687, 6.104620098083139, 5.953111698062864, 5.73614868874872, 6.043846262597584, 5.244266325466041, 6.32326790554975, 6.234945044511572, 6.1535577297899735, 6.114581636497703, 5.427830078478334, 5.497837505406369, 6.265113966521941, 6.14370830507361, 5.399465564432186, 5.969351022045631, 6.382613910897885]\n"
     ]
    },
    {
     "name": "stderr",
     "output_type": "stream",
     "text": [
      "\n"
     ]
    }
   ],
   "source": [
    "from ray.tune.registry import register_env\n",
    "from gymnasium.wrappers import EnvCompatibility\n",
    "from ray.rllib.algorithms.impala import ImpalaConfig\n",
    "from ray.rllib.algorithms.ppo import PPOConfig\n",
    "from gymnasium.wrappers import TimeLimit\n",
    "\n",
    "ray.shutdown()\n",
    "\n",
    "architecture = Architecture()\n",
    "\n",
    "def env_creator(env_config):\n",
    "    return TimeLimit(EnvCompatibility(AcesStepArchitectureEnv(10)), max_episode_steps=10)\n",
    "register_env(\"AcesStepArchitectureEnv\", env_creator)\n",
    "\n",
    "config = (\n",
    "    ImpalaConfig()\n",
    "    .environment(\"AcesStepArchitectureEnv\",disable_env_checking=True)\n",
    "    .rollouts(num_rollout_workers=40,\n",
    "              num_envs_per_worker=5) # Max = 60\n",
    "    .resources(num_gpus=0,\n",
    "               num_cpus_per_worker=1)\n",
    "    .training(entropy_coeff=0.02)\n",
    ")\n",
    "\n",
    "config[\"model\"][\"fcnet_hiddens\"] =[64,64]\n",
    "\n",
    "\n",
    "algorithm_unified_10 = config.build()\n",
    "\n",
    "result_unified_10 =[]\n",
    "\n",
    "for j in tqdm(range(50)):\n",
    "    result_train = algorithm_unified_10.train()[\"episode_reward_mean\"]\n",
    "    result_unified_10.append(result_train)\n",
    "    # if (j%100 == 0):\n",
    "    print(result_train)\n",
    "print(result_unified_10)"
   ],
   "metadata": {
    "collapsed": false
   }
  },
  {
   "cell_type": "code",
   "execution_count": 28,
   "outputs": [
    {
     "data": {
      "text/plain": "[<matplotlib.lines.Line2D at 0x7fd424496710>]"
     },
     "execution_count": 28,
     "metadata": {},
     "output_type": "execute_result"
    },
    {
     "data": {
      "text/plain": "<Figure size 640x480 with 1 Axes>",
      "image/png": "[encoded data removed]"
     },
     "metadata": {},
     "output_type": "display_data"
    }
   ],
   "source": [
    "plt.plot(result_unified_10)"
   ],
   "metadata": {
    "collapsed": false
   }
  },
  {
   "cell_type": "code",
   "execution_count": 38,
   "outputs": [],
   "source": [
    "test_architecture = AcesStepArchitectureEnv(10)"
   ],
   "metadata": {
    "collapsed": false
   }
  },
  {
   "cell_type": "code",
   "execution_count": 66,
   "outputs": [
    {
     "name": "stdout",
     "output_type": "stream",
     "text": [
      "{0: 0.3421550094517959, 1: 0.39829706717123936, 2: 0.3604541154210028, 3: 0.6235827664399093}\n",
      "2514\n",
      "{0: 0.500945179584121, 1: 0.5685903500473037, 2: 0.5231788079470199, 3: 0.7732426303854876}\n",
      "1820\n",
      "[0, 0, 0, 0, 0, 0, 0, 0, 0, 0, 0, 0, 1, 1, 1, 1, 1, 1, 1, 1, 1, 1, 1, 1, 1, 1, 1, 1, 1, 1, 1, 1, 1, 1, 1, 1, 2, 2, 2, 2, 2, 2, 2, 2, 2, 2, 2, 2, 2, 2, 2, 2, 2, 2, 2, 2, 2, 2, 2, 2, 3, 3, 3, 3, 3, 3, 3, 3, 3, 3, 3, 3, 3, 3, 3, 3, 3, 3, 3, 3]\n",
      "6.112359550561798\n",
      "{0: 0.7303370786516854, 1: 0.7303370786516854, 2: 0.5730337078651686, 3: 0.5730337078651686, 4: 0.752808988764045, 5: 0.752808988764045, 6: 1.0, 7: 1.0}\n",
      "1194\n",
      "{0: 0.79925, 1: 0.99496, 2: 0.94375, 3: 1.0, 4: 1.0, 5: 1.0, 6: 1.0, 7: 0.994, 8: 1.0, 9: 1.0, 10: 0.88, 11: 1.0}\n"
     ]
    }
   ],
   "source": [
    "obs = test_architecture.reset()\n",
    "test_architecture.architecture.round_robin()\n",
    "print(test_architecture.architecture.compute_normalized_latency_dict())\n",
    "print(test_architecture.architecture.compute_total_latency())\n",
    "test_architecture.architecture.greedy_server()\n",
    "print(test_architecture.architecture.compute_normalized_latency_dict())\n",
    "print(test_architecture.architecture.compute_total_latency())\n",
    "# test_architecture.architecture.greedy_algorithm()\n",
    "# print(test_architecture.architecture.compute_normalized_latency_dict())\n",
    "# print(test_architecture.architecture.compute_total_latency())\n",
    "iteration = {}\n",
    "allocation = []\n",
    "types = []\n",
    "reward = 0\n",
    "\n",
    "for i in range(20):\n",
    "    action = algorithm_unified_10.compute_single_action(obs)\n",
    "    output = test_architecture.step(action)\n",
    "    obs = output[0]\n",
    "    # print(obs['free_space'])\n",
    "    reward += output[1]\n",
    "    type = output[3]['type']\n",
    "    iteration[i] = output[1]\n",
    "    if type==0:\n",
    "        for j in range(3):\n",
    "            for k in range(2):\n",
    "                allocation.append(action[k])\n",
    "                types.append(0)\n",
    "    elif type==1:\n",
    "        for j in range(6):\n",
    "            for k in range(2):\n",
    "                allocation.append(action[k])\n",
    "                types.append(1)\n",
    "    elif type==2:\n",
    "        for j in range(6):\n",
    "            for k in range(2):\n",
    "                allocation.append(action[k])\n",
    "                types.append(2)\n",
    "    else:\n",
    "        for j in range(5):\n",
    "            for k in range(2):\n",
    "                if output[1] != -1:\n",
    "                    allocation.append(action[k])\n",
    "                    types.append(3)\n",
    "                else:\n",
    "                    allocation.append(random.randint(0,1))\n",
    "                    types.append(3)\n",
    "    if output[2]:\n",
    "        break\n",
    "\n",
    "print(types)\n",
    "print(reward)\n",
    "test_architecture.architecture.false_data_allocation = allocation\n",
    "test_architecture.architecture.false_data_types = types\n",
    "test_architecture.architecture.false_construct_dictionaries()\n",
    "print(iteration)\n",
    "print(test_architecture.architecture.false_compute_total_latency())\n",
    "# print(test_architecture.free_space)\n",
    "print(test_architecture.architecture.false_free_space())\n",
    "# print(len(test_architecture.architecture.false_data_allocation))"
   ],
   "metadata": {
    "collapsed": false
   }
  }
 ],
 "metadata": {
  "kernelspec": {
   "display_name": "Python 3",
   "language": "python",
   "name": "python3"
  },
  "language_info": {
   "codemirror_mode": {
    "name": "ipython",
    "version": 2
   },
   "file_extension": ".py",
   "mimetype": "text/x-python",
   "name": "python",
   "nbconvert_exporter": "python",
   "pygments_lexer": "ipython2",
   "version": "2.7.6"
  }
 },
 "nbformat": 4,
 "nbformat_minor": 0
}
