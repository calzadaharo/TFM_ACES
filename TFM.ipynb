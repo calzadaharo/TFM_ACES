{
 "cells": [
  {
   "cell_type": "code",
   "execution_count": 1,
   "metadata": {},
   "outputs": [],
   "source": [
    "import random\n",
    "import networkx as nx\n",
    "import matplotlib.pyplot as plt\n",
    "import pandas as pd\n",
    "import numpy as np\n",
    "from tqdm import tqdm"
   ]
  },
  {
   "cell_type": "code",
   "execution_count": 2,
   "metadata": {},
   "outputs": [],
   "source": [
    "class Architecture:\n",
    "    def __init__(self):\n",
    "        self.space_flag = 0\n",
    "        self.c_capacity, self.s_capacity = 1000, 100                                         # Capacity of the devices\n",
    "        # self.a1, self.a2, self.a3, self.mc = 0.000125, 0.000010, 0.000200, 0.001             # Weight of every type of data\n",
    "        self.weights = [0.0125, 0.0010, 0.0200, 0.1000]                                      # a1, a2, a3, mc\n",
    "        self.lifetime = {'a1': 10000, 'a2': 20000, 'a3': 10000, 'mc': 1000}                             # Max lifetime of the different data types\n",
    "        self.total_c = 2\n",
    "        self.total_s = 6\n",
    "        self.max_actions = 20\n",
    "\n",
    "        self.devices = {}\n",
    "        self.data = {\n",
    "            'a1': {},\n",
    "            'a2': {},\n",
    "            'a3': {},\n",
    "            'mc': {},\n",
    "        }\n",
    "        self.latencies = {}\n",
    "\n",
    "        for i in range(self.total_c):\n",
    "            for j in (self.data.keys()):\n",
    "                self.data[j]['c'+str(i)] = 0\n",
    "            self.devices['c'+str(i)] = {'a1': 0, 'a2': 0, 'a3': 0, 'mc': 0}\n",
    "            self.latencies['c'+str(i)] = {}\n",
    "        for i in range(self.total_s):\n",
    "            for j in (self.data.keys()):\n",
    "                self.data[j]['s'+str(i)] = 0\n",
    "            self.devices['s'+str(i)] = {'a1': 0, 'a2': 0, 'a3': 0, 'mc': 0}\n",
    "            self.latencies['s'+str(i)] = {}\n",
    "\n",
    "        for i in self.latencies.keys():\n",
    "            for j in self.latencies.keys():\n",
    "                self.latencies[i][j] = 0\n",
    "\n",
    "        self.data_types = []\n",
    "        self.data_allocation = []\n",
    "        self.data_times = []\n",
    "\n",
    "        self.action_type = []\n",
    "        self.action_device = []\n",
    "\n",
    "        randomized = list(self.devices.keys())\n",
    "        random.shuffle(randomized)\n",
    "\n",
    "        bound = round(len(self.devices)/4)\n",
    "\n",
    "        self.clusters = {\n",
    "            'a1': randomized[:bound],\n",
    "            'a2': randomized[bound:bound*2],\n",
    "            'a3': randomized[bound*2:bound*3],\n",
    "            'mc': randomized[bound*3:]\n",
    "        }\n",
    "\n",
    "        self.visualization()\n",
    "\n",
    "    def construct_dictionaries(self):\n",
    "        for i in self.data:\n",
    "            for j in self.data[i]:\n",
    "                self.data[i][j] = 0\n",
    "        for i in self.devices:\n",
    "            for j in self.devices[i]:\n",
    "                self.devices[i][j] = 0\n",
    "        for device, d_type in zip(self.data_allocation,self.data_types):\n",
    "            self.data[d_type][device] += 1\n",
    "            self.devices[device][d_type] += 1\n",
    "\n",
    "    def update(self,data_type, device):\n",
    "        self.data_types.append(data_type)\n",
    "        self.data_allocation.append(device)\n",
    "        self.data_times.append(0)\n",
    "        self.devices[device][data_type] += 1\n",
    "        self.data[data_type][device] += 1\n",
    "\n",
    "    def heart_beat(self):\n",
    "        deads = []\n",
    "        for i in range(len(self.data_times)):\n",
    "            self.data_times[i] += 1\n",
    "            if self.data_times[i] == self.lifetime[self.data_types[i]]:\n",
    "                deads.append(i)\n",
    "\n",
    "        removed = 0\n",
    "        for i in deads:\n",
    "            self.devices[self.data_allocation[i-removed]][self.data_types[i-removed]] -= 1\n",
    "            self.data[self.data_types[i-removed]][self.data_allocation[i-removed]] -= 1\n",
    "            self.data_types.pop(i - removed)\n",
    "            self.data_allocation.pop(i - removed)\n",
    "            self.data_times.pop(i - removed)\n",
    "            removed += 1\n",
    "\n",
    "    def free_space(self):\n",
    "        load = {}\n",
    "        for i in self.devices.keys():\n",
    "            if list(i)[0] == 'c':\n",
    "                load[i] = (self.c_capacity - sum([a*b for a,b in zip(list(self.devices[i].values()), self.weights)]))/self.c_capacity\n",
    "            else:\n",
    "                load[i] = (self.s_capacity - sum([a*b for a,b in zip(list(self.devices[i].values()), self.weights)]))/self.s_capacity\n",
    "            if load[i] <= 0.2:\n",
    "                self.space_flag = i\n",
    "        return load\n",
    "\n",
    "    def visualization(self):\n",
    "        keys = list(self.devices.keys())\n",
    "        cs = keys[:self.total_c]\n",
    "        ss = keys[self.total_c:]\n",
    "\n",
    "        colors = []\n",
    "        sizes = []\n",
    "\n",
    "        graph = nx.Graph()\n",
    "\n",
    "        colors.append('lightblue')\n",
    "        sizes.append(1000)\n",
    "        index = 0\n",
    "        for i in range(len(cs)):\n",
    "            if i != len(cs)-1:\n",
    "                colors.append('lightblue')\n",
    "                sizes.append(1000)\n",
    "                graph.add_edge(cs[i],cs[i+1])\n",
    "                graph.add_weighted_edges_from([(cs[i],cs[i+1],10)])\n",
    "                for j in range(int(len(ss)/self.total_c)):\n",
    "                    colors.append('orange')\n",
    "                    sizes.append(100)\n",
    "                    graph.add_edge(cs[i],ss[index])\n",
    "                    graph.add_weighted_edges_from([(cs[i],ss[index],4)])\n",
    "                    index += 1\n",
    "            else:\n",
    "                graph.add_edge(cs[i],cs[0])\n",
    "                graph.add_weighted_edges_from([(cs[i],cs[0],10)])\n",
    "                for j in range(int(len(ss)/self.total_c)+len(ss)%self.total_c):\n",
    "                    graph.add_edge(cs[i],ss[index])\n",
    "                    graph.add_weighted_edges_from([(cs[i],ss[index],4)])\n",
    "                    colors.append('orange')\n",
    "                    sizes.append(100)\n",
    "                    index += 1\n",
    "\n",
    "        pos = nx.spring_layout(graph)  # Position nodes using a spring layout algorithm\n",
    "        nx.draw(graph, pos, with_labels=True, node_size=sizes, node_color=colors, font_weight=12, font_color='black', edge_color='gray')\n",
    "        edge_labels = nx.get_edge_attributes(graph, 'weight')\n",
    "        nx.draw_networkx_edge_labels(graph, pos, edge_labels=edge_labels)\n",
    "\n",
    "        plt.title(\"Architecture:\")\n",
    "        plt.axis('off')\n",
    "        plt.show()\n",
    "\n",
    "        for u in graph.nodes:\n",
    "            shortest_paths = nx.shortest_path_length(graph, source=u, weight='weight')\n",
    "            for v, weight in shortest_paths.items():\n",
    "                self.latencies[u][v] = weight\n",
    "\n",
    "    def compute_total_latency(self):\n",
    "        total_latency = 0\n",
    "        for i in range(len(self.action_type)):\n",
    "            total_latency += sum([a*b for a,b in zip(self.data[self.action_type[i]].values(), self.latencies[self.action_device[i]].values())])\n",
    "        return total_latency\n",
    "\n",
    "    def generate(self, operation):\n",
    "        if operation == 'a1' or operation == 'a2' or operation == 'a3':\n",
    "            for i in self.devices.keys():\n",
    "                self.update(operation,i)\n",
    "        elif operation == 'mc':\n",
    "            for i in self.devices.keys():\n",
    "                if list(i)[0] == 's':\n",
    "                    self.update('mc',i)\n",
    "        elif operation.split('_')[0] == 'ai':\n",
    "            device=random.sample(list(self.clusters[operation.split('_')[1]]),1)\n",
    "            self.action_device.append(device[0])\n",
    "            self.action_type.append(operation.split('_')[1])\n",
    "            difference = len(self.action_device) - self.max_actions\n",
    "            if difference >= 0:\n",
    "                for i in range(difference):\n",
    "                    self.action_device.pop(0)\n",
    "                    self.action_type.pop(0)\n",
    "\n",
    "    def greedy_algorithm(self): # baseline?\n",
    "        if self.space_flag == 0:\n",
    "            allocation = []\n",
    "            for i in self.data_types:\n",
    "                allocation.append(random.sample(list(self.clusters[i]),1)[0])\n",
    "            self.data_allocation = allocation\n",
    "            self.construct_dictionaries()\n",
    "            result = self.free_space()\n",
    "        else:\n",
    "            print('enter')\n",
    "            problematic_key = None\n",
    "            for key, value in arch.clusters.items():\n",
    "                if self.space_flag in value:\n",
    "                    problematic_key = key\n",
    "                    break\n",
    "            arch.clusters[problematic_key].extend(element for element in arch.devices if element[0]==('c'))\n",
    "            self.space_flag = 0\n",
    "            result = self.greedy_algorithm()\n",
    "\n",
    "        return result"
   ]
  },
  {
   "cell_type": "code",
   "execution_count": 3,
   "metadata": {},
   "outputs": [
    {
     "data": {
      "text/plain": "<Figure size 640x480 with 1 Axes>",
      "image/png": "[encoded data removed]"
     },
     "metadata": {},
     "output_type": "display_data"
    }
   ],
   "source": [
    "arch = Architecture()"
   ]
  },
  {
   "cell_type": "code",
   "execution_count": 4,
   "metadata": {},
   "outputs": [
    {
     "name": "stderr",
     "output_type": "stream",
     "text": [
      "  2%|██▍                                                                                                            | 44/2000 [00:03<04:47,  6.81it/s]"
     ]
    },
    {
     "name": "stdout",
     "output_type": "stream",
     "text": [
      "enter\n"
     ]
    },
    {
     "name": "stderr",
     "output_type": "stream",
     "text": [
      " 20%|█████████████████████▌                                                                                        | 391/2000 [02:58<22:37,  1.19it/s]"
     ]
    },
    {
     "name": "stdout",
     "output_type": "stream",
     "text": [
      "enter\n"
     ]
    },
    {
     "name": "stderr",
     "output_type": "stream",
     "text": [
      "100%|█████████████████████████████████████████████████████████████████████████████████████████████████████████████| 2000/2000 [36:05<00:00,  1.08s/it]"
     ]
    },
    {
     "name": "stdout",
     "output_type": "stream",
     "text": [
      "1319564\n"
     ]
    },
    {
     "name": "stderr",
     "output_type": "stream",
     "text": [
      "\n"
     ]
    }
   ],
   "source": [
    "executions = ['a1','a2','mc','a1','ai_a2','mc','a3','ai_a1','mc','a1','ai_a3','mc','a2','a3','ai_a2','mc','ai_a1','a1','mc','ai_a3','ai_mc']\n",
    "\n",
    "df = pd.DataFrame(columns=['c0','c1','s0','s1','s2','s3','s4','s5'])\n",
    "\n",
    "for j in tqdm(range(2000)):\n",
    "    for i in executions:\n",
    "        arch.generate(i)\n",
    "        arch.heart_beat()\n",
    "        df.loc[len(df)] = list(arch.greedy_algorithm().values())\n",
    "        # print(list(arch.free_space().values()))\n",
    "# arch.generate('a1')\n",
    "# arch.heart_beat()\n",
    "# arch.generate('ai_a1')\n",
    "# arch.heart_beat()\n",
    "# print(arch.data_types, arch.data_allocation, arch.data_times)\n",
    "# arch.free_space()\n",
    "print(arch.compute_total_latency())"
   ]
  },
  {
   "cell_type": "code",
   "execution_count": 28,
   "metadata": {},
   "outputs": [
    {
     "name": "stdout",
     "output_type": "stream",
     "text": [
      "            c0      c1       s0       s1      s2     s3     s4       s5\n",
      "896   0.999678  0.9274  0.91450  0.99634  0.9344  0.928  0.190  0.91450\n",
      "8225  0.955843  0.9115  0.19975  0.96885  0.3696  0.376  0.585  0.23325\n"
     ]
    },
    {
     "data": {
      "text/plain": "<Figure size 640x480 with 1 Axes>",
      "image/png": "[encoded data removed]"
     },
     "metadata": {},
     "output_type": "display_data"
    }
   ],
   "source": [
    "print(df[(df<=0.2).any(axis=1)])\n",
    "# df_test = df.loc[1:2]\n",
    "df_test = df.sum(axis=1)\n",
    "df_test2 = df.std(axis=1)*10\n",
    "plt.plot(df_test)\n",
    "plt.plot(df_test2)\n",
    "plt.show()"
   ]
  },
  {
   "cell_type": "code",
   "execution_count": 29,
   "metadata": {},
   "outputs": [
    {
     "data": {
      "text/plain": "0.3067750076996322"
     },
     "execution_count": 29,
     "metadata": {},
     "output_type": "execute_result"
    }
   ],
   "source": [
    "np.std(df.loc[8225])"
   ]
  }
 ],
 "metadata": {
  "kernelspec": {
   "display_name": "Python 3 (ipykernel)",
   "language": "python",
   "name": "python3"
  },
  "language_info": {
   "codemirror_mode": {
    "name": "ipython",
    "version": 3
   },
   "file_extension": ".py",
   "mimetype": "text/x-python",
   "name": "python",
   "nbconvert_exporter": "python",
   "pygments_lexer": "ipython3",
   "version": "3.10.6"
  }
 },
 "nbformat": 4,
 "nbformat_minor": 1
}
