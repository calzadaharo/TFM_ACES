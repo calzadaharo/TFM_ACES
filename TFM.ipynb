{
 "cells": [
  {
   "cell_type": "code",
   "execution_count": 31,
   "metadata": {},
   "outputs": [],
   "source": [
    "import random\n",
    "import networkx as nx\n",
    "import matplotlib.pyplot as plt\n",
    "import pandas as pd\n",
    "import numpy as np\n",
    "from tqdm import tqdm\n",
    "from gymnasium import Env\n",
    "from gymnasium.spaces import Box"
   ]
  },
  {
   "cell_type": "code",
   "execution_count": 271,
   "metadata": {},
   "outputs": [],
   "source": [
    "class Architecture:\n",
    "    def __init__(self):\n",
    "        self.space_flag = 0\n",
    "        self.c_capacity, self.s_capacity = 1000, 100                                         # Capacity of the devices\n",
    "        # self.a1, self.a2, self.a3, self.mc = 0.000125, 0.000010, 0.000200, 0.001             # Weight of every type of data\n",
    "        self.weights = [0.0125, 0.0010, 0.0200, 0.1000]                                      # a1, a2, a3, mc\n",
    "        self.lifetime = {'a1': 10000, 'a2': 20000, 'a3': 10000, 'mc': 1000}                             # Max lifetime of the different data types\n",
    "        self.total_c = 2\n",
    "        self.total_s = 6\n",
    "        self.max_actions = 20\n",
    "\n",
    "        self.devices = {}\n",
    "        self.data = {\n",
    "            'a1': {},\n",
    "            'a2': {},\n",
    "            'a3': {},\n",
    "            'mc': {},\n",
    "        }\n",
    "        self.latencies = {}\n",
    "\n",
    "        for i in range(self.total_c):\n",
    "            for j in (self.data.keys()):\n",
    "                self.data[j]['c'+str(i)] = 0\n",
    "            self.devices['c'+str(i)] = {'a1': 0, 'a2': 0, 'a3': 0, 'mc': 0}\n",
    "            self.latencies['c'+str(i)] = {}\n",
    "        for i in range(self.total_s):\n",
    "            for j in (self.data.keys()):\n",
    "                self.data[j]['s'+str(i)] = 0\n",
    "            self.devices['s'+str(i)] = {'a1': 0, 'a2': 0, 'a3': 0, 'mc': 0}\n",
    "            self.latencies['s'+str(i)] = {}\n",
    "\n",
    "        for i in self.latencies.keys():\n",
    "            for j in self.latencies.keys():\n",
    "                self.latencies[i][j] = 0\n",
    "\n",
    "        self.data_types = []\n",
    "        self.data_allocation = []\n",
    "        self.data_times = []\n",
    "\n",
    "        self.data_allocation_dict = []\n",
    "\n",
    "        self.action_type = []\n",
    "        self.action_device = []\n",
    "\n",
    "        randomized = list(self.devices.keys())\n",
    "        random.shuffle(randomized)\n",
    "\n",
    "        bound = round(len(self.devices)/4)\n",
    "\n",
    "        self.clusters = {\n",
    "            'a1': randomized[:bound],\n",
    "            'a2': randomized[bound:bound*2],\n",
    "            'a3': randomized[bound*2:bound*3],\n",
    "            'mc': randomized[bound*3:]\n",
    "        }\n",
    "\n",
    "        self.visualization()\n",
    "\n",
    "    def to_int(self, device):\n",
    "        return list(self.devices.keys()).index(device)\n",
    "\n",
    "    def to_device(self, position):\n",
    "        return list(self.devices.keys())[position]\n",
    "\n",
    "    def construct_dictionaries(self):\n",
    "        for i in self.data:\n",
    "            for j in self.data[i]:\n",
    "                self.data[i][j] = 0\n",
    "        for i in self.devices:\n",
    "            for j in self.devices[i]:\n",
    "                self.devices[i][j] = 0\n",
    "        for device, d_type in zip(self.data_allocation_dict,self.data_types):\n",
    "            self.data[d_type][device] += 1\n",
    "            self.devices[device][d_type] += 1\n",
    "\n",
    "    def update(self, data_type, device):\n",
    "        self.data_types.append(data_type)\n",
    "        self.data_allocation_dict.append(device)\n",
    "        self.data_allocation.append(self.to_int(device))\n",
    "        self.data_times.append(0)\n",
    "        self.devices[device][data_type] += 1\n",
    "        self.data[data_type][device] += 1\n",
    "\n",
    "    def heart_beat(self):\n",
    "        deads = []\n",
    "        for i in range(len(self.data_times)):\n",
    "            self.data_times[i] += 1\n",
    "            if self.data_times[i] == self.lifetime[self.data_types[i]]:\n",
    "                deads.append(i)\n",
    "\n",
    "        removed = 0\n",
    "        for i in deads:\n",
    "            self.devices[self.data_allocation_dict[i-removed]][self.data_types[i-removed]] -= 1\n",
    "            self.data[self.data_types[i-removed]][self.data_allocation_dict[i-removed]] -= 1\n",
    "            self.data_types.pop(i - removed)\n",
    "            self.data_allocation_dict.pop(i - removed)\n",
    "            self.data_allocation.pop(i - removed)\n",
    "            self.data_times.pop(i - removed)\n",
    "            removed += 1\n",
    "\n",
    "    def free_space(self):\n",
    "        load = {}\n",
    "        for i in self.devices.keys():\n",
    "            if list(i)[0] == 'c':\n",
    "                load[i] = (self.c_capacity - sum([a*b for a,b in zip(list(self.devices[i].values()), self.weights)]))/self.c_capacity\n",
    "            else:\n",
    "                load[i] = (self.s_capacity - sum([a*b for a,b in zip(list(self.devices[i].values()), self.weights)]))/self.s_capacity\n",
    "            if load[i] <= 0.2:\n",
    "                self.space_flag = i\n",
    "        return load\n",
    "\n",
    "    def visualization(self):\n",
    "        keys = list(self.devices.keys())\n",
    "        cs = keys[:self.total_c]\n",
    "        ss = keys[self.total_c:]\n",
    "\n",
    "        colors = []\n",
    "        sizes = []\n",
    "\n",
    "        graph = nx.Graph()\n",
    "\n",
    "        colors.append('lightblue')\n",
    "        sizes.append(1000)\n",
    "        index = 0\n",
    "        for i in range(len(cs)):\n",
    "            if i != len(cs)-1:\n",
    "                colors.append('lightblue')\n",
    "                sizes.append(1000)\n",
    "                graph.add_edge(cs[i],cs[i+1])\n",
    "                graph.add_weighted_edges_from([(cs[i],cs[i+1],10)])\n",
    "                for j in range(int(len(ss)/self.total_c)):\n",
    "                    colors.append('orange')\n",
    "                    sizes.append(100)\n",
    "                    graph.add_edge(cs[i],ss[index])\n",
    "                    graph.add_weighted_edges_from([(cs[i],ss[index],4)])\n",
    "                    index += 1\n",
    "            else:\n",
    "                graph.add_edge(cs[i],cs[0])\n",
    "                graph.add_weighted_edges_from([(cs[i],cs[0],10)])\n",
    "                for j in range(int(len(ss)/self.total_c)+len(ss)%self.total_c):\n",
    "                    graph.add_edge(cs[i],ss[index])\n",
    "                    graph.add_weighted_edges_from([(cs[i],ss[index],4)])\n",
    "                    colors.append('orange')\n",
    "                    sizes.append(100)\n",
    "                    index += 1\n",
    "\n",
    "        pos = nx.spring_layout(graph)  # Position nodes using a spring layout algorithm\n",
    "        nx.draw(graph, pos, with_labels=True, node_size=sizes, node_color=colors, font_weight=12, font_color='black', edge_color='gray')\n",
    "        edge_labels = nx.get_edge_attributes(graph, 'weight')\n",
    "        nx.draw_networkx_edge_labels(graph, pos, edge_labels=edge_labels)\n",
    "\n",
    "        plt.title(\"Architecture:\")\n",
    "        plt.axis('off')\n",
    "        plt.show()\n",
    "\n",
    "        for u in graph.nodes:\n",
    "            shortest_paths = nx.shortest_path_length(graph, source=u, weight='weight')\n",
    "            for v, weight in shortest_paths.items():\n",
    "                self.latencies[u][v] = weight\n",
    "\n",
    "    def compute_total_latency(self):\n",
    "        total_latency = 0\n",
    "        for i in range(len(self.action_type)):\n",
    "            total_latency += sum([a*b for a,b in zip(self.data[self.action_type[i]].values(), self.latencies[self.action_device[i]].values())])\n",
    "        return total_latency\n",
    "\n",
    "    def generate(self, operation):\n",
    "        if operation == 'a1' or operation == 'a2' or operation == 'a3':\n",
    "            for i in self.devices.keys():\n",
    "                self.update(operation,i)\n",
    "        elif operation == 'mc':\n",
    "            for i in self.devices.keys():\n",
    "                if list(i)[0] == 's':\n",
    "                    self.update('mc',i)\n",
    "        elif operation.split('_')[0] == 'ai':\n",
    "            device=random.sample(list(self.clusters[operation.split('_')[1]]),1)\n",
    "            self.action_device.append(device[0])\n",
    "            self.action_type.append(operation.split('_')[1])\n",
    "            difference = len(self.action_device) - self.max_actions\n",
    "            if difference >= 0:\n",
    "                for i in range(difference):\n",
    "                    self.action_device.pop(0)\n",
    "                    self.action_type.pop(0)\n",
    "\n",
    "    def greedy_algorithm(self): # baseline?\n",
    "        if self.space_flag == 0:\n",
    "            allocation = []\n",
    "            allocation_dev = []\n",
    "            for i in self.data_types:\n",
    "                allocation.append(self.to_int(random.sample(list(self.clusters[i]),1)[0]))\n",
    "                allocation_dev.append(random.sample(list(self.clusters[i]),1)[0])\n",
    "            self.data_allocation = allocation\n",
    "            self.data_allocation_dict = allocation_dev\n",
    "            self.construct_dictionaries()\n",
    "            result = self.free_space()\n",
    "        else:\n",
    "            problematic_key = None\n",
    "            for key, value in self.clusters.items():\n",
    "                if self.space_flag in value:\n",
    "                    problematic_key = key\n",
    "                    break\n",
    "            self.clusters[problematic_key].extend(element for element in self.devices if element[0]==('c'))\n",
    "            self.space_flag = 0\n",
    "            result = self.greedy_algorithm()\n",
    "\n",
    "        return result"
   ]
  },
  {
   "cell_type": "code",
   "execution_count": 181,
   "metadata": {},
   "outputs": [
    {
     "data": {
      "text/plain": "<Figure size 640x480 with 1 Axes>",
      "image/png": "[encoded data removed]"
     },
     "metadata": {},
     "output_type": "display_data"
    },
    {
     "data": {
      "text/plain": "2"
     },
     "execution_count": 181,
     "metadata": {},
     "output_type": "execute_result"
    }
   ],
   "source": [
    "arch = Architecture()\n",
    "list(arch.devices.keys()).index(\"s0\")"
   ]
  },
  {
   "cell_type": "code",
   "execution_count": 184,
   "outputs": [],
   "source": [
    "class SimulatedArchitecture(Env):\n",
    "    def __init__(self, architecture, num_devices):\n",
    "        self.arch = architecture\n",
    "        self.num_devices = num_devices\n",
    "        self.weights = arch.weights\n",
    "        self.free_space = arch.free_space()\n",
    "    def get_obs(self):\n",
    "        return {\"weights\": self.weights,\n",
    "                \"free_space\": self.free_space,\n",
    "                \"allocation\": self.allocation,\n",
    "                \"last_calls\": self.last_calls\n",
    "                }\n",
    "    def step(self, action):\n",
    "        latency = self.arch.compute_total_latency()\n",
    "        self.free_space = arch.free_space()\n",
    "\n",
    "        reward = 4000000*(1/(latency+1)) + 0.5*(1/(np.std(self.free_space)+0.00001))              # With those weights, the scale of both latency and std is the same for high values while the latency is the only one taken into account in initial states (when there is plenty of space in the system and distribution is not that important)\n",
    "\n",
    "        info = {}\n",
    "        done = True\n",
    "\n",
    "        return self.get_obs(), reward, done, info\n",
    "\n",
    "    def render(self):\n",
    "        pass\n",
    "    def reset(self):\n",
    "        self.allocation = [arch.data_types,arch.data_allocation]\n",
    "        self.last_calls = [arch.action_type,arch.action_device]\n",
    "        self.action_space = Box(low=0, high=self.num_devices-1, shape=(len(self.allocation),), dtype=np.int16)\n",
    "    def close(self):\n",
    "        pass"
   ],
   "metadata": {
    "collapsed": false
   }
  },
  {
   "cell_type": "code",
   "execution_count": 63,
   "outputs": [
    {
     "name": "stdout",
     "output_type": "stream",
     "text": [
      "2\n",
      "8\n"
     ]
    }
   ],
   "source": [
    "simulation = SimulatedArchitecture(arch, 8)\n",
    "simulation.reset()\n",
    "print(len(simulation.action_space.sample()))\n",
    "print(len(arch.free_space()))"
   ],
   "metadata": {
    "collapsed": false
   }
  },
  {
   "cell_type": "code",
   "execution_count": null,
   "outputs": [
    {
     "data": {
      "text/plain": "<Figure size 640x480 with 1 Axes>",
      "image/png": "[encoded data removed]"
     },
     "metadata": {},
     "output_type": "display_data"
    },
    {
     "name": "stderr",
     "output_type": "stream",
     "text": [
      " 11%|███████████▉                                                                                                  | 109/1000 [00:35<08:14,  1.80it/s]"
     ]
    }
   ],
   "source": [
    "import copy\n",
    "import json\n",
    "\n",
    "executions = ['a1','a2','mc','a1','ai_a2','mc','a3','ai_a1','mc','a1','ai_a3','mc','a2','a3','ai_a2','mc','ai_a1','a1','mc','ai_a3','ai_mc']\n",
    "\n",
    "dataset_json = {\n",
    "    \"observations\": [],\n",
    "    \"actions\": [],\n",
    "    \"rewards\": [],\n",
    "    \"next_observations\": []\n",
    "}\n",
    "\n",
    "for i in range(3):\n",
    "    architecture = Architecture()\n",
    "    free_space = architecture.free_space()\n",
    "    for j in tqdm(range(1000)):\n",
    "        for k in executions:\n",
    "            observations = {\n",
    "                \"weights\": [0.0125, 0.0010, 0.0200, 0.1000],\n",
    "                \"free_space\": copy.copy(free_space),\n",
    "                \"allocation\": [copy.copy(architecture.data_types), copy.copy(architecture.data_allocation)],\n",
    "                \"last_calls\": [copy.copy(architecture.action_type), copy.copy(architecture.action_device)]\n",
    "            }\n",
    "            architecture.generate(k)\n",
    "            architecture.heart_beat()\n",
    "            free_space = copy.copy(list(architecture.greedy_algorithm().values()))\n",
    "            action = copy.copy(architecture.data_allocation)\n",
    "            latency = architecture.compute_total_latency()\n",
    "            reward = 4000000*(1/(latency+1)) + 0.5*(1/(np.std(free_space)+0.00001))\n",
    "            dataset_json[\"observations\"].append(observations)\n",
    "            dataset_json[\"actions\"].append(copy.copy(action))\n",
    "            dataset_json[\"rewards\"].append(copy.copy(reward))\n",
    "            dataset_json[\"next_observations\"].append({\n",
    "                \"weights\": [0.0125, 0.0010, 0.0200, 0.1000],\n",
    "                \"free_space\": copy.copy(free_space),\n",
    "                \"allocation\": [copy.copy(architecture.data_types), copy.copy(architecture.data_allocation)],\n",
    "                \"last_calls\": [copy.copy(architecture.action_type), copy.copy(architecture.action_device)]\n",
    "            })\n",
    "\n",
    "dataset_json = json.dumps(dataset_json)\n",
    "\n",
    "file_path = './offline_dataset.json'\n",
    "\n",
    "with open(file_path, 'w') as file:\n",
    "    file.write(dataset_json)"
   ],
   "metadata": {
    "collapsed": false,
    "pycharm": {
     "is_executing": true
    }
   }
  },
  {
   "cell_type": "code",
   "execution_count": 213,
   "outputs": [],
   "source": [
    "import json\n",
    "\n",
    "json_test = json.dumps(offline_dataset)\n",
    "\n",
    "file_path = './test.json'\n",
    "with open(file_path, 'w') as file:\n",
    "    file.write(json_test)"
   ],
   "metadata": {
    "collapsed": false
   }
  },
  {
   "cell_type": "code",
   "execution_count": 80,
   "metadata": {},
   "outputs": [
    {
     "name": "stderr",
     "output_type": "stream",
     "text": [
      " 48%|█████████████████████████████████████████████████████▏                                                          | 95/200 [01:58<02:10,  1.25s/it]"
     ]
    },
    {
     "name": "stdout",
     "output_type": "stream",
     "text": [
      "enter\n"
     ]
    },
    {
     "name": "stderr",
     "output_type": "stream",
     "text": [
      "100%|███████████████████████████████████████████████████████████████████████████████████████████████████████████████| 200/200 [04:10<00:00,  1.25s/it]"
     ]
    },
    {
     "name": "stdout",
     "output_type": "stream",
     "text": [
      "1210324\n"
     ]
    },
    {
     "name": "stderr",
     "output_type": "stream",
     "text": [
      "\n"
     ]
    }
   ],
   "source": [
    "executions = ['a1','a2','mc','a1','ai_a2','mc','a3','ai_a1','mc','a1','ai_a3','mc','a2','a3','ai_a2','mc','ai_a1','a1','mc','ai_a3','ai_mc']\n",
    "\n",
    "free_spaces200 = pd.DataFrame(columns=['c0','c1','s0','s1','s2','s3','s4','s5'])\n",
    "latencies200 = pd.Series()\n",
    "\n",
    "for j in tqdm(range(1000)):\n",
    "    for i in executions:\n",
    "        arch.generate(i)\n",
    "        arch.heart_beat()\n",
    "        free_spaces200.loc[len(free_spaces200)] = list(arch.greedy_algorithm().values())\n",
    "        latencies200.loc[len(latencies200)] = arch.compute_total_latency()\n",
    "print(arch.compute_total_latency())"
   ]
  },
  {
   "cell_type": "code",
   "execution_count": 231,
   "metadata": {},
   "outputs": [],
   "source": [
    "# print(free_spaces500[(free_spaces500<=0.2).any(axis=1)])\n",
    "# free_spaces500.loc[2000:2050]\n",
    "# free_spaces_test = free_spaces.loc[1:2]\n",
    "# free_spaces_test = free_spaces.sum(axis=1)\n",
    "# whole_free_spaces = pd.concat([free_spaces,free_spaces500], ignore_index=True)\n",
    "# whole_latencies = pd.concat([latencies,latencies500], ignore_index=True)\n",
    "# std = whole_free_spaces.std(axis=1)\n",
    "analysis = pd.DataFrame(columns=['c0','c1','s0','s1','s2','s3','s4','s5'])\n",
    "for i in range(len(offline_dataset[\"observations\"])):\n",
    "    analysis.loc[len(analysis)] = offline_dataset[\"observations\"][i][\"free_space\"]\n",
    "# plt.plot(free_spaces_test)\n",
    "# plt.plot(0.5*(1/std.loc[300:]))\n",
    "# plt.plot(0.5*(1/(std.loc[300:]+0.00001)))\n",
    "# plt.show()"
   ]
  },
  {
   "cell_type": "code",
   "execution_count": 248,
   "outputs": [
    {
     "name": "stdout",
     "output_type": "stream",
     "text": [
      "             c0        c1     s0        s1      s2        s3       s4       s5\n",
      "890    0.928100  0.991450  0.195  0.915500  0.9250  0.996760  0.93900  0.99644\n",
      "899    0.926600  0.990962  0.192  0.919375  0.9326  0.996820  0.92980  0.99630\n",
      "909    0.925300  0.991775  0.187  0.908250  0.9380  0.996580  0.92440  0.99646\n",
      "915    0.923200  0.991013  0.196  0.914875  0.9308  0.996390  0.93000  0.99665\n",
      "917    0.927400  0.991487  0.154  0.910125  0.9280  0.996740  0.93120  0.99622\n",
      "...         ...       ...    ...       ...     ...       ...      ...      ...\n",
      "62995  0.904763  0.923600  0.161  0.924710  0.2392  0.048375  0.92289  0.12300\n",
      "62996  0.905687  0.925760  0.133  0.923580  0.2192  0.039125  0.92402  0.15100\n",
      "62997  0.904737  0.923060  0.160  0.923300  0.2462  0.047625  0.92430  0.13000\n",
      "62998  0.904663  0.923100  0.126  0.923940  0.2458  0.048375  0.92366  0.15800\n",
      "62999  0.905400  0.923940  0.180  0.924230  0.2374  0.041000  0.92345  0.10400\n",
      "\n",
      "[60194 rows x 8 columns]\n"
     ]
    }
   ],
   "source": [
    "print(analysis[(analysis<=0.2).any(axis=1)])\n",
    "# plt.pl.ot(analysis[:2000])\n",
    "# plt.legend()\n",
    "# analysis"
   ],
   "metadata": {
    "collapsed": false
   }
  },
  {
   "cell_type": "code",
   "execution_count": 140,
   "metadata": {},
   "outputs": [
    {
     "data": {
      "text/plain": "[<matplotlib.lines.Line2D at 0x7f143d645cf0>]"
     },
     "execution_count": 140,
     "metadata": {},
     "output_type": "execute_result"
    },
    {
     "data": {
      "text/plain": "<Figure size 640x480 with 1 Axes>",
      "image/png": "[encoded data removed]"
     },
     "metadata": {},
     "output_type": "display_data"
    }
   ],
   "source": [
    "# plt.plot(whole_latencies[10000:])\n",
    "\n",
    "plt.plot(4000000*(1/latencies.loc[5000:])+0.5*(1/std.loc[5000:]))\n",
    "plt.plot(4000000*(1/(latencies.loc[5000:]+1))+0.5*(1/std.loc[5000:]))\n",
    "# latencies"
   ]
  }
 ],
 "metadata": {
  "kernelspec": {
   "display_name": "Python 3 (ipykernel)",
   "language": "python",
   "name": "python3"
  },
  "language_info": {
   "codemirror_mode": {
    "name": "ipython",
    "version": 3
   },
   "file_extension": ".py",
   "mimetype": "text/x-python",
   "name": "python",
   "nbconvert_exporter": "python",
   "pygments_lexer": "ipython3",
   "version": "3.10.6"
  }
 },
 "nbformat": 4,
 "nbformat_minor": 1
}
