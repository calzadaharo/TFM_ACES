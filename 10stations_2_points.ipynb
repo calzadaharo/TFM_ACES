{
 "cells": [
  {
   "cell_type": "code",
   "execution_count": 339,
   "metadata": {
    "collapsed": true
   },
   "outputs": [],
   "source": [
    "from gymnasium import Env\n",
    "from gymnasium.spaces import Box, Dict, Discrete, MultiDiscrete\n",
    "import random\n",
    "import numpy as np\n",
    "import matplotlib.pyplot as plt\n",
    "from tqdm import tqdm\n",
    "import networkx as nx\n",
    "from copy import copy\n",
    "import ray"
   ]
  },
  {
   "cell_type": "code",
   "execution_count": 340,
   "outputs": [],
   "source": [
    "class Architecture:\n",
    "    def __init__(self):\n",
    "        self.c_capacity, self.s_capacity = 50, 2\n",
    "        self.weights = [0.0125, 0.0010, 0.0200, 0.5000] # REVIEW\n",
    "        self.lifetime = {0: 1, 1: 2, 2: 3, 3: 10}   # REVIEW\n",
    "        self.max_actions = 10\n",
    "        self.num_c = 2\n",
    "        self.num_s = 10\n",
    "        self.max_actions = 10\n",
    "        self.min_free_space = 0.2\n",
    "        self.space_flag = -1\n",
    "\n",
    "        self.data_types = []\n",
    "        self.data_allocation = []\n",
    "        self.data_times = []\n",
    "\n",
    "        self.false_data_types = []\n",
    "        self.false_data_allocation = []\n",
    "        self.false_data = {}\n",
    "        self.false_devices = {}\n",
    "\n",
    "        self.data = {}\n",
    "        self.devices = {}\n",
    "        self.latencies = {}\n",
    "        self.max_latencies = {}\n",
    "\n",
    "        self.action_device = []\n",
    "        self.action_type = []\n",
    "\n",
    "        for j in (range(len(self.weights))):\n",
    "            self.data[j] = {}\n",
    "            self.false_data[j] = {}\n",
    "            for i in range(self.num_s+self.num_c):\n",
    "                self.data[j][i] = 0\n",
    "                self.false_data[j][i] = 0\n",
    "                self.devices[i] = {0: 0, 1: 0, 2: 0, 3: 0}\n",
    "                self.false_devices[i] = {0: 0, 1: 0, 2: 0, 3: 0}\n",
    "                self.latencies[i] = {}\n",
    "                self.max_latencies[i] = {}\n",
    "\n",
    "        for i in self.latencies.keys():\n",
    "            for j in self.latencies.keys():\n",
    "                self.latencies[i][j] = 0\n",
    "                self.max_latencies[i][j] = 0\n",
    "\n",
    "        devices = list(self.devices.keys())\n",
    "        bound = round(len(self.devices)/4)\n",
    "        self.clusters = {\n",
    "            0: devices[bound*3:bound*4-1],\n",
    "            1: devices[bound:bound*2-1],\n",
    "            2: devices[bound*2+1:bound*3],\n",
    "            # 3: devices[:bound]\n",
    "            3: [0]\n",
    "        }\n",
    "        self.visualization()\n",
    "\n",
    "    def construct_dictionaries(self):\n",
    "        for i in self.data:\n",
    "            for j in self.data[i]:\n",
    "                self.data[i][j] = 0\n",
    "        for i in self.devices:\n",
    "            for j in self.devices[i]:\n",
    "                self.devices[i][j] = 0\n",
    "        for device, d_type in zip(self.data_allocation, self.data_types):\n",
    "            self.data[d_type][device] += 1\n",
    "            self.devices[device][d_type] += 1\n",
    "\n",
    "    def false_construct_dictionaries(self):\n",
    "        for i in self.false_data:\n",
    "            for j in self.false_data[i]:\n",
    "                self.false_data[i][j] = 0\n",
    "        for i in self.false_devices:\n",
    "            for j in self.false_devices[i]:\n",
    "                self.false_devices[i][j] = 0\n",
    "        for device, d_type in zip(self.false_data_allocation, self.false_data_types):\n",
    "            self.false_data[d_type][device] += 1\n",
    "            self.false_devices[device][d_type] += 1\n",
    "\n",
    "    def update(self, data_type, device):\n",
    "        self.data_types.append(data_type)\n",
    "        self.data_allocation.append(device)\n",
    "        self.data_times.append(0)\n",
    "        self.devices[device][data_type] += 1\n",
    "        self.data[data_type][device] += 1\n",
    "\n",
    "    def heart_beat(self):\n",
    "        deads = []\n",
    "        for i in range(len(self.data_times)):\n",
    "            self.data_times[i] += 1\n",
    "            if self.data_times[i] == self.lifetime[self.data_types[i]]:\n",
    "                deads.append(i)\n",
    "\n",
    "        removed = 0\n",
    "        for i in deads:\n",
    "            self.devices[self.data_allocation[i-removed]][self.data_types[i-removed]] -= 1\n",
    "            self.data[self.data_types[i-removed]][self.data_allocation[i-removed]] -= 1\n",
    "            self.data_types.pop(i - removed)\n",
    "            self.data_allocation.pop(i - removed)\n",
    "            self.data_times.pop(i - removed)\n",
    "            removed += 1\n",
    "\n",
    "    def free_space(self):\n",
    "        load = {}\n",
    "        for i in range(self.num_c + self.num_s):\n",
    "            if i < self.num_c:\n",
    "                load[i] = (self.c_capacity - sum([a*b for a,b in zip(list(self.devices[i].values()), self.weights)]))/self.c_capacity\n",
    "            else:\n",
    "                load[i] = (self.s_capacity - sum([a*b for a,b in zip(list(self.devices[i].values()), self.weights)]))/self.s_capacity\n",
    "            if load[i] <= self.min_free_space:\n",
    "                self.space_flag = i\n",
    "        return load\n",
    "\n",
    "    def reduce_type(self, data_type):\n",
    "        max_time = 0\n",
    "        positions = []\n",
    "        for i in range(len(self.data_allocation)):\n",
    "            if self.data_types[i] == data_type:\n",
    "                if self.data_times[i] > max_time:\n",
    "                    max_time = self.data_times[i]\n",
    "                    positions = []\n",
    "                    positions.append(i)\n",
    "                elif self.data_times[i] == max_time:\n",
    "                    positions.append(i)\n",
    "\n",
    "        removed = 0\n",
    "        for i in positions:\n",
    "            self.devices[self.data_allocation[i-removed]][self.data_types[i-removed]] -= 1\n",
    "            self.data[self.data_types[i-removed]][self.data_allocation[i-removed]] -= 1\n",
    "            self.data_times.pop(i - removed)\n",
    "            self.data_types.pop(i - removed)\n",
    "            self.data_allocation.pop(i -removed)\n",
    "            removed += 1\n",
    "\n",
    "    def check_quantity(self, data_type):\n",
    "        if data_type != 3:\n",
    "            if sum(list(self.data[data_type].values())) > 2*(self.num_s + self.num_c):\n",
    "                self.reduce_type(data_type)\n",
    "        else:\n",
    "            if sum(list(self.data[data_type].values())) > 2*self.num_s:\n",
    "                self.reduce_type(data_type)\n",
    "\n",
    "    def visualization(self):\n",
    "        keys = list(self.devices.keys())\n",
    "        cs = keys[:self.num_c]\n",
    "        ss = keys[self.num_c:]\n",
    "\n",
    "        colors = []\n",
    "        sizes = []\n",
    "\n",
    "        graph = nx.Graph()\n",
    "\n",
    "        colors.append('lightblue')\n",
    "        sizes.append(1000)\n",
    "        index = 0\n",
    "        for i in range(len(cs)):\n",
    "            if i != len(cs)-1:\n",
    "                colors.append('lightblue')\n",
    "                sizes.append(1000)\n",
    "                graph.add_edge(cs[i],cs[i+1])\n",
    "                graph.add_weighted_edges_from([(cs[i],cs[i+1],10)])\n",
    "                for j in range(int(len(ss)/self.num_c)):\n",
    "                    colors.append('orange')\n",
    "                    sizes.append(100)\n",
    "                    graph.add_edge(cs[i],ss[index])\n",
    "                    graph.add_weighted_edges_from([(cs[i],ss[index],6)])\n",
    "                    index += 1\n",
    "            else:\n",
    "                graph.add_edge(cs[i],cs[0])\n",
    "                graph.add_weighted_edges_from([(cs[i],cs[0],10)])\n",
    "                for j in range(int(len(ss)/self.num_c)+len(ss)%self.num_c):\n",
    "                    graph.add_edge(cs[i],ss[index])\n",
    "                    graph.add_weighted_edges_from([(cs[i],ss[index],6)])\n",
    "                    colors.append('orange')\n",
    "                    sizes.append(100)\n",
    "                    index += 1\n",
    "\n",
    "        pos = nx.spring_layout(graph)  # Position nodes using a spring layout algorithm\n",
    "        # nx.draw(graph, pos, with_labels=True, node_size=sizes, node_color=colors, font_weight=12, font_color='black', edge_color='gray')\n",
    "        edge_labels = nx.get_edge_attributes(graph, 'weight')\n",
    "        # nx.draw_networkx_edge_labels(graph, pos, edge_labels=edge_labels)\n",
    "\n",
    "        # plt.title(\"Architecture:\")\n",
    "        # plt.axis('off')\n",
    "        # plt.show()\n",
    "\n",
    "        for u in graph.nodes:\n",
    "            shortest_paths = nx.shortest_path_length(graph, source=u, weight='weight')\n",
    "            for v, weight in shortest_paths.items():\n",
    "                self.latencies[u][v] = weight\n",
    "\n",
    "        max_latency = self.latencies[self.num_c][self.num_c+self.num_s-1]\n",
    "        for i in self.max_latencies.keys():\n",
    "            for j in self.max_latencies[i].keys():\n",
    "                self.max_latencies[i][j] = max_latency\n",
    "\n",
    "    def compute_total_latency(self):\n",
    "        total_latency = 0\n",
    "        for i in range(len(self.action_type)):\n",
    "            total_latency += sum([a*b for a,b in zip(self.data[self.action_type[i]].values(), self.latencies[self.action_device[i]].values())])\n",
    "        return total_latency\n",
    "\n",
    "    def false_compute_total_latency(self):\n",
    "        total_latency = 0\n",
    "        for i in range(len(self.action_type)):\n",
    "            total_latency += sum([a*b for a,b in zip(self.false_data[self.action_type[i]].values(), self.latencies[self.action_device[i]].values())])\n",
    "        return total_latency\n",
    "\n",
    "    def compute_normalized_latency(self):\n",
    "        total_latency = 0\n",
    "        max_latency = 0\n",
    "        for i in range(len(self.action_type)):\n",
    "            total_latency += sum([a*b for a,b in zip(self.data[self.action_type[i]].values(), self.latencies[self.action_device[i]].values())])\n",
    "            max_latency += sum([a*b for a,b in zip(self.data[self.action_type[i]].values(), self.max_latencies[self.action_device[i]].values())])\n",
    "        return total_latency/(max_latency+1)\n",
    "\n",
    "    def compute_normalized_latency_dict(self):    # CHANGEEEEEEEEEEEEEE\n",
    "        total_latency = {\n",
    "            0: 0,\n",
    "            1: 0,\n",
    "            2: 0,\n",
    "            3: 0\n",
    "        }\n",
    "        max_latency = {\n",
    "            0: 0,\n",
    "            1: 0,\n",
    "            2: 0,\n",
    "            3: 0\n",
    "        }\n",
    "\n",
    "        for key in total_latency.keys():\n",
    "            for dev in range(len(self.clusters[key])):\n",
    "                if self.clusters[key][dev] in self.action_device:\n",
    "                    for j in self.data[key]:\n",
    "                        total_latency[key] += self.latencies[self.clusters[key][dev]][j] * self.data[key][j]\n",
    "                        max_latency[key] += self.data[key][j]\n",
    "        for i in total_latency.keys():\n",
    "            total_latency[i] = 1-total_latency[i]/(max_latency[i]*22+1)\n",
    "\n",
    "        return total_latency\n",
    "\n",
    "    # def rl_update(self, new_allocation):\n",
    "    #     self.data_allocation = new_allocation\n",
    "    #     self.construct_dictionaries()\n",
    "    #     return self.free_space()\n",
    "\n",
    "    def generate(self, operation):\n",
    "        if operation == 0 or operation == 1 or operation == 2:\n",
    "            for i in range(self.num_s + self.num_c):\n",
    "                self.update(operation,i)\n",
    "            self.check_quantity(operation)\n",
    "        elif operation == 3:\n",
    "            for i in range(self.num_c,(self.num_c + self.num_s)):\n",
    "                self.update(operation,i)\n",
    "            self.check_quantity(operation)\n",
    "        else:\n",
    "            device=random.sample(self.clusters[operation-10],1)[0] if operation != 13 else self.clusters[operation-10][0] # CHANGEEEEEEEEEEEEEEE\n",
    "            # device=self.clusters[operation - 10][0]\n",
    "            self.action_device.append(device)\n",
    "            self.action_type.append(operation-10)\n",
    "            difference = len(self.action_device) - self.max_actions\n",
    "            if difference >= 0:\n",
    "                for i in range(difference):\n",
    "                    self.action_device.pop(0)\n",
    "                    self.action_type.pop(0)\n",
    "\n",
    "    def round_robin(self):\n",
    "        allocation_round = []\n",
    "        capacities = [50,50,2,2,2,2,2,2,2,2,2,2]  # CHANGEEEEEEEEEEEEEEEEEEEEE\n",
    "        index = 0\n",
    "        server_index = 0\n",
    "        for i in range(len(self.data_allocation)):\n",
    "            if index == self.num_c + self.num_s:\n",
    "                index = 0\n",
    "            if (index != 0 or index != 1) and capacities[index] - self.weights[self.data_types[i]] <= 0.2 * 2:      # CHANGEEEEEEEEEEEEEEEEEEEEE\n",
    "                allocation_round.append(server_index)\n",
    "                capacities[server_index] -= self.weights[self.data_types[i]]\n",
    "                server_index = 1 if server_index == 0 else 0\n",
    "            else:\n",
    "                allocation_round.append(index)\n",
    "                capacities[index] -= self.weights[self.data_types[i]]\n",
    "                index += 1\n",
    "        self.data_allocation = allocation_round.copy()\n",
    "        self.construct_dictionaries()\n",
    "        for i in range(80 - len(allocation_round)):      # REMEMBER TO CHANGE !!!!!!!!!!!!!!\n",
    "            allocation_round.append(random.randint(0,self.num_c+self.num_s-1))\n",
    "        return allocation_round\n",
    "\n",
    "    def greedy_server(self):\n",
    "        allocation_greedy= []\n",
    "        index = 0\n",
    "        for i in range(len(self.data_allocation)):\n",
    "            allocation_greedy.append(index)\n",
    "            index = 1 if index == 0 else 0          # CHANGEEEEEEEEEEEEEEEEEEEEE\n",
    "        self.data_allocation = allocation_greedy.copy()\n",
    "        self.construct_dictionaries()\n",
    "        for i in range(80 - len(allocation_greedy)):      # REMEMBER TO CHANGE !!!!!!!!!!!!!!\n",
    "            allocation_greedy.append(random.randint(0,self.num_c+self.num_s-1))\n",
    "        return allocation_greedy\n",
    "\n",
    "    def greedy_algorithm(self):\n",
    "        if self.space_flag == -1:\n",
    "            # print(\"It's ok\")\n",
    "            allocation = []\n",
    "            for i in self.data_types:\n",
    "                allocation.append(random.sample(list(self.clusters[i]),1)[0])\n",
    "            self.data_allocation = allocation.copy()\n",
    "            self.construct_dictionaries()\n",
    "            for i in range(80 - len(allocation)):      # REMEMBER TO CHANGE !!!!!!!!!!!!!!\n",
    "                allocation.append(random.randint(0,self.num_c+self.num_s-1))\n",
    "            return allocation\n",
    "        else:\n",
    "            # print(\"Problem\")\n",
    "            problematic_key = None\n",
    "            for key, value in self.clusters.items():\n",
    "                if self.space_flag in value:\n",
    "                    problematic_key = key\n",
    "                    break\n",
    "            for i in range(self.num_c):\n",
    "                self.clusters[problematic_key].append(i)\n",
    "            self.space_flag = -1\n",
    "            return self.greedy_algorithm()"
   ],
   "metadata": {
    "collapsed": false
   }
  },
  {
   "cell_type": "code",
   "execution_count": 341,
   "outputs": [
    {
     "name": "stdout",
     "output_type": "stream",
     "text": [
      "{0: [9, 10], 1: [3, 4], 2: [7, 8], 3: [0]}\n"
     ]
    }
   ],
   "source": [
    "executions = [[0,1,2,10],\n",
    "              [0,1,2,11],\n",
    "              [0,1,2,12],\n",
    "              [0,1,2,3],\n",
    "              [0,1,2,10],\n",
    "              [0,1,2,11],\n",
    "              [0,1,2,12],\n",
    "              [0,1,2,3],\n",
    "              [0,1,2,13]]\n",
    "\n",
    "architecture = Architecture()\n",
    "print(architecture.clusters)\n",
    "\n",
    "for j in executions:\n",
    "    architecture.heart_beat()\n",
    "    for h in j:\n",
    "        architecture.generate(h)\n",
    "    # print(architecture.data_allocation)\n",
    "    # print(len(architecture.data_allocation))\n",
    "# print(architecture.data)\n",
    "# print(architecture.action_device)\n",
    "# print(architecture.action_type)\n",
    "# architecture.round_robin()\n",
    "# print(architecture.compute_normalized_latency_dict())\n",
    "# architecture.greedy_server()\n",
    "# print(architecture.compute_normalized_latency_dict())"
   ],
   "metadata": {
    "collapsed": false
   }
  },
  {
   "cell_type": "code",
   "execution_count": 342,
   "outputs": [],
   "source": [
    "class AcesStepArchitectureEnv(Env):\n",
    "    def __init__(self, maximum_data):\n",
    "        self.architecture = Architecture()\n",
    "        self.executions = [[0,1,2,10],\n",
    "                           [0,1,2,11],\n",
    "                           [0,1,2,12],\n",
    "                           [0,1,2,3],\n",
    "                           [0,1,2,10],\n",
    "                           [0,1,2,11],\n",
    "                           [0,1,2,12],\n",
    "                           [0,1,2,3],\n",
    "                           [0,1,2,13]]\n",
    "        self.execution_index = 0\n",
    "        self.num_devices = len(self.architecture.devices.keys())\n",
    "        self.maximum_data = maximum_data\n",
    "\n",
    "        self.free_space = [self.architecture.c_capacity,self.architecture.c_capacity,\n",
    "                           self.architecture.s_capacity,self.architecture.s_capacity,\n",
    "                           self.architecture.s_capacity,self.architecture.s_capacity,\n",
    "                           self.architecture.s_capacity,self.architecture.s_capacity,\n",
    "                           self.architecture.s_capacity,self.architecture.s_capacity,\n",
    "                           self.architecture.s_capacity,self.architecture.s_capacity]\n",
    "        self.max_free_space = [self.architecture.c_capacity,self.architecture.c_capacity,\n",
    "                               self.architecture.s_capacity,self.architecture.s_capacity,\n",
    "                               self.architecture.s_capacity,self.architecture.s_capacity,\n",
    "                               self.architecture.s_capacity,self.architecture.s_capacity,\n",
    "                               self.architecture.s_capacity,self.architecture.s_capacity,\n",
    "                               self.architecture.s_capacity,self.architecture.s_capacity]\n",
    "        self.quantity = 0\n",
    "        self.last_call = [-1]\n",
    "        self.weight = 0\n",
    "        self.type = 0\n",
    "        self.flag = False\n",
    "\n",
    "        self.observation_space = Dict({\n",
    "            \"quantity\": Discrete(maximum_data+1, start=0),\n",
    "            \"weight\": Box(low=0, high=1, shape=(1,), dtype=np.float32),\n",
    "            \"free_space\": Box(low=-10, high=50, shape=(self.num_devices,), dtype=np.float32),\n",
    "            \"last_calls\": Box(low=-1, high=self.num_devices-1, shape=(2,), dtype=np.int32)               # CHAAAAAAAAAAAAAAAAAAAAAAAAAANGE\n",
    "        })\n",
    "\n",
    "        self.action_space = Box(low=0, high=self.num_devices-1, shape=(maximum_data,), dtype=np.int32)\n",
    "\n",
    "        self.reward = 0\n",
    "\n",
    "    def get_obs(self, type):\n",
    "        amount = sum(self.architecture.data[type].values())\n",
    "        if amount > self.maximum_data:\n",
    "            self.quantity = int(amount/2)\n",
    "            self.flag = False if self.flag else True\n",
    "        else:\n",
    "            self.quantity = amount\n",
    "\n",
    "        self.weight = self.architecture.weights[type]\n",
    "        indices = set()\n",
    "        for i in range(len(self.architecture.action_type)):\n",
    "            if self.architecture.action_type[i]==type:\n",
    "                indices.add(self.architecture.action_device[i])\n",
    "        if len(indices) == 2:\n",
    "            self.last_call = list(indices)              # CHAAAAAAAAAAAAAAAAAAAAAAAAAANGE\n",
    "        elif len(indices) == 1:\n",
    "            self.last_call = list(indices)\n",
    "            self.last_call.append(-1)\n",
    "        else:\n",
    "            self.last_call = [-1,-1]\n",
    "        return {\n",
    "            \"quantity\": self.quantity,\n",
    "            \"weight\": np.array([self.weight]),\n",
    "            \"free_space\": np.array(self.free_space),\n",
    "            \"last_calls\": np.array(self.last_call)\n",
    "        }\n",
    "\n",
    "    def step(self,action):\n",
    "        cut_action = action[:self.quantity]\n",
    "        latency = 0\n",
    "        flag = False\n",
    "        computed_latencies = 0              #CHANGEEEEEEEEEEEEEEE\n",
    "        for location in cut_action:\n",
    "            for call in self.last_call:\n",
    "                if call != -1:\n",
    "                    latency += self.architecture.latencies[call][location]\n",
    "                    computed_latencies+=1\n",
    "            self.free_space[location] -= self.weight * 6\n",
    "\n",
    "        for i in range(len(self.free_space)):\n",
    "            if self.free_space[i] <= self.max_free_space[i]*0.2:\n",
    "                alert = True\n",
    "\n",
    "        info = {'type': self.type}\n",
    "\n",
    "        if flag:\n",
    "            reward = -1\n",
    "        else:\n",
    "            reward = 1 - (latency / (computed_latencies * 22+1))             # CHANGEEEEEEEEEEEEEEEEEEEEEE\n",
    "\n",
    "        done = False\n",
    "        if self.type == 3 and self.flag == False:\n",
    "            done=True\n",
    "        if self.flag == False and self.type != 3:\n",
    "            self.type += 1\n",
    "\n",
    "        return self.get_obs(self.type), reward, done, info\n",
    "\n",
    "    def reset(self):\n",
    "        self.architecture.heart_beat()\n",
    "        for execution in self.executions[self.execution_index]:\n",
    "            self.architecture.generate(execution)\n",
    "\n",
    "        self.free_space = [self.architecture.c_capacity,self.architecture.c_capacity,\n",
    "                           self.architecture.s_capacity,self.architecture.s_capacity,\n",
    "                           self.architecture.s_capacity,self.architecture.s_capacity,\n",
    "                           self.architecture.s_capacity,self.architecture.s_capacity,\n",
    "                           self.architecture.s_capacity,self.architecture.s_capacity,\n",
    "                           self.architecture.s_capacity,self.architecture.s_capacity]\n",
    "\n",
    "        self.execution_index = self.execution_index +1 if self.execution_index <= len(self.executions) - 2 else 0\n",
    "        self.type = 0\n",
    "        self.flag=False\n",
    "        return self.get_obs(self.type)\n",
    "\n",
    "    def close(self):\n",
    "        print('CLOSED')"
   ],
   "metadata": {
    "collapsed": false
   }
  },
  {
   "cell_type": "code",
   "execution_count": 343,
   "outputs": [],
   "source": [
    "ar = AcesStepArchitectureEnv(16)"
   ],
   "metadata": {
    "collapsed": false
   }
  },
  {
   "cell_type": "code",
   "execution_count": 344,
   "outputs": [
    {
     "data": {
      "text/plain": "({'quantity': 12,\n  'weight': array([0.001]),\n  'free_space': array([49.85 , 49.925,  1.85 ,  2.   ,  1.85 ,  2.   ,  2.   ,  1.925,\n          2.   ,  2.   ,  1.775,  1.925]),\n  'last_calls': array([-1, -1])},\n 0.29811320754716986,\n False,\n {'type': 0})"
     },
     "execution_count": 344,
     "metadata": {},
     "output_type": "execute_result"
    }
   ],
   "source": [
    "ar.reset()\n",
    "# for i in range(10):\n",
    "ar.step(ar.action_space.sample())\n",
    "# print(ar.flag)"
   ],
   "metadata": {
    "collapsed": false
   }
  },
  {
   "cell_type": "code",
   "execution_count": 71,
   "outputs": [],
   "source": [
    "from ray.rllib.utils import check_env\n",
    "from gymnasium.wrappers import EnvCompatibility\n",
    "\n",
    "simulated_aces = AcesStepArchitectureEnv(14)\n",
    "check_env(EnvCompatibility(simulated_aces))"
   ],
   "metadata": {
    "collapsed": false
   }
  },
  {
   "cell_type": "code",
   "execution_count": 256,
   "outputs": [
    {
     "name": "stderr",
     "output_type": "stream",
     "text": [
      "2023-06-12 10:55:26,700\tINFO worker.py:1553 -- Started a local Ray instance.\n",
      "2023-06-12 10:55:38,277\tINFO trainable.py:172 -- Trainable.setup took 13.821 seconds. If your trainable is slow to initialize, consider setting reuse_actors=True to reduce actor creation overheads.\n",
      "2023-06-12 10:55:38,280\tWARNING util.py:67 -- Install gputil for GPU system monitoring.\n",
      "  2%|███▌                                                                                                                                                                           | 1/50 [00:12<10:00, 12.25s/it]"
     ]
    },
    {
     "name": "stdout",
     "output_type": "stream",
     "text": [
      "2.822044701451429\n"
     ]
    },
    {
     "name": "stderr",
     "output_type": "stream",
     "text": [
      "  4%|███████                                                                                                                                                                        | 2/50 [00:24<09:38, 12.06s/it]"
     ]
    },
    {
     "name": "stdout",
     "output_type": "stream",
     "text": [
      "3.8221130796227367\n"
     ]
    },
    {
     "name": "stderr",
     "output_type": "stream",
     "text": [
      "  6%|██████████▌                                                                                                                                                                    | 3/50 [00:36<09:26, 12.06s/it]"
     ]
    },
    {
     "name": "stdout",
     "output_type": "stream",
     "text": [
      "3.0783520167319747\n"
     ]
    },
    {
     "name": "stderr",
     "output_type": "stream",
     "text": [
      "  8%|██████████████                                                                                                                                                                 | 4/50 [00:48<09:14, 12.06s/it]"
     ]
    },
    {
     "name": "stdout",
     "output_type": "stream",
     "text": [
      "3.7646822686198527\n"
     ]
    },
    {
     "name": "stderr",
     "output_type": "stream",
     "text": [
      " 10%|█████████████████▌                                                                                                                                                             | 5/50 [01:00<09:04, 12.11s/it]"
     ]
    },
    {
     "name": "stdout",
     "output_type": "stream",
     "text": [
      "2.8148541355135444\n"
     ]
    },
    {
     "name": "stderr",
     "output_type": "stream",
     "text": [
      " 12%|█████████████████████                                                                                                                                                          | 6/50 [01:11<08:43, 11.90s/it]"
     ]
    },
    {
     "name": "stdout",
     "output_type": "stream",
     "text": [
      "3.802729252166795\n"
     ]
    },
    {
     "name": "stderr",
     "output_type": "stream",
     "text": [
      " 14%|████████████████████████▌                                                                                                                                                      | 7/50 [01:24<08:42, 12.16s/it]"
     ]
    },
    {
     "name": "stdout",
     "output_type": "stream",
     "text": [
      "2.579300735041375\n"
     ]
    },
    {
     "name": "stderr",
     "output_type": "stream",
     "text": [
      " 16%|████████████████████████████                                                                                                                                                   | 8/50 [01:36<08:21, 11.95s/it]"
     ]
    },
    {
     "name": "stdout",
     "output_type": "stream",
     "text": [
      "2.3898145907496673\n"
     ]
    },
    {
     "name": "stderr",
     "output_type": "stream",
     "text": [
      " 18%|███████████████████████████████▌                                                                                                                                               | 9/50 [01:48<08:10, 11.96s/it]"
     ]
    },
    {
     "name": "stdout",
     "output_type": "stream",
     "text": [
      "1.8468125967520272\n"
     ]
    },
    {
     "name": "stderr",
     "output_type": "stream",
     "text": [
      " 20%|██████████████████████████████████▊                                                                                                                                           | 10/50 [02:00<08:00, 12.02s/it]"
     ]
    },
    {
     "name": "stdout",
     "output_type": "stream",
     "text": [
      "2.2535052673137836\n"
     ]
    },
    {
     "name": "stderr",
     "output_type": "stream",
     "text": [
      " 22%|██████████████████████████████████████▎                                                                                                                                       | 11/50 [02:11<07:44, 11.91s/it]"
     ]
    },
    {
     "name": "stdout",
     "output_type": "stream",
     "text": [
      "2.460676563476923\n"
     ]
    },
    {
     "name": "stderr",
     "output_type": "stream",
     "text": [
      " 24%|█████████████████████████████████████████▊                                                                                                                                    | 12/50 [02:24<07:38, 12.08s/it]"
     ]
    },
    {
     "name": "stdout",
     "output_type": "stream",
     "text": [
      "2.7314885208795547\n"
     ]
    },
    {
     "name": "stderr",
     "output_type": "stream",
     "text": [
      " 26%|█████████████████████████████████████████████▏                                                                                                                                | 13/50 [02:36<07:22, 11.96s/it]"
     ]
    },
    {
     "name": "stdout",
     "output_type": "stream",
     "text": [
      "2.7803125196714302\n"
     ]
    },
    {
     "name": "stderr",
     "output_type": "stream",
     "text": [
      "Exception in thread Thread-703:\n",
      "Traceback (most recent call last):\n",
      "  File \"/usr/lib/python3.10/threading.py\", line 1016, in _bootstrap_inner\n",
      "    self.run()\n",
      "  File \"/home/rcalzada/.local/lib/python3.10/site-packages/ray/rllib/execution/learner_thread.py\", line 74, in run\n",
      "    self.step()\n",
      "  File \"/home/rcalzada/.local/lib/python3.10/site-packages/ray/rllib/execution/multi_gpu_learner_thread.py\", line 143, in step\n",
      "    buffer_idx, released = self.ready_tower_stacks_buffer.get()\n",
      "  File \"/home/rcalzada/.local/lib/python3.10/site-packages/ray/rllib/execution/minibatch_buffer.py\", line 48, in get\n",
      "    self.buffers[self.idx] = self.inqueue.get(timeout=self.timeout)\n",
      "  File \"/usr/lib/python3.10/queue.py\", line 179, in get\n",
      "    raise Empty\n",
      "_queue.Empty\n",
      " 28%|████████████████████████████████████████████████▋                                                                                                                             | 14/50 [02:47<07:09, 11.92s/it]"
     ]
    },
    {
     "name": "stdout",
     "output_type": "stream",
     "text": [
      "2.700760480306185\n"
     ]
    },
    {
     "name": "stderr",
     "output_type": "stream",
     "text": [
      " 30%|████████████████████████████████████████████████████▏                                                                                                                         | 15/50 [03:00<06:58, 11.97s/it]"
     ]
    },
    {
     "name": "stdout",
     "output_type": "stream",
     "text": [
      "2.6026465091343476\n"
     ]
    },
    {
     "name": "stderr",
     "output_type": "stream",
     "text": [
      " 32%|███████████████████████████████████████████████████████▋                                                                                                                      | 16/50 [03:12<06:48, 12.02s/it]"
     ]
    },
    {
     "name": "stdout",
     "output_type": "stream",
     "text": [
      "3.1212531362473945\n"
     ]
    },
    {
     "name": "stderr",
     "output_type": "stream",
     "text": [
      " 34%|███████████████████████████████████████████████████████████▏                                                                                                                  | 17/50 [03:24<06:37, 12.03s/it]"
     ]
    },
    {
     "name": "stdout",
     "output_type": "stream",
     "text": [
      "3.023616299640186\n"
     ]
    },
    {
     "name": "stderr",
     "output_type": "stream",
     "text": [
      "Exception in thread Thread-21033:\n",
      "Traceback (most recent call last):\n",
      "  File \"/usr/lib/python3.10/threading.py\", line 1016, in _bootstrap_inner\n",
      "    self.run()\n",
      "  File \"/home/rcalzada/.local/lib/python3.10/site-packages/ray/rllib/execution/learner_thread.py\", line 74, in run\n",
      "    self.step()\n",
      "  File \"/home/rcalzada/.local/lib/python3.10/site-packages/ray/rllib/execution/multi_gpu_learner_thread.py\", line 143, in step\n",
      "    buffer_idx, released = self.ready_tower_stacks_buffer.get()\n",
      "  File \"/home/rcalzada/.local/lib/python3.10/site-packages/ray/rllib/execution/minibatch_buffer.py\", line 48, in get\n",
      "    self.buffers[self.idx] = self.inqueue.get(timeout=self.timeout)\n",
      "  File \"/usr/lib/python3.10/queue.py\", line 179, in get\n",
      "    raise Empty\n",
      "_queue.Empty\n",
      " 36%|██████████████████████████████████████████████████████████████▋                                                                                                               | 18/50 [03:36<06:26, 12.08s/it]"
     ]
    },
    {
     "name": "stdout",
     "output_type": "stream",
     "text": [
      "3.0302477529030343\n"
     ]
    },
    {
     "name": "stderr",
     "output_type": "stream",
     "text": [
      " 38%|██████████████████████████████████████████████████████████████████                                                                                                            | 19/50 [03:48<06:13, 12.05s/it]"
     ]
    },
    {
     "name": "stdout",
     "output_type": "stream",
     "text": [
      "3.267912927756576\n"
     ]
    },
    {
     "name": "stderr",
     "output_type": "stream",
     "text": [
      "Exception in thread Thread-24649:\n",
      "Traceback (most recent call last):\n",
      "  File \"/usr/lib/python3.10/threading.py\", line 1016, in _bootstrap_inner\n",
      "    self.run()\n",
      "  File \"/home/rcalzada/.local/lib/python3.10/site-packages/ray/rllib/execution/learner_thread.py\", line 74, in run\n",
      "    self.step()\n",
      "  File \"/home/rcalzada/.local/lib/python3.10/site-packages/ray/rllib/execution/multi_gpu_learner_thread.py\", line 143, in step\n",
      "    buffer_idx, released = self.ready_tower_stacks_buffer.get()\n",
      "  File \"/home/rcalzada/.local/lib/python3.10/site-packages/ray/rllib/execution/minibatch_buffer.py\", line 48, in get\n",
      "    self.buffers[self.idx] = self.inqueue.get(timeout=self.timeout)\n",
      "  File \"/usr/lib/python3.10/queue.py\", line 179, in get\n",
      "    raise Empty\n",
      "_queue.Empty\n",
      " 40%|█████████████████████████████████████████████████████████████████████▌                                                                                                        | 20/50 [04:00<06:00, 12.02s/it]"
     ]
    },
    {
     "name": "stdout",
     "output_type": "stream",
     "text": [
      "3.5824155348247904\n"
     ]
    },
    {
     "name": "stderr",
     "output_type": "stream",
     "text": [
      " 42%|█████████████████████████████████████████████████████████████████████████                                                                                                     | 21/50 [04:12<05:48, 12.01s/it]"
     ]
    },
    {
     "name": "stdout",
     "output_type": "stream",
     "text": [
      "3.2076311564746782\n"
     ]
    },
    {
     "name": "stderr",
     "output_type": "stream",
     "text": [
      " 44%|████████████████████████████████████████████████████████████████████████████▌                                                                                                 | 22/50 [04:24<05:34, 11.96s/it]"
     ]
    },
    {
     "name": "stdout",
     "output_type": "stream",
     "text": [
      "3.3200100540476556\n"
     ]
    },
    {
     "name": "stderr",
     "output_type": "stream",
     "text": [
      " 46%|████████████████████████████████████████████████████████████████████████████████                                                                                              | 23/50 [04:36<05:22, 11.93s/it]"
     ]
    },
    {
     "name": "stdout",
     "output_type": "stream",
     "text": [
      "3.2972797284457678\n"
     ]
    },
    {
     "name": "stderr",
     "output_type": "stream",
     "text": [
      " 48%|███████████████████████████████████████████████████████████████████████████████████▌                                                                                          | 24/50 [04:47<05:09, 11.89s/it]"
     ]
    },
    {
     "name": "stdout",
     "output_type": "stream",
     "text": [
      "3.6379039067001098\n"
     ]
    },
    {
     "name": "stderr",
     "output_type": "stream",
     "text": [
      " 50%|███████████████████████████████████████████████████████████████████████████████████████                                                                                       | 25/50 [04:59<04:56, 11.85s/it]"
     ]
    },
    {
     "name": "stdout",
     "output_type": "stream",
     "text": [
      "3.245836985033849\n"
     ]
    },
    {
     "name": "stderr",
     "output_type": "stream",
     "text": [
      " 52%|██████████████████████████████████████████████████████████████████████████████████████████▍                                                                                   | 26/50 [05:11<04:45, 11.89s/it]"
     ]
    },
    {
     "name": "stdout",
     "output_type": "stream",
     "text": [
      "3.1551514385679065\n"
     ]
    },
    {
     "name": "stderr",
     "output_type": "stream",
     "text": [
      " 54%|█████████████████████████████████████████████████████████████████████████████████████████████▉                                                                                | 27/50 [05:23<04:32, 11.84s/it]"
     ]
    },
    {
     "name": "stdout",
     "output_type": "stream",
     "text": [
      "3.4423715556377075\n"
     ]
    },
    {
     "name": "stderr",
     "output_type": "stream",
     "text": [
      " 56%|█████████████████████████████████████████████████████████████████████████████████████████████████▍                                                                            | 28/50 [05:35<04:21, 11.87s/it]"
     ]
    },
    {
     "name": "stdout",
     "output_type": "stream",
     "text": [
      "3.621071935119697\n"
     ]
    },
    {
     "name": "stderr",
     "output_type": "stream",
     "text": [
      " 58%|████████████████████████████████████████████████████████████████████████████████████████████████████▉                                                                         | 29/50 [05:47<04:10, 11.94s/it]"
     ]
    },
    {
     "name": "stdout",
     "output_type": "stream",
     "text": [
      "2.7493825523793007\n"
     ]
    },
    {
     "name": "stderr",
     "output_type": "stream",
     "text": [
      " 60%|████████████████████████████████████████████████████████████████████████████████████████████████████████▍                                                                     | 30/50 [05:59<03:58, 11.92s/it]"
     ]
    },
    {
     "name": "stdout",
     "output_type": "stream",
     "text": [
      "2.8656680539893977\n"
     ]
    },
    {
     "name": "stderr",
     "output_type": "stream",
     "text": [
      " 62%|███████████████████████████████████████████████████████████████████████████████████████████████████████████▉                                                                  | 31/50 [06:11<03:47, 11.97s/it]"
     ]
    },
    {
     "name": "stdout",
     "output_type": "stream",
     "text": [
      "2.9509172090951883\n"
     ]
    },
    {
     "name": "stderr",
     "output_type": "stream",
     "text": [
      " 64%|███████████████████████████████████████████████████████████████████████████████████████████████████████████████▎                                                              | 32/50 [06:23<03:34, 11.93s/it]"
     ]
    },
    {
     "name": "stdout",
     "output_type": "stream",
     "text": [
      "2.902130468260819\n"
     ]
    },
    {
     "name": "stderr",
     "output_type": "stream",
     "text": [
      " 66%|██████████████████████████████████████████████████████████████████████████████████████████████████████████████████▊                                                           | 33/50 [06:34<03:22, 11.90s/it]"
     ]
    },
    {
     "name": "stdout",
     "output_type": "stream",
     "text": [
      "2.6497116117728337\n"
     ]
    },
    {
     "name": "stderr",
     "output_type": "stream",
     "text": [
      " 68%|██████████████████████████████████████████████████████████████████████████████████████████████████████████████████████▎                                                       | 34/50 [06:46<03:10, 11.92s/it]"
     ]
    },
    {
     "name": "stdout",
     "output_type": "stream",
     "text": [
      "2.9549770306834144\n"
     ]
    },
    {
     "name": "stderr",
     "output_type": "stream",
     "text": [
      " 70%|█████████████████████████████████████████████████████████████████████████████████████████████████████████████████████████▊                                                    | 35/50 [06:59<02:59, 12.00s/it]"
     ]
    },
    {
     "name": "stdout",
     "output_type": "stream",
     "text": [
      "3.18963509318617\n"
     ]
    },
    {
     "name": "stderr",
     "output_type": "stream",
     "text": [
      " 72%|█████████████████████████████████████████████████████████████████████████████████████████████████████████████████████████████▎                                                | 36/50 [07:11<02:47, 11.96s/it]"
     ]
    },
    {
     "name": "stdout",
     "output_type": "stream",
     "text": [
      "3.827102586530552\n"
     ]
    },
    {
     "name": "stderr",
     "output_type": "stream",
     "text": [
      " 74%|████████████████████████████████████████████████████████████████████████████████████████████████████████████████████████████████▊                                             | 37/50 [07:23<02:35, 11.98s/it]"
     ]
    },
    {
     "name": "stdout",
     "output_type": "stream",
     "text": [
      "2.640248845419098\n"
     ]
    },
    {
     "name": "stderr",
     "output_type": "stream",
     "text": [
      " 76%|████████████████████████████████████████████████████████████████████████████████████████████████████████████████████████████████████▏                                         | 38/50 [07:34<02:23, 11.95s/it]"
     ]
    },
    {
     "name": "stdout",
     "output_type": "stream",
     "text": [
      "3.3515717729086676\n"
     ]
    },
    {
     "name": "stderr",
     "output_type": "stream",
     "text": [
      " 78%|███████████████████████████████████████████████████████████████████████████████████████████████████████████████████████████████████████▋                                      | 39/50 [07:46<02:11, 11.98s/it]"
     ]
    },
    {
     "name": "stdout",
     "output_type": "stream",
     "text": [
      "4.069390681891045\n"
     ]
    },
    {
     "name": "stderr",
     "output_type": "stream",
     "text": [
      " 80%|███████████████████████████████████████████████████████████████████████████████████████████████████████████████████████████████████████████▏                                  | 40/50 [07:59<02:00, 12.01s/it]"
     ]
    },
    {
     "name": "stdout",
     "output_type": "stream",
     "text": [
      "4.029786816940022\n"
     ]
    },
    {
     "name": "stderr",
     "output_type": "stream",
     "text": [
      " 82%|██████████████████████████████████████████████████████████████████████████████████████████████████████████████████████████████████████████████▋                               | 41/50 [08:11<01:48, 12.07s/it]"
     ]
    },
    {
     "name": "stdout",
     "output_type": "stream",
     "text": [
      "4.152153791586149\n"
     ]
    },
    {
     "name": "stderr",
     "output_type": "stream",
     "text": [
      " 84%|██████████████████████████████████████████████████████████████████████████████████████████████████████████████████████████████████████████████████▏                           | 42/50 [08:22<01:35, 11.91s/it]"
     ]
    },
    {
     "name": "stdout",
     "output_type": "stream",
     "text": [
      "4.233509901398879\n"
     ]
    },
    {
     "name": "stderr",
     "output_type": "stream",
     "text": [
      " 86%|█████████████████████████████████████████████████████████████████████████████████████████████████████████████████████████████████████████████████████▋                        | 43/50 [08:34<01:23, 11.92s/it]"
     ]
    },
    {
     "name": "stdout",
     "output_type": "stream",
     "text": [
      "4.30960274970471\n"
     ]
    },
    {
     "name": "stderr",
     "output_type": "stream",
     "text": [
      " 88%|█████████████████████████████████████████████████████████████████████████████████████████████████████████████████████████████████████████████████████████                     | 44/50 [08:46<01:11, 11.90s/it]"
     ]
    },
    {
     "name": "stdout",
     "output_type": "stream",
     "text": [
      "3.07135066545552\n"
     ]
    },
    {
     "name": "stderr",
     "output_type": "stream",
     "text": [
      " 90%|████████████████████████████████████████████████████████████████████████████████████████████████████████████████████████████████████████████████████████████▌                 | 45/50 [08:59<01:00, 12.12s/it]"
     ]
    },
    {
     "name": "stdout",
     "output_type": "stream",
     "text": [
      "4.072781061549786\n"
     ]
    },
    {
     "name": "stderr",
     "output_type": "stream",
     "text": [
      " 92%|████████████████████████████████████████████████████████████████████████████████████████████████████████████████████████████████████████████████████████████████              | 46/50 [09:11<00:48, 12.04s/it]"
     ]
    },
    {
     "name": "stdout",
     "output_type": "stream",
     "text": [
      "4.021598700908915\n"
     ]
    },
    {
     "name": "stderr",
     "output_type": "stream",
     "text": [
      " 94%|███████████████████████████████████████████████████████████████████████████████████████████████████████████████████████████████████████████████████████████████████▌          | 47/50 [09:23<00:36, 12.03s/it]"
     ]
    },
    {
     "name": "stdout",
     "output_type": "stream",
     "text": [
      "3.7332435879398815\n"
     ]
    },
    {
     "name": "stderr",
     "output_type": "stream",
     "text": [
      " 96%|███████████████████████████████████████████████████████████████████████████████████████████████████████████████████████████████████████████████████████████████████████       | 48/50 [09:34<00:23, 11.98s/it]"
     ]
    },
    {
     "name": "stdout",
     "output_type": "stream",
     "text": [
      "3.967617683508783\n"
     ]
    },
    {
     "name": "stderr",
     "output_type": "stream",
     "text": [
      " 98%|██████████████████████████████████████████████████████████████████████████████████████████████████████████████████████████████████████████████████████████████████████████▌   | 49/50 [09:46<00:11, 11.94s/it]"
     ]
    },
    {
     "name": "stdout",
     "output_type": "stream",
     "text": [
      "3.7410819038482086\n"
     ]
    },
    {
     "name": "stderr",
     "output_type": "stream",
     "text": [
      "100%|██████████████████████████████████████████████████████████████████████████████████████████████████████████████████████████████████████████████████████████████████████████████| 50/50 [09:58<00:00, 11.97s/it]"
     ]
    },
    {
     "name": "stdout",
     "output_type": "stream",
     "text": [
      "3.1543370394600068\n",
      "[2.822044701451429, 3.8221130796227367, 3.0783520167319747, 3.7646822686198527, 2.8148541355135444, 3.802729252166795, 2.579300735041375, 2.3898145907496673, 1.8468125967520272, 2.2535052673137836, 2.460676563476923, 2.7314885208795547, 2.7803125196714302, 2.700760480306185, 2.6026465091343476, 3.1212531362473945, 3.023616299640186, 3.0302477529030343, 3.267912927756576, 3.5824155348247904, 3.2076311564746782, 3.3200100540476556, 3.2972797284457678, 3.6379039067001098, 3.245836985033849, 3.1551514385679065, 3.4423715556377075, 3.621071935119697, 2.7493825523793007, 2.8656680539893977, 2.9509172090951883, 2.902130468260819, 2.6497116117728337, 2.9549770306834144, 3.18963509318617, 3.827102586530552, 2.640248845419098, 3.3515717729086676, 4.069390681891045, 4.029786816940022, 4.152153791586149, 4.233509901398879, 4.30960274970471, 3.07135066545552, 4.072781061549786, 4.021598700908915, 3.7332435879398815, 3.967617683508783, 3.7410819038482086, 3.1543370394600068]\n"
     ]
    },
    {
     "name": "stderr",
     "output_type": "stream",
     "text": [
      "\n"
     ]
    }
   ],
   "source": [
    "from ray.tune.registry import register_env\n",
    "from gymnasium.wrappers import EnvCompatibility\n",
    "from ray.rllib.algorithms.impala import ImpalaConfig\n",
    "from ray.rllib.algorithms.ppo import PPOConfig\n",
    "from gymnasium.wrappers import TimeLimit\n",
    "\n",
    "ray.shutdown()\n",
    "\n",
    "architecture = Architecture()\n",
    "\n",
    "def env_creator(env_config):\n",
    "    return TimeLimit(EnvCompatibility(AcesStepArchitectureEnv(14)), max_episode_steps=10)\n",
    "register_env(\"AcesStepArchitectureEnv\", env_creator)\n",
    "\n",
    "config = (\n",
    "    ImpalaConfig()\n",
    "    .environment(\"AcesStepArchitectureEnv\",disable_env_checking=True)\n",
    "    .rollouts(num_rollout_workers=40,\n",
    "              num_envs_per_worker=5) # Max = 60\n",
    "    .resources(num_gpus=0,\n",
    "               num_cpus_per_worker=1)\n",
    "    .training(entropy_coeff=0.02)\n",
    ")\n",
    "\n",
    "# config['model']['vf_share_layers'] = False\n",
    "config[\"model\"][\"fcnet_hiddens\"] =[64,64]\n",
    "\n",
    "\n",
    "algorithm_10 = config.build()\n",
    "\n",
    "result_10 =[]\n",
    "\n",
    "for j in tqdm(range(50)):\n",
    "    result_train = algorithm_10.train()[\"episode_reward_mean\"]\n",
    "    result_10.append(result_train)\n",
    "    # if (j%100 == 0):\n",
    "    print(result_train)\n",
    "print(result_10)"
   ],
   "metadata": {
    "collapsed": false
   }
  },
  {
   "cell_type": "code",
   "execution_count": 291,
   "outputs": [
    {
     "name": "stderr",
     "output_type": "stream",
     "text": [
      "  2%|████▍                                                                                                                                                                          | 1/40 [00:11<07:39, 11.78s/it]"
     ]
    },
    {
     "name": "stdout",
     "output_type": "stream",
     "text": [
      "4.111654047216755\n"
     ]
    },
    {
     "name": "stderr",
     "output_type": "stream",
     "text": [
      "  5%|████████▊                                                                                                                                                                      | 2/40 [00:23<07:36, 12.01s/it]"
     ]
    },
    {
     "name": "stdout",
     "output_type": "stream",
     "text": [
      "4.238843661850846\n"
     ]
    },
    {
     "name": "stderr",
     "output_type": "stream",
     "text": [
      "  8%|█████████████▏                                                                                                                                                                 | 3/40 [00:36<07:26, 12.08s/it]"
     ]
    },
    {
     "name": "stdout",
     "output_type": "stream",
     "text": [
      "4.319595742451388\n"
     ]
    },
    {
     "name": "stderr",
     "output_type": "stream",
     "text": [
      " 10%|█████████████████▌                                                                                                                                                             | 4/40 [00:48<07:14, 12.06s/it]"
     ]
    },
    {
     "name": "stdout",
     "output_type": "stream",
     "text": [
      "4.243270807718575\n"
     ]
    },
    {
     "name": "stderr",
     "output_type": "stream",
     "text": [
      " 12%|█████████████████████▉                                                                                                                                                         | 5/40 [01:00<07:03, 12.09s/it]"
     ]
    },
    {
     "name": "stdout",
     "output_type": "stream",
     "text": [
      "4.281471224906593\n"
     ]
    },
    {
     "name": "stderr",
     "output_type": "stream",
     "text": [
      " 15%|██████████████████████████▎                                                                                                                                                    | 6/40 [01:12<06:48, 12.01s/it]"
     ]
    },
    {
     "name": "stdout",
     "output_type": "stream",
     "text": [
      "4.172103969832566\n"
     ]
    },
    {
     "name": "stderr",
     "output_type": "stream",
     "text": [
      " 18%|██████████████████████████████▌                                                                                                                                                | 7/40 [01:24<06:36, 12.01s/it]"
     ]
    },
    {
     "name": "stdout",
     "output_type": "stream",
     "text": [
      "4.2400355116654715\n"
     ]
    },
    {
     "name": "stderr",
     "output_type": "stream",
     "text": [
      " 20%|███████████████████████████████████                                                                                                                                            | 8/40 [01:36<06:22, 11.96s/it]"
     ]
    },
    {
     "name": "stdout",
     "output_type": "stream",
     "text": [
      "4.359299583463427\n"
     ]
    },
    {
     "name": "stderr",
     "output_type": "stream",
     "text": [
      " 22%|███████████████████████████████████████▍                                                                                                                                       | 9/40 [01:48<06:12, 12.01s/it]"
     ]
    },
    {
     "name": "stdout",
     "output_type": "stream",
     "text": [
      "4.128586031968799\n"
     ]
    },
    {
     "name": "stderr",
     "output_type": "stream",
     "text": [
      " 25%|███████████████████████████████████████████▌                                                                                                                                  | 10/40 [01:59<05:58, 11.95s/it]"
     ]
    },
    {
     "name": "stdout",
     "output_type": "stream",
     "text": [
      "4.272128911794954\n"
     ]
    },
    {
     "name": "stderr",
     "output_type": "stream",
     "text": [
      " 28%|███████████████████████████████████████████████▊                                                                                                                              | 11/40 [02:11<05:45, 11.93s/it]"
     ]
    },
    {
     "name": "stdout",
     "output_type": "stream",
     "text": [
      "4.275440120714148\n"
     ]
    },
    {
     "name": "stderr",
     "output_type": "stream",
     "text": [
      " 30%|████████████████████████████████████████████████████▏                                                                                                                         | 12/40 [02:23<05:35, 12.00s/it]"
     ]
    },
    {
     "name": "stdout",
     "output_type": "stream",
     "text": [
      "4.276773200010795\n"
     ]
    },
    {
     "name": "stderr",
     "output_type": "stream",
     "text": [
      " 32%|████████████████████████████████████████████████████████▌                                                                                                                     | 13/40 [02:36<05:25, 12.07s/it]"
     ]
    },
    {
     "name": "stdout",
     "output_type": "stream",
     "text": [
      "4.388840678833749\n"
     ]
    },
    {
     "name": "stderr",
     "output_type": "stream",
     "text": [
      " 35%|████████████████████████████████████████████████████████████▉                                                                                                                 | 14/40 [02:48<05:13, 12.05s/it]"
     ]
    },
    {
     "name": "stdout",
     "output_type": "stream",
     "text": [
      "4.166007728358447\n"
     ]
    },
    {
     "name": "stderr",
     "output_type": "stream",
     "text": [
      " 38%|█████████████████████████████████████████████████████████████████▎                                                                                                            | 15/40 [03:00<05:00, 12.04s/it]"
     ]
    },
    {
     "name": "stdout",
     "output_type": "stream",
     "text": [
      "4.351733266278402\n"
     ]
    },
    {
     "name": "stderr",
     "output_type": "stream",
     "text": [
      " 40%|█████████████████████████████████████████████████████████████████████▌                                                                                                        | 16/40 [03:12<04:50, 12.09s/it]"
     ]
    },
    {
     "name": "stdout",
     "output_type": "stream",
     "text": [
      "4.228157441895923\n"
     ]
    },
    {
     "name": "stderr",
     "output_type": "stream",
     "text": [
      " 42%|█████████████████████████████████████████████████████████████████████████▉                                                                                                    | 17/40 [03:24<04:38, 12.10s/it]"
     ]
    },
    {
     "name": "stdout",
     "output_type": "stream",
     "text": [
      "4.2761349362301155\n"
     ]
    },
    {
     "name": "stderr",
     "output_type": "stream",
     "text": [
      " 45%|██████████████████████████████████████████████████████████████████████████████▎                                                                                               | 18/40 [03:36<04:25, 12.08s/it]"
     ]
    },
    {
     "name": "stdout",
     "output_type": "stream",
     "text": [
      "4.314739351659834\n"
     ]
    },
    {
     "name": "stderr",
     "output_type": "stream",
     "text": [
      " 48%|██████████████████████████████████████████████████████████████████████████████████▋                                                                                           | 19/40 [03:48<04:12, 12.03s/it]"
     ]
    },
    {
     "name": "stdout",
     "output_type": "stream",
     "text": [
      "4.25173300091734\n"
     ]
    },
    {
     "name": "stderr",
     "output_type": "stream",
     "text": [
      " 50%|███████████████████████████████████████████████████████████████████████████████████████                                                                                       | 20/40 [04:00<03:59, 11.98s/it]"
     ]
    },
    {
     "name": "stdout",
     "output_type": "stream",
     "text": [
      "4.3674232441383705\n"
     ]
    },
    {
     "name": "stderr",
     "output_type": "stream",
     "text": [
      " 52%|███████████████████████████████████████████████████████████████████████████████████████████▎                                                                                  | 21/40 [04:12<03:49, 12.10s/it]"
     ]
    },
    {
     "name": "stdout",
     "output_type": "stream",
     "text": [
      "4.366249908295349\n"
     ]
    },
    {
     "name": "stderr",
     "output_type": "stream",
     "text": [
      " 55%|███████████████████████████████████████████████████████████████████████████████████████████████▋                                                                              | 22/40 [04:24<03:36, 12.05s/it]"
     ]
    },
    {
     "name": "stdout",
     "output_type": "stream",
     "text": [
      "4.302535181314718\n"
     ]
    },
    {
     "name": "stderr",
     "output_type": "stream",
     "text": [
      " 57%|████████████████████████████████████████████████████████████████████████████████████████████████████                                                                          | 23/40 [04:36<03:23, 11.98s/it]"
     ]
    },
    {
     "name": "stdout",
     "output_type": "stream",
     "text": [
      "4.302156260009995\n"
     ]
    },
    {
     "name": "stderr",
     "output_type": "stream",
     "text": [
      " 60%|████████████████████████████████████████████████████████████████████████████████████████████████████████▍                                                                     | 24/40 [04:48<03:11, 11.99s/it]"
     ]
    },
    {
     "name": "stdout",
     "output_type": "stream",
     "text": [
      "4.3090289663122965\n"
     ]
    },
    {
     "name": "stderr",
     "output_type": "stream",
     "text": [
      " 62%|████████████████████████████████████████████████████████████████████████████████████████████████████████████▊                                                                 | 25/40 [05:00<02:59, 11.98s/it]"
     ]
    },
    {
     "name": "stdout",
     "output_type": "stream",
     "text": [
      "3.8508536461738574\n"
     ]
    },
    {
     "name": "stderr",
     "output_type": "stream",
     "text": [
      " 65%|█████████████████████████████████████████████████████████████████████████████████████████████████████████████████                                                             | 26/40 [05:12<02:47, 11.96s/it]"
     ]
    },
    {
     "name": "stdout",
     "output_type": "stream",
     "text": [
      "2.666406107404092\n"
     ]
    },
    {
     "name": "stderr",
     "output_type": "stream",
     "text": [
      " 68%|█████████████████████████████████████████████████████████████████████████████████████████████████████████████████████▍                                                        | 27/40 [05:24<02:35, 11.94s/it]"
     ]
    },
    {
     "name": "stdout",
     "output_type": "stream",
     "text": [
      "4.092187984029065\n"
     ]
    },
    {
     "name": "stderr",
     "output_type": "stream",
     "text": [
      " 70%|█████████████████████████████████████████████████████████████████████████████████████████████████████████████████████████▊                                                    | 28/40 [05:36<02:23, 11.95s/it]"
     ]
    },
    {
     "name": "stdout",
     "output_type": "stream",
     "text": [
      "3.8883513388055087\n"
     ]
    },
    {
     "name": "stderr",
     "output_type": "stream",
     "text": [
      " 72%|██████████████████████████████████████████████████████████████████████████████████████████████████████████████████████████████▏                                               | 29/40 [05:48<02:11, 11.97s/it]"
     ]
    },
    {
     "name": "stdout",
     "output_type": "stream",
     "text": [
      "4.449086398641403\n"
     ]
    },
    {
     "name": "stderr",
     "output_type": "stream",
     "text": [
      " 75%|██████████████████████████████████████████████████████████████████████████████████████████████████████████████████████████████████▌                                           | 30/40 [06:00<01:59, 11.94s/it]"
     ]
    },
    {
     "name": "stdout",
     "output_type": "stream",
     "text": [
      "4.302230747737446\n"
     ]
    },
    {
     "name": "stderr",
     "output_type": "stream",
     "text": [
      " 78%|██████████████████████████████████████████████████████████████████████████████████████████████████████████████████████████████████████▊                                       | 31/40 [06:12<01:47, 11.93s/it]"
     ]
    },
    {
     "name": "stdout",
     "output_type": "stream",
     "text": [
      "4.351726823643728\n"
     ]
    },
    {
     "name": "stderr",
     "output_type": "stream",
     "text": [
      " 80%|███████████████████████████████████████████████████████████████████████████████████████████████████████████████████████████████████████████▏                                  | 32/40 [06:23<01:34, 11.87s/it]"
     ]
    },
    {
     "name": "stdout",
     "output_type": "stream",
     "text": [
      "4.4388816501680255\n"
     ]
    },
    {
     "name": "stderr",
     "output_type": "stream",
     "text": [
      " 82%|███████████████████████████████████████████████████████████████████████████████████████████████████████████████████████████████████████████████▌                              | 33/40 [06:35<01:23, 11.89s/it]"
     ]
    },
    {
     "name": "stdout",
     "output_type": "stream",
     "text": [
      "4.233805457015369\n"
     ]
    },
    {
     "name": "stderr",
     "output_type": "stream",
     "text": [
      " 85%|███████████████████████████████████████████████████████████████████████████████████████████████████████████████████████████████████████████████████▉                          | 34/40 [06:47<01:11, 11.89s/it]"
     ]
    },
    {
     "name": "stdout",
     "output_type": "stream",
     "text": [
      "4.43943064786281\n"
     ]
    },
    {
     "name": "stderr",
     "output_type": "stream",
     "text": [
      " 88%|████████████████████████████████████████████████████████████████████████████████████████████████████████████████████████████████████████████████████████▎                     | 35/40 [06:59<00:59, 11.96s/it]"
     ]
    },
    {
     "name": "stdout",
     "output_type": "stream",
     "text": [
      "4.447215746876624\n"
     ]
    },
    {
     "name": "stderr",
     "output_type": "stream",
     "text": [
      " 90%|████████████████████████████████████████████████████████████████████████████████████████████████████████████████████████████████████████████████████████████▌                 | 36/40 [07:11<00:47, 11.95s/it]"
     ]
    },
    {
     "name": "stdout",
     "output_type": "stream",
     "text": [
      "4.475521605600016\n"
     ]
    },
    {
     "name": "stderr",
     "output_type": "stream",
     "text": [
      " 92%|████████████████████████████████████████████████████████████████████████████████████████████████████████████████████████████████████████████████████████████████▉             | 37/40 [07:23<00:35, 11.99s/it]"
     ]
    },
    {
     "name": "stdout",
     "output_type": "stream",
     "text": [
      "4.462942153190027\n"
     ]
    },
    {
     "name": "stderr",
     "output_type": "stream",
     "text": [
      " 95%|█████████████████████████████████████████████████████████████████████████████████████████████████████████████████████████████████████████████████████████████████████▎        | 38/40 [07:35<00:23, 11.94s/it]"
     ]
    },
    {
     "name": "stdout",
     "output_type": "stream",
     "text": [
      "4.451791122641516\n"
     ]
    },
    {
     "name": "stderr",
     "output_type": "stream",
     "text": [
      " 98%|█████████████████████████████████████████████████████████████████████████████████████████████████████████████████████████████████████████████████████████████████████████▋    | 39/40 [07:47<00:11, 11.92s/it]"
     ]
    },
    {
     "name": "stdout",
     "output_type": "stream",
     "text": [
      "4.285440413145806\n"
     ]
    },
    {
     "name": "stderr",
     "output_type": "stream",
     "text": [
      "100%|██████████████████████████████████████████████████████████████████████████████████████████████████████████████████████████████████████████████████████████████████████████████| 40/40 [07:59<00:00, 11.98s/it]"
     ]
    },
    {
     "name": "stdout",
     "output_type": "stream",
     "text": [
      "4.204643192497088\n"
     ]
    },
    {
     "name": "stderr",
     "output_type": "stream",
     "text": [
      "\n"
     ]
    }
   ],
   "source": [
    "for j in tqdm(range(40)):\n",
    "    result_train = algorithm_first.train()[\"episode_reward_mean\"]\n",
    "    result_first.append(result_train)\n",
    "    # if (j%20 == 0):\n",
    "    print(result_train)\n",
    "# print(result_first)"
   ],
   "metadata": {
    "collapsed": false
   }
  },
  {
   "cell_type": "code",
   "execution_count": 292,
   "outputs": [
    {
     "data": {
      "text/plain": "[<matplotlib.lines.Line2D at 0x7f3335d8eef0>]"
     },
     "execution_count": 292,
     "metadata": {},
     "output_type": "execute_result"
    },
    {
     "data": {
      "text/plain": "<Figure size 640x480 with 1 Axes>",
      "image/png": "[encoded data removed]"
     },
     "metadata": {},
     "output_type": "display_data"
    }
   ],
   "source": [
    "plt.plot(result_first)"
   ],
   "metadata": {
    "collapsed": false
   }
  },
  {
   "cell_type": "code",
   "execution_count": 103,
   "outputs": [
    {
     "data": {
      "text/plain": "[<matplotlib.lines.Line2D at 0x7fbc2f63f730>]"
     },
     "execution_count": 103,
     "metadata": {},
     "output_type": "execute_result"
    },
    {
     "data": {
      "text/plain": "<Figure size 640x480 with 1 Axes>",
      "image/png": "[encoded data removed]"
     },
     "metadata": {},
     "output_type": "display_data"
    }
   ],
   "source": [
    "plt.plot(result_first)"
   ],
   "metadata": {
    "collapsed": false
   }
  },
  {
   "cell_type": "code",
   "execution_count": 73,
   "outputs": [
    {
     "data": {
      "text/plain": "[<matplotlib.lines.Line2D at 0x7fbc77452050>]"
     },
     "execution_count": 73,
     "metadata": {},
     "output_type": "execute_result"
    },
    {
     "data": {
      "text/plain": "<Figure size 640x480 with 1 Axes>",
      "image/png": "[encoded data removed]"
     },
     "metadata": {},
     "output_type": "display_data"
    }
   ],
   "source": [
    "plt.plot(result_first)\n",
    "# len(result_first)"
   ],
   "metadata": {
    "collapsed": false
   }
  },
  {
   "cell_type": "code",
   "execution_count": 293,
   "outputs": [
    {
     "data": {
      "text/plain": "{0: [9, 10], 1: [3, 4], 2: [7, 8], 3: [0]}"
     },
     "execution_count": 293,
     "metadata": {},
     "output_type": "execute_result"
    }
   ],
   "source": [
    "test_architecture = AcesStepArchitectureEnv(14)\n",
    "test_architecture.architecture.clusters"
   ],
   "metadata": {
    "collapsed": false
   }
  },
  {
   "cell_type": "code",
   "execution_count": 75,
   "outputs": [],
   "source": [
    "# checkpoint_path = algorithm_first.save(\"./TFM/algorithms/10stations_600iter\")"
   ],
   "metadata": {
    "collapsed": false
   }
  },
  {
   "cell_type": "code",
   "execution_count": 338,
   "outputs": [
    {
     "name": "stdout",
     "output_type": "stream",
     "text": [
      "{0: 0.3207547169811321, 1: 0.3194706994328923, 2: 0.3194706994328923, 3: 0.600907029478458}\n",
      "2872\n",
      "{0: 0.5018867924528302, 1: 0.500945179584121, 2: 0.500945179584121, 3: 0.7732426303854876}\n",
      "2048\n",
      "[10, 9, 0, 1, 9, 10, 10, 0, 8, 1, 1, 10, 3, 2, 0, 4, 6, 4, 0, 4, 4, 0, 4, 5, 4, 0, 3, 4, 0, 0, 3, 0, 0, 4, 4, 4, 10, 11, 3, 1, 8, 1, 7, 8, 9, 1, 1, 10, 8, 1, 9, 0, 11, 9, 8, 9, 11, 8, 3, 11, 0, 3, 0, 6, 0, 0, 0, 2, 3, 0, 0, 1, 0, 0, 0, 0, 0, 0, 0, 0]\n",
      "[0, 0, 0, 0, 0, 0, 0, 0, 0, 0, 0, 0, 1, 1, 1, 1, 1, 1, 1, 1, 1, 1, 1, 1, 1, 1, 1, 1, 1, 1, 1, 1, 1, 1, 1, 1, 2, 2, 2, 2, 2, 2, 2, 2, 2, 2, 2, 2, 2, 2, 2, 2, 2, 2, 2, 2, 2, 2, 2, 2, 3, 3, 3, 3, 3, 3, 3, 3, 3, 3, 3, 3, 3, 3, 3, 3, 3, 3, 3, 3]\n",
      "{0: 0.6754716981132076, 1: 0.7509433962264151, 2: 0.7962264150943397, 3: 0.6, 4: 0.5622641509433962, 5: 0.8914027149321266, 6: 0.9547511312217195}\n",
      "1266\n"
     ]
    }
   ],
   "source": [
    "obs = test_architecture.reset()\n",
    "test_architecture.architecture.round_robin()\n",
    "print(test_architecture.architecture.compute_normalized_latency_dict())\n",
    "print(test_architecture.architecture.compute_total_latency())\n",
    "test_architecture.architecture.greedy_server()\n",
    "print(test_architecture.architecture.compute_normalized_latency_dict())\n",
    "print(test_architecture.architecture.compute_total_latency())\n",
    "# test_architecture.architecture.greedy_algorithm()\n",
    "# print(test_architecture.architecture.compute_normalized_latency_dict())\n",
    "# print(test_architecture.architecture.compute_total_latency())\n",
    "iteration = {}\n",
    "allocation = []\n",
    "types = []\n",
    "for i in range(10):\n",
    "    action = algorithm_first.compute_single_action(obs)\n",
    "    output = test_architecture.step(action)\n",
    "    obs = output[0]\n",
    "    # print(output)\n",
    "    type = output[3]['type']\n",
    "    iteration[i] = output[1]\n",
    "    if type==0:\n",
    "        for i in range(12):\n",
    "            allocation.append(action[i])\n",
    "            types.append(0)\n",
    "    elif type==1:\n",
    "        for i in range(12):\n",
    "            allocation.append(action[i])\n",
    "            types.append(1)\n",
    "    elif type==2:\n",
    "        for i in range(12):\n",
    "            allocation.append(action[i])\n",
    "            types.append(2)\n",
    "    else:\n",
    "        for i in range(10):\n",
    "            allocation.append(action[i])\n",
    "            types.append(3)\n",
    "    if output[2]:\n",
    "        break\n",
    "\n",
    "print(allocation)\n",
    "print(types)\n",
    "test_architecture.architecture.false_data_allocation = allocation\n",
    "test_architecture.architecture.false_data_types = types\n",
    "test_architecture.architecture.false_construct_dictionaries()\n",
    "print(iteration)\n",
    "print(test_architecture.architecture.false_compute_total_latency())"
   ],
   "metadata": {
    "collapsed": false
   }
  },
  {
   "cell_type": "code",
   "execution_count": 270,
   "outputs": [
    {
     "data": {
      "text/plain": "80"
     },
     "execution_count": 270,
     "metadata": {},
     "output_type": "execute_result"
    }
   ],
   "source": [
    "len([0, 0, 0, 0, 0, 0, 0, 0, 0, 0, 0, 0, 1, 1, 1, 1, 1, 1, 1, 1, 1, 1, 1, 1, 1, 1, 1, 1, 1, 1, 1, 1, 1, 1, 1, 1, 2, 2, 2, 2, 2, 2, 2, 2, 2, 2, 2, 2, 2, 2, 2, 2, 2, 2, 2, 2, 2, 2, 2, 2, 3, 3, 3, 3, 3, 3, 3, 3, 3, 3, 3, 3, 3, 3, 3, 3, 3, 3, 3, 3])"
   ],
   "metadata": {
    "collapsed": false
   }
  }
 ],
 "metadata": {
  "kernelspec": {
   "display_name": "Python 3",
   "language": "python",
   "name": "python3"
  },
  "language_info": {
   "codemirror_mode": {
    "name": "ipython",
    "version": 2
   },
   "file_extension": ".py",
   "mimetype": "text/x-python",
   "name": "python",
   "nbconvert_exporter": "python",
   "pygments_lexer": "ipython2",
   "version": "2.7.6"
  }
 },
 "nbformat": 4,
 "nbformat_minor": 0
}
