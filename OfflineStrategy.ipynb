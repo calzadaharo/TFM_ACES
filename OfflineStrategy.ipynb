{
 "cells": [
  {
   "cell_type": "code",
   "execution_count": 1,
   "metadata": {
    "collapsed": true
   },
   "outputs": [],
   "source": [
    "from gymnasium import Env\n",
    "from gymnasium.spaces import Box, Dict, Discrete\n",
    "from ray.rllib.utils.spaces.repeated import Repeated\n",
    "import random\n",
    "import numpy as np\n",
    "import matplotlib.pyplot as plt\n",
    "from tqdm import tqdm\n",
    "import networkx as nx\n",
    "from copy import copy"
   ]
  },
  {
   "cell_type": "code",
   "execution_count": 2,
   "outputs": [],
   "source": [
    "class Architecture:\n",
    "    def __init__(self):\n",
    "        self.c_capacity, self.s_capacity = 50, 2\n",
    "        self.weights = [0.0125, 0.0010, 0.0200, 0.5000] # REVIEW\n",
    "        self.lifetime = {0: 1, 1: 2, 2: 3, 3: 10}   # REVIEW\n",
    "        self.max_actions = 10\n",
    "        self.num_c = 2\n",
    "        self.num_s = 6\n",
    "        self.max_actions = 10\n",
    "        self.min_free_space = 0.2\n",
    "        self.space_flag = -1\n",
    "\n",
    "        self.data_types = []\n",
    "        self.data_allocation = []\n",
    "        self.data_times = []\n",
    "\n",
    "        self.data = {}\n",
    "        self.devices = {}\n",
    "        self.latencies = {}\n",
    "        self.max_latencies = {}\n",
    "\n",
    "        self.action_device = []\n",
    "        self.action_type = []\n",
    "\n",
    "        for j in (range(len(self.weights))):\n",
    "            self.data[j] = {}\n",
    "            for i in range(self.num_s+self.num_c):\n",
    "                self.data[j][i] = 0\n",
    "                self.devices[i] = {0: 0, 1: 0, 2: 0, 3: 0}\n",
    "                self.latencies[i] = {}\n",
    "                self.max_latencies[i] = {}\n",
    "\n",
    "        for i in self.latencies.keys():\n",
    "            for j in self.latencies.keys():\n",
    "                self.latencies[i][j] = 0\n",
    "                self.max_latencies[i][j] = 0\n",
    "\n",
    "        randomized = list(self.devices.keys())\n",
    "        random.shuffle(randomized)\n",
    "        bound = round(len(self.devices)/4)\n",
    "        self.clusters = {\n",
    "            0: randomized[:bound],\n",
    "            1: randomized[bound:bound*2],\n",
    "            2: randomized[bound*2:bound*3],\n",
    "            3: randomized[bound*3:]\n",
    "        }\n",
    "        self.visualization()\n",
    "\n",
    "    def construct_dictionaries(self):\n",
    "        for i in self.data:\n",
    "            for j in self.data[i]:\n",
    "                self.data[i][j] = 0\n",
    "        for i in self.devices:\n",
    "            for j in self.devices[i]:\n",
    "                self.devices[i][j] = 0\n",
    "        for device, d_type in zip(self.data_allocation, self.data_types):\n",
    "            self.data[d_type][device] += 1\n",
    "            self.devices[device][d_type] += 1\n",
    "\n",
    "    def update(self, data_type, device):\n",
    "        self.data_types.append(data_type)\n",
    "        self.data_allocation.append(device)\n",
    "        self.data_times.append(0)\n",
    "        self.devices[device][data_type] += 1\n",
    "        self.data[data_type][device] += 1\n",
    "\n",
    "    def heart_beat(self):\n",
    "        deads = []\n",
    "        for i in range(len(self.data_times)):\n",
    "            self.data_times[i] += 1\n",
    "            if self.data_times[i] == self.lifetime[self.data_types[i]]:\n",
    "                deads.append(i)\n",
    "\n",
    "        removed = 0\n",
    "        for i in deads:\n",
    "            self.devices[self.data_allocation[i-removed]][self.data_types[i-removed]] -= 1\n",
    "            self.data[self.data_types[i-removed]][self.data_allocation[i-removed]] -= 1\n",
    "            self.data_types.pop(i - removed)\n",
    "            self.data_allocation.pop(i - removed)\n",
    "            self.data_times.pop(i - removed)\n",
    "            removed += 1\n",
    "\n",
    "    def free_space(self):\n",
    "        load = {}\n",
    "        for i in range(self.num_c + self.num_s):\n",
    "            if i < self.num_c:\n",
    "                load[i] = (self.c_capacity - sum([a*b for a,b in zip(list(self.devices[i].values()), self.weights)]))/self.c_capacity\n",
    "            else:\n",
    "                load[i] = (self.s_capacity - sum([a*b for a,b in zip(list(self.devices[i].values()), self.weights)]))/self.s_capacity\n",
    "            if load[i] <= self.min_free_space:\n",
    "                self.space_flag = i\n",
    "        return load\n",
    "\n",
    "    def reduce_type(self, data_type):\n",
    "        max_time = 0\n",
    "        positions = []\n",
    "        for i in range(len(self.data_allocation)):\n",
    "            if self.data_types[i] == data_type:\n",
    "                if self.data_times[i] > max_time:\n",
    "                    max_time = self.data_times[i]\n",
    "                    positions = []\n",
    "                    positions.append(i)\n",
    "                elif self.data_times[i] == max_time:\n",
    "                    positions.append(i)\n",
    "\n",
    "        removed = 0\n",
    "        for i in positions:\n",
    "            self.devices[self.data_allocation[i-removed]][self.data_types[i-removed]] -= 1\n",
    "            self.data[self.data_types[i-removed]][self.data_allocation[i-removed]] -= 1\n",
    "            self.data_times.pop(i - removed)\n",
    "            self.data_types.pop(i - removed)\n",
    "            self.data_allocation.pop(i -removed)\n",
    "            removed += 1\n",
    "\n",
    "    def check_quantity(self, data_type):\n",
    "        if data_type != 3:\n",
    "            if sum(list(self.data[data_type].values())) > 2*(self.num_s + self.num_c):\n",
    "                self.reduce_type(data_type)\n",
    "        else:\n",
    "            if sum(list(self.data[data_type].values())) > 2*self.num_s:\n",
    "                self.reduce_type(data_type)\n",
    "\n",
    "    def visualization(self):\n",
    "        keys = list(self.devices.keys())\n",
    "        cs = keys[:self.num_c]\n",
    "        ss = keys[self.num_c:]\n",
    "\n",
    "        colors = []\n",
    "        sizes = []\n",
    "\n",
    "        graph = nx.Graph()\n",
    "\n",
    "        colors.append('lightblue')\n",
    "        sizes.append(1000)\n",
    "        index = 0\n",
    "        for i in range(len(cs)):\n",
    "            if i != len(cs)-1:\n",
    "                colors.append('lightblue')\n",
    "                sizes.append(1000)\n",
    "                graph.add_edge(cs[i],cs[i+1])\n",
    "                graph.add_weighted_edges_from([(cs[i],cs[i+1],10)])\n",
    "                for j in range(int(len(ss)/self.num_c)):\n",
    "                    colors.append('orange')\n",
    "                    sizes.append(100)\n",
    "                    graph.add_edge(cs[i],ss[index])\n",
    "                    graph.add_weighted_edges_from([(cs[i],ss[index],4)])\n",
    "                    index += 1\n",
    "            else:\n",
    "                graph.add_edge(cs[i],cs[0])\n",
    "                graph.add_weighted_edges_from([(cs[i],cs[0],10)])\n",
    "                for j in range(int(len(ss)/self.num_c)+len(ss)%self.num_c):\n",
    "                    graph.add_edge(cs[i],ss[index])\n",
    "                    graph.add_weighted_edges_from([(cs[i],ss[index],4)])\n",
    "                    colors.append('orange')\n",
    "                    sizes.append(100)\n",
    "                    index += 1\n",
    "\n",
    "        pos = nx.spring_layout(graph)  # Position nodes using a spring layout algorithm\n",
    "        # nx.draw(graph, pos, with_labels=True, node_size=sizes, node_color=colors, font_weight=12, font_color='black', edge_color='gray')\n",
    "        edge_labels = nx.get_edge_attributes(graph, 'weight')\n",
    "        # nx.draw_networkx_edge_labels(graph, pos, edge_labels=edge_labels)\n",
    "\n",
    "        # plt.title(\"Architecture:\")\n",
    "        # plt.axis('off')\n",
    "        # plt.show()\n",
    "\n",
    "        for u in graph.nodes:\n",
    "            shortest_paths = nx.shortest_path_length(graph, source=u, weight='weight')\n",
    "            for v, weight in shortest_paths.items():\n",
    "                self.latencies[u][v] = weight\n",
    "\n",
    "        max_latency = self.latencies[self.num_c][self.num_c+self.num_s-1]\n",
    "        for i in self.max_latencies.keys():\n",
    "            for j in self.max_latencies[i].keys():\n",
    "                self.max_latencies[i][j] = max_latency\n",
    "\n",
    "    def compute_total_latency(self):\n",
    "        total_latency = 0\n",
    "        for i in range(len(self.action_type)):\n",
    "            total_latency += sum([a*b for a,b in zip(self.data[self.action_type[i]].values(), self.latencies[self.action_device[i]].values())])\n",
    "        return total_latency\n",
    "\n",
    "    def compute_normalized_latency(self):\n",
    "        total_latency = 0\n",
    "        max_latency = 0\n",
    "        for i in range(len(self.action_type)):\n",
    "            total_latency += sum([a*b for a,b in zip(self.data[self.action_type[i]].values(), self.latencies[self.action_device[i]].values())])\n",
    "            max_latency += sum([a*b for a,b in zip(self.data[self.action_type[i]].values(), self.max_latencies[self.action_device[i]].values())])\n",
    "        return total_latency/(max_latency+1)\n",
    "\n",
    "    def rl_update(self, new_allocation):\n",
    "        self.data_allocation = new_allocation\n",
    "        self.construct_dictionaries()\n",
    "        return self.free_space()\n",
    "\n",
    "    def generate(self, operation):\n",
    "        if operation == 0 or operation == 1 or operation == 2:\n",
    "            for i in range(self.num_s + self.num_c):\n",
    "                self.update(operation,i)\n",
    "            self.check_quantity(operation)\n",
    "        elif operation == 3:\n",
    "            for i in range(self.num_c,(self.num_c + self.num_s)):\n",
    "                self.update(operation,i)\n",
    "            self.check_quantity(operation)\n",
    "        else:\n",
    "            device=random.sample(self.clusters[operation - 10],1)\n",
    "            self.action_device.append(device[0])\n",
    "            self.action_type.append(operation-10)\n",
    "            difference = len(self.action_device) - self.max_actions\n",
    "            if difference >= 0:\n",
    "                for i in range(difference):\n",
    "                    self.action_device.pop(0)\n",
    "                    self.action_type.pop(0)\n",
    "\n",
    "    def greedy_algorithm(self):\n",
    "        if self.space_flag == -1:\n",
    "            # print(\"It's ok\")\n",
    "            allocation = []\n",
    "            for i in self.data_types:\n",
    "                allocation.append(random.sample(list(self.clusters[i]),1)[0])\n",
    "            self.data_allocation = allocation.copy()\n",
    "            self.construct_dictionaries()\n",
    "            for i in range(52 - len(allocation)):      # REMEMBER TO CHANGE !!!!!!!!!!!!!!\n",
    "                allocation.append(random.randint(0,self.num_c+self.num_s-1))\n",
    "            return allocation\n",
    "        else:\n",
    "            # print(\"Problem\")\n",
    "            problematic_key = None\n",
    "            for key, value in self.clusters.items():\n",
    "                if self.space_flag in value:\n",
    "                    problematic_key = key\n",
    "                    break\n",
    "            for i in range(self.num_c):\n",
    "                self.clusters[problematic_key].append(i)\n",
    "            self.space_flag = -1\n",
    "            return self.greedy_algorithm()\n"
   ],
   "metadata": {
    "collapsed": false
   }
  },
  {
   "cell_type": "code",
   "execution_count": 27,
   "outputs": [
    {
     "name": "stdout",
     "output_type": "stream",
     "text": [
      "52\n",
      "52\n",
      "52\n",
      "52\n",
      "52\n",
      "52\n",
      "52\n",
      "52\n",
      "52\n"
     ]
    }
   ],
   "source": [
    "executions = [[0,1,2,10],\n",
    "              [0,1,2,11],\n",
    "              [0,1,2,12],\n",
    "              [0,1,2,3],\n",
    "              [0,1,2,10],\n",
    "              [0,1,2,11],\n",
    "              [0,1,2,12],\n",
    "              [0,1,2,3],\n",
    "              [0,1,2,13]]\n",
    "architecture = Architecture()\n",
    "\n",
    "for j in executions:\n",
    "    architecture.heart_beat()\n",
    "    for h in j:\n",
    "        architecture.generate(h)\n",
    "    print(len(architecture.greedy_algorithm()))"
   ],
   "metadata": {
    "collapsed": false
   }
  },
  {
   "cell_type": "code",
   "execution_count": 3,
   "outputs": [],
   "source": [
    "class AcesArchitectureEnv(Env):\n",
    "    def __init__(self, maximum_data):\n",
    "        self.architecture = Architecture()\n",
    "        self.executions = [[0,1,2,10],\n",
    "                           [0,1,2,11],\n",
    "                           [0,1,2,12],\n",
    "                           [0,1,2,3],\n",
    "                           [0,1,2,10],\n",
    "                           [0,1,2,11],\n",
    "                           [0,1,2,12],\n",
    "                           [0,1,2,3],\n",
    "                           [0,1,2,13]]\n",
    "        self.execution_index = 0\n",
    "        self.num_devices = len(self.architecture.devices.keys())\n",
    "        self.maximum_data = maximum_data\n",
    "\n",
    "        self.weigths = self.architecture.weights\n",
    "        self.allocation = self.architecture.data_allocation\n",
    "        self.data_types = self.architecture.data_types\n",
    "        self.free_space = list(self.architecture.free_space().values())\n",
    "        self.last_calls_type = self.architecture.action_type\n",
    "        self.last_calls_device = self.architecture.action_device\n",
    "\n",
    "        self.observation_space = Dict({\n",
    "            \"weights\": Box(low=0, high=1, shape=(4,), dtype=np.float32),\n",
    "            \"allocation\": Box(low=-1, high=self.num_devices-1, shape=(maximum_data,), dtype=np.int32),\n",
    "            \"data_type\": Box(low=-1, high=3, shape=(maximum_data,), dtype=np.int32),\n",
    "            \"free_space\": Box(low=-10, high=1, shape=(self.num_devices,), dtype=np.float32),\n",
    "            \"last_calls_type\": Box(low=-1, high=13, shape=(10,), dtype=np.int32),\n",
    "            \"last_calls_device\": Box(low=-1, high=self.num_devices-1, shape=(10,), dtype=np.int32)\n",
    "        })\n",
    "\n",
    "        self.action_space = Box(low=0, high=self.num_devices-1, shape=(maximum_data,), dtype=np.int32)\n",
    "\n",
    "        self.allocation_length = len(self.allocation)\n",
    "\n",
    "        self.reward = 0\n",
    "\n",
    "    def get_obs(self):\n",
    "\n",
    "        return {\n",
    "            \"weights\": np.array(self.weigths),\n",
    "            \"allocation\": np.array(self.allocation),\n",
    "            \"data_type\": np.array(self.data_types),\n",
    "            \"free_space\": np.array(self.free_space),\n",
    "            \"last_calls_type\": np.array(self.last_calls_type),\n",
    "            \"last_calls_device\": np.array(self.last_calls_device)\n",
    "        }\n",
    "\n",
    "    def step(self,action):\n",
    "        self.architecture.data_allocation = list(action[:self.allocation_length])\n",
    "        self.allocation[:self.allocation_length] = list(action[:self.allocation_length])\n",
    "        self.architecture.construct_dictionaries()\n",
    "        normalized_latency = self.architecture.compute_normalized_latency()\n",
    "        # normalized_latency = 0\n",
    "        self.free_space = list(self.architecture.free_space().values())\n",
    "\n",
    "        # flag = False\n",
    "        # for i in self.free_space:\n",
    "        #     if i <= self.architecture.min_free_space:\n",
    "        #         flag = True\n",
    "        #         break\n",
    "        #\n",
    "        # if flag:\n",
    "        #     self.reward = -3\n",
    "        # else:\n",
    "        #     w1 = 2\n",
    "        #     w2 = 1\n",
    "        #     std = np.std(self.free_space)\n",
    "        #     self.reward = w1*(1 - normalized_latency) + w2*(1-std)\n",
    "        self.reward = (1 - normalized_latency) - 0.5\n",
    "\n",
    "        done = True\n",
    "        info = {}\n",
    "\n",
    "        return self.get_obs(), self.reward, done, info\n",
    "\n",
    "    def reset(self):\n",
    "        if self.reward < -10:\n",
    "            return self.get_obs()\n",
    "        else:\n",
    "            self.architecture.heart_beat()\n",
    "            for execution in self.executions[self.execution_index]:\n",
    "                self.architecture.generate(execution)\n",
    "            self.allocation = self.architecture.data_allocation.copy()\n",
    "            self.data_types = self.architecture.data_types.copy()\n",
    "            self.allocation_length = len(self.allocation)\n",
    "            for minus_one in range(self.maximum_data - len(self.allocation)):\n",
    "                self.allocation.append(-1)\n",
    "                self.data_types.append(-1)\n",
    "            self.free_space = list(self.architecture.free_space().values())\n",
    "            self.last_calls_type = self.architecture.action_type.copy()\n",
    "            self.last_calls_device = self.architecture.action_device.copy()\n",
    "            for minus_one in range(10 - len(self.last_calls_type)):\n",
    "                self.last_calls_type.append(-1)\n",
    "                self.last_calls_device.append(-1)\n",
    "\n",
    "            self.execution_index = self.execution_index +1 if self.execution_index <= len(self.executions) - 2 else 0\n",
    "            return self.get_obs()\n",
    "\n",
    "    def close(self):\n",
    "        print('CLOSED')"
   ],
   "metadata": {
    "collapsed": false
   }
  },
  {
   "cell_type": "code",
   "execution_count": 4,
   "outputs": [
    {
     "name": "stderr",
     "output_type": "stream",
     "text": [
      "2023-06-07 12:44:23,008\tWARNING env.py:156 -- Your env doesn't have a .spec.max_episode_steps attribute. Your horizon will default to infinity, and your environment will not be reset.\n",
      "2023-06-07 12:44:23,008\tWARNING env.py:166 -- Your env reset() method appears to take 'seed' or 'return_info' arguments. Note that these are not yet supported in RLlib. Seeding will take place using 'env.seed()' and the info dict will not be returned from reset.\n"
     ]
    }
   ],
   "source": [
    "from ray.rllib.utils import check_env\n",
    "from gymnasium.wrappers import TimeLimit\n",
    "from gymnasium.wrappers import EnvCompatibility\n",
    "\n",
    "check_env(TimeLimit(EnvCompatibility(AcesArchitectureEnv(52)), max_episode_steps=10))"
   ],
   "metadata": {
    "collapsed": false
   }
  },
  {
   "cell_type": "code",
   "execution_count": 38,
   "outputs": [
    {
     "name": "stdout",
     "output_type": "stream",
     "text": [
      "The preprocessor is <ray.rllib.models.preprocessors.DictFlatteningPreprocessor object at 0x7ff16d7a24a0>\n"
     ]
    },
    {
     "name": "stderr",
     "output_type": "stream",
     "text": [
      "100%|███████████████████████████████████████████████████████████████████████████████████████████████████████| 100000/100000 [00:49<00:00, 2024.81it/s]\n"
     ]
    }
   ],
   "source": [
    "# __sphinx_doc_begin__\n",
    "import gymnasium as gym\n",
    "import numpy as np\n",
    "import os\n",
    "\n",
    "import ray._private.utils\n",
    "\n",
    "from ray.rllib.models.preprocessors import get_preprocessor\n",
    "from ray.rllib.evaluation.sample_batch_builder import SampleBatchBuilder\n",
    "from ray.rllib.offline.json_writer import JsonWriter\n",
    "\n",
    "if __name__ == \"__main__\":\n",
    "    batch_builder = SampleBatchBuilder()  # or MultiAgentSampleBatchBuilder\n",
    "    writer = JsonWriter(\n",
    "        # \"TFM/datasets/offline/100000\"\n",
    "        os.path.join(ray._private.utils.get_user_temp_dir(), \"100000\")\n",
    "    )\n",
    "\n",
    "    # You normally wouldn't want to manually create sample batches if a\n",
    "    # simulator is available, but let's do it anyways for example purposes:\n",
    "    env = AcesArchitectureEnv(52)\n",
    "\n",
    "    # RLlib uses preprocessors to implement transforms such as one-hot encoding\n",
    "    # and flattening of tuple and dict observations. For CartPole a no-op\n",
    "    # preprocessor is used, but this may be relevant for more complex envs.\n",
    "    prep = get_preprocessor(env.observation_space)(env.observation_space)\n",
    "    print(\"The preprocessor is\", prep)\n",
    "\n",
    "    for eps_id in tqdm(range(100000)):\n",
    "        obs, info = env.reset(), {}\n",
    "        prev_action = np.zeros_like(env.action_space.sample())\n",
    "        prev_reward = 0\n",
    "        terminated = truncated = False\n",
    "        t = 0\n",
    "        while not terminated and not truncated:\n",
    "            # action = env.action_space.sample()\n",
    "            action = env.architecture.greedy_algorithm()\n",
    "            new_obs, rew, terminated, info = env.step(action)\n",
    "            batch_builder.add_values(\n",
    "                t=t,\n",
    "                eps_id=eps_id,\n",
    "                agent_index=0,\n",
    "                obs=prep.transform(obs),\n",
    "                actions=action,\n",
    "                action_prob=0.1,  # put the true action probability here\n",
    "                action_logp=np.log(0.1),\n",
    "                rewards=rew,\n",
    "                prev_actions=prev_action,\n",
    "                prev_rewards=prev_reward,\n",
    "                terminateds=terminated,\n",
    "                truncateds=truncated,\n",
    "                infos=info,\n",
    "                new_obs=prep.transform(new_obs)\n",
    "            )\n",
    "            obs = new_obs\n",
    "            prev_action = action\n",
    "            prev_reward = rew\n",
    "            t += 1\n",
    "        # writer.write(batch_builder.build_and_reset())\n",
    "# __sphinx_doc_end__"
   ],
   "metadata": {
    "collapsed": false
   }
  },
  {
   "cell_type": "code",
   "execution_count": 10,
   "outputs": [
    {
     "name": "stderr",
     "output_type": "stream",
     "text": [
      "2023-06-07 13:33:44,078\tWARNING deprecation.py:50 -- DeprecationWarning: `MARWIL used to have off_policy_estimation_methods is and wis by default. This haschanged to off_policy_estimation_methods: \\{\\}.If you want to use an off-policy estimator, specify it in.evaluation(off_policy_estimation_methods=...)` has been deprecated. This will raise an error in the future!\n",
      "2023-06-07 13:33:46,653\tINFO worker.py:1553 -- Started a local Ray instance.\n",
      "Exception in thread Thread-318:\n",
      "Traceback (most recent call last):\n",
      "  File \"/usr/lib/python3.10/threading.py\", line 1016, in _bootstrap_inner\n",
      "    self.run()\n",
      "  File \"/home/rcalzada/.local/lib/python3.10/site-packages/ray/rllib/execution/learner_thread.py\", line 74, in run\n",
      "    self.step()\n",
      "  File \"/home/rcalzada/.local/lib/python3.10/site-packages/ray/rllib/execution/multi_gpu_learner_thread.py\", line 143, in step\n",
      "    buffer_idx, released = self.ready_tower_stacks_buffer.get()\n",
      "  File \"/home/rcalzada/.local/lib/python3.10/site-packages/ray/rllib/execution/minibatch_buffer.py\", line 48, in get\n",
      "    self.buffers[self.idx] = self.inqueue.get(timeout=self.timeout)\n",
      "  File \"/usr/lib/python3.10/queue.py\", line 179, in get\n",
      "    raise Empty\n",
      "_queue.Empty\n",
      "\u001B[2m\u001B[36m(RolloutWorker pid=932099)\u001B[0m 2023-06-07 13:33:57,405\tWARNING json_reader.py:261 -- Treating input directory as glob patterns: ['/home/rcalzada/TFM/datasets/online-offline/100/*.json', '/home/rcalzada/TFM/datasets/online-offline/100/*.zip']\n",
      "2023-06-07 13:34:00,273\tWARNING json_reader.py:261 -- Treating input directory as glob patterns: ['/home/rcalzada/TFM/datasets/online-offline/100/*.json', '/home/rcalzada/TFM/datasets/online-offline/100/*.zip']\n",
      "2023-06-07 13:34:07,821\tINFO trainable.py:172 -- Trainable.setup took 23.734 seconds. If your trainable is slow to initialize, consider setting reuse_actors=True to reduce actor creation overheads.\n",
      "2023-06-07 13:34:07,823\tWARNING util.py:67 -- Install gputil for GPU system monitoring.\n",
      " 41%|███████████████████████████████████████████▌                                                              | 4104/10000 [51:02<1:12:54,  1.35it/s]"
     ]
    }
   ],
   "source": [
    "from ray.rllib.algorithms.bc import BCConfig\n",
    "import ray\n",
    "from ray.tune.registry import register_env\n",
    "from gymnasium.wrappers import EnvCompatibility\n",
    "from gymnasium.wrappers import TimeLimit\n",
    "from ray.rllib.utils.test_utils import check_train_results\n",
    "\n",
    "ray.shutdown()\n",
    "\n",
    "def env_creator(env_config):\n",
    "    return TimeLimit(EnvCompatibility(AcesArchitectureEnv(52)), max_episode_steps=10)\n",
    "register_env(\"AcesArchitectureEnv\", env_creator)\n",
    "path = \"TFM/datasets/online-offline/100\"\n",
    "\n",
    "config_bc = (\n",
    "    BCConfig()\n",
    "    .environment(env=\"AcesArchitectureEnv\",disable_env_checking=True)\n",
    "    .offline_data(input_=path)\n",
    "    .training(\n",
    "        train_batch_size=2,\n",
    "        # twin_q=False,\n",
    "    )\n",
    "    .evaluation(\n",
    "        evaluation_interval=5,\n",
    "        evaluation_num_workers=1,\n",
    "        evaluation_duration=5,\n",
    "        evaluation_parallel_to_training=True,\n",
    "        evaluation_config=BCConfig.overrides(input_=\"sampler\"),\n",
    "    )\n",
    "    .rollouts(num_rollout_workers=1)\n",
    ")\n",
    "config_bc['model']['vf_share_layers'] = False\n",
    "config_bc[\"model\"][\"fcnet_hiddens\"] = [256,256,256,256]\n",
    "\n",
    "algorithm_bc = config_bc.build()\n",
    "for i in tqdm(range(10000)):\n",
    "    result = algorithm_bc.train()\n",
    "    check_train_results(result)\n",
    "    # print(result)\n",
    "    eval_results = result.get(\"evaluation\")"
   ],
   "metadata": {
    "collapsed": false
   }
  },
  {
   "cell_type": "code",
   "execution_count": 11,
   "outputs": [],
   "source": [
    "# checkpoint_path = algorithm_bc.save(\"./TFM/algorithms/offline/100000\")"
   ],
   "metadata": {
    "collapsed": false
   }
  },
  {
   "cell_type": "code",
   "execution_count": 31,
   "outputs": [
    {
     "name": "stderr",
     "output_type": "stream",
     "text": [
      "2023-06-07 23:14:58,170\tINFO worker.py:1553 -- Started a local Ray instance.\n",
      "2023-06-07 23:15:19,422\tINFO trainable.py:172 -- Trainable.setup took 24.124 seconds. If your trainable is slow to initialize, consider setting reuse_actors=True to reduce actor creation overheads.\n",
      "2023-06-07 23:15:19,426\tWARNING util.py:67 -- Install gputil for GPU system monitoring.\n",
      "2023-06-07 23:15:20,056\tINFO trainable.py:791 -- Restored on 138.4.11.227 from checkpoint: TFM/algorithms/online_offline_600/checkpoint_000642\n",
      "2023-06-07 23:15:20,058\tINFO trainable.py:800 -- Current state after restoring: {'_iteration': 642, '_timesteps_total': None, '_time_total': 8989.921632528305, '_episodes_total': 63226000}\n",
      "  0%|                                                                                                             | 1/2400 [00:16<10:42:30, 16.07s/it]"
     ]
    },
    {
     "name": "stdout",
     "output_type": "stream",
     "text": [
      "-0.009025297990326085\n"
     ]
    },
    {
     "name": "stderr",
     "output_type": "stream",
     "text": [
      "  4%|████▌                                                                                                       | 101/2400 [25:12<9:28:24, 14.83s/it]"
     ]
    },
    {
     "name": "stdout",
     "output_type": "stream",
     "text": [
      "-0.006655033678296435\n"
     ]
    },
    {
     "name": "stderr",
     "output_type": "stream",
     "text": [
      "  8%|█████████                                                                                                   | 201/2400 [50:06<9:04:32, 14.86s/it]"
     ]
    },
    {
     "name": "stdout",
     "output_type": "stream",
     "text": [
      "-0.006124268634838659\n"
     ]
    },
    {
     "name": "stderr",
     "output_type": "stream",
     "text": [
      " 13%|█████████████▎                                                                                            | 301/2400 [1:14:45<8:35:29, 14.74s/it]"
     ]
    },
    {
     "name": "stdout",
     "output_type": "stream",
     "text": [
      "-0.006194749563681212\n"
     ]
    },
    {
     "name": "stderr",
     "output_type": "stream",
     "text": [
      " 17%|█████████████████▋                                                                                        | 401/2400 [1:39:21<8:22:21, 15.08s/it]"
     ]
    },
    {
     "name": "stdout",
     "output_type": "stream",
     "text": [
      "-0.005876088819455084\n"
     ]
    },
    {
     "name": "stderr",
     "output_type": "stream",
     "text": [
      " 21%|██████████████████████▏                                                                                   | 501/2400 [2:04:02<7:43:07, 14.63s/it]"
     ]
    },
    {
     "name": "stdout",
     "output_type": "stream",
     "text": [
      "-0.005632568724422465\n"
     ]
    },
    {
     "name": "stderr",
     "output_type": "stream",
     "text": [
      " 25%|██████████████████████████▌                                                                               | 601/2400 [2:28:48<7:19:33, 14.66s/it]"
     ]
    },
    {
     "name": "stdout",
     "output_type": "stream",
     "text": [
      "-0.006041180195431309\n"
     ]
    },
    {
     "name": "stderr",
     "output_type": "stream",
     "text": [
      " 29%|██████████████████████████████▉                                                                           | 701/2400 [2:53:32<6:50:38, 14.50s/it]"
     ]
    },
    {
     "name": "stdout",
     "output_type": "stream",
     "text": [
      "-0.005173957344702127\n"
     ]
    },
    {
     "name": "stderr",
     "output_type": "stream",
     "text": [
      " 33%|███████████████████████████████████▍                                                                      | 801/2400 [3:18:04<6:36:14, 14.87s/it]"
     ]
    },
    {
     "name": "stdout",
     "output_type": "stream",
     "text": [
      "-0.004865147787610111\n"
     ]
    },
    {
     "name": "stderr",
     "output_type": "stream",
     "text": [
      " 35%|████████████████████████████████████▊                                                                     | 834/2400 [3:26:32<6:27:49, 14.86s/it]\n"
     ]
    },
    {
     "ename": "OSError",
     "evalue": "[Errno 28] No space left on device",
     "output_type": "error",
     "traceback": [
      "\u001B[0;31m---------------------------------------------------------------------------\u001B[0m",
      "\u001B[0;31mOSError\u001B[0m                                   Traceback (most recent call last)",
      "Cell \u001B[0;32mIn[31], line 36\u001B[0m\n\u001B[1;32m     32\u001B[0m result_03 \u001B[38;5;241m=\u001B[39m[]\n\u001B[1;32m     35\u001B[0m \u001B[38;5;28;01mfor\u001B[39;00m j \u001B[38;5;129;01min\u001B[39;00m tqdm(\u001B[38;5;28mrange\u001B[39m(\u001B[38;5;241m2400\u001B[39m)):\n\u001B[0;32m---> 36\u001B[0m     result_train \u001B[38;5;241m=\u001B[39m \u001B[43malgorithm\u001B[49m\u001B[38;5;241;43m.\u001B[39;49m\u001B[43mtrain\u001B[49m\u001B[43m(\u001B[49m\u001B[43m)\u001B[49m[\u001B[38;5;124m\"\u001B[39m\u001B[38;5;124mepisode_reward_mean\u001B[39m\u001B[38;5;124m\"\u001B[39m]\n\u001B[1;32m     37\u001B[0m     result_03\u001B[38;5;241m.\u001B[39mappend(result_train)\n\u001B[1;32m     38\u001B[0m     \u001B[38;5;28;01mif\u001B[39;00m j \u001B[38;5;241m%\u001B[39m \u001B[38;5;241m100\u001B[39m \u001B[38;5;241m==\u001B[39m \u001B[38;5;241m0\u001B[39m:\n",
      "File \u001B[0;32m~/.local/lib/python3.10/site-packages/ray/tune/trainable/trainable.py:419\u001B[0m, in \u001B[0;36mTrainable.train\u001B[0;34m(self)\u001B[0m\n\u001B[1;32m    416\u001B[0m \u001B[38;5;28;01mif\u001B[39;00m monitor_data:\n\u001B[1;32m    417\u001B[0m     result\u001B[38;5;241m.\u001B[39mupdate(monitor_data)\n\u001B[0;32m--> 419\u001B[0m \u001B[38;5;28;43mself\u001B[39;49m\u001B[38;5;241;43m.\u001B[39;49m\u001B[43mlog_result\u001B[49m\u001B[43m(\u001B[49m\u001B[43mresult\u001B[49m\u001B[43m)\u001B[49m\n\u001B[1;32m    421\u001B[0m \u001B[38;5;28;01mif\u001B[39;00m \u001B[38;5;28mself\u001B[39m\u001B[38;5;241m.\u001B[39m_stdout_context:\n\u001B[1;32m    422\u001B[0m     \u001B[38;5;28mself\u001B[39m\u001B[38;5;241m.\u001B[39m_stdout_stream\u001B[38;5;241m.\u001B[39mflush()\n",
      "File \u001B[0;32m~/.local/lib/python3.10/site-packages/ray/rllib/algorithms/algorithm.py:2101\u001B[0m, in \u001B[0;36mAlgorithm.log_result\u001B[0;34m(self, result)\u001B[0m\n\u001B[1;32m   2099\u001B[0m \u001B[38;5;28mself\u001B[39m\u001B[38;5;241m.\u001B[39mcallbacks\u001B[38;5;241m.\u001B[39mon_train_result(algorithm\u001B[38;5;241m=\u001B[39m\u001B[38;5;28mself\u001B[39m, result\u001B[38;5;241m=\u001B[39mresult)\n\u001B[1;32m   2100\u001B[0m \u001B[38;5;66;03m# Then log according to Trainable's logging logic.\u001B[39;00m\n\u001B[0;32m-> 2101\u001B[0m \u001B[43mTrainable\u001B[49m\u001B[38;5;241;43m.\u001B[39;49m\u001B[43mlog_result\u001B[49m\u001B[43m(\u001B[49m\u001B[38;5;28;43mself\u001B[39;49m\u001B[43m,\u001B[49m\u001B[43m \u001B[49m\u001B[43mresult\u001B[49m\u001B[43m)\u001B[49m\n",
      "File \u001B[0;32m~/.local/lib/python3.10/site-packages/ray/tune/trainable/trainable.py:1243\u001B[0m, in \u001B[0;36mTrainable.log_result\u001B[0;34m(self, result)\u001B[0m\n\u001B[1;32m   1232\u001B[0m \u001B[38;5;28;01mdef\u001B[39;00m \u001B[38;5;21mlog_result\u001B[39m(\u001B[38;5;28mself\u001B[39m, result: Dict):\n\u001B[1;32m   1233\u001B[0m \u001B[38;5;250m    \u001B[39m\u001B[38;5;124;03m\"\"\"Subclasses can optionally override this to customize logging.\u001B[39;00m\n\u001B[1;32m   1234\u001B[0m \n\u001B[1;32m   1235\u001B[0m \u001B[38;5;124;03m    The logging here is done on the worker process rather than\u001B[39;00m\n\u001B[0;32m   (...)\u001B[0m\n\u001B[1;32m   1241\u001B[0m \u001B[38;5;124;03m        result: Training result returned by step().\u001B[39;00m\n\u001B[1;32m   1242\u001B[0m \u001B[38;5;124;03m    \"\"\"\u001B[39;00m\n\u001B[0;32m-> 1243\u001B[0m     \u001B[38;5;28;43mself\u001B[39;49m\u001B[38;5;241;43m.\u001B[39;49m\u001B[43m_result_logger\u001B[49m\u001B[38;5;241;43m.\u001B[39;49m\u001B[43mon_result\u001B[49m\u001B[43m(\u001B[49m\u001B[43mresult\u001B[49m\u001B[43m)\u001B[49m\n",
      "File \u001B[0;32m~/.local/lib/python3.10/site-packages/ray/tune/logger/unified.py:60\u001B[0m, in \u001B[0;36mUnifiedLogger.on_result\u001B[0;34m(self, result)\u001B[0m\n\u001B[1;32m     58\u001B[0m \u001B[38;5;28;01mdef\u001B[39;00m \u001B[38;5;21mon_result\u001B[39m(\u001B[38;5;28mself\u001B[39m, result):\n\u001B[1;32m     59\u001B[0m     \u001B[38;5;28;01mfor\u001B[39;00m _logger \u001B[38;5;129;01min\u001B[39;00m \u001B[38;5;28mself\u001B[39m\u001B[38;5;241m.\u001B[39m_loggers:\n\u001B[0;32m---> 60\u001B[0m         \u001B[43m_logger\u001B[49m\u001B[38;5;241;43m.\u001B[39;49m\u001B[43mon_result\u001B[49m\u001B[43m(\u001B[49m\u001B[43mresult\u001B[49m\u001B[43m)\u001B[49m\n",
      "File \u001B[0;32m~/.local/lib/python3.10/site-packages/ray/tune/logger/csv.py:54\u001B[0m, in \u001B[0;36mCSVLogger.on_result\u001B[0;34m(self, result)\u001B[0m\n\u001B[1;32m     52\u001B[0m     \u001B[38;5;28;01mif\u001B[39;00m \u001B[38;5;129;01mnot\u001B[39;00m \u001B[38;5;28mself\u001B[39m\u001B[38;5;241m.\u001B[39m_continuing:\n\u001B[1;32m     53\u001B[0m         \u001B[38;5;28mself\u001B[39m\u001B[38;5;241m.\u001B[39m_csv_out\u001B[38;5;241m.\u001B[39mwriteheader()\n\u001B[0;32m---> 54\u001B[0m \u001B[38;5;28;43mself\u001B[39;49m\u001B[38;5;241;43m.\u001B[39;49m\u001B[43m_csv_out\u001B[49m\u001B[38;5;241;43m.\u001B[39;49m\u001B[43mwriterow\u001B[49m\u001B[43m(\u001B[49m\n\u001B[1;32m     55\u001B[0m \u001B[43m    \u001B[49m\u001B[43m{\u001B[49m\u001B[43mk\u001B[49m\u001B[43m:\u001B[49m\u001B[43m \u001B[49m\u001B[43mv\u001B[49m\u001B[43m \u001B[49m\u001B[38;5;28;43;01mfor\u001B[39;49;00m\u001B[43m \u001B[49m\u001B[43mk\u001B[49m\u001B[43m,\u001B[49m\u001B[43m \u001B[49m\u001B[43mv\u001B[49m\u001B[43m \u001B[49m\u001B[38;5;129;43;01min\u001B[39;49;00m\u001B[43m \u001B[49m\u001B[43mresult\u001B[49m\u001B[38;5;241;43m.\u001B[39;49m\u001B[43mitems\u001B[49m\u001B[43m(\u001B[49m\u001B[43m)\u001B[49m\u001B[43m \u001B[49m\u001B[38;5;28;43;01mif\u001B[39;49;00m\u001B[43m \u001B[49m\u001B[43mk\u001B[49m\u001B[43m \u001B[49m\u001B[38;5;129;43;01min\u001B[39;49;00m\u001B[43m \u001B[49m\u001B[38;5;28;43mself\u001B[39;49m\u001B[38;5;241;43m.\u001B[39;49m\u001B[43m_csv_out\u001B[49m\u001B[38;5;241;43m.\u001B[39;49m\u001B[43mfieldnames\u001B[49m\u001B[43m}\u001B[49m\n\u001B[1;32m     56\u001B[0m \u001B[43m\u001B[49m\u001B[43m)\u001B[49m\n\u001B[1;32m     57\u001B[0m \u001B[38;5;28mself\u001B[39m\u001B[38;5;241m.\u001B[39m_file\u001B[38;5;241m.\u001B[39mflush()\n",
      "File \u001B[0;32m/usr/lib/python3.10/csv.py:154\u001B[0m, in \u001B[0;36mDictWriter.writerow\u001B[0;34m(self, rowdict)\u001B[0m\n\u001B[1;32m    153\u001B[0m \u001B[38;5;28;01mdef\u001B[39;00m \u001B[38;5;21mwriterow\u001B[39m(\u001B[38;5;28mself\u001B[39m, rowdict):\n\u001B[0;32m--> 154\u001B[0m     \u001B[38;5;28;01mreturn\u001B[39;00m \u001B[38;5;28;43mself\u001B[39;49m\u001B[38;5;241;43m.\u001B[39;49m\u001B[43mwriter\u001B[49m\u001B[38;5;241;43m.\u001B[39;49m\u001B[43mwriterow\u001B[49m\u001B[43m(\u001B[49m\u001B[38;5;28;43mself\u001B[39;49m\u001B[38;5;241;43m.\u001B[39;49m\u001B[43m_dict_to_list\u001B[49m\u001B[43m(\u001B[49m\u001B[43mrowdict\u001B[49m\u001B[43m)\u001B[49m\u001B[43m)\u001B[49m\n",
      "\u001B[0;31mOSError\u001B[0m: [Errno 28] No space left on device"
     ]
    }
   ],
   "source": [
    "from ray.tune.registry import register_env\n",
    "from gymnasium.wrappers import EnvCompatibility\n",
    "from ray.rllib.algorithms.impala import ImpalaConfig\n",
    "from gymnasium.wrappers import TimeLimit\n",
    "import ray\n",
    "\n",
    "ray.shutdown()\n",
    "\n",
    "def env_creator(env_config):\n",
    "    return TimeLimit(EnvCompatibility(AcesArchitectureEnv(52)), max_episode_steps=10)\n",
    "register_env(\"AcesArchitectureEnv\", env_creator)\n",
    "\n",
    "config = (\n",
    "    ImpalaConfig()\n",
    "    .environment(\"AcesArchitectureEnv\",disable_env_checking=True)\n",
    "    .rollouts(num_rollout_workers=30,\n",
    "              num_envs_per_worker=5) # Max = 60\n",
    "    .resources(num_gpus=0,\n",
    "               num_cpus_per_worker=1)\n",
    "    .training(entropy_coeff=0.02)\n",
    ")\n",
    "config['model']['vf_share_layers'] = False\n",
    "config[\"model\"][\"fcnet_hiddens\"] =[256,256,256,256]\n",
    "\n",
    "# algorithm = config.build()\n",
    "# algorithm.set_weights(algorithm_bc.get_weights())\n",
    "# checkpoint_path = algorithm.save()\n",
    "# print(checkpoint_path)\n",
    "algorithm = config.build()\n",
    "algorithm.restore(\"./TFM/algorithms/online_offline_600/checkpoint_000642\")\n",
    "\n",
    "result_03 =[]\n",
    "\n",
    "\n",
    "for j in tqdm(range(2400)):\n",
    "    result_train = algorithm.train()[\"episode_reward_mean\"]\n",
    "    result_03.append(result_train)\n",
    "    if j % 100 == 0:\n",
    "        print(result_train)\n",
    "print(result_03)"
   ],
   "metadata": {
    "collapsed": false
   }
  },
  {
   "cell_type": "code",
   "execution_count": 29,
   "outputs": [],
   "source": [
    "# for j in tqdm(range(2400)):\n",
    "#     result_train = algorithm.train()[\"episode_reward_mean\"]\n",
    "#     result_02.append(result_train)\n",
    "#     if j % 100 == 0:\n",
    "#         print(result_train)\n",
    "# print(result_02)\n",
    "checkpoint_path = algorithm.save(\"./TFM/algorithms/online_offline_600\")"
   ],
   "metadata": {
    "collapsed": false
   }
  },
  {
   "cell_type": "code",
   "execution_count": null,
   "outputs": [],
   "source": [
    "# plt.plot(result)\n",
    "# plt.plot(result_02)\n",
    "plt.plot(result_03)"
   ],
   "metadata": {
    "collapsed": false,
    "pycharm": {
     "is_executing": true
    }
   }
  },
  {
   "cell_type": "code",
   "execution_count": 7,
   "outputs": [
    {
     "name": "stderr",
     "output_type": "stream",
     "text": [
      "2023-06-07 13:02:48,648\tINFO worker.py:1553 -- Started a local Ray instance.\n",
      "2023-06-07 13:03:10,978\tINFO trainable.py:172 -- Trainable.setup took 24.742 seconds. If your trainable is slow to initialize, consider setting reuse_actors=True to reduce actor creation overheads.\n",
      "2023-06-07 13:03:10,982\tWARNING util.py:67 -- Install gputil for GPU system monitoring.\n",
      "100%|███████████████████████████████████████████████████████████████████████████████████████████████████████████████| 100/100 [25:42<00:00, 15.43s/it]\n"
     ]
    },
    {
     "ename": "NameError",
     "evalue": "name 'result' is not defined",
     "output_type": "error",
     "traceback": [
      "\u001B[0;31m---------------------------------------------------------------------------\u001B[0m",
      "\u001B[0;31mNameError\u001B[0m                                 Traceback (most recent call last)",
      "Cell \u001B[0;32mIn[7], line 34\u001B[0m\n\u001B[1;32m     32\u001B[0m     result_online\u001B[38;5;241m.\u001B[39mappend(training_result)\n\u001B[1;32m     33\u001B[0m     \u001B[38;5;66;03m# print(training_result)\u001B[39;00m\n\u001B[0;32m---> 34\u001B[0m \u001B[38;5;28mprint\u001B[39m(\u001B[43mresult\u001B[49m)\n",
      "\u001B[0;31mNameError\u001B[0m: name 'result' is not defined"
     ]
    }
   ],
   "source": [
    "from ray.tune.registry import register_env\n",
    "from gymnasium.wrappers import EnvCompatibility\n",
    "from ray.rllib.algorithms.impala import ImpalaConfig\n",
    "from gymnasium.wrappers import TimeLimit\n",
    "import ray\n",
    "\n",
    "ray.shutdown()\n",
    "\n",
    "def env_creator(env_config):\n",
    "    return TimeLimit(EnvCompatibility(AcesArchitectureEnv(52)), max_episode_steps=10)\n",
    "register_env(\"AcesArchitectureEnv\", env_creator)\n",
    "\n",
    "config = (\n",
    "    ImpalaConfig()\n",
    "    .environment(\"AcesArchitectureEnv\",disable_env_checking=True)\n",
    "    .rollouts(num_rollout_workers=40,\n",
    "              num_envs_per_worker=5) # Max = 60\n",
    "    .resources(num_gpus=0,\n",
    "               num_cpus_per_worker=1)\n",
    "    .training(entropy_coeff=0.02)\n",
    "    .offline_data(output=\"TFM/datasets/online-offline/100\")\n",
    ")\n",
    "# config['model']['vf_share_layers'] = False\n",
    "config[\"model\"][\"fcnet_hiddens\"] =[256,256,256,256]\n",
    "\n",
    "algorithm_online = config.build()\n",
    "\n",
    "result_online =[]\n",
    "for i in tqdm(range(100)):\n",
    "    training_result = algorithm_online.train()[\"episode_reward_mean\"]\n",
    "    # training_result = algorithm_online.train()\n",
    "    result_online.append(training_result)\n",
    "    # print(training_result)\n",
    "print(result_online)"
   ],
   "metadata": {
    "collapsed": false
   }
  },
  {
   "cell_type": "code",
   "execution_count": 14,
   "outputs": [
    {
     "data": {
      "text/plain": "[<matplotlib.lines.Line2D at 0x7f3778df06a0>]"
     },
     "execution_count": 14,
     "metadata": {},
     "output_type": "execute_result"
    },
    {
     "data": {
      "text/plain": "<Figure size 640x480 with 1 Axes>",
      "image/png": "[encoded data removed]"
     },
     "metadata": {},
     "output_type": "display_data"
    }
   ],
   "source": [
    "plt.plot(result_online)"
   ],
   "metadata": {
    "collapsed": false
   }
  },
  {
   "cell_type": "code",
   "execution_count": null,
   "outputs": [],
   "source": [
    "!ls /tmp/probability\n",
    "# !cat /tmp/probability/output-2023-06-07_12-00-58_worker-1_2.json"
   ],
   "metadata": {
    "collapsed": false
   }
  }
 ],
 "metadata": {
  "kernelspec": {
   "display_name": "Python 3",
   "language": "python",
   "name": "python3"
  },
  "language_info": {
   "codemirror_mode": {
    "name": "ipython",
    "version": 2
   },
   "file_extension": ".py",
   "mimetype": "text/x-python",
   "name": "python",
   "nbconvert_exporter": "python",
   "pygments_lexer": "ipython2",
   "version": "2.7.6"
  }
 },
 "nbformat": 4,
 "nbformat_minor": 0
}
