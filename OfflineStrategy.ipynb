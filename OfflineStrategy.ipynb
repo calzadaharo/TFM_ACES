{
 "cells": [
  {
   "cell_type": "code",
   "execution_count": 1,
   "metadata": {
    "collapsed": true
   },
   "outputs": [],
   "source": [
    "from gymnasium import Env\n",
    "from gymnasium.spaces import Box, Dict, Discrete\n",
    "from ray.rllib.utils.spaces.repeated import Repeated\n",
    "import random\n",
    "import numpy as np\n",
    "import matplotlib.pyplot as plt\n",
    "from tqdm import tqdm\n",
    "import networkx as nx\n",
    "from copy import copy"
   ]
  },
  {
   "cell_type": "code",
   "execution_count": 2,
   "outputs": [],
   "source": [
    "class Architecture:\n",
    "    def __init__(self):\n",
    "        self.c_capacity, self.s_capacity = 50, 2\n",
    "        self.weights = [0.0125, 0.0010, 0.0200, 0.5000] # REVIEW\n",
    "        self.lifetime = {0: 1, 1: 2, 2: 3, 3: 10}   # REVIEW\n",
    "        self.max_actions = 10\n",
    "        self.num_c = 2\n",
    "        self.num_s = 6\n",
    "        self.max_actions = 10\n",
    "        self.min_free_space = 0.2\n",
    "        self.space_flag = -1\n",
    "\n",
    "        self.data_types = []\n",
    "        self.data_allocation = []\n",
    "        self.data_times = []\n",
    "\n",
    "        self.data = {}\n",
    "        self.devices = {}\n",
    "        self.latencies = {}\n",
    "        self.max_latencies = {}\n",
    "\n",
    "        self.action_device = []\n",
    "        self.action_type = []\n",
    "\n",
    "        for j in (range(len(self.weights))):\n",
    "            self.data[j] = {}\n",
    "            for i in range(self.num_s+self.num_c):\n",
    "                self.data[j][i] = 0\n",
    "                self.devices[i] = {0: 0, 1: 0, 2: 0, 3: 0}\n",
    "                self.latencies[i] = {}\n",
    "                self.max_latencies[i] = {}\n",
    "\n",
    "        for i in self.latencies.keys():\n",
    "            for j in self.latencies.keys():\n",
    "                self.latencies[i][j] = 0\n",
    "                self.max_latencies[i][j] = 0\n",
    "\n",
    "        randomized = list(self.devices.keys())\n",
    "        random.shuffle(randomized)\n",
    "        bound = round(len(self.devices)/4)\n",
    "        self.clusters = {\n",
    "            0: randomized[:bound],\n",
    "            1: randomized[bound:bound*2],\n",
    "            2: randomized[bound*2:bound*3],\n",
    "            3: randomized[bound*3:]\n",
    "        }\n",
    "        self.visualization()\n",
    "\n",
    "    def construct_dictionaries(self):\n",
    "        for i in self.data:\n",
    "            for j in self.data[i]:\n",
    "                self.data[i][j] = 0\n",
    "        for i in self.devices:\n",
    "            for j in self.devices[i]:\n",
    "                self.devices[i][j] = 0\n",
    "        for device, d_type in zip(self.data_allocation, self.data_types):\n",
    "            self.data[d_type][device] += 1\n",
    "            self.devices[device][d_type] += 1\n",
    "\n",
    "    def update(self, data_type, device):\n",
    "        self.data_types.append(data_type)\n",
    "        self.data_allocation.append(device)\n",
    "        self.data_times.append(0)\n",
    "        self.devices[device][data_type] += 1\n",
    "        self.data[data_type][device] += 1\n",
    "\n",
    "    def heart_beat(self):\n",
    "        deads = []\n",
    "        for i in range(len(self.data_times)):\n",
    "            self.data_times[i] += 1\n",
    "            if self.data_times[i] == self.lifetime[self.data_types[i]]:\n",
    "                deads.append(i)\n",
    "\n",
    "        removed = 0\n",
    "        for i in deads:\n",
    "            self.devices[self.data_allocation[i-removed]][self.data_types[i-removed]] -= 1\n",
    "            self.data[self.data_types[i-removed]][self.data_allocation[i-removed]] -= 1\n",
    "            self.data_types.pop(i - removed)\n",
    "            self.data_allocation.pop(i - removed)\n",
    "            self.data_times.pop(i - removed)\n",
    "            removed += 1\n",
    "\n",
    "    def free_space(self):\n",
    "        load = {}\n",
    "        for i in range(self.num_c + self.num_s):\n",
    "            if i < self.num_c:\n",
    "                load[i] = (self.c_capacity - sum([a*b for a,b in zip(list(self.devices[i].values()), self.weights)]))/self.c_capacity\n",
    "            else:\n",
    "                load[i] = (self.s_capacity - sum([a*b for a,b in zip(list(self.devices[i].values()), self.weights)]))/self.s_capacity\n",
    "            if load[i] <= self.min_free_space:\n",
    "                self.space_flag = i\n",
    "        return load\n",
    "\n",
    "    def reduce_type(self, data_type):\n",
    "        max_time = 0\n",
    "        positions = []\n",
    "        for i in range(len(self.data_allocation)):\n",
    "            if self.data_types[i] == data_type:\n",
    "                if self.data_times[i] > max_time:\n",
    "                    max_time = self.data_times[i]\n",
    "                    positions = []\n",
    "                    positions.append(i)\n",
    "                elif self.data_times[i] == max_time:\n",
    "                    positions.append(i)\n",
    "\n",
    "        removed = 0\n",
    "        for i in positions:\n",
    "            self.devices[self.data_allocation[i-removed]][self.data_types[i-removed]] -= 1\n",
    "            self.data[self.data_types[i-removed]][self.data_allocation[i-removed]] -= 1\n",
    "            self.data_times.pop(i - removed)\n",
    "            self.data_types.pop(i - removed)\n",
    "            self.data_allocation.pop(i -removed)\n",
    "            removed += 1\n",
    "\n",
    "    def check_quantity(self, data_type):\n",
    "        if data_type != 3:\n",
    "            if sum(list(self.data[data_type].values())) > 2*(self.num_s + self.num_c):\n",
    "                self.reduce_type(data_type)\n",
    "        else:\n",
    "            if sum(list(self.data[data_type].values())) > 2*self.num_s:\n",
    "                self.reduce_type(data_type)\n",
    "\n",
    "    def visualization(self):\n",
    "        keys = list(self.devices.keys())\n",
    "        cs = keys[:self.num_c]\n",
    "        ss = keys[self.num_c:]\n",
    "\n",
    "        colors = []\n",
    "        sizes = []\n",
    "\n",
    "        graph = nx.Graph()\n",
    "\n",
    "        colors.append('lightblue')\n",
    "        sizes.append(1000)\n",
    "        index = 0\n",
    "        for i in range(len(cs)):\n",
    "            if i != len(cs)-1:\n",
    "                colors.append('lightblue')\n",
    "                sizes.append(1000)\n",
    "                graph.add_edge(cs[i],cs[i+1])\n",
    "                graph.add_weighted_edges_from([(cs[i],cs[i+1],10)])\n",
    "                for j in range(int(len(ss)/self.num_c)):\n",
    "                    colors.append('orange')\n",
    "                    sizes.append(100)\n",
    "                    graph.add_edge(cs[i],ss[index])\n",
    "                    graph.add_weighted_edges_from([(cs[i],ss[index],4)])\n",
    "                    index += 1\n",
    "            else:\n",
    "                graph.add_edge(cs[i],cs[0])\n",
    "                graph.add_weighted_edges_from([(cs[i],cs[0],10)])\n",
    "                for j in range(int(len(ss)/self.num_c)+len(ss)%self.num_c):\n",
    "                    graph.add_edge(cs[i],ss[index])\n",
    "                    graph.add_weighted_edges_from([(cs[i],ss[index],4)])\n",
    "                    colors.append('orange')\n",
    "                    sizes.append(100)\n",
    "                    index += 1\n",
    "\n",
    "        pos = nx.spring_layout(graph)  # Position nodes using a spring layout algorithm\n",
    "        # nx.draw(graph, pos, with_labels=True, node_size=sizes, node_color=colors, font_weight=12, font_color='black', edge_color='gray')\n",
    "        edge_labels = nx.get_edge_attributes(graph, 'weight')\n",
    "        # nx.draw_networkx_edge_labels(graph, pos, edge_labels=edge_labels)\n",
    "\n",
    "        # plt.title(\"Architecture:\")\n",
    "        # plt.axis('off')\n",
    "        # plt.show()\n",
    "\n",
    "        for u in graph.nodes:\n",
    "            shortest_paths = nx.shortest_path_length(graph, source=u, weight='weight')\n",
    "            for v, weight in shortest_paths.items():\n",
    "                self.latencies[u][v] = weight\n",
    "\n",
    "        max_latency = self.latencies[self.num_c][self.num_c+self.num_s-1]\n",
    "        for i in self.max_latencies.keys():\n",
    "            for j in self.max_latencies[i].keys():\n",
    "                self.max_latencies[i][j] = max_latency\n",
    "\n",
    "    def compute_total_latency(self):\n",
    "        total_latency = 0\n",
    "        for i in range(len(self.action_type)):\n",
    "            total_latency += sum([a*b for a,b in zip(self.data[self.action_type[i]].values(), self.latencies[self.action_device[i]].values())])\n",
    "        return total_latency\n",
    "\n",
    "    def compute_normalized_latency(self):\n",
    "        total_latency = 0\n",
    "        max_latency = 0\n",
    "        for i in range(len(self.action_type)):\n",
    "            total_latency += sum([a*b for a,b in zip(self.data[self.action_type[i]].values(), self.latencies[self.action_device[i]].values())])\n",
    "            max_latency += sum([a*b for a,b in zip(self.data[self.action_type[i]].values(), self.max_latencies[self.action_device[i]].values())])\n",
    "        return total_latency/(max_latency+1)\n",
    "\n",
    "    def rl_update(self, new_allocation):\n",
    "        self.data_allocation = new_allocation\n",
    "        self.construct_dictionaries()\n",
    "        return self.free_space()\n",
    "\n",
    "    def generate(self, operation):\n",
    "        if operation == 0 or operation == 1 or operation == 2:\n",
    "            for i in range(self.num_s + self.num_c):\n",
    "                self.update(operation,i)\n",
    "            self.check_quantity(operation)\n",
    "        elif operation == 3:\n",
    "            for i in range(self.num_c,(self.num_c + self.num_s)):\n",
    "                self.update(operation,i)\n",
    "            self.check_quantity(operation)\n",
    "        else:\n",
    "            device=random.sample(self.clusters[operation - 10],1)\n",
    "            self.action_device.append(device[0])\n",
    "            self.action_type.append(operation-10)\n",
    "            difference = len(self.action_device) - self.max_actions\n",
    "            if difference >= 0:\n",
    "                for i in range(difference):\n",
    "                    self.action_device.pop(0)\n",
    "                    self.action_type.pop(0)\n",
    "\n",
    "    def greedy_algorithm(self):\n",
    "        if self.space_flag == -1:\n",
    "            # print(\"It's ok\")\n",
    "            allocation = []\n",
    "            for i in self.data_types:\n",
    "                allocation.append(random.sample(list(self.clusters[i]),1)[0])\n",
    "            self.data_allocation = allocation.copy()\n",
    "            self.construct_dictionaries()\n",
    "            for i in range(52 - len(allocation)):      # REMEMBER TO CHANGE !!!!!!!!!!!!!!\n",
    "                allocation.append(random.randint(0,self.num_c+self.num_s-1))\n",
    "            return allocation\n",
    "        else:\n",
    "            # print(\"Problem\")\n",
    "            problematic_key = None\n",
    "            for key, value in self.clusters.items():\n",
    "                if self.space_flag in value:\n",
    "                    problematic_key = key\n",
    "                    break\n",
    "            for i in range(self.num_c):\n",
    "                self.clusters[problematic_key].append(i)\n",
    "            self.space_flag = -1\n",
    "            return self.greedy_algorithm()\n"
   ],
   "metadata": {
    "collapsed": false
   }
  },
  {
   "cell_type": "code",
   "execution_count": 27,
   "outputs": [
    {
     "name": "stdout",
     "output_type": "stream",
     "text": [
      "52\n",
      "52\n",
      "52\n",
      "52\n",
      "52\n",
      "52\n",
      "52\n",
      "52\n",
      "52\n"
     ]
    }
   ],
   "source": [
    "executions = [[0,1,2,10],\n",
    "              [0,1,2,11],\n",
    "              [0,1,2,12],\n",
    "              [0,1,2,3],\n",
    "              [0,1,2,10],\n",
    "              [0,1,2,11],\n",
    "              [0,1,2,12],\n",
    "              [0,1,2,3],\n",
    "              [0,1,2,13]]\n",
    "architecture = Architecture()\n",
    "\n",
    "for j in executions:\n",
    "    architecture.heart_beat()\n",
    "    for h in j:\n",
    "        architecture.generate(h)\n",
    "    print(len(architecture.greedy_algorithm()))"
   ],
   "metadata": {
    "collapsed": false
   }
  },
  {
   "cell_type": "code",
   "execution_count": 3,
   "outputs": [],
   "source": [
    "class AcesArchitectureEnv(Env):\n",
    "    def __init__(self, maximum_data):\n",
    "        self.architecture = Architecture()\n",
    "        self.executions = [[0,1,2,10],\n",
    "                           [0,1,2,11],\n",
    "                           [0,1,2,12],\n",
    "                           [0,1,2,3],\n",
    "                           [0,1,2,10],\n",
    "                           [0,1,2,11],\n",
    "                           [0,1,2,12],\n",
    "                           [0,1,2,3],\n",
    "                           [0,1,2,13]]\n",
    "        self.execution_index = 0\n",
    "        self.num_devices = len(self.architecture.devices.keys())\n",
    "        self.maximum_data = maximum_data\n",
    "\n",
    "        self.weigths = self.architecture.weights\n",
    "        self.allocation = self.architecture.data_allocation\n",
    "        self.data_types = self.architecture.data_types\n",
    "        self.free_space = list(self.architecture.free_space().values())\n",
    "        self.last_calls_type = self.architecture.action_type\n",
    "        self.last_calls_device = self.architecture.action_device\n",
    "\n",
    "        self.observation_space = Dict({\n",
    "            \"weights\": Box(low=0, high=1, shape=(4,), dtype=np.float32),\n",
    "            \"allocation\": Box(low=-1, high=self.num_devices-1, shape=(maximum_data,), dtype=np.int32),\n",
    "            \"data_type\": Box(low=-1, high=3, shape=(maximum_data,), dtype=np.int32),\n",
    "            \"free_space\": Box(low=-10, high=1, shape=(self.num_devices,), dtype=np.float32),\n",
    "            \"last_calls_type\": Box(low=-1, high=13, shape=(10,), dtype=np.int32),\n",
    "            \"last_calls_device\": Box(low=-1, high=self.num_devices-1, shape=(10,), dtype=np.int32)\n",
    "        })\n",
    "\n",
    "        self.action_space = Box(low=0, high=self.num_devices-1, shape=(maximum_data,), dtype=np.int32)\n",
    "\n",
    "        self.allocation_length = len(self.allocation)\n",
    "\n",
    "        self.reward = 0\n",
    "\n",
    "    def get_obs(self):\n",
    "\n",
    "        return {\n",
    "            \"weights\": np.array(self.weigths),\n",
    "            \"allocation\": np.array(self.allocation),\n",
    "            \"data_type\": np.array(self.data_types),\n",
    "            \"free_space\": np.array(self.free_space),\n",
    "            \"last_calls_type\": np.array(self.last_calls_type),\n",
    "            \"last_calls_device\": np.array(self.last_calls_device)\n",
    "        }\n",
    "\n",
    "    def step(self,action):\n",
    "        self.architecture.data_allocation = list(action[:self.allocation_length])\n",
    "        self.allocation[:self.allocation_length] = list(action[:self.allocation_length])\n",
    "        self.architecture.construct_dictionaries()\n",
    "        normalized_latency = self.architecture.compute_normalized_latency()\n",
    "        # normalized_latency = 0\n",
    "        self.free_space = list(self.architecture.free_space().values())\n",
    "\n",
    "        # flag = False\n",
    "        # for i in self.free_space:\n",
    "        #     if i <= self.architecture.min_free_space:\n",
    "        #         flag = True\n",
    "        #         break\n",
    "        #\n",
    "        # if flag:\n",
    "        #     self.reward = -3\n",
    "        # else:\n",
    "        #     w1 = 2\n",
    "        #     w2 = 1\n",
    "        #     std = np.std(self.free_space)\n",
    "        #     self.reward = w1*(1 - normalized_latency) + w2*(1-std)\n",
    "        self.reward = (1 - normalized_latency) - 0.5\n",
    "\n",
    "        done = True\n",
    "        info = {}\n",
    "\n",
    "        return self.get_obs(), self.reward, done, info\n",
    "\n",
    "    def reset(self):\n",
    "        if self.reward < -10:\n",
    "            return self.get_obs()\n",
    "        else:\n",
    "            self.architecture.heart_beat()\n",
    "            for execution in self.executions[self.execution_index]:\n",
    "                self.architecture.generate(execution)\n",
    "            self.allocation = self.architecture.data_allocation.copy()\n",
    "            self.data_types = self.architecture.data_types.copy()\n",
    "            self.allocation_length = len(self.allocation)\n",
    "            for minus_one in range(self.maximum_data - len(self.allocation)):\n",
    "                self.allocation.append(-1)\n",
    "                self.data_types.append(-1)\n",
    "            self.free_space = list(self.architecture.free_space().values())\n",
    "            self.last_calls_type = self.architecture.action_type.copy()\n",
    "            self.last_calls_device = self.architecture.action_device.copy()\n",
    "            for minus_one in range(10 - len(self.last_calls_type)):\n",
    "                self.last_calls_type.append(-1)\n",
    "                self.last_calls_device.append(-1)\n",
    "\n",
    "            self.execution_index = self.execution_index +1 if self.execution_index <= len(self.executions) - 2 else 0\n",
    "            return self.get_obs()\n",
    "\n",
    "    def close(self):\n",
    "        print('CLOSED')"
   ],
   "metadata": {
    "collapsed": false
   }
  },
  {
   "cell_type": "code",
   "execution_count": 4,
   "outputs": [
    {
     "name": "stderr",
     "output_type": "stream",
     "text": [
      "2023-06-07 12:44:23,008\tWARNING env.py:156 -- Your env doesn't have a .spec.max_episode_steps attribute. Your horizon will default to infinity, and your environment will not be reset.\n",
      "2023-06-07 12:44:23,008\tWARNING env.py:166 -- Your env reset() method appears to take 'seed' or 'return_info' arguments. Note that these are not yet supported in RLlib. Seeding will take place using 'env.seed()' and the info dict will not be returned from reset.\n"
     ]
    }
   ],
   "source": [
    "from ray.rllib.utils import check_env\n",
    "from gymnasium.wrappers import TimeLimit\n",
    "from gymnasium.wrappers import EnvCompatibility\n",
    "\n",
    "check_env(TimeLimit(EnvCompatibility(AcesArchitectureEnv(52)), max_episode_steps=10))"
   ],
   "metadata": {
    "collapsed": false
   }
  },
  {
   "cell_type": "code",
   "execution_count": 38,
   "outputs": [
    {
     "name": "stdout",
     "output_type": "stream",
     "text": [
      "The preprocessor is <ray.rllib.models.preprocessors.DictFlatteningPreprocessor object at 0x7ff16d7a24a0>\n"
     ]
    },
    {
     "name": "stderr",
     "output_type": "stream",
     "text": [
      "100%|███████████████████████████████████████████████████████████████████████████████████████████████████████| 100000/100000 [00:49<00:00, 2024.81it/s]\n"
     ]
    }
   ],
   "source": [
    "# __sphinx_doc_begin__\n",
    "import gymnasium as gym\n",
    "import numpy as np\n",
    "import os\n",
    "\n",
    "import ray._private.utils\n",
    "\n",
    "from ray.rllib.models.preprocessors import get_preprocessor\n",
    "from ray.rllib.evaluation.sample_batch_builder import SampleBatchBuilder\n",
    "from ray.rllib.offline.json_writer import JsonWriter\n",
    "\n",
    "if __name__ == \"__main__\":\n",
    "    batch_builder = SampleBatchBuilder()  # or MultiAgentSampleBatchBuilder\n",
    "    writer = JsonWriter(\n",
    "        # \"TFM/datasets/offline/100000\"\n",
    "        os.path.join(ray._private.utils.get_user_temp_dir(), \"100000\")\n",
    "    )\n",
    "\n",
    "    # You normally wouldn't want to manually create sample batches if a\n",
    "    # simulator is available, but let's do it anyways for example purposes:\n",
    "    env = AcesArchitectureEnv(52)\n",
    "\n",
    "    # RLlib uses preprocessors to implement transforms such as one-hot encoding\n",
    "    # and flattening of tuple and dict observations. For CartPole a no-op\n",
    "    # preprocessor is used, but this may be relevant for more complex envs.\n",
    "    prep = get_preprocessor(env.observation_space)(env.observation_space)\n",
    "    print(\"The preprocessor is\", prep)\n",
    "\n",
    "    for eps_id in tqdm(range(100000)):\n",
    "        obs, info = env.reset(), {}\n",
    "        prev_action = np.zeros_like(env.action_space.sample())\n",
    "        prev_reward = 0\n",
    "        terminated = truncated = False\n",
    "        t = 0\n",
    "        while not terminated and not truncated:\n",
    "            # action = env.action_space.sample()\n",
    "            action = env.architecture.greedy_algorithm()\n",
    "            new_obs, rew, terminated, info = env.step(action)\n",
    "            batch_builder.add_values(\n",
    "                t=t,\n",
    "                eps_id=eps_id,\n",
    "                agent_index=0,\n",
    "                obs=prep.transform(obs),\n",
    "                actions=action,\n",
    "                action_prob=0.1,  # put the true action probability here\n",
    "                action_logp=np.log(0.1),\n",
    "                rewards=rew,\n",
    "                prev_actions=prev_action,\n",
    "                prev_rewards=prev_reward,\n",
    "                terminateds=terminated,\n",
    "                truncateds=truncated,\n",
    "                infos=info,\n",
    "                new_obs=prep.transform(new_obs)\n",
    "            )\n",
    "            obs = new_obs\n",
    "            prev_action = action\n",
    "            prev_reward = rew\n",
    "            t += 1\n",
    "        # writer.write(batch_builder.build_and_reset())\n",
    "# __sphinx_doc_end__"
   ],
   "metadata": {
    "collapsed": false
   }
  },
  {
   "cell_type": "code",
   "execution_count": 10,
   "outputs": [
    {
     "name": "stderr",
     "output_type": "stream",
     "text": [
      "2023-06-07 13:33:44,078\tWARNING deprecation.py:50 -- DeprecationWarning: `MARWIL used to have off_policy_estimation_methods is and wis by default. This haschanged to off_policy_estimation_methods: \\{\\}.If you want to use an off-policy estimator, specify it in.evaluation(off_policy_estimation_methods=...)` has been deprecated. This will raise an error in the future!\n",
      "2023-06-07 13:33:46,653\tINFO worker.py:1553 -- Started a local Ray instance.\n",
      "Exception in thread Thread-318:\n",
      "Traceback (most recent call last):\n",
      "  File \"/usr/lib/python3.10/threading.py\", line 1016, in _bootstrap_inner\n",
      "    self.run()\n",
      "  File \"/home/rcalzada/.local/lib/python3.10/site-packages/ray/rllib/execution/learner_thread.py\", line 74, in run\n",
      "    self.step()\n",
      "  File \"/home/rcalzada/.local/lib/python3.10/site-packages/ray/rllib/execution/multi_gpu_learner_thread.py\", line 143, in step\n",
      "    buffer_idx, released = self.ready_tower_stacks_buffer.get()\n",
      "  File \"/home/rcalzada/.local/lib/python3.10/site-packages/ray/rllib/execution/minibatch_buffer.py\", line 48, in get\n",
      "    self.buffers[self.idx] = self.inqueue.get(timeout=self.timeout)\n",
      "  File \"/usr/lib/python3.10/queue.py\", line 179, in get\n",
      "    raise Empty\n",
      "_queue.Empty\n",
      "\u001B[2m\u001B[36m(RolloutWorker pid=932099)\u001B[0m 2023-06-07 13:33:57,405\tWARNING json_reader.py:261 -- Treating input directory as glob patterns: ['/home/rcalzada/TFM/datasets/online-offline/100/*.json', '/home/rcalzada/TFM/datasets/online-offline/100/*.zip']\n",
      "2023-06-07 13:34:00,273\tWARNING json_reader.py:261 -- Treating input directory as glob patterns: ['/home/rcalzada/TFM/datasets/online-offline/100/*.json', '/home/rcalzada/TFM/datasets/online-offline/100/*.zip']\n",
      "2023-06-07 13:34:07,821\tINFO trainable.py:172 -- Trainable.setup took 23.734 seconds. If your trainable is slow to initialize, consider setting reuse_actors=True to reduce actor creation overheads.\n",
      "2023-06-07 13:34:07,823\tWARNING util.py:67 -- Install gputil for GPU system monitoring.\n",
      " 41%|███████████████████████████████████████████▌                                                              | 4104/10000 [51:02<1:12:54,  1.35it/s]"
     ]
    }
   ],
   "source": [
    "from ray.rllib.algorithms.bc import BCConfig\n",
    "import ray\n",
    "from ray.tune.registry import register_env\n",
    "from gymnasium.wrappers import EnvCompatibility\n",
    "from gymnasium.wrappers import TimeLimit\n",
    "from ray.rllib.utils.test_utils import check_train_results\n",
    "\n",
    "ray.shutdown()\n",
    "\n",
    "def env_creator(env_config):\n",
    "    return TimeLimit(EnvCompatibility(AcesArchitectureEnv(52)), max_episode_steps=10)\n",
    "register_env(\"AcesArchitectureEnv\", env_creator)\n",
    "path = \"TFM/datasets/online-offline/100\"\n",
    "\n",
    "config_bc = (\n",
    "    BCConfig()\n",
    "    .environment(env=\"AcesArchitectureEnv\",disable_env_checking=True)\n",
    "    .offline_data(input_=path)\n",
    "    .training(\n",
    "        train_batch_size=2,\n",
    "        # twin_q=False,\n",
    "    )\n",
    "    .evaluation(\n",
    "        evaluation_interval=5,\n",
    "        evaluation_num_workers=1,\n",
    "        evaluation_duration=5,\n",
    "        evaluation_parallel_to_training=True,\n",
    "        evaluation_config=BCConfig.overrides(input_=\"sampler\"),\n",
    "    )\n",
    "    .rollouts(num_rollout_workers=1)\n",
    ")\n",
    "config_bc['model']['vf_share_layers'] = False\n",
    "config_bc[\"model\"][\"fcnet_hiddens\"] = [256,256,256,256]\n",
    "\n",
    "algorithm_bc = config_bc.build()\n",
    "for i in tqdm(range(10000)):\n",
    "    result = algorithm_bc.train()\n",
    "    check_train_results(result)\n",
    "    # print(result)\n",
    "    eval_results = result.get(\"evaluation\")"
   ],
   "metadata": {
    "collapsed": false
   }
  },
  {
   "cell_type": "code",
   "execution_count": 11,
   "outputs": [],
   "source": [
    "# checkpoint_path = algorithm_bc.save(\"./TFM/algorithms/offline/100000\")"
   ],
   "metadata": {
    "collapsed": false
   }
  },
  {
   "cell_type": "code",
   "execution_count": 42,
   "outputs": [
    {
     "name": "stderr",
     "output_type": "stream",
     "text": [
      "2023-06-08 10:26:33,485\tINFO worker.py:1553 -- Started a local Ray instance.\n",
      "2023-06-08 10:26:53,845\tINFO trainable.py:172 -- Trainable.setup took 23.451 seconds. If your trainable is slow to initialize, consider setting reuse_actors=True to reduce actor creation overheads.\n",
      "2023-06-08 10:26:53,847\tWARNING util.py:67 -- Install gputil for GPU system monitoring.\n",
      "2023-06-08 10:26:54,434\tINFO trainable.py:791 -- Restored on 138.4.11.227 from checkpoint: TFM/algorithms/online_offline_1400/checkpoint_001477\n",
      "2023-06-08 10:26:54,435\tINFO trainable.py:800 -- Current state after restoring: {'_iteration': 1477, '_timesteps_total': None, '_time_total': 20635.002279996872, '_episodes_total': 145761750}\n",
      "  1%|█▏                                                                                                               | 1/100 [00:15<25:16, 15.32s/it]"
     ]
    },
    {
     "name": "stdout",
     "output_type": "stream",
     "text": [
      "-0.005828607920920033\n"
     ]
    },
    {
     "name": "stderr",
     "output_type": "stream",
     "text": [
      "  7%|███████▉                                                                                                         | 7/100 [01:45<23:31, 15.18s/it]Exception in thread Thread-16124:\n",
      "Traceback (most recent call last):\n",
      "  File \"/usr/lib/python3.10/threading.py\", line 1016, in _bootstrap_inner\n",
      "    self.run()\n",
      "  File \"/home/rcalzada/.local/lib/python3.10/site-packages/ray/rllib/execution/learner_thread.py\", line 74, in run\n",
      "    self.step()\n",
      "  File \"/home/rcalzada/.local/lib/python3.10/site-packages/ray/rllib/execution/multi_gpu_learner_thread.py\", line 143, in step\n",
      "    buffer_idx, released = self.ready_tower_stacks_buffer.get()\n",
      "  File \"/home/rcalzada/.local/lib/python3.10/site-packages/ray/rllib/execution/minibatch_buffer.py\", line 48, in get\n",
      "    self.buffers[self.idx] = self.inqueue.get(timeout=self.timeout)\n",
      "  File \"/usr/lib/python3.10/queue.py\", line 179, in get\n",
      "    raise Empty\n",
      "_queue.Empty\n",
      " 21%|███████████████████████▌                                                                                        | 21/100 [05:18<20:00, 15.19s/it]"
     ]
    },
    {
     "name": "stdout",
     "output_type": "stream",
     "text": [
      "-0.003943391766440725\n"
     ]
    },
    {
     "name": "stderr",
     "output_type": "stream",
     "text": [
      " 41%|█████████████████████████████████████████████▉                                                                  | 41/100 [10:19<14:47, 15.04s/it]"
     ]
    },
    {
     "name": "stdout",
     "output_type": "stream",
     "text": [
      "-0.004091251063868093\n"
     ]
    },
    {
     "name": "stderr",
     "output_type": "stream",
     "text": [
      " 61%|████████████████████████████████████████████████████████████████████▎                                           | 61/100 [15:22<09:48, 15.09s/it]"
     ]
    },
    {
     "name": "stdout",
     "output_type": "stream",
     "text": [
      "-0.0038225167606167477\n"
     ]
    },
    {
     "name": "stderr",
     "output_type": "stream",
     "text": [
      " 81%|██████████████████████████████████████████████████████████████████████████████████████████▋                     | 81/100 [20:18<04:37, 14.59s/it]"
     ]
    },
    {
     "name": "stdout",
     "output_type": "stream",
     "text": [
      "-0.0028782878417128494\n"
     ]
    },
    {
     "name": "stderr",
     "output_type": "stream",
     "text": [
      "100%|███████████████████████████████████████████████████████████████████████████████████████████████████████████████| 100/100 [24:59<00:00, 14.99s/it]"
     ]
    },
    {
     "name": "stdout",
     "output_type": "stream",
     "text": [
      "[-0.005828607920920033, -0.003968483164830302, -0.004144502870857281, -0.003683086930229785, -0.004534947831289944, -0.0042823122807423225, -0.0036503812690607583, -0.004303086786989002, -0.004840002445118094, -0.003611034904977376, -0.004681274489801026, -0.0045351966394449085, -0.003961938102238265, -0.004170860701605721, -0.0040026906221646156, -0.004343432535999303, -0.0045504772969006835, -0.0039668349442077986, -0.004436916671219602, -0.003997056600652988, -0.003943391766440725, -0.003503864108414445, -0.004789822192465174, -0.0039487771618370885, -0.00473162543346991, -0.004068958253744941, -0.004216550369834224, -0.004544287866904092, -0.004383798647198817, -0.004837569269812976, -0.003951416340317532, -0.0038368462272757842, -0.0040658729142222325, -0.004512156798663383, -0.0040173035229199225, -0.004460617706709391, -0.004529552270813012, -0.004252306277435749, -0.00423982831829347, -0.0038073825293714935, -0.004091251063868093, -0.003363618893127003, -0.0030893443830173504, -0.0038289117777390103, -0.0038986722021968644, -0.0036005718164121786, -0.004245311053098696, -0.004612796784225954, -0.0038693407145804467, -0.004375518952809804, -0.004167164704945596, -0.004090860166761792, -0.003743317328058441, -0.003807486562006065, -0.004100110180058936, -0.004402536463234911, -0.0035720166499058825, -0.004029688514770322, -0.003614639580798458, -0.0040872099880417435, -0.0038225167606167477, -0.003517386252531833, -0.0034070586477748647, -0.003995288360375327, -0.004513875892420537, -0.004276599482410086, -0.0038177529001167314, -0.003926515645448677, -0.0035034754344587947, -0.004105881351483506, -0.003988782606110805, -0.0042224880556689, -0.004439262980169162, -0.003516964958446856, -0.004283625323124226, -0.004365074407692483, -0.004551431351285712, -0.0034373573876839937, -0.0036473897075445247, -0.0037996885029006468, -0.0028782878417128494, -0.0035936526978855845, -0.004010879016073301, -0.0038315738068048807, -0.0032947000555776837, -0.003971524507820119, -0.0036204122162874232, -0.0040449708060201145, -0.003430625364302484, -0.003989784229014948, -0.003738172351664166, -0.003879723803596249, -0.004006936960771977, -0.003977375734693921, -0.004149931166721489, -0.004258644924098366, -0.004258486205498919, -0.003909006224936272, -0.004458934512629506, -0.003956619390428588]\n"
     ]
    },
    {
     "name": "stderr",
     "output_type": "stream",
     "text": [
      "\n"
     ]
    }
   ],
   "source": [
    "from ray.tune.registry import register_env\n",
    "from gymnasium.wrappers import EnvCompatibility\n",
    "from ray.rllib.algorithms.impala import ImpalaConfig\n",
    "from gymnasium.wrappers import TimeLimit\n",
    "import ray\n",
    "\n",
    "ray.shutdown()\n",
    "\n",
    "def env_creator(env_config):\n",
    "    return TimeLimit(EnvCompatibility(AcesArchitectureEnv(52)), max_episode_steps=10)\n",
    "register_env(\"AcesArchitectureEnv\", env_creator)\n",
    "\n",
    "config = (\n",
    "    ImpalaConfig()\n",
    "    .environment(\"AcesArchitectureEnv\",disable_env_checking=True)\n",
    "    .rollouts(num_rollout_workers=30,\n",
    "              num_envs_per_worker=5) # Max = 60\n",
    "    .resources(num_gpus=0,\n",
    "               num_cpus_per_worker=1)\n",
    "    .training(entropy_coeff=0.02)\n",
    ")\n",
    "config['model']['vf_share_layers'] = False\n",
    "config[\"model\"][\"fcnet_hiddens\"] =[256,256,256,256]\n",
    "\n",
    "# algorithm = config.build()\n",
    "# algorithm.set_weights(algorithm_bc.get_weights())\n",
    "# checkpoint_path = algorithm.save()\n",
    "# print(checkpoint_path)\n",
    "algorithm = config.build()\n",
    "algorithm.restore(\"./TFM/algorithms/online_offline_1400/checkpoint_001477\")\n",
    "\n",
    "result_04 =[]\n",
    "\n",
    "for j in tqdm(range(100)):\n",
    "    result_train = algorithm.train()[\"episode_reward_mean\"]\n",
    "    result_04.append(result_train)\n",
    "    if j % 20 == 0:\n",
    "        print(result_train)\n",
    "print(result_04)"
   ],
   "metadata": {
    "collapsed": false
   }
  },
  {
   "cell_type": "code",
   "execution_count": null,
   "outputs": [
    {
     "name": "stderr",
     "output_type": "stream",
     "text": [
      "  0%|▌                                                                                                                | 1/200 [00:15<52:07, 15.72s/it]"
     ]
    },
    {
     "name": "stdout",
     "output_type": "stream",
     "text": [
      "-0.0036212911471021287\n"
     ]
    },
    {
     "name": "stderr",
     "output_type": "stream",
     "text": [
      " 20%|██████████████████████▉                                                                                         | 41/200 [10:09<39:13, 14.80s/it]"
     ]
    },
    {
     "name": "stdout",
     "output_type": "stream",
     "text": [
      "-0.004172130373989803\n"
     ]
    },
    {
     "name": "stderr",
     "output_type": "stream",
     "text": [
      " 40%|█████████████████████████████████████████████▎                                                                  | 81/200 [19:46<28:57, 14.60s/it]"
     ]
    },
    {
     "name": "stdout",
     "output_type": "stream",
     "text": [
      "-0.003446328910856955\n"
     ]
    },
    {
     "name": "stderr",
     "output_type": "stream",
     "text": [
      " 41%|█████████████████████████████████████████████▉                                                                  | 82/200 [19:59<28:04, 14.27s/it]"
     ]
    }
   ],
   "source": [
    "for j in tqdm(range(200)):\n",
    "    result_train = algorithm.train()[\"episode_reward_mean\"]\n",
    "    result_04.append(result_train)\n",
    "    if j % 40 == 0:\n",
    "        print(result_train)\n",
    "# print(result_02)\n",
    "# checkpoint_path = algorithm.save(\"./TFM/algorithms/online_offline_1400\")"
   ],
   "metadata": {
    "collapsed": false,
    "pycharm": {
     "is_executing": true
    }
   }
  },
  {
   "cell_type": "code",
   "execution_count": 48,
   "outputs": [
    {
     "data": {
      "text/plain": "[<matplotlib.lines.Line2D at 0x7f377acb8550>]"
     },
     "execution_count": 48,
     "metadata": {},
     "output_type": "execute_result"
    },
    {
     "data": {
      "text/plain": "<Figure size 640x480 with 1 Axes>",
      "image/png": "[encoded data removed]"
     },
     "metadata": {},
     "output_type": "display_data"
    }
   ],
   "source": [
    "# plt.plot(result)\n",
    "# plt.plot(result_02)\n",
    "plt.plot(result_03)\n",
    "plt.plot(result_04)"
   ],
   "metadata": {
    "collapsed": false
   }
  },
  {
   "cell_type": "code",
   "execution_count": 7,
   "outputs": [
    {
     "name": "stderr",
     "output_type": "stream",
     "text": [
      "2023-06-07 13:02:48,648\tINFO worker.py:1553 -- Started a local Ray instance.\n",
      "2023-06-07 13:03:10,978\tINFO trainable.py:172 -- Trainable.setup took 24.742 seconds. If your trainable is slow to initialize, consider setting reuse_actors=True to reduce actor creation overheads.\n",
      "2023-06-07 13:03:10,982\tWARNING util.py:67 -- Install gputil for GPU system monitoring.\n",
      "100%|███████████████████████████████████████████████████████████████████████████████████████████████████████████████| 100/100 [25:42<00:00, 15.43s/it]\n"
     ]
    },
    {
     "ename": "NameError",
     "evalue": "name 'result' is not defined",
     "output_type": "error",
     "traceback": [
      "\u001B[0;31m---------------------------------------------------------------------------\u001B[0m",
      "\u001B[0;31mNameError\u001B[0m                                 Traceback (most recent call last)",
      "Cell \u001B[0;32mIn[7], line 34\u001B[0m\n\u001B[1;32m     32\u001B[0m     result_online\u001B[38;5;241m.\u001B[39mappend(training_result)\n\u001B[1;32m     33\u001B[0m     \u001B[38;5;66;03m# print(training_result)\u001B[39;00m\n\u001B[0;32m---> 34\u001B[0m \u001B[38;5;28mprint\u001B[39m(\u001B[43mresult\u001B[49m)\n",
      "\u001B[0;31mNameError\u001B[0m: name 'result' is not defined"
     ]
    }
   ],
   "source": [
    "from ray.tune.registry import register_env\n",
    "from gymnasium.wrappers import EnvCompatibility\n",
    "from ray.rllib.algorithms.impala import ImpalaConfig\n",
    "from gymnasium.wrappers import TimeLimit\n",
    "import ray\n",
    "\n",
    "ray.shutdown()\n",
    "\n",
    "def env_creator(env_config):\n",
    "    return TimeLimit(EnvCompatibility(AcesArchitectureEnv(52)), max_episode_steps=10)\n",
    "register_env(\"AcesArchitectureEnv\", env_creator)\n",
    "\n",
    "config = (\n",
    "    ImpalaConfig()\n",
    "    .environment(\"AcesArchitectureEnv\",disable_env_checking=True)\n",
    "    .rollouts(num_rollout_workers=40,\n",
    "              num_envs_per_worker=5) # Max = 60\n",
    "    .resources(num_gpus=0,\n",
    "               num_cpus_per_worker=1)\n",
    "    .training(entropy_coeff=0.02)\n",
    "    .offline_data(output=\"TFM/datasets/online-offline/100\")\n",
    ")\n",
    "# config['model']['vf_share_layers'] = False\n",
    "config[\"model\"][\"fcnet_hiddens\"] =[256,256,256,256]\n",
    "\n",
    "algorithm_online = config.build()\n",
    "\n",
    "result_online =[]\n",
    "for i in tqdm(range(100)):\n",
    "    training_result = algorithm_online.train()[\"episode_reward_mean\"]\n",
    "    # training_result = algorithm_online.train()\n",
    "    result_online.append(training_result)\n",
    "    # print(training_result)\n",
    "print(result_online)"
   ],
   "metadata": {
    "collapsed": false
   }
  },
  {
   "cell_type": "code",
   "execution_count": 14,
   "outputs": [
    {
     "data": {
      "text/plain": "[<matplotlib.lines.Line2D at 0x7f3778df06a0>]"
     },
     "execution_count": 14,
     "metadata": {},
     "output_type": "execute_result"
    },
    {
     "data": {
      "text/plain": "<Figure size 640x480 with 1 Axes>",
      "image/png": "[encoded data removed]"
     },
     "metadata": {},
     "output_type": "display_data"
    }
   ],
   "source": [
    "plt.plot(result_online)"
   ],
   "metadata": {
    "collapsed": false
   }
  },
  {
   "cell_type": "code",
   "execution_count": null,
   "outputs": [],
   "source": [
    "!ls /tmp/probability\n",
    "# !cat /tmp/probability/output-2023-06-07_12-00-58_worker-1_2.json"
   ],
   "metadata": {
    "collapsed": false
   }
  }
 ],
 "metadata": {
  "kernelspec": {
   "display_name": "Python 3",
   "language": "python",
   "name": "python3"
  },
  "language_info": {
   "codemirror_mode": {
    "name": "ipython",
    "version": 2
   },
   "file_extension": ".py",
   "mimetype": "text/x-python",
   "name": "python",
   "nbconvert_exporter": "python",
   "pygments_lexer": "ipython2",
   "version": "2.7.6"
  }
 },
 "nbformat": 4,
 "nbformat_minor": 0
}
